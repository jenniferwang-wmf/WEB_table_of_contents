{
 "cells": [
  {
   "cell_type": "code",
   "execution_count": 1,
   "id": "d5cb8d6f",
   "metadata": {},
   "outputs": [],
   "source": [
    "shhh <- function(expr) suppressPackageStartupMessages(suppressWarnings(suppressMessages(expr)))\n",
    "shhh({\n",
    "library(tidyverse); \n",
    "library(lubridate); \n",
    "library(scales);\n",
    "library(magrittr); \n",
    "library(dplyr);\n",
    "})"
   ]
  },
  {
   "cell_type": "code",
   "execution_count": 3,
   "id": "99d6d3a2",
   "metadata": {},
   "outputs": [
    {
     "name": "stderr",
     "output_type": "stream",
     "text": [
      "Loading required package: Matrix\n",
      "\n",
      "\n",
      "Attaching package: ‘Matrix’\n",
      "\n",
      "\n",
      "The following objects are masked from ‘package:tidyr’:\n",
      "\n",
      "    expand, pack, unpack\n",
      "\n",
      "\n"
     ]
    }
   ],
   "source": [
    "library(lme4)"
   ]
  },
  {
   "cell_type": "code",
   "execution_count": 42,
   "id": "ce5de8e6",
   "metadata": {},
   "outputs": [],
   "source": [
    "library(MuMIn)"
   ]
  },
  {
   "cell_type": "code",
   "execution_count": 70,
   "id": "d687b6ec",
   "metadata": {},
   "outputs": [],
   "source": [
    "library(sjstats)"
   ]
  },
  {
   "cell_type": "code",
   "execution_count": 41,
   "id": "cffec62c",
   "metadata": {},
   "outputs": [],
   "source": [
    "options(mc.cores = 4)"
   ]
  },
  {
   "cell_type": "code",
   "execution_count": 2,
   "id": "2b42b215",
   "metadata": {},
   "outputs": [
    {
     "data": {
      "text/html": [
       "<script>  \n",
       "code_show=true; \n",
       "function code_toggle() {\n",
       "  if (code_show){\n",
       "    $('div.input').hide();\n",
       "  } else {\n",
       "    $('div.input').show();\n",
       "  }\n",
       "  code_show = !code_show\n",
       "}  \n",
       "$( document ).ready(code_toggle);\n",
       "</script>\n",
       "  <form action=\"javascript:code_toggle()\">\n",
       "    <input type=\"submit\" value=\"Click here to toggle on/off the raw code.\">\n",
       " </form>"
      ]
     },
     "metadata": {},
     "output_type": "display_data"
    }
   ],
   "source": [
    "library(IRdisplay)\n",
    "\n",
    "display_html(\n",
    "'<script>  \n",
    "code_show=true; \n",
    "function code_toggle() {\n",
    "  if (code_show){\n",
    "    $(\\'div.input\\').hide();\n",
    "  } else {\n",
    "    $(\\'div.input\\').show();\n",
    "  }\n",
    "  code_show = !code_show\n",
    "}  \n",
    "$( document ).ready(code_toggle);\n",
    "</script>\n",
    "  <form action=\"javascript:code_toggle()\">\n",
    "    <input type=\"submit\" value=\"Click here to toggle on/off the raw code.\">\n",
    " </form>'\n",
    ")"
   ]
  },
  {
   "cell_type": "code",
   "execution_count": null,
   "id": "49b00310",
   "metadata": {},
   "outputs": [],
   "source": []
  },
  {
   "cell_type": "code",
   "execution_count": 3,
   "id": "71adbbe8",
   "metadata": {},
   "outputs": [],
   "source": [
    "options(repr.plot.width = 15, repr.plot.height = 10)"
   ]
  },
  {
   "cell_type": "markdown",
   "id": "6f3d3b69",
   "metadata": {},
   "source": [
    "# Q1: Is the new table of contents is used more frequently than the previous table of contents\n"
   ]
  },
  {
   "cell_type": "code",
   "execution_count": 7,
   "id": "bc86841f",
   "metadata": {},
   "outputs": [],
   "source": [
    "query_click <- \"\n",
    "WITH t_ab_no_dupli AS (\n",
    "SELECT  web_session_id, wiki, meta.domain AS domain, count(distinct `group` ) AS groups,  min(meta.dt) AS session_dt \n",
    "FROM event.mediawiki_web_ab_test_enrollment\n",
    "WHERE wiki NOT IN ('testwiki','test2wiki')  AND year=2022 AND month IN (5,6) \n",
    "AND  experiment_name='skin-vector-toc-experiment'\n",
    "GROUP BY  web_session_id, wiki, meta.domain\n",
    "-- exclude session ids are in both control and treatment group\n",
    "HAVING groups < 2\n",
    "),\n",
    "t_ab AS(\n",
    "SELECT \n",
    " t1.web_session_id,\n",
    " t1.wiki,t1.meta.domain AS domain,\n",
    " t1.`group` AS test_group,\n",
    " min(t1.meta.dt) AS session_dt \n",
    "FROM event.mediawiki_web_ab_test_enrollment AS t1\n",
    "INNER JOIN  t_ab_no_dupli AS t2 ON t1.wiki=t2.wiki \n",
    "AND t1.web_session_id=t2.web_session_id \n",
    "WHERE t1.wiki NOT IN ('testwiki','test2wiki')  \n",
    "AND year=2022 \n",
    "AND CONCAT(year, '-', LPAD(month,2,'0'),'-', LPAD(day,2,'0')) BETWEEN '2022-05-26' AND '2022-06-15'\n",
    "AND  experiment_name='skin-vector-toc-experiment'\n",
    "GROUP BY  t1.web_session_id, t1.wiki,t1.meta.domain, t1.`group`\n",
    ")\n",
    "-- clicks from ab test group\n",
    "SELECT t3.event.token AS session_id, \n",
    "wiki, event.isanon,  t4.test_group, count(1) AS clicks\n",
    "FROM event.DesktopWebUIActionsTracking AS t3\n",
    "INNER JOIN t_ab AS t4 \n",
    "ON  t3.wiki=t4.wiki AND t3.event.token = t4.web_session_id\n",
    "WHERE t3.wiki IN ('bnwiki', 'fawiki', 'foundationwiki',\n",
    "'hewiki', 'ptwikinews', 'ptwikiversity', 'srwiki',\n",
    "'thwiki', 'vecwiki', 'viwiki', 'viwikibooks', 'dewikivoyage',\n",
    "'euwiki', 'kowiki', 'plwikinews', 'trwiki', 'arywiki',\n",
    "'frwiki', 'frwikiquote', 'frwiktionary', 'incubatorwiki', 'ptwiki'\n",
    ") \n",
    "AND t3.year=2022 and t3.month IN (5,6)\n",
    "AND CONCAT(t3.year, '-', LPAD(t3.month,2,'0'),'-', LPAD(t3.day,2,'0')) BETWEEN '2022-05-26' AND '2022-06-15'\n",
    "AND t4.session_dt <= t3.meta.dt\n",
    "AND event.name = 'ui.toc'\n",
    "AND event.action='click' AND event.skinversion=2 \n",
    "GROUP BY t3.event.token, t3.wiki, event.isanon, t4.test_group\n",
    "\""
   ]
  },
  {
   "cell_type": "code",
   "execution_count": 8,
   "id": "f2fc0735",
   "metadata": {},
   "outputs": [
    {
     "name": "stderr",
     "output_type": "stream",
     "text": [
      "Don't forget to authenticate with Kerberos using kinit\n",
      "\n"
     ]
    }
   ],
   "source": [
    "df_clicks_session2 <- wmfdata::query_hive(query_click)"
   ]
  },
  {
   "cell_type": "code",
   "execution_count": 10,
   "id": "29c6b953",
   "metadata": {},
   "outputs": [],
   "source": [
    "df <- df_clicks_session2 %>%\n",
    "  filter(wiki!='foundationwiki')"
   ]
  },
  {
   "cell_type": "code",
   "execution_count": 1,
   "id": "66dacdbe",
   "metadata": {},
   "outputs": [],
   "source": [
    "#df_clicks_session <- read.csv(file ='Data_out/clicks_session.csv', header = TRUE, na.strings=c(\"NULL\") ) \n",
    "#head(df_clicks_session )"
   ]
  },
  {
   "cell_type": "code",
   "execution_count": null,
   "id": "2a087ea1",
   "metadata": {},
   "outputs": [],
   "source": [
    "df_0<- df_clicks_session %>% \n",
    "     filter(wiki!='foundationwiki') %>%\n",
    "     group_by(web_session_id, wiki, test_group) %>%\n",
    "     summarize(sum_clicks=sum(clicks))"
   ]
  },
  {
   "cell_type": "code",
   "execution_count": 2,
   "id": "26d2792d",
   "metadata": {},
   "outputs": [],
   "source": [
    "#df_0<- df_clicks_session %>% \n",
    "#     filter(wiki!='foundationwiki') %>%\n",
    "#     group_by(web_session_id, wiki, test_group) %>%\n",
    "#     summarize(sum_clicks=sum(clicks))\n",
    "#head(df_0)"
   ]
  },
  {
   "cell_type": "code",
   "execution_count": 11,
   "id": "27fe5d9b",
   "metadata": {},
   "outputs": [],
   "source": [
    "m1 <- glmer( formula = clicks ~ test_group + (1 | wiki),\n",
    "    family = poisson(link = \"log\"),\n",
    "    data = df)"
   ]
  },
  {
   "cell_type": "code",
   "execution_count": 12,
   "id": "d92d862f",
   "metadata": {},
   "outputs": [
    {
     "data": {
      "text/plain": [
       "Generalized linear mixed model fit by maximum likelihood (Laplace\n",
       "  Approximation) [glmerMod]\n",
       " Family: poisson  ( log )\n",
       "Formula: clicks ~ test_group + (1 | wiki)\n",
       "   Data: df\n",
       "\n",
       "      AIC       BIC    logLik  deviance  df.resid \n",
       "1001049.4 1001082.2 -500521.7 1001043.4    414942 \n",
       "\n",
       "Scaled residuals: \n",
       "    Min      1Q  Median      3Q     Max \n",
       " -0.335  -0.205  -0.195  -0.195 176.734 \n",
       "\n",
       "Random effects:\n",
       " Groups Name        Variance Std.Dev.\n",
       " wiki   (Intercept) 0.00232  0.04816 \n",
       "Number of obs: 414945, groups:  wiki, 21\n",
       "\n",
       "Fixed effects:\n",
       "                     Estimate Std. Error z value Pr(>|z|)    \n",
       "(Intercept)          0.240312   0.013170  18.246  < 2e-16 ***\n",
       "test_grouptreatment -0.021730   0.004377  -4.964 6.89e-07 ***\n",
       "---\n",
       "Signif. codes:  0 ‘***’ 0.001 ‘**’ 0.01 ‘*’ 0.05 ‘.’ 0.1 ‘ ’ 1\n",
       "\n",
       "Correlation of Fixed Effects:\n",
       "            (Intr)\n",
       "tst_grptrtm -0.005"
      ]
     },
     "metadata": {},
     "output_type": "display_data"
    }
   ],
   "source": [
    "summary(m1)"
   ]
  },
  {
   "cell_type": "code",
   "execution_count": 13,
   "id": "7fcdd1e3",
   "metadata": {},
   "outputs": [
    {
     "data": {
      "text/html": [
       "<table class=\"dataframe\">\n",
       "<caption>A anova: 1 × 4</caption>\n",
       "<thead>\n",
       "\t<tr><th></th><th scope=col>npar</th><th scope=col>Sum Sq</th><th scope=col>Mean Sq</th><th scope=col>F value</th></tr>\n",
       "\t<tr><th></th><th scope=col>&lt;int&gt;</th><th scope=col>&lt;dbl&gt;</th><th scope=col>&lt;dbl&gt;</th><th scope=col>&lt;dbl&gt;</th></tr>\n",
       "</thead>\n",
       "<tbody>\n",
       "\t<tr><th scope=row>test_group</th><td>1</td><td>24.07752</td><td>24.07752</td><td>24.07752</td></tr>\n",
       "</tbody>\n",
       "</table>\n"
      ],
      "text/latex": [
       "A anova: 1 × 4\n",
       "\\begin{tabular}{r|llll}\n",
       "  & npar & Sum Sq & Mean Sq & F value\\\\\n",
       "  & <int> & <dbl> & <dbl> & <dbl>\\\\\n",
       "\\hline\n",
       "\ttest\\_group & 1 & 24.07752 & 24.07752 & 24.07752\\\\\n",
       "\\end{tabular}\n"
      ],
      "text/markdown": [
       "\n",
       "A anova: 1 × 4\n",
       "\n",
       "| <!--/--> | npar &lt;int&gt; | Sum Sq &lt;dbl&gt; | Mean Sq &lt;dbl&gt; | F value &lt;dbl&gt; |\n",
       "|---|---|---|---|---|\n",
       "| test_group | 1 | 24.07752 | 24.07752 | 24.07752 |\n",
       "\n"
      ],
      "text/plain": [
       "           npar Sum Sq   Mean Sq  F value \n",
       "test_group 1    24.07752 24.07752 24.07752"
      ]
     },
     "metadata": {},
     "output_type": "display_data"
    }
   ],
   "source": [
    "anova(m1)\n"
   ]
  },
  {
   "cell_type": "code",
   "execution_count": 14,
   "id": "c3432a38",
   "metadata": {},
   "outputs": [
    {
     "data": {
      "text/html": [
       "<style>\n",
       ".dl-inline {width: auto; margin:0; padding: 0}\n",
       ".dl-inline>dt, .dl-inline>dd {float: none; width: auto; display: inline-block}\n",
       ".dl-inline>dt::after {content: \":\\0020\"; padding-right: .5ex}\n",
       ".dl-inline>dt:not(:first-of-type) {padding-left: .5ex}\n",
       "</style><dl class=dl-inline><dt>(Intercept)</dt><dd>0.240312105724197</dd><dt>test_grouptreatment</dt><dd>-0.0217295468159615</dd></dl>\n"
      ],
      "text/latex": [
       "\\begin{description*}\n",
       "\\item[(Intercept)] 0.240312105724197\n",
       "\\item[test\\textbackslash{}\\_grouptreatment] -0.0217295468159615\n",
       "\\end{description*}\n"
      ],
      "text/markdown": [
       "(Intercept)\n",
       ":   0.240312105724197test_grouptreatment\n",
       ":   -0.0217295468159615\n",
       "\n"
      ],
      "text/plain": [
       "        (Intercept) test_grouptreatment \n",
       "         0.24031211         -0.02172955 "
      ]
     },
     "metadata": {},
     "output_type": "display_data"
    }
   ],
   "source": [
    "fixef(m1)\n"
   ]
  },
  {
   "cell_type": "code",
   "execution_count": 17,
   "id": "b01ef45b",
   "metadata": {},
   "outputs": [
    {
     "data": {
      "text/html": [
       "0.978504839017414"
      ],
      "text/latex": [
       "0.978504839017414"
      ],
      "text/markdown": [
       "0.978504839017414"
      ],
      "text/plain": [
       "[1] 0.9785048"
      ]
     },
     "metadata": {},
     "output_type": "display_data"
    }
   ],
   "source": [
    "exp(-0.0217295468159615)"
   ]
  },
  {
   "cell_type": "markdown",
   "id": "1dfae4b1",
   "metadata": {},
   "source": [
    "__Note__. \n",
    "\n",
    "clicks in treat"
   ]
  },
  {
   "cell_type": "code",
   "execution_count": 15,
   "id": "891a0243",
   "metadata": {},
   "outputs": [
    {
     "name": "stderr",
     "output_type": "stream",
     "text": [
      "Computing profile confidence intervals ...\n",
      "\n"
     ]
    },
    {
     "data": {
      "text/html": [
       "<table class=\"dataframe\">\n",
       "<caption>A matrix: 3 × 2 of type dbl</caption>\n",
       "<thead>\n",
       "\t<tr><th></th><th scope=col>2.5 %</th><th scope=col>97.5 %</th></tr>\n",
       "</thead>\n",
       "<tbody>\n",
       "\t<tr><th scope=row>.sig01</th><td> 0.03262482</td><td> 0.07633942</td></tr>\n",
       "\t<tr><th scope=row>(Intercept)</th><td> 0.21125347</td><td> 0.26950602</td></tr>\n",
       "\t<tr><th scope=row>test_grouptreatment</th><td>-0.03041509</td><td>-0.01305601</td></tr>\n",
       "</tbody>\n",
       "</table>\n"
      ],
      "text/latex": [
       "A matrix: 3 × 2 of type dbl\n",
       "\\begin{tabular}{r|ll}\n",
       "  & 2.5 \\% & 97.5 \\%\\\\\n",
       "\\hline\n",
       "\t.sig01 &  0.03262482 &  0.07633942\\\\\n",
       "\t(Intercept) &  0.21125347 &  0.26950602\\\\\n",
       "\ttest\\_grouptreatment & -0.03041509 & -0.01305601\\\\\n",
       "\\end{tabular}\n"
      ],
      "text/markdown": [
       "\n",
       "A matrix: 3 × 2 of type dbl\n",
       "\n",
       "| <!--/--> | 2.5 % | 97.5 % |\n",
       "|---|---|---|\n",
       "| .sig01 |  0.03262482 |  0.07633942 |\n",
       "| (Intercept) |  0.21125347 |  0.26950602 |\n",
       "| test_grouptreatment | -0.03041509 | -0.01305601 |\n",
       "\n"
      ],
      "text/plain": [
       "                    2.5 %       97.5 %     \n",
       ".sig01               0.03262482  0.07633942\n",
       "(Intercept)          0.21125347  0.26950602\n",
       "test_grouptreatment -0.03041509 -0.01305601"
      ]
     },
     "metadata": {},
     "output_type": "display_data"
    }
   ],
   "source": [
    "confint(m1)\n"
   ]
  },
  {
   "cell_type": "code",
   "execution_count": 16,
   "id": "27dbfe9c",
   "metadata": {},
   "outputs": [
    {
     "data": {
      "text/plain": [
       "$wiki\n",
       "                (Intercept)\n",
       "arywiki       -0.0018814324\n",
       "bnwiki         0.0800079900\n",
       "dewikivoyage  -0.0046582411\n",
       "euwiki         0.0296842058\n",
       "fawiki        -0.0406588745\n",
       "frwiki        -0.0455399557\n",
       "frwikiquote   -0.0164262434\n",
       "frwiktionary  -0.0237872139\n",
       "hewiki        -0.0333779077\n",
       "incubatorwiki  0.0066097525\n",
       "kowiki        -0.0287823916\n",
       "plwikinews    -0.0001993105\n",
       "ptwiki        -0.0311102718\n",
       "ptwikinews    -0.0006308284\n",
       "ptwikiversity -0.0105756294\n",
       "srwiki         0.0181180202\n",
       "thwiki         0.0938527250\n",
       "trwiki         0.0526982085\n",
       "vecwiki       -0.0018814324\n",
       "viwiki        -0.0358401554\n",
       "viwikibooks   -0.0037302360\n",
       "\n",
       "with conditional variances for “wiki” "
      ]
     },
     "metadata": {},
     "output_type": "display_data"
    }
   ],
   "source": [
    "ranef(m1) "
   ]
  },
  {
   "cell_type": "code",
   "execution_count": 39,
   "id": "9a319d91",
   "metadata": {},
   "outputs": [
    {
     "data": {
      "text/plain": [
       "NULL"
      ]
     },
     "metadata": {},
     "output_type": "display_data"
    }
   ],
   "source": [
    "summary(m1)$r.squared "
   ]
  },
  {
   "cell_type": "code",
   "execution_count": 40,
   "id": "91a2ce76",
   "metadata": {},
   "outputs": [
    {
     "data": {
      "text/plain": [
       "NULL"
      ]
     },
     "metadata": {},
     "output_type": "display_data"
    }
   ],
   "source": [
    "summary(m2)$r.squared "
   ]
  },
  {
   "cell_type": "code",
   "execution_count": 43,
   "id": "6aab6e9c",
   "metadata": {},
   "outputs": [
    {
     "name": "stderr",
     "output_type": "stream",
     "text": [
      "Warning message:\n",
      "“'r.squaredGLMM' now calculates a revised statistic. See the help page.”\n",
      "Warning message:\n",
      "“The null model is correct only if all variables used by the original model remain unchanged.”\n"
     ]
    },
    {
     "data": {
      "text/html": [
       "<table class=\"dataframe\">\n",
       "<caption>A matrix: 3 × 2 of type dbl</caption>\n",
       "<thead>\n",
       "\t<tr><th></th><th scope=col>R2m</th><th scope=col>R2c</th></tr>\n",
       "</thead>\n",
       "<tbody>\n",
       "\t<tr><th scope=row>delta</th><td>6.387064e-05</td><td>0.003005925</td></tr>\n",
       "\t<tr><th scope=row>lognormal</th><td>8.646789e-05</td><td>0.004069412</td></tr>\n",
       "\t<tr><th scope=row>trigamma</th><td>4.300650e-05</td><td>0.002024002</td></tr>\n",
       "</tbody>\n",
       "</table>\n"
      ],
      "text/latex": [
       "A matrix: 3 × 2 of type dbl\n",
       "\\begin{tabular}{r|ll}\n",
       "  & R2m & R2c\\\\\n",
       "\\hline\n",
       "\tdelta & 6.387064e-05 & 0.003005925\\\\\n",
       "\tlognormal & 8.646789e-05 & 0.004069412\\\\\n",
       "\ttrigamma & 4.300650e-05 & 0.002024002\\\\\n",
       "\\end{tabular}\n"
      ],
      "text/markdown": [
       "\n",
       "A matrix: 3 × 2 of type dbl\n",
       "\n",
       "| <!--/--> | R2m | R2c |\n",
       "|---|---|---|\n",
       "| delta | 6.387064e-05 | 0.003005925 |\n",
       "| lognormal | 8.646789e-05 | 0.004069412 |\n",
       "| trigamma | 4.300650e-05 | 0.002024002 |\n",
       "\n"
      ],
      "text/plain": [
       "          R2m          R2c        \n",
       "delta     6.387064e-05 0.003005925\n",
       "lognormal 8.646789e-05 0.004069412\n",
       "trigamma  4.300650e-05 0.002024002"
      ]
     },
     "metadata": {},
     "output_type": "display_data"
    }
   ],
   "source": [
    "r.squaredGLMM(m1)"
   ]
  },
  {
   "cell_type": "markdown",
   "id": "07c76c83",
   "metadata": {},
   "source": [
    "### Model 2: data includes all sessions in AB test with 0 clicks"
   ]
  },
  {
   "cell_type": "code",
   "execution_count": 23,
   "id": "f7f85fae",
   "metadata": {},
   "outputs": [
    {
     "data": {
      "text/html": [
       "414895"
      ],
      "text/latex": [
       "414895"
      ],
      "text/markdown": [
       "414895"
      ],
      "text/plain": [
       "[1] 414895"
      ]
     },
     "metadata": {},
     "output_type": "display_data"
    }
   ],
   "source": [
    "nrow(filter(df_0, sum_clicks>0))"
   ]
  },
  {
   "cell_type": "code",
   "execution_count": 26,
   "id": "a3e70a87",
   "metadata": {},
   "outputs": [
    {
     "data": {
      "text/html": [
       "41884231"
      ],
      "text/latex": [
       "41884231"
      ],
      "text/markdown": [
       "41884231"
      ],
      "text/plain": [
       "[1] 41884231"
      ]
     },
     "metadata": {},
     "output_type": "display_data"
    }
   ],
   "source": [
    "nrow(df_0)"
   ]
  },
  {
   "cell_type": "markdown",
   "id": "597f7d0f",
   "metadata": {},
   "source": [
    "__Note:__. \n",
    "\n",
    "The data has an excess number of zeros."
   ]
  },
  {
   "cell_type": "code",
   "execution_count": null,
   "id": "db2f3969",
   "metadata": {},
   "outputs": [],
   "source": [
    "m2 <- glmer( formula = sum_clicks ~ test_group + (1 | wiki),\n",
    "    family = poisson(link = \"log\"),\n",
    "    data = df_0)"
   ]
  },
  {
   "cell_type": "code",
   "execution_count": 29,
   "id": "62927b90",
   "metadata": {},
   "outputs": [
    {
     "data": {
      "text/plain": [
       "Generalized linear mixed model fit by maximum likelihood (Laplace\n",
       "  Approximation) [glmerMod]\n",
       " Family: poisson  ( log )\n",
       "Formula: sum_clicks ~ test_group + (1 | wiki)\n",
       "   Data: df_0\n",
       "\n",
       "     AIC      BIC   logLik deviance df.resid \n",
       " 5190307  5190354 -2595151  5190301 41884228 \n",
       "\n",
       "Scaled residuals: \n",
       "    Min      1Q  Median      3Q     Max \n",
       "  -0.23   -0.14   -0.07   -0.05 2600.54 \n",
       "\n",
       "Random effects:\n",
       " Groups Name        Variance Std.Dev.\n",
       " wiki   (Intercept) 6.575    2.564   \n",
       "Number of obs: 41884231, groups:  wiki, 23\n",
       "\n",
       "Fixed effects:\n",
       "                     Estimate Std. Error z value Pr(>|z|)    \n",
       "(Intercept)         -5.078805   0.002674 -1899.5   <2e-16 ***\n",
       "test_grouptreatment -2.008637   0.002098  -957.6   <2e-16 ***\n",
       "---\n",
       "Signif. codes:  0 ‘***’ 0.001 ‘**’ 0.01 ‘*’ 0.05 ‘.’ 0.1 ‘ ’ 1\n",
       "\n",
       "Correlation of Fixed Effects:\n",
       "            (Intr)\n",
       "tst_grptrtm 0.121 \n",
       "optimizer (Nelder_Mead) convergence code: 0 (OK)\n",
       "Model failed to converge with max|grad| = 0.0188588 (tol = 0.002, component 1)\n"
      ]
     },
     "metadata": {},
     "output_type": "display_data"
    }
   ],
   "source": [
    "summary(m2)"
   ]
  },
  {
   "cell_type": "code",
   "execution_count": 30,
   "id": "ee8c63b3",
   "metadata": {},
   "outputs": [
    {
     "data": {
      "text/html": [
       "<table class=\"dataframe\">\n",
       "<caption>A anova: 1 × 4</caption>\n",
       "<thead>\n",
       "\t<tr><th></th><th scope=col>npar</th><th scope=col>Sum Sq</th><th scope=col>Mean Sq</th><th scope=col>F value</th></tr>\n",
       "\t<tr><th></th><th scope=col>&lt;int&gt;</th><th scope=col>&lt;dbl&gt;</th><th scope=col>&lt;dbl&gt;</th><th scope=col>&lt;dbl&gt;</th></tr>\n",
       "</thead>\n",
       "<tbody>\n",
       "\t<tr><th scope=row>test_group</th><td>1</td><td>213602.7</td><td>213602.7</td><td>213602.7</td></tr>\n",
       "</tbody>\n",
       "</table>\n"
      ],
      "text/latex": [
       "A anova: 1 × 4\n",
       "\\begin{tabular}{r|llll}\n",
       "  & npar & Sum Sq & Mean Sq & F value\\\\\n",
       "  & <int> & <dbl> & <dbl> & <dbl>\\\\\n",
       "\\hline\n",
       "\ttest\\_group & 1 & 213602.7 & 213602.7 & 213602.7\\\\\n",
       "\\end{tabular}\n"
      ],
      "text/markdown": [
       "\n",
       "A anova: 1 × 4\n",
       "\n",
       "| <!--/--> | npar &lt;int&gt; | Sum Sq &lt;dbl&gt; | Mean Sq &lt;dbl&gt; | F value &lt;dbl&gt; |\n",
       "|---|---|---|---|---|\n",
       "| test_group | 1 | 213602.7 | 213602.7 | 213602.7 |\n",
       "\n"
      ],
      "text/plain": [
       "           npar Sum Sq   Mean Sq  F value \n",
       "test_group 1    213602.7 213602.7 213602.7"
      ]
     },
     "metadata": {},
     "output_type": "display_data"
    }
   ],
   "source": [
    "anova(m2)"
   ]
  },
  {
   "cell_type": "code",
   "execution_count": 31,
   "id": "baa79ee6",
   "metadata": {},
   "outputs": [
    {
     "data": {
      "text/html": [
       "<style>\n",
       ".dl-inline {width: auto; margin:0; padding: 0}\n",
       ".dl-inline>dt, .dl-inline>dd {float: none; width: auto; display: inline-block}\n",
       ".dl-inline>dt::after {content: \":\\0020\"; padding-right: .5ex}\n",
       ".dl-inline>dt:not(:first-of-type) {padding-left: .5ex}\n",
       "</style><dl class=dl-inline><dt>(Intercept)</dt><dd>-5.07880514232729</dd><dt>test_grouptreatment</dt><dd>-2.00863695117177</dd></dl>\n"
      ],
      "text/latex": [
       "\\begin{description*}\n",
       "\\item[(Intercept)] -5.07880514232729\n",
       "\\item[test\\textbackslash{}\\_grouptreatment] -2.00863695117177\n",
       "\\end{description*}\n"
      ],
      "text/markdown": [
       "(Intercept)\n",
       ":   -5.07880514232729test_grouptreatment\n",
       ":   -2.00863695117177\n",
       "\n"
      ],
      "text/plain": [
       "        (Intercept) test_grouptreatment \n",
       "          -5.078805           -2.008637 "
      ]
     },
     "metadata": {},
     "output_type": "display_data"
    }
   ],
   "source": [
    "fixef(m2)"
   ]
  },
  {
   "cell_type": "code",
   "execution_count": 32,
   "id": "08dbf409",
   "metadata": {},
   "outputs": [
    {
     "data": {
      "text/html": [
       "0.134171432300301"
      ],
      "text/latex": [
       "0.134171432300301"
      ],
      "text/markdown": [
       "0.134171432300301"
      ],
      "text/plain": [
       "[1] 0.1341714"
      ]
     },
     "metadata": {},
     "output_type": "display_data"
    }
   ],
   "source": [
    "exp(-2.00863695117177)"
   ]
  },
  {
   "cell_type": "code",
   "execution_count": 34,
   "id": "87aec5a2",
   "metadata": {},
   "outputs": [
    {
     "name": "stderr",
     "output_type": "stream",
     "text": [
      "Computing profile confidence intervals ...\n",
      "\n"
     ]
    },
    {
     "ename": "ERROR",
     "evalue": "Error in zeta(shiftpar, start = opt[seqpar1][-w]): profiling detected new, lower deviance\n",
     "output_type": "error",
     "traceback": [
      "Error in zeta(shiftpar, start = opt[seqpar1][-w]): profiling detected new, lower deviance\nTraceback:\n",
      "1. confint(m2)",
      "2. confint.merMod(m2)",
      "3. profile(object, which = parm, signames = oldNames, ...)",
      "4. profile.merMod(object, which = parm, signames = oldNames, ...)",
      "5. lapply(seqnvp, FUN)",
      "6. FUN(X[[i]], ...)",
      "7. zeta(shiftpar, start = opt[seqpar1][-w])",
      "8. stop(\"profiling detected new, lower deviance\")"
     ]
    }
   ],
   "source": [
    "confint(m2)"
   ]
  },
  {
   "cell_type": "code",
   "execution_count": null,
   "id": "7483682b",
   "metadata": {},
   "outputs": [
    {
     "name": "stderr",
     "output_type": "stream",
     "text": [
      "Warning message:\n",
      "“The null model is correct only if all variables used by the original model remain unchanged.”\n"
     ]
    }
   ],
   "source": [
    "r2 <- r.squaredGLMM(m2)"
   ]
  },
  {
   "cell_type": "code",
   "execution_count": 46,
   "id": "81c7c82f",
   "metadata": {},
   "outputs": [
    {
     "data": {
      "text/html": [
       "<table class=\"dataframe\">\n",
       "<caption>A matrix: 3 × 2 of type dbl</caption>\n",
       "<thead>\n",
       "\t<tr><th></th><th scope=col>R2m</th><th scope=col>R2c</th></tr>\n",
       "</thead>\n",
       "<tbody>\n",
       "\t<tr><th scope=row>delta</th><td>0.055791073</td><td>0.41947651</td></tr>\n",
       "\t<tr><th scope=row>lognormal</th><td>0.100606727</td><td>0.75643211</td></tr>\n",
       "\t<tr><th scope=row>trigamma</th><td>0.008463381</td><td>0.06363365</td></tr>\n",
       "</tbody>\n",
       "</table>\n"
      ],
      "text/latex": [
       "A matrix: 3 × 2 of type dbl\n",
       "\\begin{tabular}{r|ll}\n",
       "  & R2m & R2c\\\\\n",
       "\\hline\n",
       "\tdelta & 0.055791073 & 0.41947651\\\\\n",
       "\tlognormal & 0.100606727 & 0.75643211\\\\\n",
       "\ttrigamma & 0.008463381 & 0.06363365\\\\\n",
       "\\end{tabular}\n"
      ],
      "text/markdown": [
       "\n",
       "A matrix: 3 × 2 of type dbl\n",
       "\n",
       "| <!--/--> | R2m | R2c |\n",
       "|---|---|---|\n",
       "| delta | 0.055791073 | 0.41947651 |\n",
       "| lognormal | 0.100606727 | 0.75643211 |\n",
       "| trigamma | 0.008463381 | 0.06363365 |\n",
       "\n"
      ],
      "text/plain": [
       "          R2m         R2c       \n",
       "delta     0.055791073 0.41947651\n",
       "lognormal 0.100606727 0.75643211\n",
       "trigamma  0.008463381 0.06363365"
      ]
     },
     "metadata": {},
     "output_type": "display_data"
    }
   ],
   "source": [
    "r2"
   ]
  },
  {
   "cell_type": "markdown",
   "id": "89ec22e5",
   "metadata": {},
   "source": [
    "__Note:__  \n",
    "Conditional R squared is 0.75643211. It means 76% of variance is explaned by the model m2. Model m2 is a good fit for the data with 0 clicks. \n",
    "\n",
    "\n",
    "p-value <2e-16. coefficient of test_grouptreatment is -2.008637 <0. It means the treatment group with new ToC has fewer clicks on ToC than control group. It contradict our expectation. "
   ]
  },
  {
   "cell_type": "markdown",
   "id": "89edfff8",
   "metadata": {},
   "source": [
    "# Q2: Does the new table of contents reduce the need to scroll back to the top of the page\n"
   ]
  },
  {
   "cell_type": "code",
   "execution_count": 35,
   "id": "34f8b222",
   "metadata": {},
   "outputs": [],
   "source": [
    "query_scroll_session <- \"\n",
    "WITH t_ab_no_dupli AS (\n",
    "SELECT  web_session_id, wiki, meta.domain AS domain, count(distinct `group` ) AS groups,  min(meta.dt) AS session_dt \n",
    "FROM event.mediawiki_web_ab_test_enrollment\n",
    "WHERE wiki NOT IN ('testwiki','test2wiki')  AND year=2022 AND month IN (5,6) \n",
    "AND  experiment_name='skin-vector-toc-experiment'\n",
    "GROUP BY  web_session_id, wiki, meta.domain\n",
    "-- exclude session ids are in both control and treatment group\n",
    "HAVING groups < 2\n",
    "),\n",
    "t_ab AS(\n",
    "SELECT \n",
    " t1.web_session_id,\n",
    " t1.wiki,t1.meta.domain AS domain,\n",
    " t1.`group` AS test_group,\n",
    " min(t1.meta.dt) AS session_dt \n",
    "FROM event.mediawiki_web_ab_test_enrollment AS t1\n",
    "INNER JOIN  t_ab_no_dupli AS t2 ON t1.wiki=t2.wiki \n",
    "AND t1.web_session_id=t2.web_session_id \n",
    "WHERE t1.wiki NOT IN ('testwiki','test2wiki')  \n",
    "AND year=2022  \n",
    "AND CONCAT(year, '-', LPAD(month,2,'0'),'-', LPAD(day,2,'0')) BETWEEN '2022-05-26' AND '2022-06-15'\n",
    "AND  experiment_name='skin-vector-toc-experiment'\n",
    "GROUP BY  t1.web_session_id, t1.wiki,t1.meta.domain, t1.`group`\n",
    ")\n",
    "\n",
    "--scrolls by session\n",
    "SELECT  t_ab.wiki,   t_ab.test_group, t3.is_anon, t3.web_session_id, \n",
    "COUNT(1) AS scrolls \n",
    "FROM t_ab\n",
    "LEFT JOIN event.mediawiki_web_ui_scroll AS t3 \n",
    "ON t_ab.domain=t3.meta.domain AND t3.web_session_id = t_ab.web_session_id\n",
    "AND t3.year=2022 AND month IN (5,6) \n",
    "AND CONCAT(t3.year, '-', LPAD(t3.month,2,'0'),'-', LPAD(t3.day,2,'0')) BETWEEN '2022-05-26' AND '2022-06-15'\n",
    "WHERE t_ab.session_dt <= t3.meta.dt\n",
    "AND t3.action='scroll-to-toc'\n",
    "GROUP BY  t_ab.wiki,   t_ab.test_group, t3.is_anon, t3.web_session_id\n",
    "\n",
    "\"\n"
   ]
  },
  {
   "cell_type": "code",
   "execution_count": 36,
   "id": "dc6a1fab",
   "metadata": {},
   "outputs": [
    {
     "name": "stderr",
     "output_type": "stream",
     "text": [
      "Don't forget to authenticate with Kerberos using kinit\n",
      "\n"
     ]
    }
   ],
   "source": [
    "df_scroll_session <- wmfdata::query_hive(query_scroll_session)"
   ]
  },
  {
   "cell_type": "code",
   "execution_count": 48,
   "id": "56f79a9c",
   "metadata": {},
   "outputs": [],
   "source": [
    "write_csv(df_scroll_session, \"Data_out/scrolls_session.csv\")"
   ]
  },
  {
   "cell_type": "code",
   "execution_count": 49,
   "id": "2b32ea32",
   "metadata": {},
   "outputs": [
    {
     "data": {
      "image/png": "[encoded data removed]",
      "text/plain": [
       "plot without title"
      ]
     },
     "metadata": {
      "image/png": {
       "height": 420,
       "width": 420
      }
     },
     "output_type": "display_data"
    }
   ],
   "source": [
    "p <- df_scroll_session %>%\n",
    " filter(wiki!='foundationwiki') %>%\n",
    " ggplot( aes(x=scrolls, fill=test_group)) +\n",
    "    geom_histogram( color=\"#e9ecef\", alpha=0.4, position = 'identity', bins=100) +\n",
    "    #scale_x_log10() +\n",
    "    scale_fill_manual(values=c(\"#666666\", \"#000099\")) +\n",
    "    labs ( title = \"Check distribution of scrolls per session\",\n",
    "         fill=\"\") +\n",
    "    theme_light(base_size=18)\n",
    "p"
   ]
  },
  {
   "cell_type": "code",
   "execution_count": 50,
   "id": "c3426887",
   "metadata": {},
   "outputs": [
    {
     "data": {
      "image/png": "[encoded data removed]",
      "text/plain": [
       "plot without title"
      ]
     },
     "metadata": {
      "image/png": {
       "height": 420,
       "width": 420
      }
     },
     "output_type": "display_data"
    }
   ],
   "source": [
    "p_log <- df_scroll_session %>%\n",
    " filter(wiki!='foundationwiki') %>%\n",
    " ggplot( aes(x=scrolls, fill=test_group)) +\n",
    "    geom_histogram( color=\"#e9ecef\", alpha=0.4, position = 'identity', bins=100) +\n",
    "    scale_x_log10() +\n",
    "    scale_fill_manual(values=c(\"#666666\", \"#000099\")) +\n",
    "    labs ( title = \"Check distribution of scrolls per session (in Log)\",\n",
    "         fill=\"\") +\n",
    "    theme_light(base_size=18)\n",
    "p_log"
   ]
  },
  {
   "cell_type": "code",
   "execution_count": 51,
   "id": "761be3c7",
   "metadata": {},
   "outputs": [
    {
     "data": {
      "text/plain": [
       "     wiki            test_group          is_anon          web_session_id    \n",
       " Length:819845      Length:819845      Length:819845      Length:819845     \n",
       " Class :character   Class :character   Class :character   Class :character  \n",
       " Mode  :character   Mode  :character   Mode  :character   Mode  :character  \n",
       "                                                                            \n",
       "                                                                            \n",
       "                                                                            \n",
       "    scrolls       \n",
       " Min.   :  1.000  \n",
       " 1st Qu.:  1.000  \n",
       " Median :  1.000  \n",
       " Mean   :  1.672  \n",
       " 3rd Qu.:  2.000  \n",
       " Max.   :328.000  "
      ]
     },
     "metadata": {},
     "output_type": "display_data"
    }
   ],
   "source": [
    "summary(filter(df_scroll_session,test_group=='control' & wiki!='foundationwiki'))"
   ]
  },
  {
   "cell_type": "code",
   "execution_count": 52,
   "id": "3115da43",
   "metadata": {},
   "outputs": [
    {
     "data": {
      "text/plain": [
       "     wiki            test_group          is_anon          web_session_id    \n",
       " Length:820392      Length:820392      Length:820392      Length:820392     \n",
       " Class :character   Class :character   Class :character   Class :character  \n",
       " Mode  :character   Mode  :character   Mode  :character   Mode  :character  \n",
       "                                                                            \n",
       "                                                                            \n",
       "                                                                            \n",
       "    scrolls       \n",
       " Min.   :  1.000  \n",
       " 1st Qu.:  1.000  \n",
       " Median :  1.000  \n",
       " Mean   :  1.687  \n",
       " 3rd Qu.:  2.000  \n",
       " Max.   :115.000  "
      ]
     },
     "metadata": {},
     "output_type": "display_data"
    }
   ],
   "source": [
    "summary(filter(df_scroll_session,test_group=='treatment' & wiki!='foundationwiki'))"
   ]
  },
  {
   "cell_type": "markdown",
   "id": "752b6e86",
   "metadata": {},
   "source": [
    "__Note:__\n",
    "\n",
    "After exclulde foundationwiki, the bucketing of control group and treatment group is balanced. "
   ]
  },
  {
   "cell_type": "code",
   "execution_count": 54,
   "id": "6cec0411",
   "metadata": {},
   "outputs": [
    {
     "data": {
      "text/plain": [
       "     wiki            test_group          is_anon          web_session_id    \n",
       " Length:0           Length:0           Length:0           Length:0          \n",
       " Class :character   Class :character   Class :character   Class :character  \n",
       " Mode  :character   Mode  :character   Mode  :character   Mode  :character  \n",
       "                                                                            \n",
       "                                                                            \n",
       "                                                                            \n",
       "    scrolls   \n",
       " Min.   : NA  \n",
       " 1st Qu.: NA  \n",
       " Median : NA  \n",
       " Mean   :NaN  \n",
       " 3rd Qu.: NA  \n",
       " Max.   : NA  "
      ]
     },
     "metadata": {},
     "output_type": "display_data"
    }
   ],
   "source": [
    "summary(filter(df_scroll_session,scrolls==0 & wiki!='foundationwiki'))"
   ]
  },
  {
   "cell_type": "markdown",
   "id": "ff94db24",
   "metadata": {},
   "source": [
    "__Note:__\n",
    "\n",
    "All sessions have at least 1 scroll"
   ]
  },
  {
   "cell_type": "code",
   "execution_count": null,
   "id": "ffcc4016",
   "metadata": {},
   "outputs": [],
   "source": []
  },
  {
   "cell_type": "code",
   "execution_count": 61,
   "id": "7a190a4f",
   "metadata": {},
   "outputs": [],
   "source": [
    "df_s_loggedin <- df_scroll_session %>%\n",
    "    filter(wiki!='foundationwiki'& is_anon=='false')"
   ]
  },
  {
   "cell_type": "code",
   "execution_count": 62,
   "id": "5c609daa",
   "metadata": {},
   "outputs": [
    {
     "data": {
      "text/plain": [
       "     wiki            test_group          is_anon          web_session_id    \n",
       " Length:62779       Length:62779       Length:62779       Length:62779      \n",
       " Class :character   Class :character   Class :character   Class :character  \n",
       " Mode  :character   Mode  :character   Mode  :character   Mode  :character  \n",
       "                                                                            \n",
       "                                                                            \n",
       "                                                                            \n",
       "    scrolls       \n",
       " Min.   :  1.000  \n",
       " 1st Qu.:  1.000  \n",
       " Median :  2.000  \n",
       " Mean   :  2.568  \n",
       " 3rd Qu.:  3.000  \n",
       " Max.   :149.000  "
      ]
     },
     "metadata": {},
     "output_type": "display_data"
    }
   ],
   "source": [
    "summary(df_s_loggedin)"
   ]
  },
  {
   "cell_type": "code",
   "execution_count": 63,
   "id": "5b21c4ef",
   "metadata": {},
   "outputs": [],
   "source": [
    "df_s_anon <- df_scroll_session %>%\n",
    "    filter(wiki!='foundationwiki'& is_anon=='true')"
   ]
  },
  {
   "cell_type": "code",
   "execution_count": 64,
   "id": "94e3b66a",
   "metadata": {},
   "outputs": [
    {
     "data": {
      "text/plain": [
       "     wiki            test_group          is_anon          web_session_id    \n",
       " Length:1577458     Length:1577458     Length:1577458     Length:1577458    \n",
       " Class :character   Class :character   Class :character   Class :character  \n",
       " Mode  :character   Mode  :character   Mode  :character   Mode  :character  \n",
       "                                                                            \n",
       "                                                                            \n",
       "                                                                            \n",
       "    scrolls       \n",
       " Min.   :  1.000  \n",
       " 1st Qu.:  1.000  \n",
       " Median :  1.000  \n",
       " Mean   :  1.644  \n",
       " 3rd Qu.:  2.000  \n",
       " Max.   :328.000  "
      ]
     },
     "metadata": {},
     "output_type": "display_data"
    }
   ],
   "source": [
    "summary(df_s_anon)"
   ]
  },
  {
   "cell_type": "code",
   "execution_count": 65,
   "id": "72e03065",
   "metadata": {},
   "outputs": [],
   "source": [
    "m1_s_loggedin <- glmer( formula = scrolls ~ test_group + (1 | wiki),\n",
    "    family = poisson(link = \"log\"),\n",
    "    data = df_s_loggedin)"
   ]
  },
  {
   "cell_type": "code",
   "execution_count": 66,
   "id": "b7406358",
   "metadata": {},
   "outputs": [
    {
     "data": {
      "text/plain": [
       "Generalized linear mixed model fit by maximum likelihood (Laplace\n",
       "  Approximation) [glmerMod]\n",
       " Family: poisson  ( log )\n",
       "Formula: scrolls ~ test_group + (1 | wiki)\n",
       "   Data: df_s_loggedin\n",
       "\n",
       "      AIC       BIC    logLik  deviance  df.resid \n",
       " 292160.2  292187.3 -146077.1  292154.2     62776 \n",
       "\n",
       "Scaled residuals: \n",
       "   Min     1Q Median     3Q    Max \n",
       "-1.434 -1.010 -0.537  0.221 97.146 \n",
       "\n",
       "Random effects:\n",
       " Groups Name        Variance Std.Dev.\n",
       " wiki   (Intercept) 0.03943  0.1986  \n",
       "Number of obs: 62779, groups:  wiki, 23\n",
       "\n",
       "Fixed effects:\n",
       "                     Estimate Std. Error z value Pr(>|z|)    \n",
       "(Intercept)          0.902794   0.045520  19.833   <2e-16 ***\n",
       "test_grouptreatment -0.008601   0.004989  -1.724   0.0847 .  \n",
       "---\n",
       "Signif. codes:  0 ‘***’ 0.001 ‘**’ 0.01 ‘*’ 0.05 ‘.’ 0.1 ‘ ’ 1\n",
       "\n",
       "Correlation of Fixed Effects:\n",
       "            (Intr)\n",
       "tst_grptrtm -0.054"
      ]
     },
     "metadata": {},
     "output_type": "display_data"
    }
   ],
   "source": [
    "summary(m1_s_loggedin)"
   ]
  },
  {
   "cell_type": "markdown",
   "id": "894d3758",
   "metadata": {},
   "source": [
    "__Summary__.   \n",
    "For logged-in users, \n",
    "coef of treatment group = -0.008601, p-value= 0.0847 > 0.05.  We cannot rejected null hypothesis that treatment group and control group have same level of scrolls back to ToC. \n",
    "\n",
    "We don't have data to suppport that the new table of contents reduce the need to scroll back to the top of the page for logged-in users. "
   ]
  },
  {
   "cell_type": "code",
   "execution_count": 67,
   "id": "d572122a",
   "metadata": {},
   "outputs": [
    {
     "name": "stderr",
     "output_type": "stream",
     "text": [
      "Warning message in checkConv(attr(opt, \"derivs\"), opt$par, ctrl = control$checkConv, :\n",
      "“Model is nearly unidentifiable: very large eigenvalue\n",
      " - Rescale variables?”\n"
     ]
    }
   ],
   "source": [
    "m1_s_anon <- glmer( formula = scrolls ~ test_group + (1 | wiki),\n",
    "    family = poisson(link = \"log\"),\n",
    "    data = df_s_anon)"
   ]
  },
  {
   "cell_type": "code",
   "execution_count": 68,
   "id": "978dad04",
   "metadata": {},
   "outputs": [
    {
     "data": {
      "text/plain": [
       "Generalized linear mixed model fit by maximum likelihood (Laplace\n",
       "  Approximation) [glmerMod]\n",
       " Family: poisson  ( log )\n",
       "Formula: scrolls ~ test_group + (1 | wiki)\n",
       "   Data: df_s_anon\n",
       "\n",
       "     AIC      BIC   logLik deviance df.resid \n",
       " 4754411  4754447 -2377202  4754405  1577455 \n",
       "\n",
       "Scaled residuals: \n",
       "    Min      1Q  Median      3Q     Max \n",
       " -0.788  -0.476  -0.466   0.314 259.144 \n",
       "\n",
       "Random effects:\n",
       " Groups Name        Variance Std.Dev.\n",
       " wiki   (Intercept) 0.01678  0.1295  \n",
       "Number of obs: 1577458, groups:  wiki, 23\n",
       "\n",
       "Fixed effects:\n",
       "                    Estimate Std. Error z value Pr(>|z|)    \n",
       "(Intercept)         0.479536   0.016378  29.279  < 2e-16 ***\n",
       "test_grouptreatment 0.010148   0.001241   8.175 2.96e-16 ***\n",
       "---\n",
       "Signif. codes:  0 ‘***’ 0.001 ‘**’ 0.01 ‘*’ 0.05 ‘.’ 0.1 ‘ ’ 1\n",
       "\n",
       "Correlation of Fixed Effects:\n",
       "            (Intr)\n",
       "tst_grptrtm -0.017\n",
       "optimizer (Nelder_Mead) convergence code: 0 (OK)\n",
       "Model is nearly unidentifiable: very large eigenvalue\n",
       " - Rescale variables?\n"
      ]
     },
     "metadata": {},
     "output_type": "display_data"
    }
   ],
   "source": [
    "summary(m1_s_anon)"
   ]
  },
  {
   "cell_type": "markdown",
   "id": "6b5a36be",
   "metadata": {},
   "source": [
    "nAGQ refers to \"the number of points per axis for evaluating the adaptive Gauss-Hermite approximation to the log-likelihood\". The n in the acronym stands for number of points, while the AGQ stands for Adaptive Gauss-Hermite Quadrature.\n",
    "setting nAGQ = 0 is less accurate than setting nAGQ = 1 (the default)\n",
    "\n",
    "ref: https://stats.stackexchange.com/questions/544937/when-is-it-appropriate-to-set-nagq-0-in-glmer"
   ]
  },
  {
   "cell_type": "code",
   "execution_count": 75,
   "id": "ce6f1307",
   "metadata": {},
   "outputs": [],
   "source": [
    "m2_s_anon <- glmer( formula = scrolls ~ test_group + (1 | wiki),\n",
    "    family = poisson(link = \"log\"),\n",
    "    data = df_s_anon,\n",
    "    nAGQ = 0)"
   ]
  },
  {
   "cell_type": "code",
   "execution_count": 76,
   "id": "cce4f16f",
   "metadata": {},
   "outputs": [
    {
     "data": {
      "text/plain": [
       "Generalized linear mixed model fit by maximum likelihood (Adaptive\n",
       "  Gauss-Hermite Quadrature, nAGQ = 0) [glmerMod]\n",
       " Family: poisson  ( log )\n",
       "Formula: scrolls ~ test_group + (1 | wiki)\n",
       "   Data: df_s_anon\n",
       "\n",
       "     AIC      BIC   logLik deviance df.resid \n",
       " 4754411  4754447 -2377202  4754405  1577455 \n",
       "\n",
       "Scaled residuals: \n",
       "    Min      1Q  Median      3Q     Max \n",
       " -0.788  -0.476  -0.466   0.314 259.144 \n",
       "\n",
       "Random effects:\n",
       " Groups Name        Variance Std.Dev.\n",
       " wiki   (Intercept) 0.01678  0.1295  \n",
       "Number of obs: 1577458, groups:  wiki, 23\n",
       "\n",
       "Fixed effects:\n",
       "                    Estimate Std. Error z value Pr(>|z|)    \n",
       "(Intercept)         0.480077   0.029663  16.184  < 2e-16 ***\n",
       "test_grouptreatment 0.010147   0.001242   8.169 3.11e-16 ***\n",
       "---\n",
       "Signif. codes:  0 ‘***’ 0.001 ‘**’ 0.01 ‘*’ 0.05 ‘.’ 0.1 ‘ ’ 1\n",
       "\n",
       "Correlation of Fixed Effects:\n",
       "            (Intr)\n",
       "tst_grptrtm -0.021"
      ]
     },
     "metadata": {},
     "output_type": "display_data"
    }
   ],
   "source": [
    "summary(m2_s_anon)"
   ]
  },
  {
   "cell_type": "markdown",
   "id": "6bb4bbfc",
   "metadata": {},
   "source": [
    "__Summary__.  \n",
    "\n",
    "For anonymous users, sessions with new ToC has more scrolls back to ToC. It contradict our expectation.  "
   ]
  },
  {
   "cell_type": "code",
   "execution_count": null,
   "id": "a4da5623",
   "metadata": {},
   "outputs": [],
   "source": []
  }
 ],
 "metadata": {
  "kernelspec": {
   "display_name": "R",
   "language": "R",
   "name": "ir"
  },
  "language_info": {
   "codemirror_mode": "r",
   "file_extension": ".r",
   "mimetype": "text/x-r-source",
   "name": "R",
   "pygments_lexer": "r",
   "version": "3.5.2"
  }
 },
 "nbformat": 4,
 "nbformat_minor": 5
}
