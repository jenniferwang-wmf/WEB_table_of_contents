{
 "cells": [
  {
   "cell_type": "code",
   "execution_count": 1,
   "id": "0b57c743",
   "metadata": {},
   "outputs": [],
   "source": [
    "shhh <- function(expr) suppressPackageStartupMessages(suppressWarnings(suppressMessages(expr)))\n",
    "shhh({\n",
    "library(tidyverse); \n",
    "library(lubridate); \n",
    "library(scales);\n",
    "library(magrittr); \n",
    "library(dplyr);\n",
    "})"
   ]
  },
  {
   "cell_type": "code",
   "execution_count": 2,
   "id": "6ce84282",
   "metadata": {},
   "outputs": [
    {
     "data": {
      "text/html": [
       "<script>  \n",
       "code_show=true; \n",
       "function code_toggle() {\n",
       "  if (code_show){\n",
       "    $('div.input').hide();\n",
       "  } else {\n",
       "    $('div.input').show();\n",
       "  }\n",
       "  code_show = !code_show\n",
       "}  \n",
       "$( document ).ready(code_toggle);\n",
       "</script>\n",
       "  <form action=\"javascript:code_toggle()\">\n",
       "    <input type=\"submit\" value=\"Click here to toggle on/off the raw code.\">\n",
       " </form>"
      ]
     },
     "metadata": {},
     "output_type": "display_data"
    }
   ],
   "source": [
    "library(IRdisplay)\n",
    "\n",
    "display_html(\n",
    "'<script>  \n",
    "code_show=true; \n",
    "function code_toggle() {\n",
    "  if (code_show){\n",
    "    $(\\'div.input\\').hide();\n",
    "  } else {\n",
    "    $(\\'div.input\\').show();\n",
    "  }\n",
    "  code_show = !code_show\n",
    "}  \n",
    "$( document ).ready(code_toggle);\n",
    "</script>\n",
    "  <form action=\"javascript:code_toggle()\">\n",
    "    <input type=\"submit\" value=\"Click here to toggle on/off the raw code.\">\n",
    " </form>'\n",
    ")"
   ]
  },
  {
   "cell_type": "code",
   "execution_count": 2,
   "id": "35bc65ec",
   "metadata": {},
   "outputs": [],
   "source": [
    "options(repr.plot.width = 15, repr.plot.height = 10)"
   ]
  },
  {
   "cell_type": "markdown",
   "id": "38c3faf0",
   "metadata": {},
   "source": [
    "# Introduction\n",
    "\n",
    "__April 20, 2022__   \n",
    "__May 2, 2022__  \n",
    "__May 13, 2022__  \n",
    "\n",
    "[Parent QA ticket](https://phabricator.wikimedia.org/T305442) | [QA ticket](https://phabricator.wikimedia.org/T306557)"
   ]
  },
  {
   "cell_type": "markdown",
   "id": "d2f72a7b",
   "metadata": {},
   "source": [
    "# Instrumentation note\n",
    "The related events will be stored in schema mediawiki_web_ui_scroll with action='scroll-to-toc' .\n",
    "Sample rate :\n",
    "On euwiki and hewiki, sample rate is 100% for logged in users,10% for anons.\n",
    "Other wikis : TBC"
   ]
  },
  {
   "cell_type": "markdown",
   "id": "a62c62be",
   "metadata": {},
   "source": [
    "# QA mediawiki_web_ui_scroll schema"
   ]
  },
  {
   "cell_type": "markdown",
   "id": "15889e91",
   "metadata": {},
   "source": [
    "## check start date , available wikis and access method"
   ]
  },
  {
   "cell_type": "code",
   "execution_count": 16,
   "id": "655ec0eb",
   "metadata": {},
   "outputs": [],
   "source": [
    "query <-\n",
    "\"\n",
    "SELECT meta.domain, access_method, min(meta.dt) as first_event_ts\n",
    "FROM  event.mediawiki_web_ui_scroll\n",
    "WHERE year=2022 and month=4\n",
    "AND action='scroll-to-toc'\n",
    "GROUP BY meta.domain, access_method\n",
    "ORDER BY first_event_ts  \n",
    "LIMIT 10000\n",
    "\""
   ]
  },
  {
   "cell_type": "code",
   "execution_count": 17,
   "id": "bd360c3a",
   "metadata": {},
   "outputs": [
    {
     "name": "stderr",
     "output_type": "stream",
     "text": [
      "Don't forget to authenticate with Kerberos using kinit\n",
      "\n"
     ]
    }
   ],
   "source": [
    "df <-  wmfdata::query_hive(query)"
   ]
  },
  {
   "cell_type": "code",
   "execution_count": 18,
   "id": "9f52f0a6",
   "metadata": {},
   "outputs": [
    {
     "data": {
      "text/html": [
       "<table class=\"dataframe\">\n",
       "<caption>A data.frame: 104 × 3</caption>\n",
       "<thead>\n",
       "\t<tr><th scope=col>domain</th><th scope=col>access_method</th><th scope=col>first_event_ts</th></tr>\n",
       "\t<tr><th scope=col>&lt;chr&gt;</th><th scope=col>&lt;chr&gt;</th><th scope=col>&lt;chr&gt;</th></tr>\n",
       "</thead>\n",
       "<tbody>\n",
       "\t<tr><td>www.mediawiki.org       </td><td>desktop</td><td>2022-04-05T08:52:23.286Z</td></tr>\n",
       "\t<tr><td>en.wiktionary.org       </td><td>desktop</td><td>2022-04-06T08:49:59.437Z</td></tr>\n",
       "\t<tr><td>he.wikipedia.org        </td><td>desktop</td><td>2022-04-06T08:54:27.969Z</td></tr>\n",
       "\t<tr><td>ru.wiktionary.org       </td><td>desktop</td><td>2022-04-06T09:02:48.310Z</td></tr>\n",
       "\t<tr><td>www.wikidata.org        </td><td>desktop</td><td>2022-04-06T09:08:50.789Z</td></tr>\n",
       "\t<tr><td>fr.wiktionary.org       </td><td>desktop</td><td>2022-04-06T09:12:44.496Z</td></tr>\n",
       "\t<tr><td>pl.wikibooks.org        </td><td>desktop</td><td>2022-04-06T09:13:19.601Z</td></tr>\n",
       "\t<tr><td>ca.wikipedia.org        </td><td>desktop</td><td>2022-04-06T09:20:24.221Z</td></tr>\n",
       "\t<tr><td>it.wikipedia.org        </td><td>desktop</td><td>2022-04-06T09:28:07.155Z</td></tr>\n",
       "\t<tr><td>tr.wikisource.org       </td><td>desktop</td><td>2022-04-06T10:18:33.914Z</td></tr>\n",
       "\t<tr><td>pl.wikinews.org         </td><td>desktop</td><td>2022-04-06T10:37:59.215Z</td></tr>\n",
       "\t<tr><td>incubator.wikimedia.org </td><td>desktop</td><td>2022-04-06T11:45:09.432Z</td></tr>\n",
       "\t<tr><td>commons.wikimedia.org   </td><td>desktop</td><td>2022-04-06T12:00:13.387Z</td></tr>\n",
       "\t<tr><td>de.wikivoyage.org       </td><td>desktop</td><td>2022-04-06T14:35:59.653Z</td></tr>\n",
       "\t<tr><td>ja.wikivoyage.org       </td><td>desktop</td><td>2022-04-06T15:53:51.854Z</td></tr>\n",
       "\t<tr><td>de.wikibooks.org        </td><td>desktop</td><td>2022-04-06T16:43:50.775Z</td></tr>\n",
       "\t<tr><td>foundation.wikimedia.org</td><td>desktop</td><td>2022-04-06T18:04:36.701Z</td></tr>\n",
       "\t<tr><td>wa.wiktionary.org       </td><td>desktop</td><td>2022-04-06T18:19:08.318Z</td></tr>\n",
       "\t<tr><td>meta.wikimedia.org      </td><td>desktop</td><td>2022-04-06T19:57:12.001Z</td></tr>\n",
       "\t<tr><td>fr.wikisource.org       </td><td>desktop</td><td>2022-04-06T20:32:52.267Z</td></tr>\n",
       "\t<tr><td>de.wiktionary.org       </td><td>desktop</td><td>2022-04-06T21:33:03.113Z</td></tr>\n",
       "\t<tr><td>pt.wikiversity.org      </td><td>desktop</td><td>2022-04-06T22:41:15.042Z</td></tr>\n",
       "\t<tr><td>fr.wikiquote.org        </td><td>desktop</td><td>2022-04-07T02:00:29.605Z</td></tr>\n",
       "\t<tr><td>en.wikisource.org       </td><td>desktop</td><td>2022-04-07T04:24:51.054Z</td></tr>\n",
       "\t<tr><td>fa.wikipedia.org        </td><td>desktop</td><td>2022-04-07T08:14:36.540Z</td></tr>\n",
       "\t<tr><td>fr.wikipedia.org        </td><td>desktop</td><td>2022-04-07T08:16:54.576Z</td></tr>\n",
       "\t<tr><td>ko.wikipedia.org        </td><td>desktop</td><td>2022-04-07T08:17:57.554Z</td></tr>\n",
       "\t<tr><td>en.wikipedia.org        </td><td>desktop</td><td>2022-04-07T08:20:12.883Z</td></tr>\n",
       "\t<tr><td>de.wikipedia.org        </td><td>desktop</td><td>2022-04-07T08:21:06.522Z</td></tr>\n",
       "\t<tr><td>zh.wikipedia.org        </td><td>desktop</td><td>2022-04-07T08:21:26.911Z</td></tr>\n",
       "\t<tr><td>⋮</td><td>⋮</td><td>⋮</td></tr>\n",
       "\t<tr><td>ary.wikipedia.org        </td><td>desktop</td><td>2022-04-09T10:37:18.090Z</td></tr>\n",
       "\t<tr><td>hy.wikipedia.org         </td><td>desktop</td><td>2022-04-09T16:22:50.601Z</td></tr>\n",
       "\t<tr><td>kk.wikipedia.org         </td><td>desktop</td><td>2022-04-09T17:51:07.511Z</td></tr>\n",
       "\t<tr><td>ce.wikipedia.org         </td><td>desktop</td><td>2022-04-10T09:14:42.743Z</td></tr>\n",
       "\t<tr><td>pl.wikisource.org        </td><td>desktop</td><td>2022-04-10T21:04:09.635Z</td></tr>\n",
       "\t<tr><td>lb.wikipedia.org         </td><td>desktop</td><td>2022-04-11T06:18:42.634Z</td></tr>\n",
       "\t<tr><td>simple.wikipedia.org     </td><td>desktop</td><td>2022-04-11T09:57:35.272Z</td></tr>\n",
       "\t<tr><td>as.wikipedia.org         </td><td>desktop</td><td>2022-04-11T13:58:58.102Z</td></tr>\n",
       "\t<tr><td>fa.wikiquote.org         </td><td>desktop</td><td>2022-04-11T14:22:43.653Z</td></tr>\n",
       "\t<tr><td>wikitech.wikimedia.org   </td><td>desktop</td><td>2022-04-11T15:21:06.140Z</td></tr>\n",
       "\t<tr><td>en.wikibooks.org         </td><td>desktop</td><td>2022-04-11T17:39:20.555Z</td></tr>\n",
       "\t<tr><td>he.wiktionary.org        </td><td>desktop</td><td>2022-04-11T21:58:51.582Z</td></tr>\n",
       "\t<tr><td>vec.wikipedia.org        </td><td>desktop</td><td>2022-04-12T00:43:08.808Z</td></tr>\n",
       "\t<tr><td>bjn.wikipedia.org        </td><td>desktop</td><td>2022-04-12T01:54:04.801Z</td></tr>\n",
       "\t<tr><td>fr.wikivoyage.org        </td><td>desktop</td><td>2022-04-12T05:01:19.585Z</td></tr>\n",
       "\t<tr><td>zh.wikipedia.iwiki.eu.org</td><td>desktop</td><td>2022-04-12T05:06:24.627Z</td></tr>\n",
       "\t<tr><td>zh.wikivoyage.org        </td><td>desktop</td><td>2022-04-12T16:11:02.063Z</td></tr>\n",
       "\t<tr><td>hi.wikipedia.org         </td><td>desktop</td><td>2022-04-12T16:53:55.492Z</td></tr>\n",
       "\t<tr><td>ky.wikipedia.org         </td><td>desktop</td><td>2022-04-13T01:42:42.225Z</td></tr>\n",
       "\t<tr><td>es.wikiquote.org         </td><td>desktop</td><td>2022-04-13T08:26:36.212Z</td></tr>\n",
       "\t<tr><td>mzn.wikipedia.org        </td><td>desktop</td><td>2022-04-13T16:31:31.178Z</td></tr>\n",
       "\t<tr><td>it.wikinews.org          </td><td>desktop</td><td>2022-04-13T19:30:35.049Z</td></tr>\n",
       "\t<tr><td>fa.wiktionary.org        </td><td>desktop</td><td>2022-04-14T10:03:14.500Z</td></tr>\n",
       "\t<tr><td>zh.wikiversity.org       </td><td>desktop</td><td>2022-04-14T14:36:31.351Z</td></tr>\n",
       "\t<tr><td>es.wiktionary.org        </td><td>desktop</td><td>2022-04-14T16:14:49.693Z</td></tr>\n",
       "\t<tr><td>ca.wikimedia.org         </td><td>desktop</td><td>2022-04-14T20:24:13.837Z</td></tr>\n",
       "\t<tr><td>fa.wikibooks.org         </td><td>desktop</td><td>2022-04-15T11:05:41.297Z</td></tr>\n",
       "\t<tr><td>id.wikisource.org        </td><td>desktop</td><td>2022-04-15T11:22:45.653Z</td></tr>\n",
       "\t<tr><td>cs.wiktionary.org        </td><td>desktop</td><td>2022-04-15T12:01:26.553Z</td></tr>\n",
       "\t<tr><td>sk.wikipedia.org         </td><td>desktop</td><td>2022-04-15T12:44:16.353Z</td></tr>\n",
       "</tbody>\n",
       "</table>\n"
      ],
      "text/latex": [
       "A data.frame: 104 × 3\n",
       "\\begin{tabular}{lll}\n",
       " domain & access\\_method & first\\_event\\_ts\\\\\n",
       " <chr> & <chr> & <chr>\\\\\n",
       "\\hline\n",
       "\t www.mediawiki.org        & desktop & 2022-04-05T08:52:23.286Z\\\\\n",
       "\t en.wiktionary.org        & desktop & 2022-04-06T08:49:59.437Z\\\\\n",
       "\t he.wikipedia.org         & desktop & 2022-04-06T08:54:27.969Z\\\\\n",
       "\t ru.wiktionary.org        & desktop & 2022-04-06T09:02:48.310Z\\\\\n",
       "\t www.wikidata.org         & desktop & 2022-04-06T09:08:50.789Z\\\\\n",
       "\t fr.wiktionary.org        & desktop & 2022-04-06T09:12:44.496Z\\\\\n",
       "\t pl.wikibooks.org         & desktop & 2022-04-06T09:13:19.601Z\\\\\n",
       "\t ca.wikipedia.org         & desktop & 2022-04-06T09:20:24.221Z\\\\\n",
       "\t it.wikipedia.org         & desktop & 2022-04-06T09:28:07.155Z\\\\\n",
       "\t tr.wikisource.org        & desktop & 2022-04-06T10:18:33.914Z\\\\\n",
       "\t pl.wikinews.org          & desktop & 2022-04-06T10:37:59.215Z\\\\\n",
       "\t incubator.wikimedia.org  & desktop & 2022-04-06T11:45:09.432Z\\\\\n",
       "\t commons.wikimedia.org    & desktop & 2022-04-06T12:00:13.387Z\\\\\n",
       "\t de.wikivoyage.org        & desktop & 2022-04-06T14:35:59.653Z\\\\\n",
       "\t ja.wikivoyage.org        & desktop & 2022-04-06T15:53:51.854Z\\\\\n",
       "\t de.wikibooks.org         & desktop & 2022-04-06T16:43:50.775Z\\\\\n",
       "\t foundation.wikimedia.org & desktop & 2022-04-06T18:04:36.701Z\\\\\n",
       "\t wa.wiktionary.org        & desktop & 2022-04-06T18:19:08.318Z\\\\\n",
       "\t meta.wikimedia.org       & desktop & 2022-04-06T19:57:12.001Z\\\\\n",
       "\t fr.wikisource.org        & desktop & 2022-04-06T20:32:52.267Z\\\\\n",
       "\t de.wiktionary.org        & desktop & 2022-04-06T21:33:03.113Z\\\\\n",
       "\t pt.wikiversity.org       & desktop & 2022-04-06T22:41:15.042Z\\\\\n",
       "\t fr.wikiquote.org         & desktop & 2022-04-07T02:00:29.605Z\\\\\n",
       "\t en.wikisource.org        & desktop & 2022-04-07T04:24:51.054Z\\\\\n",
       "\t fa.wikipedia.org         & desktop & 2022-04-07T08:14:36.540Z\\\\\n",
       "\t fr.wikipedia.org         & desktop & 2022-04-07T08:16:54.576Z\\\\\n",
       "\t ko.wikipedia.org         & desktop & 2022-04-07T08:17:57.554Z\\\\\n",
       "\t en.wikipedia.org         & desktop & 2022-04-07T08:20:12.883Z\\\\\n",
       "\t de.wikipedia.org         & desktop & 2022-04-07T08:21:06.522Z\\\\\n",
       "\t zh.wikipedia.org         & desktop & 2022-04-07T08:21:26.911Z\\\\\n",
       "\t ⋮ & ⋮ & ⋮\\\\\n",
       "\t ary.wikipedia.org         & desktop & 2022-04-09T10:37:18.090Z\\\\\n",
       "\t hy.wikipedia.org          & desktop & 2022-04-09T16:22:50.601Z\\\\\n",
       "\t kk.wikipedia.org          & desktop & 2022-04-09T17:51:07.511Z\\\\\n",
       "\t ce.wikipedia.org          & desktop & 2022-04-10T09:14:42.743Z\\\\\n",
       "\t pl.wikisource.org         & desktop & 2022-04-10T21:04:09.635Z\\\\\n",
       "\t lb.wikipedia.org          & desktop & 2022-04-11T06:18:42.634Z\\\\\n",
       "\t simple.wikipedia.org      & desktop & 2022-04-11T09:57:35.272Z\\\\\n",
       "\t as.wikipedia.org          & desktop & 2022-04-11T13:58:58.102Z\\\\\n",
       "\t fa.wikiquote.org          & desktop & 2022-04-11T14:22:43.653Z\\\\\n",
       "\t wikitech.wikimedia.org    & desktop & 2022-04-11T15:21:06.140Z\\\\\n",
       "\t en.wikibooks.org          & desktop & 2022-04-11T17:39:20.555Z\\\\\n",
       "\t he.wiktionary.org         & desktop & 2022-04-11T21:58:51.582Z\\\\\n",
       "\t vec.wikipedia.org         & desktop & 2022-04-12T00:43:08.808Z\\\\\n",
       "\t bjn.wikipedia.org         & desktop & 2022-04-12T01:54:04.801Z\\\\\n",
       "\t fr.wikivoyage.org         & desktop & 2022-04-12T05:01:19.585Z\\\\\n",
       "\t zh.wikipedia.iwiki.eu.org & desktop & 2022-04-12T05:06:24.627Z\\\\\n",
       "\t zh.wikivoyage.org         & desktop & 2022-04-12T16:11:02.063Z\\\\\n",
       "\t hi.wikipedia.org          & desktop & 2022-04-12T16:53:55.492Z\\\\\n",
       "\t ky.wikipedia.org          & desktop & 2022-04-13T01:42:42.225Z\\\\\n",
       "\t es.wikiquote.org          & desktop & 2022-04-13T08:26:36.212Z\\\\\n",
       "\t mzn.wikipedia.org         & desktop & 2022-04-13T16:31:31.178Z\\\\\n",
       "\t it.wikinews.org           & desktop & 2022-04-13T19:30:35.049Z\\\\\n",
       "\t fa.wiktionary.org         & desktop & 2022-04-14T10:03:14.500Z\\\\\n",
       "\t zh.wikiversity.org        & desktop & 2022-04-14T14:36:31.351Z\\\\\n",
       "\t es.wiktionary.org         & desktop & 2022-04-14T16:14:49.693Z\\\\\n",
       "\t ca.wikimedia.org          & desktop & 2022-04-14T20:24:13.837Z\\\\\n",
       "\t fa.wikibooks.org          & desktop & 2022-04-15T11:05:41.297Z\\\\\n",
       "\t id.wikisource.org         & desktop & 2022-04-15T11:22:45.653Z\\\\\n",
       "\t cs.wiktionary.org         & desktop & 2022-04-15T12:01:26.553Z\\\\\n",
       "\t sk.wikipedia.org          & desktop & 2022-04-15T12:44:16.353Z\\\\\n",
       "\\end{tabular}\n"
      ],
      "text/markdown": [
       "\n",
       "A data.frame: 104 × 3\n",
       "\n",
       "| domain &lt;chr&gt; | access_method &lt;chr&gt; | first_event_ts &lt;chr&gt; |\n",
       "|---|---|---|\n",
       "| www.mediawiki.org        | desktop | 2022-04-05T08:52:23.286Z |\n",
       "| en.wiktionary.org        | desktop | 2022-04-06T08:49:59.437Z |\n",
       "| he.wikipedia.org         | desktop | 2022-04-06T08:54:27.969Z |\n",
       "| ru.wiktionary.org        | desktop | 2022-04-06T09:02:48.310Z |\n",
       "| www.wikidata.org         | desktop | 2022-04-06T09:08:50.789Z |\n",
       "| fr.wiktionary.org        | desktop | 2022-04-06T09:12:44.496Z |\n",
       "| pl.wikibooks.org         | desktop | 2022-04-06T09:13:19.601Z |\n",
       "| ca.wikipedia.org         | desktop | 2022-04-06T09:20:24.221Z |\n",
       "| it.wikipedia.org         | desktop | 2022-04-06T09:28:07.155Z |\n",
       "| tr.wikisource.org        | desktop | 2022-04-06T10:18:33.914Z |\n",
       "| pl.wikinews.org          | desktop | 2022-04-06T10:37:59.215Z |\n",
       "| incubator.wikimedia.org  | desktop | 2022-04-06T11:45:09.432Z |\n",
       "| commons.wikimedia.org    | desktop | 2022-04-06T12:00:13.387Z |\n",
       "| de.wikivoyage.org        | desktop | 2022-04-06T14:35:59.653Z |\n",
       "| ja.wikivoyage.org        | desktop | 2022-04-06T15:53:51.854Z |\n",
       "| de.wikibooks.org         | desktop | 2022-04-06T16:43:50.775Z |\n",
       "| foundation.wikimedia.org | desktop | 2022-04-06T18:04:36.701Z |\n",
       "| wa.wiktionary.org        | desktop | 2022-04-06T18:19:08.318Z |\n",
       "| meta.wikimedia.org       | desktop | 2022-04-06T19:57:12.001Z |\n",
       "| fr.wikisource.org        | desktop | 2022-04-06T20:32:52.267Z |\n",
       "| de.wiktionary.org        | desktop | 2022-04-06T21:33:03.113Z |\n",
       "| pt.wikiversity.org       | desktop | 2022-04-06T22:41:15.042Z |\n",
       "| fr.wikiquote.org         | desktop | 2022-04-07T02:00:29.605Z |\n",
       "| en.wikisource.org        | desktop | 2022-04-07T04:24:51.054Z |\n",
       "| fa.wikipedia.org         | desktop | 2022-04-07T08:14:36.540Z |\n",
       "| fr.wikipedia.org         | desktop | 2022-04-07T08:16:54.576Z |\n",
       "| ko.wikipedia.org         | desktop | 2022-04-07T08:17:57.554Z |\n",
       "| en.wikipedia.org         | desktop | 2022-04-07T08:20:12.883Z |\n",
       "| de.wikipedia.org         | desktop | 2022-04-07T08:21:06.522Z |\n",
       "| zh.wikipedia.org         | desktop | 2022-04-07T08:21:26.911Z |\n",
       "| ⋮ | ⋮ | ⋮ |\n",
       "| ary.wikipedia.org         | desktop | 2022-04-09T10:37:18.090Z |\n",
       "| hy.wikipedia.org          | desktop | 2022-04-09T16:22:50.601Z |\n",
       "| kk.wikipedia.org          | desktop | 2022-04-09T17:51:07.511Z |\n",
       "| ce.wikipedia.org          | desktop | 2022-04-10T09:14:42.743Z |\n",
       "| pl.wikisource.org         | desktop | 2022-04-10T21:04:09.635Z |\n",
       "| lb.wikipedia.org          | desktop | 2022-04-11T06:18:42.634Z |\n",
       "| simple.wikipedia.org      | desktop | 2022-04-11T09:57:35.272Z |\n",
       "| as.wikipedia.org          | desktop | 2022-04-11T13:58:58.102Z |\n",
       "| fa.wikiquote.org          | desktop | 2022-04-11T14:22:43.653Z |\n",
       "| wikitech.wikimedia.org    | desktop | 2022-04-11T15:21:06.140Z |\n",
       "| en.wikibooks.org          | desktop | 2022-04-11T17:39:20.555Z |\n",
       "| he.wiktionary.org         | desktop | 2022-04-11T21:58:51.582Z |\n",
       "| vec.wikipedia.org         | desktop | 2022-04-12T00:43:08.808Z |\n",
       "| bjn.wikipedia.org         | desktop | 2022-04-12T01:54:04.801Z |\n",
       "| fr.wikivoyage.org         | desktop | 2022-04-12T05:01:19.585Z |\n",
       "| zh.wikipedia.iwiki.eu.org | desktop | 2022-04-12T05:06:24.627Z |\n",
       "| zh.wikivoyage.org         | desktop | 2022-04-12T16:11:02.063Z |\n",
       "| hi.wikipedia.org          | desktop | 2022-04-12T16:53:55.492Z |\n",
       "| ky.wikipedia.org          | desktop | 2022-04-13T01:42:42.225Z |\n",
       "| es.wikiquote.org          | desktop | 2022-04-13T08:26:36.212Z |\n",
       "| mzn.wikipedia.org         | desktop | 2022-04-13T16:31:31.178Z |\n",
       "| it.wikinews.org           | desktop | 2022-04-13T19:30:35.049Z |\n",
       "| fa.wiktionary.org         | desktop | 2022-04-14T10:03:14.500Z |\n",
       "| zh.wikiversity.org        | desktop | 2022-04-14T14:36:31.351Z |\n",
       "| es.wiktionary.org         | desktop | 2022-04-14T16:14:49.693Z |\n",
       "| ca.wikimedia.org          | desktop | 2022-04-14T20:24:13.837Z |\n",
       "| fa.wikibooks.org          | desktop | 2022-04-15T11:05:41.297Z |\n",
       "| id.wikisource.org         | desktop | 2022-04-15T11:22:45.653Z |\n",
       "| cs.wiktionary.org         | desktop | 2022-04-15T12:01:26.553Z |\n",
       "| sk.wikipedia.org          | desktop | 2022-04-15T12:44:16.353Z |\n",
       "\n"
      ],
      "text/plain": [
       "    domain                    access_method first_event_ts          \n",
       "1   www.mediawiki.org         desktop       2022-04-05T08:52:23.286Z\n",
       "2   en.wiktionary.org         desktop       2022-04-06T08:49:59.437Z\n",
       "3   he.wikipedia.org          desktop       2022-04-06T08:54:27.969Z\n",
       "4   ru.wiktionary.org         desktop       2022-04-06T09:02:48.310Z\n",
       "5   www.wikidata.org          desktop       2022-04-06T09:08:50.789Z\n",
       "6   fr.wiktionary.org         desktop       2022-04-06T09:12:44.496Z\n",
       "7   pl.wikibooks.org          desktop       2022-04-06T09:13:19.601Z\n",
       "8   ca.wikipedia.org          desktop       2022-04-06T09:20:24.221Z\n",
       "9   it.wikipedia.org          desktop       2022-04-06T09:28:07.155Z\n",
       "10  tr.wikisource.org         desktop       2022-04-06T10:18:33.914Z\n",
       "11  pl.wikinews.org           desktop       2022-04-06T10:37:59.215Z\n",
       "12  incubator.wikimedia.org   desktop       2022-04-06T11:45:09.432Z\n",
       "13  commons.wikimedia.org     desktop       2022-04-06T12:00:13.387Z\n",
       "14  de.wikivoyage.org         desktop       2022-04-06T14:35:59.653Z\n",
       "15  ja.wikivoyage.org         desktop       2022-04-06T15:53:51.854Z\n",
       "16  de.wikibooks.org          desktop       2022-04-06T16:43:50.775Z\n",
       "17  foundation.wikimedia.org  desktop       2022-04-06T18:04:36.701Z\n",
       "18  wa.wiktionary.org         desktop       2022-04-06T18:19:08.318Z\n",
       "19  meta.wikimedia.org        desktop       2022-04-06T19:57:12.001Z\n",
       "20  fr.wikisource.org         desktop       2022-04-06T20:32:52.267Z\n",
       "21  de.wiktionary.org         desktop       2022-04-06T21:33:03.113Z\n",
       "22  pt.wikiversity.org        desktop       2022-04-06T22:41:15.042Z\n",
       "23  fr.wikiquote.org          desktop       2022-04-07T02:00:29.605Z\n",
       "24  en.wikisource.org         desktop       2022-04-07T04:24:51.054Z\n",
       "25  fa.wikipedia.org          desktop       2022-04-07T08:14:36.540Z\n",
       "26  fr.wikipedia.org          desktop       2022-04-07T08:16:54.576Z\n",
       "27  ko.wikipedia.org          desktop       2022-04-07T08:17:57.554Z\n",
       "28  en.wikipedia.org          desktop       2022-04-07T08:20:12.883Z\n",
       "29  de.wikipedia.org          desktop       2022-04-07T08:21:06.522Z\n",
       "30  zh.wikipedia.org          desktop       2022-04-07T08:21:26.911Z\n",
       "⋮   ⋮                         ⋮             ⋮                       \n",
       "75  ary.wikipedia.org         desktop       2022-04-09T10:37:18.090Z\n",
       "76  hy.wikipedia.org          desktop       2022-04-09T16:22:50.601Z\n",
       "77  kk.wikipedia.org          desktop       2022-04-09T17:51:07.511Z\n",
       "78  ce.wikipedia.org          desktop       2022-04-10T09:14:42.743Z\n",
       "79  pl.wikisource.org         desktop       2022-04-10T21:04:09.635Z\n",
       "80  lb.wikipedia.org          desktop       2022-04-11T06:18:42.634Z\n",
       "81  simple.wikipedia.org      desktop       2022-04-11T09:57:35.272Z\n",
       "82  as.wikipedia.org          desktop       2022-04-11T13:58:58.102Z\n",
       "83  fa.wikiquote.org          desktop       2022-04-11T14:22:43.653Z\n",
       "84  wikitech.wikimedia.org    desktop       2022-04-11T15:21:06.140Z\n",
       "85  en.wikibooks.org          desktop       2022-04-11T17:39:20.555Z\n",
       "86  he.wiktionary.org         desktop       2022-04-11T21:58:51.582Z\n",
       "87  vec.wikipedia.org         desktop       2022-04-12T00:43:08.808Z\n",
       "88  bjn.wikipedia.org         desktop       2022-04-12T01:54:04.801Z\n",
       "89  fr.wikivoyage.org         desktop       2022-04-12T05:01:19.585Z\n",
       "90  zh.wikipedia.iwiki.eu.org desktop       2022-04-12T05:06:24.627Z\n",
       "91  zh.wikivoyage.org         desktop       2022-04-12T16:11:02.063Z\n",
       "92  hi.wikipedia.org          desktop       2022-04-12T16:53:55.492Z\n",
       "93  ky.wikipedia.org          desktop       2022-04-13T01:42:42.225Z\n",
       "94  es.wikiquote.org          desktop       2022-04-13T08:26:36.212Z\n",
       "95  mzn.wikipedia.org         desktop       2022-04-13T16:31:31.178Z\n",
       "96  it.wikinews.org           desktop       2022-04-13T19:30:35.049Z\n",
       "97  fa.wiktionary.org         desktop       2022-04-14T10:03:14.500Z\n",
       "98  zh.wikiversity.org        desktop       2022-04-14T14:36:31.351Z\n",
       "99  es.wiktionary.org         desktop       2022-04-14T16:14:49.693Z\n",
       "100 ca.wikimedia.org          desktop       2022-04-14T20:24:13.837Z\n",
       "101 fa.wikibooks.org          desktop       2022-04-15T11:05:41.297Z\n",
       "102 id.wikisource.org         desktop       2022-04-15T11:22:45.653Z\n",
       "103 cs.wiktionary.org         desktop       2022-04-15T12:01:26.553Z\n",
       "104 sk.wikipedia.org          desktop       2022-04-15T12:44:16.353Z"
      ]
     },
     "metadata": {},
     "output_type": "display_data"
    }
   ],
   "source": [
    "df"
   ]
  },
  {
   "cell_type": "markdown",
   "id": "ae7ccf21",
   "metadata": {},
   "source": [
    "__Note:__  \n",
    "\n",
    "- The events of `scroll-to-toc` is avaiable since 2022-04-05 on 104 wikis. \n",
    "- All events are recored as `desktop` access method. \n"
   ]
  },
  {
   "cell_type": "markdown",
   "id": "ca844460",
   "metadata": {},
   "source": [
    "## By wiki"
   ]
  },
  {
   "cell_type": "code",
   "execution_count": 22,
   "id": "02864940",
   "metadata": {},
   "outputs": [],
   "source": [
    "query <- \n",
    "\"\n",
    "SELECT meta.domain,  COUNT(1) AS events,\n",
    "COUNT(DISTINCT web_session_id) AS sessions,\n",
    "COUNT(DISTINCT page_id) AS pages ,\n",
    "min(meta.dt) as first_event_ts\n",
    "FROM  event.mediawiki_web_ui_scroll\n",
    "WHERE year=2022 and month=4\n",
    "AND action='scroll-to-toc'\n",
    "GROUP BY meta.domain\n",
    "ORDER BY events DESC\n",
    "LIMIT 10000\n",
    "\"\n"
   ]
  },
  {
   "cell_type": "code",
   "execution_count": 23,
   "id": "f28b31e6",
   "metadata": {},
   "outputs": [
    {
     "name": "stderr",
     "output_type": "stream",
     "text": [
      "Don't forget to authenticate with Kerberos using kinit\n",
      "\n"
     ]
    }
   ],
   "source": [
    "df <- wmfdata::query_hive(query)"
   ]
  },
  {
   "cell_type": "code",
   "execution_count": 24,
   "id": "ba61e386",
   "metadata": {},
   "outputs": [
    {
     "data": {
      "text/html": [
       "<table class=\"dataframe\">\n",
       "<caption>A data.frame: 104 × 5</caption>\n",
       "<thead>\n",
       "\t<tr><th scope=col>domain</th><th scope=col>events</th><th scope=col>sessions</th><th scope=col>pages</th><th scope=col>first_event_ts</th></tr>\n",
       "\t<tr><th scope=col>&lt;chr&gt;</th><th scope=col>&lt;int&gt;</th><th scope=col>&lt;int&gt;</th><th scope=col>&lt;int&gt;</th><th scope=col>&lt;chr&gt;</th></tr>\n",
       "</thead>\n",
       "<tbody>\n",
       "\t<tr><td>fr.wikipedia.org       </td><td>41418</td><td>10578</td><td>14224</td><td>2022-04-07T08:16:54.576Z</td></tr>\n",
       "\t<tr><td>pt.wikipedia.org       </td><td> 9431</td><td> 2489</td><td> 3257</td><td>2022-04-07T08:38:49.147Z</td></tr>\n",
       "\t<tr><td>he.wikipedia.org       </td><td> 7973</td><td> 1938</td><td> 2732</td><td>2022-04-06T08:54:27.969Z</td></tr>\n",
       "\t<tr><td>fa.wikipedia.org       </td><td> 4907</td><td> 1415</td><td> 1579</td><td>2022-04-07T08:14:36.540Z</td></tr>\n",
       "\t<tr><td>tr.wikipedia.org       </td><td> 4360</td><td> 1189</td><td> 1577</td><td>2022-04-07T08:37:38.907Z</td></tr>\n",
       "\t<tr><td>vi.wikipedia.org       </td><td> 4168</td><td> 1088</td><td> 1342</td><td>2022-04-07T08:22:29.726Z</td></tr>\n",
       "\t<tr><td>ko.wikipedia.org       </td><td> 2879</td><td>  687</td><td>  927</td><td>2022-04-07T08:17:57.554Z</td></tr>\n",
       "\t<tr><td>id.wikipedia.org       </td><td> 2577</td><td>  616</td><td>  793</td><td>2022-04-07T08:30:07.945Z</td></tr>\n",
       "\t<tr><td>th.wikipedia.org       </td><td> 2238</td><td>  519</td><td>  752</td><td>2022-04-07T08:27:22.963Z</td></tr>\n",
       "\t<tr><td>zh.wikipedia.org       </td><td> 1501</td><td>  338</td><td>  566</td><td>2022-04-07T08:21:26.911Z</td></tr>\n",
       "\t<tr><td>de.wikipedia.org       </td><td> 1457</td><td>  286</td><td>  538</td><td>2022-04-07T08:21:06.522Z</td></tr>\n",
       "\t<tr><td>www.mediawiki.org      </td><td> 1369</td><td>  417</td><td>  397</td><td>2022-04-05T08:52:23.286Z</td></tr>\n",
       "\t<tr><td>ja.wikipedia.org       </td><td> 1071</td><td>  220</td><td>  417</td><td>2022-04-07T10:44:27.885Z</td></tr>\n",
       "\t<tr><td>sr.wikipedia.org       </td><td> 1065</td><td>  304</td><td>  406</td><td>2022-04-07T08:22:28.754Z</td></tr>\n",
       "\t<tr><td>en.wikipedia.org       </td><td> 1050</td><td>  366</td><td>  442</td><td>2022-04-07T08:20:12.883Z</td></tr>\n",
       "\t<tr><td>ru.wikipedia.org       </td><td>  949</td><td>  224</td><td>  367</td><td>2022-04-07T08:27:09.573Z</td></tr>\n",
       "\t<tr><td>fr.wiktionary.org      </td><td>  909</td><td>  307</td><td>  476</td><td>2022-04-06T09:12:44.496Z</td></tr>\n",
       "\t<tr><td>eu.wikipedia.org       </td><td>  832</td><td>  167</td><td>  223</td><td>2022-04-07T09:18:19.008Z</td></tr>\n",
       "\t<tr><td>en.wiktionary.org      </td><td>  763</td><td>   78</td><td>  381</td><td>2022-04-06T08:49:59.437Z</td></tr>\n",
       "\t<tr><td>www.wikidata.org       </td><td>  654</td><td>  151</td><td>  471</td><td>2022-04-06T09:08:50.789Z</td></tr>\n",
       "\t<tr><td>bn.wikipedia.org       </td><td>  622</td><td>  161</td><td>  223</td><td>2022-04-07T08:30:46.018Z</td></tr>\n",
       "\t<tr><td>it.wikipedia.org       </td><td>  533</td><td>   96</td><td>  185</td><td>2022-04-06T09:28:07.155Z</td></tr>\n",
       "\t<tr><td>es.wikipedia.org       </td><td>  333</td><td>   67</td><td>  133</td><td>2022-04-07T08:28:23.895Z</td></tr>\n",
       "\t<tr><td>pl.wikipedia.org       </td><td>  329</td><td>   58</td><td>   73</td><td>2022-04-07T08:32:34.485Z</td></tr>\n",
       "\t<tr><td>ar.wikipedia.org       </td><td>  252</td><td>   45</td><td>   81</td><td>2022-04-07T11:30:25.005Z</td></tr>\n",
       "\t<tr><td>sv.wikipedia.org       </td><td>  198</td><td>   30</td><td>   63</td><td>2022-04-07T08:37:20.790Z</td></tr>\n",
       "\t<tr><td>nl.wikipedia.org       </td><td>  170</td><td>   40</td><td>   69</td><td>2022-04-07T12:39:51.146Z</td></tr>\n",
       "\t<tr><td>commons.wikimedia.org  </td><td>  163</td><td>   40</td><td>   41</td><td>2022-04-06T12:00:13.387Z</td></tr>\n",
       "\t<tr><td>incubator.wikimedia.org</td><td>  155</td><td>   51</td><td>   58</td><td>2022-04-06T11:45:09.432Z</td></tr>\n",
       "\t<tr><td>ja.wiktionary.org      </td><td>  142</td><td>    4</td><td>   29</td><td>2022-04-07T09:49:20.780Z</td></tr>\n",
       "\t<tr><td>⋮</td><td>⋮</td><td>⋮</td><td>⋮</td><td>⋮</td></tr>\n",
       "\t<tr><td>ur.wikipedia.org         </td><td>4</td><td>1</td><td>1</td><td>2022-04-08T21:45:49.830Z</td></tr>\n",
       "\t<tr><td>arz.wikipedia.org        </td><td>4</td><td>2</td><td>3</td><td>2022-04-07T21:41:07.664Z</td></tr>\n",
       "\t<tr><td>fa.wiktionary.org        </td><td>3</td><td>1</td><td>1</td><td>2022-04-14T10:03:14.500Z</td></tr>\n",
       "\t<tr><td>et.wikipedia.org         </td><td>3</td><td>2</td><td>2</td><td>2022-04-08T23:17:25.222Z</td></tr>\n",
       "\t<tr><td>zh.wikipedia.iwiki.eu.org</td><td>3</td><td>1</td><td>1</td><td>2022-04-12T05:06:24.627Z</td></tr>\n",
       "\t<tr><td>zh.wikiversity.org       </td><td>3</td><td>1</td><td>1</td><td>2022-04-14T14:36:31.351Z</td></tr>\n",
       "\t<tr><td>de.wikibooks.org         </td><td>3</td><td>2</td><td>2</td><td>2022-04-06T16:43:50.775Z</td></tr>\n",
       "\t<tr><td>vec.wikipedia.org        </td><td>3</td><td>2</td><td>2</td><td>2022-04-12T00:43:08.808Z</td></tr>\n",
       "\t<tr><td>ja.wikibooks.org         </td><td>3</td><td>2</td><td>2</td><td>2022-04-08T08:42:14.721Z</td></tr>\n",
       "\t<tr><td>sk.wikipedia.org         </td><td>2</td><td>1</td><td>1</td><td>2022-04-15T12:44:16.353Z</td></tr>\n",
       "\t<tr><td>fa.wikibooks.org         </td><td>2</td><td>1</td><td>1</td><td>2022-04-15T11:05:41.297Z</td></tr>\n",
       "\t<tr><td>cs.wiktionary.org        </td><td>2</td><td>1</td><td>1</td><td>2022-04-15T12:01:26.553Z</td></tr>\n",
       "\t<tr><td>ky.wikipedia.org         </td><td>2</td><td>1</td><td>1</td><td>2022-04-13T01:42:42.225Z</td></tr>\n",
       "\t<tr><td>pl.wikinews.org          </td><td>2</td><td>1</td><td>1</td><td>2022-04-06T10:37:59.215Z</td></tr>\n",
       "\t<tr><td>simple.wikipedia.org     </td><td>2</td><td>1</td><td>1</td><td>2022-04-11T09:57:35.272Z</td></tr>\n",
       "\t<tr><td>es.wikiquote.org         </td><td>2</td><td>2</td><td>1</td><td>2022-04-13T08:26:36.212Z</td></tr>\n",
       "\t<tr><td>wikitech.wikimedia.org   </td><td>2</td><td>1</td><td>1</td><td>2022-04-11T15:21:06.140Z</td></tr>\n",
       "\t<tr><td>hi.wikipedia.org         </td><td>2</td><td>1</td><td>1</td><td>2022-04-12T16:53:55.492Z</td></tr>\n",
       "\t<tr><td>he.wiktionary.org        </td><td>2</td><td>1</td><td>1</td><td>2022-04-11T21:58:51.582Z</td></tr>\n",
       "\t<tr><td>hy.wikipedia.org         </td><td>2</td><td>2</td><td>2</td><td>2022-04-09T16:22:50.601Z</td></tr>\n",
       "\t<tr><td>mzn.wikipedia.org        </td><td>1</td><td>1</td><td>1</td><td>2022-04-13T16:31:31.178Z</td></tr>\n",
       "\t<tr><td>az.wikipedia.org         </td><td>1</td><td>1</td><td>1</td><td>2022-04-07T11:09:15.898Z</td></tr>\n",
       "\t<tr><td>fr.wikivoyage.org        </td><td>1</td><td>1</td><td>1</td><td>2022-04-12T05:01:19.585Z</td></tr>\n",
       "\t<tr><td>bjn.wikipedia.org        </td><td>1</td><td>1</td><td>1</td><td>2022-04-12T01:54:04.801Z</td></tr>\n",
       "\t<tr><td>pl.wikisource.org        </td><td>1</td><td>1</td><td>1</td><td>2022-04-10T21:04:09.635Z</td></tr>\n",
       "\t<tr><td>diq.wikipedia.org        </td><td>1</td><td>1</td><td>1</td><td>2022-04-09T01:57:27.753Z</td></tr>\n",
       "\t<tr><td>en.wikibooks.org         </td><td>1</td><td>1</td><td>1</td><td>2022-04-11T17:39:20.555Z</td></tr>\n",
       "\t<tr><td>ce.wikipedia.org         </td><td>1</td><td>1</td><td>1</td><td>2022-04-10T09:14:42.743Z</td></tr>\n",
       "\t<tr><td>es.wiktionary.org        </td><td>1</td><td>1</td><td>1</td><td>2022-04-14T16:14:49.693Z</td></tr>\n",
       "\t<tr><td>zh.wikivoyage.org        </td><td>1</td><td>1</td><td>1</td><td>2022-04-12T16:11:02.063Z</td></tr>\n",
       "</tbody>\n",
       "</table>\n"
      ],
      "text/latex": [
       "A data.frame: 104 × 5\n",
       "\\begin{tabular}{lllll}\n",
       " domain & events & sessions & pages & first\\_event\\_ts\\\\\n",
       " <chr> & <int> & <int> & <int> & <chr>\\\\\n",
       "\\hline\n",
       "\t fr.wikipedia.org        & 41418 & 10578 & 14224 & 2022-04-07T08:16:54.576Z\\\\\n",
       "\t pt.wikipedia.org        &  9431 &  2489 &  3257 & 2022-04-07T08:38:49.147Z\\\\\n",
       "\t he.wikipedia.org        &  7973 &  1938 &  2732 & 2022-04-06T08:54:27.969Z\\\\\n",
       "\t fa.wikipedia.org        &  4907 &  1415 &  1579 & 2022-04-07T08:14:36.540Z\\\\\n",
       "\t tr.wikipedia.org        &  4360 &  1189 &  1577 & 2022-04-07T08:37:38.907Z\\\\\n",
       "\t vi.wikipedia.org        &  4168 &  1088 &  1342 & 2022-04-07T08:22:29.726Z\\\\\n",
       "\t ko.wikipedia.org        &  2879 &   687 &   927 & 2022-04-07T08:17:57.554Z\\\\\n",
       "\t id.wikipedia.org        &  2577 &   616 &   793 & 2022-04-07T08:30:07.945Z\\\\\n",
       "\t th.wikipedia.org        &  2238 &   519 &   752 & 2022-04-07T08:27:22.963Z\\\\\n",
       "\t zh.wikipedia.org        &  1501 &   338 &   566 & 2022-04-07T08:21:26.911Z\\\\\n",
       "\t de.wikipedia.org        &  1457 &   286 &   538 & 2022-04-07T08:21:06.522Z\\\\\n",
       "\t www.mediawiki.org       &  1369 &   417 &   397 & 2022-04-05T08:52:23.286Z\\\\\n",
       "\t ja.wikipedia.org        &  1071 &   220 &   417 & 2022-04-07T10:44:27.885Z\\\\\n",
       "\t sr.wikipedia.org        &  1065 &   304 &   406 & 2022-04-07T08:22:28.754Z\\\\\n",
       "\t en.wikipedia.org        &  1050 &   366 &   442 & 2022-04-07T08:20:12.883Z\\\\\n",
       "\t ru.wikipedia.org        &   949 &   224 &   367 & 2022-04-07T08:27:09.573Z\\\\\n",
       "\t fr.wiktionary.org       &   909 &   307 &   476 & 2022-04-06T09:12:44.496Z\\\\\n",
       "\t eu.wikipedia.org        &   832 &   167 &   223 & 2022-04-07T09:18:19.008Z\\\\\n",
       "\t en.wiktionary.org       &   763 &    78 &   381 & 2022-04-06T08:49:59.437Z\\\\\n",
       "\t www.wikidata.org        &   654 &   151 &   471 & 2022-04-06T09:08:50.789Z\\\\\n",
       "\t bn.wikipedia.org        &   622 &   161 &   223 & 2022-04-07T08:30:46.018Z\\\\\n",
       "\t it.wikipedia.org        &   533 &    96 &   185 & 2022-04-06T09:28:07.155Z\\\\\n",
       "\t es.wikipedia.org        &   333 &    67 &   133 & 2022-04-07T08:28:23.895Z\\\\\n",
       "\t pl.wikipedia.org        &   329 &    58 &    73 & 2022-04-07T08:32:34.485Z\\\\\n",
       "\t ar.wikipedia.org        &   252 &    45 &    81 & 2022-04-07T11:30:25.005Z\\\\\n",
       "\t sv.wikipedia.org        &   198 &    30 &    63 & 2022-04-07T08:37:20.790Z\\\\\n",
       "\t nl.wikipedia.org        &   170 &    40 &    69 & 2022-04-07T12:39:51.146Z\\\\\n",
       "\t commons.wikimedia.org   &   163 &    40 &    41 & 2022-04-06T12:00:13.387Z\\\\\n",
       "\t incubator.wikimedia.org &   155 &    51 &    58 & 2022-04-06T11:45:09.432Z\\\\\n",
       "\t ja.wiktionary.org       &   142 &     4 &    29 & 2022-04-07T09:49:20.780Z\\\\\n",
       "\t ⋮ & ⋮ & ⋮ & ⋮ & ⋮\\\\\n",
       "\t ur.wikipedia.org          & 4 & 1 & 1 & 2022-04-08T21:45:49.830Z\\\\\n",
       "\t arz.wikipedia.org         & 4 & 2 & 3 & 2022-04-07T21:41:07.664Z\\\\\n",
       "\t fa.wiktionary.org         & 3 & 1 & 1 & 2022-04-14T10:03:14.500Z\\\\\n",
       "\t et.wikipedia.org          & 3 & 2 & 2 & 2022-04-08T23:17:25.222Z\\\\\n",
       "\t zh.wikipedia.iwiki.eu.org & 3 & 1 & 1 & 2022-04-12T05:06:24.627Z\\\\\n",
       "\t zh.wikiversity.org        & 3 & 1 & 1 & 2022-04-14T14:36:31.351Z\\\\\n",
       "\t de.wikibooks.org          & 3 & 2 & 2 & 2022-04-06T16:43:50.775Z\\\\\n",
       "\t vec.wikipedia.org         & 3 & 2 & 2 & 2022-04-12T00:43:08.808Z\\\\\n",
       "\t ja.wikibooks.org          & 3 & 2 & 2 & 2022-04-08T08:42:14.721Z\\\\\n",
       "\t sk.wikipedia.org          & 2 & 1 & 1 & 2022-04-15T12:44:16.353Z\\\\\n",
       "\t fa.wikibooks.org          & 2 & 1 & 1 & 2022-04-15T11:05:41.297Z\\\\\n",
       "\t cs.wiktionary.org         & 2 & 1 & 1 & 2022-04-15T12:01:26.553Z\\\\\n",
       "\t ky.wikipedia.org          & 2 & 1 & 1 & 2022-04-13T01:42:42.225Z\\\\\n",
       "\t pl.wikinews.org           & 2 & 1 & 1 & 2022-04-06T10:37:59.215Z\\\\\n",
       "\t simple.wikipedia.org      & 2 & 1 & 1 & 2022-04-11T09:57:35.272Z\\\\\n",
       "\t es.wikiquote.org          & 2 & 2 & 1 & 2022-04-13T08:26:36.212Z\\\\\n",
       "\t wikitech.wikimedia.org    & 2 & 1 & 1 & 2022-04-11T15:21:06.140Z\\\\\n",
       "\t hi.wikipedia.org          & 2 & 1 & 1 & 2022-04-12T16:53:55.492Z\\\\\n",
       "\t he.wiktionary.org         & 2 & 1 & 1 & 2022-04-11T21:58:51.582Z\\\\\n",
       "\t hy.wikipedia.org          & 2 & 2 & 2 & 2022-04-09T16:22:50.601Z\\\\\n",
       "\t mzn.wikipedia.org         & 1 & 1 & 1 & 2022-04-13T16:31:31.178Z\\\\\n",
       "\t az.wikipedia.org          & 1 & 1 & 1 & 2022-04-07T11:09:15.898Z\\\\\n",
       "\t fr.wikivoyage.org         & 1 & 1 & 1 & 2022-04-12T05:01:19.585Z\\\\\n",
       "\t bjn.wikipedia.org         & 1 & 1 & 1 & 2022-04-12T01:54:04.801Z\\\\\n",
       "\t pl.wikisource.org         & 1 & 1 & 1 & 2022-04-10T21:04:09.635Z\\\\\n",
       "\t diq.wikipedia.org         & 1 & 1 & 1 & 2022-04-09T01:57:27.753Z\\\\\n",
       "\t en.wikibooks.org          & 1 & 1 & 1 & 2022-04-11T17:39:20.555Z\\\\\n",
       "\t ce.wikipedia.org          & 1 & 1 & 1 & 2022-04-10T09:14:42.743Z\\\\\n",
       "\t es.wiktionary.org         & 1 & 1 & 1 & 2022-04-14T16:14:49.693Z\\\\\n",
       "\t zh.wikivoyage.org         & 1 & 1 & 1 & 2022-04-12T16:11:02.063Z\\\\\n",
       "\\end{tabular}\n"
      ],
      "text/markdown": [
       "\n",
       "A data.frame: 104 × 5\n",
       "\n",
       "| domain &lt;chr&gt; | events &lt;int&gt; | sessions &lt;int&gt; | pages &lt;int&gt; | first_event_ts &lt;chr&gt; |\n",
       "|---|---|---|---|---|\n",
       "| fr.wikipedia.org        | 41418 | 10578 | 14224 | 2022-04-07T08:16:54.576Z |\n",
       "| pt.wikipedia.org        |  9431 |  2489 |  3257 | 2022-04-07T08:38:49.147Z |\n",
       "| he.wikipedia.org        |  7973 |  1938 |  2732 | 2022-04-06T08:54:27.969Z |\n",
       "| fa.wikipedia.org        |  4907 |  1415 |  1579 | 2022-04-07T08:14:36.540Z |\n",
       "| tr.wikipedia.org        |  4360 |  1189 |  1577 | 2022-04-07T08:37:38.907Z |\n",
       "| vi.wikipedia.org        |  4168 |  1088 |  1342 | 2022-04-07T08:22:29.726Z |\n",
       "| ko.wikipedia.org        |  2879 |   687 |   927 | 2022-04-07T08:17:57.554Z |\n",
       "| id.wikipedia.org        |  2577 |   616 |   793 | 2022-04-07T08:30:07.945Z |\n",
       "| th.wikipedia.org        |  2238 |   519 |   752 | 2022-04-07T08:27:22.963Z |\n",
       "| zh.wikipedia.org        |  1501 |   338 |   566 | 2022-04-07T08:21:26.911Z |\n",
       "| de.wikipedia.org        |  1457 |   286 |   538 | 2022-04-07T08:21:06.522Z |\n",
       "| www.mediawiki.org       |  1369 |   417 |   397 | 2022-04-05T08:52:23.286Z |\n",
       "| ja.wikipedia.org        |  1071 |   220 |   417 | 2022-04-07T10:44:27.885Z |\n",
       "| sr.wikipedia.org        |  1065 |   304 |   406 | 2022-04-07T08:22:28.754Z |\n",
       "| en.wikipedia.org        |  1050 |   366 |   442 | 2022-04-07T08:20:12.883Z |\n",
       "| ru.wikipedia.org        |   949 |   224 |   367 | 2022-04-07T08:27:09.573Z |\n",
       "| fr.wiktionary.org       |   909 |   307 |   476 | 2022-04-06T09:12:44.496Z |\n",
       "| eu.wikipedia.org        |   832 |   167 |   223 | 2022-04-07T09:18:19.008Z |\n",
       "| en.wiktionary.org       |   763 |    78 |   381 | 2022-04-06T08:49:59.437Z |\n",
       "| www.wikidata.org        |   654 |   151 |   471 | 2022-04-06T09:08:50.789Z |\n",
       "| bn.wikipedia.org        |   622 |   161 |   223 | 2022-04-07T08:30:46.018Z |\n",
       "| it.wikipedia.org        |   533 |    96 |   185 | 2022-04-06T09:28:07.155Z |\n",
       "| es.wikipedia.org        |   333 |    67 |   133 | 2022-04-07T08:28:23.895Z |\n",
       "| pl.wikipedia.org        |   329 |    58 |    73 | 2022-04-07T08:32:34.485Z |\n",
       "| ar.wikipedia.org        |   252 |    45 |    81 | 2022-04-07T11:30:25.005Z |\n",
       "| sv.wikipedia.org        |   198 |    30 |    63 | 2022-04-07T08:37:20.790Z |\n",
       "| nl.wikipedia.org        |   170 |    40 |    69 | 2022-04-07T12:39:51.146Z |\n",
       "| commons.wikimedia.org   |   163 |    40 |    41 | 2022-04-06T12:00:13.387Z |\n",
       "| incubator.wikimedia.org |   155 |    51 |    58 | 2022-04-06T11:45:09.432Z |\n",
       "| ja.wiktionary.org       |   142 |     4 |    29 | 2022-04-07T09:49:20.780Z |\n",
       "| ⋮ | ⋮ | ⋮ | ⋮ | ⋮ |\n",
       "| ur.wikipedia.org          | 4 | 1 | 1 | 2022-04-08T21:45:49.830Z |\n",
       "| arz.wikipedia.org         | 4 | 2 | 3 | 2022-04-07T21:41:07.664Z |\n",
       "| fa.wiktionary.org         | 3 | 1 | 1 | 2022-04-14T10:03:14.500Z |\n",
       "| et.wikipedia.org          | 3 | 2 | 2 | 2022-04-08T23:17:25.222Z |\n",
       "| zh.wikipedia.iwiki.eu.org | 3 | 1 | 1 | 2022-04-12T05:06:24.627Z |\n",
       "| zh.wikiversity.org        | 3 | 1 | 1 | 2022-04-14T14:36:31.351Z |\n",
       "| de.wikibooks.org          | 3 | 2 | 2 | 2022-04-06T16:43:50.775Z |\n",
       "| vec.wikipedia.org         | 3 | 2 | 2 | 2022-04-12T00:43:08.808Z |\n",
       "| ja.wikibooks.org          | 3 | 2 | 2 | 2022-04-08T08:42:14.721Z |\n",
       "| sk.wikipedia.org          | 2 | 1 | 1 | 2022-04-15T12:44:16.353Z |\n",
       "| fa.wikibooks.org          | 2 | 1 | 1 | 2022-04-15T11:05:41.297Z |\n",
       "| cs.wiktionary.org         | 2 | 1 | 1 | 2022-04-15T12:01:26.553Z |\n",
       "| ky.wikipedia.org          | 2 | 1 | 1 | 2022-04-13T01:42:42.225Z |\n",
       "| pl.wikinews.org           | 2 | 1 | 1 | 2022-04-06T10:37:59.215Z |\n",
       "| simple.wikipedia.org      | 2 | 1 | 1 | 2022-04-11T09:57:35.272Z |\n",
       "| es.wikiquote.org          | 2 | 2 | 1 | 2022-04-13T08:26:36.212Z |\n",
       "| wikitech.wikimedia.org    | 2 | 1 | 1 | 2022-04-11T15:21:06.140Z |\n",
       "| hi.wikipedia.org          | 2 | 1 | 1 | 2022-04-12T16:53:55.492Z |\n",
       "| he.wiktionary.org         | 2 | 1 | 1 | 2022-04-11T21:58:51.582Z |\n",
       "| hy.wikipedia.org          | 2 | 2 | 2 | 2022-04-09T16:22:50.601Z |\n",
       "| mzn.wikipedia.org         | 1 | 1 | 1 | 2022-04-13T16:31:31.178Z |\n",
       "| az.wikipedia.org          | 1 | 1 | 1 | 2022-04-07T11:09:15.898Z |\n",
       "| fr.wikivoyage.org         | 1 | 1 | 1 | 2022-04-12T05:01:19.585Z |\n",
       "| bjn.wikipedia.org         | 1 | 1 | 1 | 2022-04-12T01:54:04.801Z |\n",
       "| pl.wikisource.org         | 1 | 1 | 1 | 2022-04-10T21:04:09.635Z |\n",
       "| diq.wikipedia.org         | 1 | 1 | 1 | 2022-04-09T01:57:27.753Z |\n",
       "| en.wikibooks.org          | 1 | 1 | 1 | 2022-04-11T17:39:20.555Z |\n",
       "| ce.wikipedia.org          | 1 | 1 | 1 | 2022-04-10T09:14:42.743Z |\n",
       "| es.wiktionary.org         | 1 | 1 | 1 | 2022-04-14T16:14:49.693Z |\n",
       "| zh.wikivoyage.org         | 1 | 1 | 1 | 2022-04-12T16:11:02.063Z |\n",
       "\n"
      ],
      "text/plain": [
       "    domain                    events sessions pages first_event_ts          \n",
       "1   fr.wikipedia.org          41418  10578    14224 2022-04-07T08:16:54.576Z\n",
       "2   pt.wikipedia.org           9431   2489     3257 2022-04-07T08:38:49.147Z\n",
       "3   he.wikipedia.org           7973   1938     2732 2022-04-06T08:54:27.969Z\n",
       "4   fa.wikipedia.org           4907   1415     1579 2022-04-07T08:14:36.540Z\n",
       "5   tr.wikipedia.org           4360   1189     1577 2022-04-07T08:37:38.907Z\n",
       "6   vi.wikipedia.org           4168   1088     1342 2022-04-07T08:22:29.726Z\n",
       "7   ko.wikipedia.org           2879    687      927 2022-04-07T08:17:57.554Z\n",
       "8   id.wikipedia.org           2577    616      793 2022-04-07T08:30:07.945Z\n",
       "9   th.wikipedia.org           2238    519      752 2022-04-07T08:27:22.963Z\n",
       "10  zh.wikipedia.org           1501    338      566 2022-04-07T08:21:26.911Z\n",
       "11  de.wikipedia.org           1457    286      538 2022-04-07T08:21:06.522Z\n",
       "12  www.mediawiki.org          1369    417      397 2022-04-05T08:52:23.286Z\n",
       "13  ja.wikipedia.org           1071    220      417 2022-04-07T10:44:27.885Z\n",
       "14  sr.wikipedia.org           1065    304      406 2022-04-07T08:22:28.754Z\n",
       "15  en.wikipedia.org           1050    366      442 2022-04-07T08:20:12.883Z\n",
       "16  ru.wikipedia.org            949    224      367 2022-04-07T08:27:09.573Z\n",
       "17  fr.wiktionary.org           909    307      476 2022-04-06T09:12:44.496Z\n",
       "18  eu.wikipedia.org            832    167      223 2022-04-07T09:18:19.008Z\n",
       "19  en.wiktionary.org           763     78      381 2022-04-06T08:49:59.437Z\n",
       "20  www.wikidata.org            654    151      471 2022-04-06T09:08:50.789Z\n",
       "21  bn.wikipedia.org            622    161      223 2022-04-07T08:30:46.018Z\n",
       "22  it.wikipedia.org            533     96      185 2022-04-06T09:28:07.155Z\n",
       "23  es.wikipedia.org            333     67      133 2022-04-07T08:28:23.895Z\n",
       "24  pl.wikipedia.org            329     58       73 2022-04-07T08:32:34.485Z\n",
       "25  ar.wikipedia.org            252     45       81 2022-04-07T11:30:25.005Z\n",
       "26  sv.wikipedia.org            198     30       63 2022-04-07T08:37:20.790Z\n",
       "27  nl.wikipedia.org            170     40       69 2022-04-07T12:39:51.146Z\n",
       "28  commons.wikimedia.org       163     40       41 2022-04-06T12:00:13.387Z\n",
       "29  incubator.wikimedia.org     155     51       58 2022-04-06T11:45:09.432Z\n",
       "30  ja.wiktionary.org           142      4       29 2022-04-07T09:49:20.780Z\n",
       "⋮   ⋮                         ⋮      ⋮        ⋮     ⋮                       \n",
       "75  ur.wikipedia.org          4      1        1     2022-04-08T21:45:49.830Z\n",
       "76  arz.wikipedia.org         4      2        3     2022-04-07T21:41:07.664Z\n",
       "77  fa.wiktionary.org         3      1        1     2022-04-14T10:03:14.500Z\n",
       "78  et.wikipedia.org          3      2        2     2022-04-08T23:17:25.222Z\n",
       "79  zh.wikipedia.iwiki.eu.org 3      1        1     2022-04-12T05:06:24.627Z\n",
       "80  zh.wikiversity.org        3      1        1     2022-04-14T14:36:31.351Z\n",
       "81  de.wikibooks.org          3      2        2     2022-04-06T16:43:50.775Z\n",
       "82  vec.wikipedia.org         3      2        2     2022-04-12T00:43:08.808Z\n",
       "83  ja.wikibooks.org          3      2        2     2022-04-08T08:42:14.721Z\n",
       "84  sk.wikipedia.org          2      1        1     2022-04-15T12:44:16.353Z\n",
       "85  fa.wikibooks.org          2      1        1     2022-04-15T11:05:41.297Z\n",
       "86  cs.wiktionary.org         2      1        1     2022-04-15T12:01:26.553Z\n",
       "87  ky.wikipedia.org          2      1        1     2022-04-13T01:42:42.225Z\n",
       "88  pl.wikinews.org           2      1        1     2022-04-06T10:37:59.215Z\n",
       "89  simple.wikipedia.org      2      1        1     2022-04-11T09:57:35.272Z\n",
       "90  es.wikiquote.org          2      2        1     2022-04-13T08:26:36.212Z\n",
       "91  wikitech.wikimedia.org    2      1        1     2022-04-11T15:21:06.140Z\n",
       "92  hi.wikipedia.org          2      1        1     2022-04-12T16:53:55.492Z\n",
       "93  he.wiktionary.org         2      1        1     2022-04-11T21:58:51.582Z\n",
       "94  hy.wikipedia.org          2      2        2     2022-04-09T16:22:50.601Z\n",
       "95  mzn.wikipedia.org         1      1        1     2022-04-13T16:31:31.178Z\n",
       "96  az.wikipedia.org          1      1        1     2022-04-07T11:09:15.898Z\n",
       "97  fr.wikivoyage.org         1      1        1     2022-04-12T05:01:19.585Z\n",
       "98  bjn.wikipedia.org         1      1        1     2022-04-12T01:54:04.801Z\n",
       "99  pl.wikisource.org         1      1        1     2022-04-10T21:04:09.635Z\n",
       "100 diq.wikipedia.org         1      1        1     2022-04-09T01:57:27.753Z\n",
       "101 en.wikibooks.org          1      1        1     2022-04-11T17:39:20.555Z\n",
       "102 ce.wikipedia.org          1      1        1     2022-04-10T09:14:42.743Z\n",
       "103 es.wiktionary.org         1      1        1     2022-04-14T16:14:49.693Z\n",
       "104 zh.wikivoyage.org         1      1        1     2022-04-12T16:11:02.063Z"
      ]
     },
     "metadata": {},
     "output_type": "display_data"
    }
   ],
   "source": [
    "df"
   ]
  },
  {
   "cell_type": "markdown",
   "id": "c9367da0",
   "metadata": {},
   "source": [
    "__Note:__  \n",
    "\n",
    "- fr.wikipedia.org has most `scroll-to-toc` events and sessions, 4.25 times of the 2nd place pt.wikipedia.org. Need to check the sample rate. "
   ]
  },
  {
   "cell_type": "markdown",
   "id": "d13d7e87",
   "metadata": {},
   "source": [
    "__Edits by logged-in users by wikis__\n",
    "\n",
    "scoll-to-toc is only enabled on logged-in users. We'd like to compare the traffic to edits by logged-in users on each wikis."
   ]
  },
  {
   "cell_type": "code",
   "execution_count": 7,
   "id": "267718bf",
   "metadata": {},
   "outputs": [],
   "source": [
    "query_edits <-\n",
    "\"\n",
    "SELECT\n",
    "   database_code,domain_name,\n",
    "   SUM(IF(user_is_anonymous, 0, edit_count)) AS logged_in_edits, SUM(edit_count)  AS total_non_bot_edits\n",
    "FROM wmf.edit_hourly\n",
    "INNER JOIN canonical_data.wikis ON CONCAT(project,'.org') = domain_name\n",
    "AND domain_name IN ('fr.wikipedia.org',\n",
    "'pt.wikipedia.org',\n",
    "'he.wikipedia.org',\n",
    "'fa.wikipedia.org',\n",
    "'tr.wikipedia.org',\n",
    "'vi.wikipedia.org',\n",
    "'ko.wikipedia.org' )\n",
    "WHERE\n",
    "    ts >= '2022-03-01'\n",
    "   AND ts < '2022-04-01'\n",
    "   AND NOT user_is_bot\n",
    "   AND snapshot = '2022-03'\n",
    "GROUP BY database_code, domain_name\n",
    "ORDER BY logged_in_edits DESC\n",
    "LIMIT 10000\n",
    "\""
   ]
  },
  {
   "cell_type": "code",
   "execution_count": 8,
   "id": "20977f01",
   "metadata": {},
   "outputs": [
    {
     "name": "stderr",
     "output_type": "stream",
     "text": [
      "Don't forget to authenticate with Kerberos using kinit\n",
      "\n"
     ]
    }
   ],
   "source": [
    "df_edits <- wmfdata::query_hive(query_edits)"
   ]
  },
  {
   "cell_type": "code",
   "execution_count": 9,
   "id": "e2964498",
   "metadata": {},
   "outputs": [
    {
     "data": {
      "text/html": [
       "<table class=\"dataframe\">\n",
       "<caption>A data.frame: 7 × 4</caption>\n",
       "<thead>\n",
       "\t<tr><th scope=col>database_code</th><th scope=col>domain_name</th><th scope=col>logged_in_edits</th><th scope=col>total_non_bot_edits</th></tr>\n",
       "\t<tr><th scope=col>&lt;chr&gt;</th><th scope=col>&lt;chr&gt;</th><th scope=col>&lt;int&gt;</th><th scope=col>&lt;int&gt;</th></tr>\n",
       "</thead>\n",
       "<tbody>\n",
       "\t<tr><td>frwiki</td><td>fr.wikipedia.org</td><td>664414</td><td>753326</td></tr>\n",
       "\t<tr><td>ptwiki</td><td>pt.wikipedia.org</td><td>181000</td><td>181572</td></tr>\n",
       "\t<tr><td>fawiki</td><td>fa.wikipedia.org</td><td>155959</td><td>156573</td></tr>\n",
       "\t<tr><td>hewiki</td><td>he.wikipedia.org</td><td>152557</td><td>176318</td></tr>\n",
       "\t<tr><td>kowiki</td><td>ko.wikipedia.org</td><td>113677</td><td>164669</td></tr>\n",
       "\t<tr><td>trwiki</td><td>tr.wikipedia.org</td><td>110095</td><td>122729</td></tr>\n",
       "\t<tr><td>viwiki</td><td>vi.wikipedia.org</td><td>100218</td><td>125267</td></tr>\n",
       "</tbody>\n",
       "</table>\n"
      ],
      "text/latex": [
       "A data.frame: 7 × 4\n",
       "\\begin{tabular}{llll}\n",
       " database\\_code & domain\\_name & logged\\_in\\_edits & total\\_non\\_bot\\_edits\\\\\n",
       " <chr> & <chr> & <int> & <int>\\\\\n",
       "\\hline\n",
       "\t frwiki & fr.wikipedia.org & 664414 & 753326\\\\\n",
       "\t ptwiki & pt.wikipedia.org & 181000 & 181572\\\\\n",
       "\t fawiki & fa.wikipedia.org & 155959 & 156573\\\\\n",
       "\t hewiki & he.wikipedia.org & 152557 & 176318\\\\\n",
       "\t kowiki & ko.wikipedia.org & 113677 & 164669\\\\\n",
       "\t trwiki & tr.wikipedia.org & 110095 & 122729\\\\\n",
       "\t viwiki & vi.wikipedia.org & 100218 & 125267\\\\\n",
       "\\end{tabular}\n"
      ],
      "text/markdown": [
       "\n",
       "A data.frame: 7 × 4\n",
       "\n",
       "| database_code &lt;chr&gt; | domain_name &lt;chr&gt; | logged_in_edits &lt;int&gt; | total_non_bot_edits &lt;int&gt; |\n",
       "|---|---|---|---|\n",
       "| frwiki | fr.wikipedia.org | 664414 | 753326 |\n",
       "| ptwiki | pt.wikipedia.org | 181000 | 181572 |\n",
       "| fawiki | fa.wikipedia.org | 155959 | 156573 |\n",
       "| hewiki | he.wikipedia.org | 152557 | 176318 |\n",
       "| kowiki | ko.wikipedia.org | 113677 | 164669 |\n",
       "| trwiki | tr.wikipedia.org | 110095 | 122729 |\n",
       "| viwiki | vi.wikipedia.org | 100218 | 125267 |\n",
       "\n"
      ],
      "text/plain": [
       "  database_code domain_name      logged_in_edits total_non_bot_edits\n",
       "1 frwiki        fr.wikipedia.org 664414          753326             \n",
       "2 ptwiki        pt.wikipedia.org 181000          181572             \n",
       "3 fawiki        fa.wikipedia.org 155959          156573             \n",
       "4 hewiki        he.wikipedia.org 152557          176318             \n",
       "5 kowiki        ko.wikipedia.org 113677          164669             \n",
       "6 trwiki        tr.wikipedia.org 110095          122729             \n",
       "7 viwiki        vi.wikipedia.org 100218          125267             "
      ]
     },
     "metadata": {},
     "output_type": "display_data"
    }
   ],
   "source": [
    "df_edits"
   ]
  },
  {
   "cell_type": "markdown",
   "id": "cf524f4d",
   "metadata": {},
   "source": [
    "## By anonymous user"
   ]
  },
  {
   "cell_type": "markdown",
   "id": "6b08bd00",
   "metadata": {},
   "source": [
    "QAed on 2022-04-20"
   ]
  },
  {
   "cell_type": "code",
   "execution_count": 81,
   "id": "118db88e",
   "metadata": {},
   "outputs": [],
   "source": [
    "query <- \n",
    "\"\n",
    "select is_anon, COUNT(1) AS events,\n",
    "COUNT(DISTINCT web_session_id) AS sessions,\n",
    "COUNT(DISTINCT page_id) AS pages\n",
    "FROM event.mediawiki_web_ui_scroll\n",
    "WHERE year=2022 and month=4\n",
    "AND action='scroll-to-toc'\n",
    "GROUP BY is_anon\n",
    "\""
   ]
  },
  {
   "cell_type": "code",
   "execution_count": 82,
   "id": "00005ae0",
   "metadata": {},
   "outputs": [
    {
     "name": "stderr",
     "output_type": "stream",
     "text": [
      "Don't forget to authenticate with Kerberos using kinit\n",
      "\n"
     ]
    }
   ],
   "source": [
    "df <- wmfdata::query_hive(query)"
   ]
  },
  {
   "cell_type": "code",
   "execution_count": 83,
   "id": "8eb08b7c",
   "metadata": {},
   "outputs": [
    {
     "data": {
      "text/html": [
       "<table class=\"dataframe\">\n",
       "<caption>A data.frame: 1 × 4</caption>\n",
       "<thead>\n",
       "\t<tr><th scope=col>is_anon</th><th scope=col>events</th><th scope=col>sessions</th><th scope=col>pages</th></tr>\n",
       "\t<tr><th scope=col>&lt;chr&gt;</th><th scope=col>&lt;int&gt;</th><th scope=col>&lt;int&gt;</th><th scope=col>&lt;int&gt;</th></tr>\n",
       "</thead>\n",
       "<tbody>\n",
       "\t<tr><td>false</td><td>148746</td><td>36813</td><td>49566</td></tr>\n",
       "</tbody>\n",
       "</table>\n"
      ],
      "text/latex": [
       "A data.frame: 1 × 4\n",
       "\\begin{tabular}{llll}\n",
       " is\\_anon & events & sessions & pages\\\\\n",
       " <chr> & <int> & <int> & <int>\\\\\n",
       "\\hline\n",
       "\t false & 148746 & 36813 & 49566\\\\\n",
       "\\end{tabular}\n"
      ],
      "text/markdown": [
       "\n",
       "A data.frame: 1 × 4\n",
       "\n",
       "| is_anon &lt;chr&gt; | events &lt;int&gt; | sessions &lt;int&gt; | pages &lt;int&gt; |\n",
       "|---|---|---|---|\n",
       "| false | 148746 | 36813 | 49566 |\n",
       "\n"
      ],
      "text/plain": [
       "  is_anon events sessions pages\n",
       "1 false   148746 36813    49566"
      ]
     },
     "metadata": {},
     "output_type": "display_data"
    }
   ],
   "source": [
    "df"
   ]
  },
  {
   "cell_type": "markdown",
   "id": "3ba56ef9",
   "metadata": {},
   "source": [
    "__Note:__ \n",
    "\n",
    "Only enabled on logged-in user"
   ]
  },
  {
   "cell_type": "markdown",
   "id": "986e5717",
   "metadata": {},
   "source": [
    "QAed on 2022-05-02"
   ]
  },
  {
   "cell_type": "code",
   "execution_count": 10,
   "id": "5705a703",
   "metadata": {},
   "outputs": [],
   "source": [
    "query <- \n",
    "\"\n",
    "select is_anon, COUNT(1) AS events,\n",
    "COUNT(DISTINCT web_session_id) AS sessions,\n",
    "COUNT(DISTINCT page_id) AS pages\n",
    "FROM event.mediawiki_web_ui_scroll\n",
    "WHERE year=2022 and month IN (4,5)\n",
    "AND action='scroll-to-toc'\n",
    "GROUP BY is_anon\n",
    "\""
   ]
  },
  {
   "cell_type": "code",
   "execution_count": 11,
   "id": "f39583ab",
   "metadata": {},
   "outputs": [
    {
     "name": "stderr",
     "output_type": "stream",
     "text": [
      "Don't forget to authenticate with Kerberos using kinit\n",
      "\n"
     ]
    }
   ],
   "source": [
    "df <- wmfdata::query_hive(query)"
   ]
  },
  {
   "cell_type": "code",
   "execution_count": 12,
   "id": "026ed4cf",
   "metadata": {},
   "outputs": [
    {
     "data": {
      "text/html": [
       "<table class=\"dataframe\">\n",
       "<caption>A data.frame: 2 × 4</caption>\n",
       "<thead>\n",
       "\t<tr><th scope=col>is_anon</th><th scope=col>events</th><th scope=col>sessions</th><th scope=col>pages</th></tr>\n",
       "\t<tr><th scope=col>&lt;chr&gt;</th><th scope=col>&lt;int&gt;</th><th scope=col>&lt;int&gt;</th><th scope=col>&lt;int&gt;</th></tr>\n",
       "</thead>\n",
       "<tbody>\n",
       "\t<tr><td>false</td><td>1064917</td><td> 127126</td><td>238458</td></tr>\n",
       "\t<tr><td>true </td><td>4016669</td><td>1606333</td><td>534856</td></tr>\n",
       "</tbody>\n",
       "</table>\n"
      ],
      "text/latex": [
       "A data.frame: 2 × 4\n",
       "\\begin{tabular}{llll}\n",
       " is\\_anon & events & sessions & pages\\\\\n",
       " <chr> & <int> & <int> & <int>\\\\\n",
       "\\hline\n",
       "\t false & 1064917 &  127126 & 238458\\\\\n",
       "\t true  & 4016669 & 1606333 & 534856\\\\\n",
       "\\end{tabular}\n"
      ],
      "text/markdown": [
       "\n",
       "A data.frame: 2 × 4\n",
       "\n",
       "| is_anon &lt;chr&gt; | events &lt;int&gt; | sessions &lt;int&gt; | pages &lt;int&gt; |\n",
       "|---|---|---|---|\n",
       "| false | 1064917 |  127126 | 238458 |\n",
       "| true  | 4016669 | 1606333 | 534856 |\n",
       "\n"
      ],
      "text/plain": [
       "  is_anon events  sessions pages \n",
       "1 false   1064917  127126  238458\n",
       "2 true    4016669 1606333  534856"
      ]
     },
     "metadata": {},
     "output_type": "display_data"
    }
   ],
   "source": [
    "df"
   ]
  },
  {
   "cell_type": "markdown",
   "id": "5204a495",
   "metadata": {},
   "source": [
    "__Note:__ \n",
    "\n",
    "Enabled on logged-in users and anonymous users on 2022-05-02"
   ]
  },
  {
   "cell_type": "markdown",
   "id": "eefb38e1",
   "metadata": {},
   "source": [
    "## By agent type"
   ]
  },
  {
   "cell_type": "code",
   "execution_count": 90,
   "id": "f26f0e5b",
   "metadata": {},
   "outputs": [],
   "source": [
    "query <- \n",
    "\"\n",
    "select COUNT(1) AS events,\n",
    "COUNT(DISTINCT web_session_id) AS sessions,\n",
    "COUNT(DISTINCT page_id) AS pages\n",
    "FROM event.mediawiki_web_ui_scroll\n",
    "WHERE year=2022 and month=4\n",
    "AND action='scroll-to-toc'\n",
    "AND user_agent_map['device_family']='Spider' \n",
    "\""
   ]
  },
  {
   "cell_type": "code",
   "execution_count": 91,
   "id": "9afbe531",
   "metadata": {},
   "outputs": [
    {
     "name": "stderr",
     "output_type": "stream",
     "text": [
      "Don't forget to authenticate with Kerberos using kinit\n",
      "\n"
     ]
    }
   ],
   "source": [
    "df <- wmfdata::query_hive(query)\n"
   ]
  },
  {
   "cell_type": "code",
   "execution_count": 92,
   "id": "3c435e4c",
   "metadata": {},
   "outputs": [
    {
     "data": {
      "text/html": [
       "<table class=\"dataframe\">\n",
       "<caption>A data.frame: 1 × 3</caption>\n",
       "<thead>\n",
       "\t<tr><th scope=col>events</th><th scope=col>sessions</th><th scope=col>pages</th></tr>\n",
       "\t<tr><th scope=col>&lt;int&gt;</th><th scope=col>&lt;int&gt;</th><th scope=col>&lt;int&gt;</th></tr>\n",
       "</thead>\n",
       "<tbody>\n",
       "\t<tr><td>0</td><td>0</td><td>0</td></tr>\n",
       "</tbody>\n",
       "</table>\n"
      ],
      "text/latex": [
       "A data.frame: 1 × 3\n",
       "\\begin{tabular}{lll}\n",
       " events & sessions & pages\\\\\n",
       " <int> & <int> & <int>\\\\\n",
       "\\hline\n",
       "\t 0 & 0 & 0\\\\\n",
       "\\end{tabular}\n"
      ],
      "text/markdown": [
       "\n",
       "A data.frame: 1 × 3\n",
       "\n",
       "| events &lt;int&gt; | sessions &lt;int&gt; | pages &lt;int&gt; |\n",
       "|---|---|---|\n",
       "| 0 | 0 | 0 |\n",
       "\n"
      ],
      "text/plain": [
       "  events sessions pages\n",
       "1 0      0        0    "
      ]
     },
     "metadata": {},
     "output_type": "display_data"
    }
   ],
   "source": [
    "df"
   ]
  },
  {
   "cell_type": "code",
   "execution_count": 95,
   "id": "c60bf1bb",
   "metadata": {},
   "outputs": [],
   "source": [
    "query <- \n",
    "\"\n",
    "select action, COUNT(1) AS events,\n",
    "COUNT(DISTINCT web_session_id) AS sessions,\n",
    "COUNT(DISTINCT page_id) AS pages\n",
    "FROM event.mediawiki_web_ui_scroll\n",
    "WHERE year=2022 and month=4\n",
    "AND user_agent_map['device_family']='Spider' \n",
    "GROUP BY action\n",
    "\""
   ]
  },
  {
   "cell_type": "code",
   "execution_count": 96,
   "id": "ce11fdb8",
   "metadata": {},
   "outputs": [
    {
     "name": "stderr",
     "output_type": "stream",
     "text": [
      "Don't forget to authenticate with Kerberos using kinit\n",
      "\n"
     ]
    }
   ],
   "source": [
    "df <- wmfdata::query_hive(query)\n"
   ]
  },
  {
   "cell_type": "code",
   "execution_count": 97,
   "id": "3018b31b",
   "metadata": {},
   "outputs": [
    {
     "data": {
      "text/html": [
       "<table class=\"dataframe\">\n",
       "<caption>A data.frame: 1 × 4</caption>\n",
       "<thead>\n",
       "\t<tr><th scope=col>action</th><th scope=col>events</th><th scope=col>sessions</th><th scope=col>pages</th></tr>\n",
       "\t<tr><th scope=col>&lt;chr&gt;</th><th scope=col>&lt;int&gt;</th><th scope=col>&lt;int&gt;</th><th scope=col>&lt;int&gt;</th></tr>\n",
       "</thead>\n",
       "<tbody>\n",
       "\t<tr><td>scroll-to-top</td><td>9</td><td>5</td><td>5</td></tr>\n",
       "</tbody>\n",
       "</table>\n"
      ],
      "text/latex": [
       "A data.frame: 1 × 4\n",
       "\\begin{tabular}{llll}\n",
       " action & events & sessions & pages\\\\\n",
       " <chr> & <int> & <int> & <int>\\\\\n",
       "\\hline\n",
       "\t scroll-to-top & 9 & 5 & 5\\\\\n",
       "\\end{tabular}\n"
      ],
      "text/markdown": [
       "\n",
       "A data.frame: 1 × 4\n",
       "\n",
       "| action &lt;chr&gt; | events &lt;int&gt; | sessions &lt;int&gt; | pages &lt;int&gt; |\n",
       "|---|---|---|---|\n",
       "| scroll-to-top | 9 | 5 | 5 |\n",
       "\n"
      ],
      "text/plain": [
       "  action        events sessions pages\n",
       "1 scroll-to-top 9      5        5    "
      ]
     },
     "metadata": {},
     "output_type": "display_data"
    }
   ],
   "source": [
    "df"
   ]
  },
  {
   "cell_type": "markdown",
   "id": "9219575e",
   "metadata": {},
   "source": [
    "__Note:__  \n",
    "\n",
    "Do not find any `scroll-to-toc` events from `spider`."
   ]
  },
  {
   "cell_type": "markdown",
   "id": "c8b9f271",
   "metadata": {},
   "source": [
    "## By Date"
   ]
  },
  {
   "cell_type": "code",
   "execution_count": 4,
   "id": "af511481",
   "metadata": {},
   "outputs": [],
   "source": [
    "query <-\n",
    "\"\n",
    "SELECT TO_DATE(meta.dt) as date_time, COUNT(1) AS events,\n",
    "COUNT(DISTINCT web_session_id) AS sessions,\n",
    "COUNT(DISTINCT page_id) AS pages\n",
    "FROM  event.mediawiki_web_ui_scroll\n",
    "WHERE year=2022 and month=4\n",
    "AND action='scroll-to-toc'\n",
    "AND meta.domain='he.wikipedia.org' \n",
    "GROUP BY TO_DATE(meta.dt) \n",
    "ORDER BY date_time\n",
    "LIMIT 100000\n",
    "\""
   ]
  },
  {
   "cell_type": "code",
   "execution_count": 5,
   "id": "9171162b",
   "metadata": {},
   "outputs": [
    {
     "name": "stderr",
     "output_type": "stream",
     "text": [
      "Don't forget to authenticate with Kerberos using kinit\n",
      "\n"
     ]
    }
   ],
   "source": [
    "df_date <- wmfdata::query_hive(query)"
   ]
  },
  {
   "cell_type": "code",
   "execution_count": 6,
   "id": "8b9bda5e",
   "metadata": {},
   "outputs": [
    {
     "data": {
      "text/html": [
       "<table class=\"dataframe\">\n",
       "<caption>A data.frame: 25 × 4</caption>\n",
       "<thead>\n",
       "\t<tr><th scope=col>date_time</th><th scope=col>events</th><th scope=col>sessions</th><th scope=col>pages</th></tr>\n",
       "\t<tr><th scope=col>&lt;chr&gt;</th><th scope=col>&lt;int&gt;</th><th scope=col>&lt;int&gt;</th><th scope=col>&lt;int&gt;</th></tr>\n",
       "</thead>\n",
       "<tbody>\n",
       "\t<tr><td>2022-04-06</td><td>  661</td><td>  204</td><td>  261</td></tr>\n",
       "\t<tr><td>2022-04-07</td><td>  854</td><td>  249</td><td>  321</td></tr>\n",
       "\t<tr><td>2022-04-08</td><td>  780</td><td>  221</td><td>  280</td></tr>\n",
       "\t<tr><td>2022-04-09</td><td>  690</td><td>  211</td><td>  283</td></tr>\n",
       "\t<tr><td>2022-04-10</td><td>  964</td><td>  265</td><td>  364</td></tr>\n",
       "\t<tr><td>2022-04-11</td><td>  972</td><td>  296</td><td>  380</td></tr>\n",
       "\t<tr><td>2022-04-12</td><td>  862</td><td>  278</td><td>  357</td></tr>\n",
       "\t<tr><td>2022-04-13</td><td>  844</td><td>  252</td><td>  345</td></tr>\n",
       "\t<tr><td>2022-04-14</td><td>  836</td><td>  244</td><td>  320</td></tr>\n",
       "\t<tr><td>2022-04-15</td><td>  549</td><td>  170</td><td>  237</td></tr>\n",
       "\t<tr><td>2022-04-16</td><td>  666</td><td>  191</td><td>  271</td></tr>\n",
       "\t<tr><td>2022-04-17</td><td>  843</td><td>  258</td><td>  328</td></tr>\n",
       "\t<tr><td>2022-04-18</td><td>  937</td><td>  271</td><td>  365</td></tr>\n",
       "\t<tr><td>2022-04-19</td><td>  984</td><td>  264</td><td>  377</td></tr>\n",
       "\t<tr><td>2022-04-20</td><td>  821</td><td>  251</td><td>  336</td></tr>\n",
       "\t<tr><td>2022-04-21</td><td>  762</td><td>  233</td><td>  298</td></tr>\n",
       "\t<tr><td>2022-04-22</td><td>  650</td><td>  191</td><td>  262</td></tr>\n",
       "\t<tr><td>2022-04-23</td><td>  806</td><td>  229</td><td>  317</td></tr>\n",
       "\t<tr><td>2022-04-24</td><td>  893</td><td>  291</td><td>  376</td></tr>\n",
       "\t<tr><td>2022-04-25</td><td> 2262</td><td>  700</td><td>  876</td></tr>\n",
       "\t<tr><td>2022-04-26</td><td>33761</td><td>11703</td><td>10599</td></tr>\n",
       "\t<tr><td>2022-04-27</td><td>31375</td><td>12153</td><td>10745</td></tr>\n",
       "\t<tr><td>2022-04-28</td><td>29347</td><td>11393</td><td>10328</td></tr>\n",
       "\t<tr><td>2022-04-29</td><td>18249</td><td> 6769</td><td> 7177</td></tr>\n",
       "\t<tr><td>2022-04-30</td><td>23090</td><td> 8311</td><td> 8592</td></tr>\n",
       "</tbody>\n",
       "</table>\n"
      ],
      "text/latex": [
       "A data.frame: 25 × 4\n",
       "\\begin{tabular}{llll}\n",
       " date\\_time & events & sessions & pages\\\\\n",
       " <chr> & <int> & <int> & <int>\\\\\n",
       "\\hline\n",
       "\t 2022-04-06 &   661 &   204 &   261\\\\\n",
       "\t 2022-04-07 &   854 &   249 &   321\\\\\n",
       "\t 2022-04-08 &   780 &   221 &   280\\\\\n",
       "\t 2022-04-09 &   690 &   211 &   283\\\\\n",
       "\t 2022-04-10 &   964 &   265 &   364\\\\\n",
       "\t 2022-04-11 &   972 &   296 &   380\\\\\n",
       "\t 2022-04-12 &   862 &   278 &   357\\\\\n",
       "\t 2022-04-13 &   844 &   252 &   345\\\\\n",
       "\t 2022-04-14 &   836 &   244 &   320\\\\\n",
       "\t 2022-04-15 &   549 &   170 &   237\\\\\n",
       "\t 2022-04-16 &   666 &   191 &   271\\\\\n",
       "\t 2022-04-17 &   843 &   258 &   328\\\\\n",
       "\t 2022-04-18 &   937 &   271 &   365\\\\\n",
       "\t 2022-04-19 &   984 &   264 &   377\\\\\n",
       "\t 2022-04-20 &   821 &   251 &   336\\\\\n",
       "\t 2022-04-21 &   762 &   233 &   298\\\\\n",
       "\t 2022-04-22 &   650 &   191 &   262\\\\\n",
       "\t 2022-04-23 &   806 &   229 &   317\\\\\n",
       "\t 2022-04-24 &   893 &   291 &   376\\\\\n",
       "\t 2022-04-25 &  2262 &   700 &   876\\\\\n",
       "\t 2022-04-26 & 33761 & 11703 & 10599\\\\\n",
       "\t 2022-04-27 & 31375 & 12153 & 10745\\\\\n",
       "\t 2022-04-28 & 29347 & 11393 & 10328\\\\\n",
       "\t 2022-04-29 & 18249 &  6769 &  7177\\\\\n",
       "\t 2022-04-30 & 23090 &  8311 &  8592\\\\\n",
       "\\end{tabular}\n"
      ],
      "text/markdown": [
       "\n",
       "A data.frame: 25 × 4\n",
       "\n",
       "| date_time &lt;chr&gt; | events &lt;int&gt; | sessions &lt;int&gt; | pages &lt;int&gt; |\n",
       "|---|---|---|---|\n",
       "| 2022-04-06 |   661 |   204 |   261 |\n",
       "| 2022-04-07 |   854 |   249 |   321 |\n",
       "| 2022-04-08 |   780 |   221 |   280 |\n",
       "| 2022-04-09 |   690 |   211 |   283 |\n",
       "| 2022-04-10 |   964 |   265 |   364 |\n",
       "| 2022-04-11 |   972 |   296 |   380 |\n",
       "| 2022-04-12 |   862 |   278 |   357 |\n",
       "| 2022-04-13 |   844 |   252 |   345 |\n",
       "| 2022-04-14 |   836 |   244 |   320 |\n",
       "| 2022-04-15 |   549 |   170 |   237 |\n",
       "| 2022-04-16 |   666 |   191 |   271 |\n",
       "| 2022-04-17 |   843 |   258 |   328 |\n",
       "| 2022-04-18 |   937 |   271 |   365 |\n",
       "| 2022-04-19 |   984 |   264 |   377 |\n",
       "| 2022-04-20 |   821 |   251 |   336 |\n",
       "| 2022-04-21 |   762 |   233 |   298 |\n",
       "| 2022-04-22 |   650 |   191 |   262 |\n",
       "| 2022-04-23 |   806 |   229 |   317 |\n",
       "| 2022-04-24 |   893 |   291 |   376 |\n",
       "| 2022-04-25 |  2262 |   700 |   876 |\n",
       "| 2022-04-26 | 33761 | 11703 | 10599 |\n",
       "| 2022-04-27 | 31375 | 12153 | 10745 |\n",
       "| 2022-04-28 | 29347 | 11393 | 10328 |\n",
       "| 2022-04-29 | 18249 |  6769 |  7177 |\n",
       "| 2022-04-30 | 23090 |  8311 |  8592 |\n",
       "\n"
      ],
      "text/plain": [
       "   date_time  events sessions pages\n",
       "1  2022-04-06   661    204      261\n",
       "2  2022-04-07   854    249      321\n",
       "3  2022-04-08   780    221      280\n",
       "4  2022-04-09   690    211      283\n",
       "5  2022-04-10   964    265      364\n",
       "6  2022-04-11   972    296      380\n",
       "7  2022-04-12   862    278      357\n",
       "8  2022-04-13   844    252      345\n",
       "9  2022-04-14   836    244      320\n",
       "10 2022-04-15   549    170      237\n",
       "11 2022-04-16   666    191      271\n",
       "12 2022-04-17   843    258      328\n",
       "13 2022-04-18   937    271      365\n",
       "14 2022-04-19   984    264      377\n",
       "15 2022-04-20   821    251      336\n",
       "16 2022-04-21   762    233      298\n",
       "17 2022-04-22   650    191      262\n",
       "18 2022-04-23   806    229      317\n",
       "19 2022-04-24   893    291      376\n",
       "20 2022-04-25  2262    700      876\n",
       "21 2022-04-26 33761  11703    10599\n",
       "22 2022-04-27 31375  12153    10745\n",
       "23 2022-04-28 29347  11393    10328\n",
       "24 2022-04-29 18249   6769     7177\n",
       "25 2022-04-30 23090   8311     8592"
      ]
     },
     "metadata": {},
     "output_type": "display_data"
    }
   ],
   "source": [
    "df_date"
   ]
  },
  {
   "cell_type": "code",
   "execution_count": 7,
   "id": "00141e2e",
   "metadata": {},
   "outputs": [],
   "source": [
    "df_date$date_time <- as.Date(df_date$date_time )"
   ]
  },
  {
   "cell_type": "code",
   "execution_count": 9,
   "id": "2cbdfe2d",
   "metadata": {},
   "outputs": [
    {
     "data": {
      "image/png": "[encoded data removed]",
      "text/plain": [
       "plot without title"
      ]
     },
     "metadata": {
      "image/png": {
       "height": 600,
       "width": 900
      }
     },
     "output_type": "display_data"
    }
   ],
   "source": [
    "g_scrolls <- ggplot(data=df_date ) +\n",
    "geom_line(mapping=aes(x=date_time, y=events), size = 1.5) +\n",
    "labs(title = 'Daily scrolls to ToC',\n",
    "     x = 'Date',\n",
    "     y = 'Scrolls') + \n",
    "theme_light(base_size = 16) ;\n",
    "g_scrolls"
   ]
  },
  {
   "cell_type": "markdown",
   "id": "60656594",
   "metadata": {},
   "source": [
    "# QA the fix \n",
    "\n",
    "[fix ticket](https://phabricator.wikimedia.org/T307952)"
   ]
  },
  {
   "cell_type": "code",
   "execution_count": 20,
   "id": "22addde8",
   "metadata": {},
   "outputs": [],
   "source": [
    "query <-\n",
    "\"\n",
    "SELECT meta.domain, TO_DATE(meta.dt) as date_time,  action, COUNT(1) AS events,\n",
    "COUNT(DISTINCT web_session_id) AS sessions,\n",
    "COUNT(DISTINCT page_id) AS pages\n",
    "FROM  event.mediawiki_web_ui_scroll\n",
    "WHERE year=2022 and month=5 and day<=12\n",
    "AND meta.domain IN ('en.wikipedia.org', 'he.wikipedia.org','eu.wikipedia.org')\n",
    "GROUP BY meta.domain, action, TO_DATE(meta.dt) \n",
    "ORDER BY date_time\n",
    "LIMIT 100000\n",
    "\""
   ]
  },
  {
   "cell_type": "code",
   "execution_count": 21,
   "id": "670679b3",
   "metadata": {},
   "outputs": [
    {
     "name": "stderr",
     "output_type": "stream",
     "text": [
      "Don't forget to authenticate with Kerberos using kinit\n",
      "\n"
     ]
    }
   ],
   "source": [
    "df <- wmfdata::query_hive(query)"
   ]
  },
  {
   "cell_type": "code",
   "execution_count": 27,
   "id": "e783aae8",
   "metadata": {},
   "outputs": [
    {
     "data": {
      "text/html": [
       "<table class=\"dataframe\">\n",
       "<caption>A data.frame: 12 × 6</caption>\n",
       "<thead>\n",
       "\t<tr><th scope=col>domain</th><th scope=col>date_time</th><th scope=col>action</th><th scope=col>events</th><th scope=col>sessions</th><th scope=col>pages</th></tr>\n",
       "\t<tr><th scope=col>&lt;chr&gt;</th><th scope=col>&lt;date&gt;</th><th scope=col>&lt;chr&gt;</th><th scope=col>&lt;int&gt;</th><th scope=col>&lt;int&gt;</th><th scope=col>&lt;int&gt;</th></tr>\n",
       "</thead>\n",
       "<tbody>\n",
       "\t<tr><td>en.wikipedia.org</td><td>2022-05-01</td><td>scroll-to-toc</td><td>13627</td><td>1076</td><td>4518</td></tr>\n",
       "\t<tr><td>en.wikipedia.org</td><td>2022-05-02</td><td>scroll-to-toc</td><td>15178</td><td>1196</td><td>4849</td></tr>\n",
       "\t<tr><td>en.wikipedia.org</td><td>2022-05-03</td><td>scroll-to-toc</td><td>12708</td><td>1126</td><td>4214</td></tr>\n",
       "\t<tr><td>en.wikipedia.org</td><td>2022-05-04</td><td>scroll-to-toc</td><td>13433</td><td>1141</td><td>4517</td></tr>\n",
       "\t<tr><td>en.wikipedia.org</td><td>2022-05-05</td><td>scroll-to-toc</td><td>13354</td><td>1083</td><td>4488</td></tr>\n",
       "\t<tr><td>en.wikipedia.org</td><td>2022-05-06</td><td>scroll-to-toc</td><td>11905</td><td>1120</td><td>4172</td></tr>\n",
       "\t<tr><td>en.wikipedia.org</td><td>2022-05-07</td><td>scroll-to-toc</td><td>11679</td><td> 928</td><td>3928</td></tr>\n",
       "\t<tr><td>en.wikipedia.org</td><td>2022-05-08</td><td>scroll-to-toc</td><td>11437</td><td>1029</td><td>3895</td></tr>\n",
       "\t<tr><td>en.wikipedia.org</td><td>2022-05-09</td><td>scroll-to-toc</td><td>13464</td><td>1205</td><td>4454</td></tr>\n",
       "\t<tr><td>en.wikipedia.org</td><td>2022-05-10</td><td>scroll-to-toc</td><td>13377</td><td>1203</td><td>4563</td></tr>\n",
       "\t<tr><td>en.wikipedia.org</td><td>2022-05-11</td><td>scroll-to-toc</td><td>12631</td><td>1227</td><td>4283</td></tr>\n",
       "\t<tr><td>en.wikipedia.org</td><td>2022-05-12</td><td>scroll-to-toc</td><td>13632</td><td>1882</td><td>6496</td></tr>\n",
       "</tbody>\n",
       "</table>\n"
      ],
      "text/latex": [
       "A data.frame: 12 × 6\n",
       "\\begin{tabular}{llllll}\n",
       " domain & date\\_time & action & events & sessions & pages\\\\\n",
       " <chr> & <date> & <chr> & <int> & <int> & <int>\\\\\n",
       "\\hline\n",
       "\t en.wikipedia.org & 2022-05-01 & scroll-to-toc & 13627 & 1076 & 4518\\\\\n",
       "\t en.wikipedia.org & 2022-05-02 & scroll-to-toc & 15178 & 1196 & 4849\\\\\n",
       "\t en.wikipedia.org & 2022-05-03 & scroll-to-toc & 12708 & 1126 & 4214\\\\\n",
       "\t en.wikipedia.org & 2022-05-04 & scroll-to-toc & 13433 & 1141 & 4517\\\\\n",
       "\t en.wikipedia.org & 2022-05-05 & scroll-to-toc & 13354 & 1083 & 4488\\\\\n",
       "\t en.wikipedia.org & 2022-05-06 & scroll-to-toc & 11905 & 1120 & 4172\\\\\n",
       "\t en.wikipedia.org & 2022-05-07 & scroll-to-toc & 11679 &  928 & 3928\\\\\n",
       "\t en.wikipedia.org & 2022-05-08 & scroll-to-toc & 11437 & 1029 & 3895\\\\\n",
       "\t en.wikipedia.org & 2022-05-09 & scroll-to-toc & 13464 & 1205 & 4454\\\\\n",
       "\t en.wikipedia.org & 2022-05-10 & scroll-to-toc & 13377 & 1203 & 4563\\\\\n",
       "\t en.wikipedia.org & 2022-05-11 & scroll-to-toc & 12631 & 1227 & 4283\\\\\n",
       "\t en.wikipedia.org & 2022-05-12 & scroll-to-toc & 13632 & 1882 & 6496\\\\\n",
       "\\end{tabular}\n"
      ],
      "text/markdown": [
       "\n",
       "A data.frame: 12 × 6\n",
       "\n",
       "| domain &lt;chr&gt; | date_time &lt;date&gt; | action &lt;chr&gt; | events &lt;int&gt; | sessions &lt;int&gt; | pages &lt;int&gt; |\n",
       "|---|---|---|---|---|---|\n",
       "| en.wikipedia.org | 2022-05-01 | scroll-to-toc | 13627 | 1076 | 4518 |\n",
       "| en.wikipedia.org | 2022-05-02 | scroll-to-toc | 15178 | 1196 | 4849 |\n",
       "| en.wikipedia.org | 2022-05-03 | scroll-to-toc | 12708 | 1126 | 4214 |\n",
       "| en.wikipedia.org | 2022-05-04 | scroll-to-toc | 13433 | 1141 | 4517 |\n",
       "| en.wikipedia.org | 2022-05-05 | scroll-to-toc | 13354 | 1083 | 4488 |\n",
       "| en.wikipedia.org | 2022-05-06 | scroll-to-toc | 11905 | 1120 | 4172 |\n",
       "| en.wikipedia.org | 2022-05-07 | scroll-to-toc | 11679 |  928 | 3928 |\n",
       "| en.wikipedia.org | 2022-05-08 | scroll-to-toc | 11437 | 1029 | 3895 |\n",
       "| en.wikipedia.org | 2022-05-09 | scroll-to-toc | 13464 | 1205 | 4454 |\n",
       "| en.wikipedia.org | 2022-05-10 | scroll-to-toc | 13377 | 1203 | 4563 |\n",
       "| en.wikipedia.org | 2022-05-11 | scroll-to-toc | 12631 | 1227 | 4283 |\n",
       "| en.wikipedia.org | 2022-05-12 | scroll-to-toc | 13632 | 1882 | 6496 |\n",
       "\n"
      ],
      "text/plain": [
       "   domain           date_time  action        events sessions pages\n",
       "1  en.wikipedia.org 2022-05-01 scroll-to-toc 13627  1076     4518 \n",
       "2  en.wikipedia.org 2022-05-02 scroll-to-toc 15178  1196     4849 \n",
       "3  en.wikipedia.org 2022-05-03 scroll-to-toc 12708  1126     4214 \n",
       "4  en.wikipedia.org 2022-05-04 scroll-to-toc 13433  1141     4517 \n",
       "5  en.wikipedia.org 2022-05-05 scroll-to-toc 13354  1083     4488 \n",
       "6  en.wikipedia.org 2022-05-06 scroll-to-toc 11905  1120     4172 \n",
       "7  en.wikipedia.org 2022-05-07 scroll-to-toc 11679   928     3928 \n",
       "8  en.wikipedia.org 2022-05-08 scroll-to-toc 11437  1029     3895 \n",
       "9  en.wikipedia.org 2022-05-09 scroll-to-toc 13464  1205     4454 \n",
       "10 en.wikipedia.org 2022-05-10 scroll-to-toc 13377  1203     4563 \n",
       "11 en.wikipedia.org 2022-05-11 scroll-to-toc 12631  1227     4283 \n",
       "12 en.wikipedia.org 2022-05-12 scroll-to-toc 13632  1882     6496 "
      ]
     },
     "metadata": {},
     "output_type": "display_data"
    }
   ],
   "source": [
    "filter(df, (domain=='en.wikipedia.org')&(action=='scroll-to-toc'))"
   ]
  },
  {
   "cell_type": "code",
   "execution_count": 23,
   "id": "eae2f407",
   "metadata": {},
   "outputs": [
    {
     "data": {
      "text/html": [
       "<table class=\"dataframe\">\n",
       "<caption>A data.frame: 12 × 6</caption>\n",
       "<thead>\n",
       "\t<tr><th scope=col>domain</th><th scope=col>date_time</th><th scope=col>action</th><th scope=col>events</th><th scope=col>sessions</th><th scope=col>pages</th></tr>\n",
       "\t<tr><th scope=col>&lt;chr&gt;</th><th scope=col>&lt;chr&gt;</th><th scope=col>&lt;chr&gt;</th><th scope=col>&lt;int&gt;</th><th scope=col>&lt;int&gt;</th><th scope=col>&lt;int&gt;</th></tr>\n",
       "</thead>\n",
       "<tbody>\n",
       "\t<tr><td>he.wikipedia.org</td><td>2022-05-01</td><td>scroll-to-top</td><td>32097</td><td>12290</td><td>11971</td></tr>\n",
       "\t<tr><td>he.wikipedia.org</td><td>2022-05-02</td><td>scroll-to-top</td><td>29770</td><td>11927</td><td>11307</td></tr>\n",
       "\t<tr><td>he.wikipedia.org</td><td>2022-05-03</td><td>scroll-to-top</td><td>30700</td><td>12188</td><td>11368</td></tr>\n",
       "\t<tr><td>he.wikipedia.org</td><td>2022-05-04</td><td>scroll-to-top</td><td>25726</td><td> 9772</td><td> 9810</td></tr>\n",
       "\t<tr><td>he.wikipedia.org</td><td>2022-05-05</td><td>scroll-to-top</td><td>23170</td><td> 8264</td><td> 8857</td></tr>\n",
       "\t<tr><td>he.wikipedia.org</td><td>2022-05-06</td><td>scroll-to-top</td><td>23179</td><td> 8316</td><td> 8908</td></tr>\n",
       "\t<tr><td>he.wikipedia.org</td><td>2022-05-07</td><td>scroll-to-top</td><td>24083</td><td> 8936</td><td> 9623</td></tr>\n",
       "\t<tr><td>he.wikipedia.org</td><td>2022-05-08</td><td>scroll-to-top</td><td>30204</td><td>12007</td><td>11667</td></tr>\n",
       "\t<tr><td>he.wikipedia.org</td><td>2022-05-09</td><td>scroll-to-top</td><td>29701</td><td>11558</td><td>11748</td></tr>\n",
       "\t<tr><td>he.wikipedia.org</td><td>2022-05-10</td><td>scroll-to-top</td><td>28966</td><td>11364</td><td>11263</td></tr>\n",
       "\t<tr><td>he.wikipedia.org</td><td>2022-05-11</td><td>scroll-to-top</td><td>27261</td><td>10854</td><td>10820</td></tr>\n",
       "\t<tr><td>he.wikipedia.org</td><td>2022-05-12</td><td>scroll-to-top</td><td>19215</td><td> 9650</td><td> 9810</td></tr>\n",
       "</tbody>\n",
       "</table>\n"
      ],
      "text/latex": [
       "A data.frame: 12 × 6\n",
       "\\begin{tabular}{llllll}\n",
       " domain & date\\_time & action & events & sessions & pages\\\\\n",
       " <chr> & <chr> & <chr> & <int> & <int> & <int>\\\\\n",
       "\\hline\n",
       "\t he.wikipedia.org & 2022-05-01 & scroll-to-top & 32097 & 12290 & 11971\\\\\n",
       "\t he.wikipedia.org & 2022-05-02 & scroll-to-top & 29770 & 11927 & 11307\\\\\n",
       "\t he.wikipedia.org & 2022-05-03 & scroll-to-top & 30700 & 12188 & 11368\\\\\n",
       "\t he.wikipedia.org & 2022-05-04 & scroll-to-top & 25726 &  9772 &  9810\\\\\n",
       "\t he.wikipedia.org & 2022-05-05 & scroll-to-top & 23170 &  8264 &  8857\\\\\n",
       "\t he.wikipedia.org & 2022-05-06 & scroll-to-top & 23179 &  8316 &  8908\\\\\n",
       "\t he.wikipedia.org & 2022-05-07 & scroll-to-top & 24083 &  8936 &  9623\\\\\n",
       "\t he.wikipedia.org & 2022-05-08 & scroll-to-top & 30204 & 12007 & 11667\\\\\n",
       "\t he.wikipedia.org & 2022-05-09 & scroll-to-top & 29701 & 11558 & 11748\\\\\n",
       "\t he.wikipedia.org & 2022-05-10 & scroll-to-top & 28966 & 11364 & 11263\\\\\n",
       "\t he.wikipedia.org & 2022-05-11 & scroll-to-top & 27261 & 10854 & 10820\\\\\n",
       "\t he.wikipedia.org & 2022-05-12 & scroll-to-top & 19215 &  9650 &  9810\\\\\n",
       "\\end{tabular}\n"
      ],
      "text/markdown": [
       "\n",
       "A data.frame: 12 × 6\n",
       "\n",
       "| domain &lt;chr&gt; | date_time &lt;chr&gt; | action &lt;chr&gt; | events &lt;int&gt; | sessions &lt;int&gt; | pages &lt;int&gt; |\n",
       "|---|---|---|---|---|---|\n",
       "| he.wikipedia.org | 2022-05-01 | scroll-to-top | 32097 | 12290 | 11971 |\n",
       "| he.wikipedia.org | 2022-05-02 | scroll-to-top | 29770 | 11927 | 11307 |\n",
       "| he.wikipedia.org | 2022-05-03 | scroll-to-top | 30700 | 12188 | 11368 |\n",
       "| he.wikipedia.org | 2022-05-04 | scroll-to-top | 25726 |  9772 |  9810 |\n",
       "| he.wikipedia.org | 2022-05-05 | scroll-to-top | 23170 |  8264 |  8857 |\n",
       "| he.wikipedia.org | 2022-05-06 | scroll-to-top | 23179 |  8316 |  8908 |\n",
       "| he.wikipedia.org | 2022-05-07 | scroll-to-top | 24083 |  8936 |  9623 |\n",
       "| he.wikipedia.org | 2022-05-08 | scroll-to-top | 30204 | 12007 | 11667 |\n",
       "| he.wikipedia.org | 2022-05-09 | scroll-to-top | 29701 | 11558 | 11748 |\n",
       "| he.wikipedia.org | 2022-05-10 | scroll-to-top | 28966 | 11364 | 11263 |\n",
       "| he.wikipedia.org | 2022-05-11 | scroll-to-top | 27261 | 10854 | 10820 |\n",
       "| he.wikipedia.org | 2022-05-12 | scroll-to-top | 19215 |  9650 |  9810 |\n",
       "\n"
      ],
      "text/plain": [
       "   domain           date_time  action        events sessions pages\n",
       "1  he.wikipedia.org 2022-05-01 scroll-to-top 32097  12290    11971\n",
       "2  he.wikipedia.org 2022-05-02 scroll-to-top 29770  11927    11307\n",
       "3  he.wikipedia.org 2022-05-03 scroll-to-top 30700  12188    11368\n",
       "4  he.wikipedia.org 2022-05-04 scroll-to-top 25726   9772     9810\n",
       "5  he.wikipedia.org 2022-05-05 scroll-to-top 23170   8264     8857\n",
       "6  he.wikipedia.org 2022-05-06 scroll-to-top 23179   8316     8908\n",
       "7  he.wikipedia.org 2022-05-07 scroll-to-top 24083   8936     9623\n",
       "8  he.wikipedia.org 2022-05-08 scroll-to-top 30204  12007    11667\n",
       "9  he.wikipedia.org 2022-05-09 scroll-to-top 29701  11558    11748\n",
       "10 he.wikipedia.org 2022-05-10 scroll-to-top 28966  11364    11263\n",
       "11 he.wikipedia.org 2022-05-11 scroll-to-top 27261  10854    10820\n",
       "12 he.wikipedia.org 2022-05-12 scroll-to-top 19215   9650     9810"
      ]
     },
     "metadata": {},
     "output_type": "display_data"
    }
   ],
   "source": [
    "filter(df, (domain=='he.wikipedia.org')&(action=='scroll-to-top'))"
   ]
  },
  {
   "cell_type": "code",
   "execution_count": 24,
   "id": "e47e0560",
   "metadata": {},
   "outputs": [],
   "source": [
    "df$date_time <- as.Date(df$date_time)"
   ]
  },
  {
   "cell_type": "code",
   "execution_count": 26,
   "id": "27a732ac",
   "metadata": {},
   "outputs": [
    {
     "data": {
      "image/png": "[encoded data removed]",
      "text/plain": [
       "plot without title"
      ]
     },
     "metadata": {
      "image/png": {
       "height": 600,
       "width": 900
      }
     },
     "output_type": "display_data"
    }
   ],
   "source": [
    "action_g <- df %>%\n",
    "ggplot(mapping=aes(x=date_time, y=events,color=action )) +\n",
    "geom_line( size = 1.5) +\n",
    "scale_color_manual(values= c(\"#666666\", \"#000099\"), name = \"action\")  +\n",
    "facet_wrap(~domain,nrow=4,scale = 'free_y')+\n",
    "labs(title = 'Scrolls',\n",
    "     x = 'Date',\n",
    "     y = 'Scrolls') +\n",
    "theme_light(base_size=18) +\n",
    "theme(legend.position = \"bottom\", \n",
    "     plot.caption = element_text(hjust = 0, face= \"italic\"),\n",
    "     strip.text = element_text(size = 14, colour='black'),\n",
    "     axis.text.x = element_text( size = 10 ),\n",
    "     plot.title = element_text(size=20))\n",
    "action_g"
   ]
  },
  {
   "cell_type": "code",
   "execution_count": null,
   "id": "b841e1d0",
   "metadata": {},
   "outputs": [],
   "source": []
  }
 ],
 "metadata": {
  "kernelspec": {
   "display_name": "R",
   "language": "R",
   "name": "ir"
  },
  "language_info": {
   "codemirror_mode": "r",
   "file_extension": ".r",
   "mimetype": "text/x-r-source",
   "name": "R",
   "pygments_lexer": "r",
   "version": "3.5.2"
  }
 },
 "nbformat": 4,
 "nbformat_minor": 5
}
