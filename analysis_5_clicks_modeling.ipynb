{
 "cells": [
  {
   "cell_type": "code",
   "execution_count": 10,
   "id": "eceed60e",
   "metadata": {},
   "outputs": [],
   "source": [
    "shhh <- function(expr) suppressPackageStartupMessages(suppressWarnings(suppressMessages(expr)))\n",
    "shhh({\n",
    "library(tidyverse); \n",
    "library(lubridate); \n",
    "library(scales);\n",
    "library(magrittr); \n",
    "library(dplyr);\n",
    "})"
   ]
  },
  {
   "cell_type": "code",
   "execution_count": 11,
   "id": "1dc36cff",
   "metadata": {},
   "outputs": [],
   "source": [
    "library(lme4)"
   ]
  },
  {
   "cell_type": "code",
   "execution_count": 12,
   "id": "ece2ae10",
   "metadata": {},
   "outputs": [],
   "source": [
    "library(MuMIn)"
   ]
  },
  {
   "cell_type": "code",
   "execution_count": 13,
   "id": "f5986fe0",
   "metadata": {},
   "outputs": [],
   "source": [
    "library(sjstats)"
   ]
  },
  {
   "cell_type": "code",
   "execution_count": 14,
   "id": "999d334e",
   "metadata": {},
   "outputs": [],
   "source": [
    "options(mc.cores = 4)"
   ]
  },
  {
   "cell_type": "code",
   "execution_count": 15,
   "id": "9286e091",
   "metadata": {},
   "outputs": [
    {
     "data": {
      "text/html": [
       "<script>  \n",
       "code_show=true; \n",
       "function code_toggle() {\n",
       "  if (code_show){\n",
       "    $('div.input').hide();\n",
       "  } else {\n",
       "    $('div.input').show();\n",
       "  }\n",
       "  code_show = !code_show\n",
       "}  \n",
       "$( document ).ready(code_toggle);\n",
       "</script>\n",
       "  <form action=\"javascript:code_toggle()\">\n",
       "    <input type=\"submit\" value=\"Click here to toggle on/off the raw code.\">\n",
       " </form>"
      ]
     },
     "metadata": {},
     "output_type": "display_data"
    }
   ],
   "source": [
    "library(IRdisplay)\n",
    "\n",
    "display_html(\n",
    "'<script>  \n",
    "code_show=true; \n",
    "function code_toggle() {\n",
    "  if (code_show){\n",
    "    $(\\'div.input\\').hide();\n",
    "  } else {\n",
    "    $(\\'div.input\\').show();\n",
    "  }\n",
    "  code_show = !code_show\n",
    "}  \n",
    "$( document ).ready(code_toggle);\n",
    "</script>\n",
    "  <form action=\"javascript:code_toggle()\">\n",
    "    <input type=\"submit\" value=\"Click here to toggle on/off the raw code.\">\n",
    " </form>'\n",
    ")"
   ]
  },
  {
   "cell_type": "markdown",
   "id": "daa4c86f",
   "metadata": {},
   "source": [
    "# Purpose\n",
    "\n",
    "We discovered a bucketing issue that the sessions in treatment group were not consistantly seeing the new ToC. Some of sessions also saw the old ToC. It happened on all type of viewport sizes. For example on frwiki, in treatment group  more than half of the sessions with larger than 1000px viewport are assigned to old ToC. report\n",
    "\n",
    "In this notebook, we try to analyze clicks after filtering the clicks on old ToC in treatment group and filtering the clicks on new ToC in control group. \n",
    "\n",
    "The caveat: the sessions with 0 click are missing in the analysis data. The analysis is only focus on the sessions which clicked on ToC, whether the sessions with new ToC clicked more than the ones with old ToC. "
   ]
  },
  {
   "cell_type": "code",
   "execution_count": 16,
   "id": "67006ca6",
   "metadata": {},
   "outputs": [],
   "source": [
    "options(repr.plot.width = 15, repr.plot.height = 10)"
   ]
  },
  {
   "cell_type": "markdown",
   "id": "4640a739",
   "metadata": {},
   "source": [
    "# Q1: Is the new table of contents is used more frequently than the previous table of contents\n"
   ]
  },
  {
   "cell_type": "markdown",
   "id": "36481edb",
   "metadata": {},
   "source": [
    "Query clicks per page token by each session"
   ]
  },
  {
   "cell_type": "code",
   "execution_count": 32,
   "id": "11e1c1bd",
   "metadata": {},
   "outputs": [],
   "source": [
    "query_click <- \"\n",
    "WITH t_ab_no_dupli AS (\n",
    "SELECT  web_session_id, wiki, meta.domain AS domain, count(distinct `group` ) AS groups,  min(meta.dt) AS session_dt \n",
    "FROM event.mediawiki_web_ab_test_enrollment\n",
    "WHERE wiki NOT IN ('testwiki','test2wiki')  AND year=2022 AND month IN (5,6) \n",
    "AND  experiment_name='skin-vector-toc-experiment'\n",
    "GROUP BY  web_session_id, wiki, meta.domain\n",
    "-- exclude session ids are in both control and treatment group\n",
    "HAVING groups < 2\n",
    "),\n",
    "t_ab AS(\n",
    "SELECT \n",
    " t1.web_session_id,\n",
    " t1.wiki,t1.meta.domain AS domain,\n",
    " t1.`group` AS test_group,\n",
    " min(t1.meta.dt) AS session_dt \n",
    "FROM event.mediawiki_web_ab_test_enrollment AS t1\n",
    "INNER JOIN  t_ab_no_dupli AS t2 ON t1.wiki=t2.wiki \n",
    "AND t1.web_session_id=t2.web_session_id \n",
    "WHERE t1.wiki NOT IN ('testwiki','test2wiki')  \n",
    "AND year=2022 \n",
    "AND CONCAT(year, '-', LPAD(month,2,'0'),'-', LPAD(day,2,'0')) BETWEEN '2022-05-26' AND '2022-06-15'\n",
    "AND  experiment_name='skin-vector-toc-experiment'\n",
    "GROUP BY  t1.web_session_id, t1.wiki,t1.meta.domain, t1.`group`\n",
    ")\n",
    "-- clicks from ab test group\n",
    "SELECT t3.event.token AS session_id, \n",
    "wiki, event.isanon,  t4.test_group, event.name, t3.event.editCountBucket, t3.event.pageToken,  count(1) AS clicks\n",
    "FROM event.DesktopWebUIActionsTracking AS t3\n",
    "INNER JOIN t_ab AS t4 \n",
    "ON  t3.wiki=t4.wiki AND t3.event.token = t4.web_session_id\n",
    "WHERE t3.wiki IN ('bnwiki', 'fawiki', 'foundationwiki',\n",
    "'hewiki', 'ptwikinews', 'ptwikiversity', 'srwiki',\n",
    "'thwiki', 'vecwiki', 'viwiki', 'viwikibooks', 'dewikivoyage',\n",
    "'euwiki', 'kowiki', 'plwikinews', 'trwiki', 'arywiki',\n",
    "'frwiki', 'frwikiquote', 'frwiktionary', 'incubatorwiki', 'ptwiki'\n",
    ") \n",
    "AND t3.year=2022 and t3.month IN (5,6)\n",
    "AND CONCAT(t3.year, '-', LPAD(t3.month,2,'0'),'-', LPAD(t3.day,2,'0')) BETWEEN '2022-05-26' AND '2022-06-15'\n",
    "AND t4.session_dt <= t3.meta.dt\n",
    "AND event.name IN ( 'ui.toc', 'ui.sidebar-toc')\n",
    "AND event.action='click' AND event.skinversion=2 \n",
    "GROUP BY t3.event.token, t3.wiki, event.isanon, t4.test_group, event.name, t3.event.editCountBucket, t3.event.pageToken\n",
    "\""
   ]
  },
  {
   "cell_type": "code",
   "execution_count": 33,
   "id": "5f9e3c9c",
   "metadata": {},
   "outputs": [
    {
     "name": "stderr",
     "output_type": "stream",
     "text": [
      "Don't forget to authenticate with Kerberos using kinit\n",
      "\n"
     ]
    }
   ],
   "source": [
    "df_clicks_session2 <- wmfdata::query_hive(query_click)"
   ]
  },
  {
   "cell_type": "code",
   "execution_count": 34,
   "id": "fd03eed9",
   "metadata": {},
   "outputs": [
    {
     "data": {
      "text/html": [
       "<table class=\"dataframe\">\n",
       "<caption>A data.frame: 6 × 8</caption>\n",
       "<thead>\n",
       "\t<tr><th></th><th scope=col>session_id</th><th scope=col>wiki</th><th scope=col>isanon</th><th scope=col>test_group</th><th scope=col>name</th><th scope=col>editcountbucket</th><th scope=col>pagetoken</th><th scope=col>clicks</th></tr>\n",
       "\t<tr><th></th><th scope=col>&lt;chr&gt;</th><th scope=col>&lt;chr&gt;</th><th scope=col>&lt;chr&gt;</th><th scope=col>&lt;chr&gt;</th><th scope=col>&lt;chr&gt;</th><th scope=col>&lt;chr&gt;</th><th scope=col>&lt;chr&gt;</th><th scope=col>&lt;int&gt;</th></tr>\n",
       "</thead>\n",
       "<tbody>\n",
       "\t<tr><th scope=row>1</th><td>00003645f652c5586de5</td><td>kowiki</td><td>true</td><td>treatment</td><td>ui.sidebar-toc</td><td>0 edits</td><td>888ed5c2cf536812553b</td><td>2</td></tr>\n",
       "\t<tr><th scope=row>2</th><td>000054a3eb219587e6ed</td><td>viwiki</td><td>true</td><td>control  </td><td>ui.toc        </td><td>0 edits</td><td>e4aa818062fb8fa00749</td><td>1</td></tr>\n",
       "\t<tr><th scope=row>3</th><td>00005658cad1c9bfdd9c</td><td>frwiki</td><td>true</td><td>control  </td><td>ui.toc        </td><td>0 edits</td><td>6574a7926c6a7559ed51</td><td>1</td></tr>\n",
       "\t<tr><th scope=row>4</th><td>0000804a10182a407ca7</td><td>ptwiki</td><td>true</td><td>control  </td><td>ui.toc        </td><td>0 edits</td><td>5c701e60092b9dbade71</td><td>1</td></tr>\n",
       "\t<tr><th scope=row>5</th><td>000082b0ad7fdaf4c466</td><td>frwiki</td><td>true</td><td>control  </td><td>ui.toc        </td><td>0 edits</td><td>71ebb420d6329e51005b</td><td>1</td></tr>\n",
       "\t<tr><th scope=row>6</th><td>000099a312101de4df16</td><td>frwiki</td><td>true</td><td>control  </td><td>ui.toc        </td><td>0 edits</td><td>b948dcad9283239d243d</td><td>1</td></tr>\n",
       "</tbody>\n",
       "</table>\n"
      ],
      "text/latex": [
       "A data.frame: 6 × 8\n",
       "\\begin{tabular}{r|llllllll}\n",
       "  & session\\_id & wiki & isanon & test\\_group & name & editcountbucket & pagetoken & clicks\\\\\n",
       "  & <chr> & <chr> & <chr> & <chr> & <chr> & <chr> & <chr> & <int>\\\\\n",
       "\\hline\n",
       "\t1 & 00003645f652c5586de5 & kowiki & true & treatment & ui.sidebar-toc & 0 edits & 888ed5c2cf536812553b & 2\\\\\n",
       "\t2 & 000054a3eb219587e6ed & viwiki & true & control   & ui.toc         & 0 edits & e4aa818062fb8fa00749 & 1\\\\\n",
       "\t3 & 00005658cad1c9bfdd9c & frwiki & true & control   & ui.toc         & 0 edits & 6574a7926c6a7559ed51 & 1\\\\\n",
       "\t4 & 0000804a10182a407ca7 & ptwiki & true & control   & ui.toc         & 0 edits & 5c701e60092b9dbade71 & 1\\\\\n",
       "\t5 & 000082b0ad7fdaf4c466 & frwiki & true & control   & ui.toc         & 0 edits & 71ebb420d6329e51005b & 1\\\\\n",
       "\t6 & 000099a312101de4df16 & frwiki & true & control   & ui.toc         & 0 edits & b948dcad9283239d243d & 1\\\\\n",
       "\\end{tabular}\n"
      ],
      "text/markdown": [
       "\n",
       "A data.frame: 6 × 8\n",
       "\n",
       "| <!--/--> | session_id &lt;chr&gt; | wiki &lt;chr&gt; | isanon &lt;chr&gt; | test_group &lt;chr&gt; | name &lt;chr&gt; | editcountbucket &lt;chr&gt; | pagetoken &lt;chr&gt; | clicks &lt;int&gt; |\n",
       "|---|---|---|---|---|---|---|---|---|\n",
       "| 1 | 00003645f652c5586de5 | kowiki | true | treatment | ui.sidebar-toc | 0 edits | 888ed5c2cf536812553b | 2 |\n",
       "| 2 | 000054a3eb219587e6ed | viwiki | true | control   | ui.toc         | 0 edits | e4aa818062fb8fa00749 | 1 |\n",
       "| 3 | 00005658cad1c9bfdd9c | frwiki | true | control   | ui.toc         | 0 edits | 6574a7926c6a7559ed51 | 1 |\n",
       "| 4 | 0000804a10182a407ca7 | ptwiki | true | control   | ui.toc         | 0 edits | 5c701e60092b9dbade71 | 1 |\n",
       "| 5 | 000082b0ad7fdaf4c466 | frwiki | true | control   | ui.toc         | 0 edits | 71ebb420d6329e51005b | 1 |\n",
       "| 6 | 000099a312101de4df16 | frwiki | true | control   | ui.toc         | 0 edits | b948dcad9283239d243d | 1 |\n",
       "\n"
      ],
      "text/plain": [
       "  session_id           wiki   isanon test_group name           editcountbucket\n",
       "1 00003645f652c5586de5 kowiki true   treatment  ui.sidebar-toc 0 edits        \n",
       "2 000054a3eb219587e6ed viwiki true   control    ui.toc         0 edits        \n",
       "3 00005658cad1c9bfdd9c frwiki true   control    ui.toc         0 edits        \n",
       "4 0000804a10182a407ca7 ptwiki true   control    ui.toc         0 edits        \n",
       "5 000082b0ad7fdaf4c466 frwiki true   control    ui.toc         0 edits        \n",
       "6 000099a312101de4df16 frwiki true   control    ui.toc         0 edits        \n",
       "  pagetoken            clicks\n",
       "1 888ed5c2cf536812553b 2     \n",
       "2 e4aa818062fb8fa00749 1     \n",
       "3 6574a7926c6a7559ed51 1     \n",
       "4 5c701e60092b9dbade71 1     \n",
       "5 71ebb420d6329e51005b 1     \n",
       "6 b948dcad9283239d243d 1     "
      ]
     },
     "metadata": {},
     "output_type": "display_data"
    }
   ],
   "source": [
    "head(df_clicks_session2)"
   ]
  },
  {
   "cell_type": "code",
   "execution_count": 35,
   "id": "0dfe2f1c",
   "metadata": {},
   "outputs": [],
   "source": [
    "df <- df_clicks_session2 %>%\n",
    "  filter(wiki!='foundationwiki') %>%\n",
    "  filter(!(test_group=='control' & name=='ui.sidebar-toc') & !(test_group=='treatment' & name=='ui.toc')) \n"
   ]
  },
  {
   "cell_type": "markdown",
   "id": "c2b905d9",
   "metadata": {},
   "source": [
    "## Logged-in Users"
   ]
  },
  {
   "cell_type": "code",
   "execution_count": 71,
   "id": "4b24317f",
   "metadata": {},
   "outputs": [],
   "source": [
    "df_loggedin <- df %>% \n",
    "  filter(isanon=='false')"
   ]
  },
  {
   "cell_type": "markdown",
   "id": "020dc7b2",
   "metadata": {},
   "source": [
    "### Data exploration\n",
    "#### Check clicks by edit bucket"
   ]
  },
  {
   "cell_type": "code",
   "execution_count": 83,
   "id": "1c338ec4",
   "metadata": {},
   "outputs": [],
   "source": [
    "df_editbucket <- df_loggedin %>%\n",
    "    group_by(test_group, editcountbucket) %>%\n",
    "   summarize(cnt_session_page=n(), cnt_session=n_distinct(session_id),cnt_page=n_distinct(pagetoken), .groups='drop') %>%\n",
    "   mutate(\n",
    "     page_per_session = round(cnt_page/cnt_session, 4)\n",
    "       )\n",
    "  "
   ]
  },
  {
   "cell_type": "code",
   "execution_count": 84,
   "id": "6db2c511",
   "metadata": {},
   "outputs": [
    {
     "data": {
      "text/html": [
       "<table class=\"dataframe\">\n",
       "<caption>A tibble: 10 × 6</caption>\n",
       "<thead>\n",
       "\t<tr><th scope=col>test_group</th><th scope=col>editcountbucket</th><th scope=col>cnt_session_page</th><th scope=col>cnt_session</th><th scope=col>cnt_page</th><th scope=col>page_per_session</th></tr>\n",
       "\t<tr><th scope=col>&lt;chr&gt;</th><th scope=col>&lt;chr&gt;</th><th scope=col>&lt;int&gt;</th><th scope=col>&lt;int&gt;</th><th scope=col>&lt;int&gt;</th><th scope=col>&lt;dbl&gt;</th></tr>\n",
       "</thead>\n",
       "<tbody>\n",
       "\t<tr><td>control  </td><td>0 edits      </td><td>2130</td><td>1622</td><td>2130</td><td>1.3132</td></tr>\n",
       "\t<tr><td>control  </td><td>1-4 edits    </td><td>1590</td><td>1258</td><td>1590</td><td>1.2639</td></tr>\n",
       "\t<tr><td>control  </td><td>100-999 edits</td><td>2109</td><td>1414</td><td>2109</td><td>1.4915</td></tr>\n",
       "\t<tr><td>control  </td><td>1000+ edits  </td><td>2925</td><td>1797</td><td>2925</td><td>1.6277</td></tr>\n",
       "\t<tr><td>control  </td><td>5-99 edits   </td><td>3992</td><td>2908</td><td>3992</td><td>1.3728</td></tr>\n",
       "\t<tr><td>treatment</td><td>0 edits      </td><td> 418</td><td> 373</td><td> 418</td><td>1.1206</td></tr>\n",
       "\t<tr><td>treatment</td><td>1-4 edits    </td><td> 256</td><td> 228</td><td> 256</td><td>1.1228</td></tr>\n",
       "\t<tr><td>treatment</td><td>100-999 edits</td><td> 372</td><td> 294</td><td> 372</td><td>1.2653</td></tr>\n",
       "\t<tr><td>treatment</td><td>1000+ edits  </td><td> 493</td><td> 351</td><td> 493</td><td>1.4046</td></tr>\n",
       "\t<tr><td>treatment</td><td>5-99 edits   </td><td> 529</td><td> 466</td><td> 529</td><td>1.1352</td></tr>\n",
       "</tbody>\n",
       "</table>\n"
      ],
      "text/latex": [
       "A tibble: 10 × 6\n",
       "\\begin{tabular}{llllll}\n",
       " test\\_group & editcountbucket & cnt\\_session\\_page & cnt\\_session & cnt\\_page & page\\_per\\_session\\\\\n",
       " <chr> & <chr> & <int> & <int> & <int> & <dbl>\\\\\n",
       "\\hline\n",
       "\t control   & 0 edits       & 2130 & 1622 & 2130 & 1.3132\\\\\n",
       "\t control   & 1-4 edits     & 1590 & 1258 & 1590 & 1.2639\\\\\n",
       "\t control   & 100-999 edits & 2109 & 1414 & 2109 & 1.4915\\\\\n",
       "\t control   & 1000+ edits   & 2925 & 1797 & 2925 & 1.6277\\\\\n",
       "\t control   & 5-99 edits    & 3992 & 2908 & 3992 & 1.3728\\\\\n",
       "\t treatment & 0 edits       &  418 &  373 &  418 & 1.1206\\\\\n",
       "\t treatment & 1-4 edits     &  256 &  228 &  256 & 1.1228\\\\\n",
       "\t treatment & 100-999 edits &  372 &  294 &  372 & 1.2653\\\\\n",
       "\t treatment & 1000+ edits   &  493 &  351 &  493 & 1.4046\\\\\n",
       "\t treatment & 5-99 edits    &  529 &  466 &  529 & 1.1352\\\\\n",
       "\\end{tabular}\n"
      ],
      "text/markdown": [
       "\n",
       "A tibble: 10 × 6\n",
       "\n",
       "| test_group &lt;chr&gt; | editcountbucket &lt;chr&gt; | cnt_session_page &lt;int&gt; | cnt_session &lt;int&gt; | cnt_page &lt;int&gt; | page_per_session &lt;dbl&gt; |\n",
       "|---|---|---|---|---|---|\n",
       "| control   | 0 edits       | 2130 | 1622 | 2130 | 1.3132 |\n",
       "| control   | 1-4 edits     | 1590 | 1258 | 1590 | 1.2639 |\n",
       "| control   | 100-999 edits | 2109 | 1414 | 2109 | 1.4915 |\n",
       "| control   | 1000+ edits   | 2925 | 1797 | 2925 | 1.6277 |\n",
       "| control   | 5-99 edits    | 3992 | 2908 | 3992 | 1.3728 |\n",
       "| treatment | 0 edits       |  418 |  373 |  418 | 1.1206 |\n",
       "| treatment | 1-4 edits     |  256 |  228 |  256 | 1.1228 |\n",
       "| treatment | 100-999 edits |  372 |  294 |  372 | 1.2653 |\n",
       "| treatment | 1000+ edits   |  493 |  351 |  493 | 1.4046 |\n",
       "| treatment | 5-99 edits    |  529 |  466 |  529 | 1.1352 |\n",
       "\n"
      ],
      "text/plain": [
       "   test_group editcountbucket cnt_session_page cnt_session cnt_page\n",
       "1  control    0 edits         2130             1622        2130    \n",
       "2  control    1-4 edits       1590             1258        1590    \n",
       "3  control    100-999 edits   2109             1414        2109    \n",
       "4  control    1000+ edits     2925             1797        2925    \n",
       "5  control    5-99 edits      3992             2908        3992    \n",
       "6  treatment  0 edits          418              373         418    \n",
       "7  treatment  1-4 edits        256              228         256    \n",
       "8  treatment  100-999 edits    372              294         372    \n",
       "9  treatment  1000+ edits      493              351         493    \n",
       "10 treatment  5-99 edits       529              466         529    \n",
       "   page_per_session\n",
       "1  1.3132          \n",
       "2  1.2639          \n",
       "3  1.4915          \n",
       "4  1.6277          \n",
       "5  1.3728          \n",
       "6  1.1206          \n",
       "7  1.1228          \n",
       "8  1.2653          \n",
       "9  1.4046          \n",
       "10 1.1352          "
      ]
     },
     "metadata": {},
     "output_type": "display_data"
    }
   ],
   "source": [
    "df_editbucket "
   ]
  },
  {
   "cell_type": "markdown",
   "id": "ebd9670a",
   "metadata": {},
   "source": [
    "__Note__ \n",
    "\n",
    "Treatment group has lower page per session because some of pages in treatment group were showing old ToC and were exculded from analysis data."
   ]
  },
  {
   "cell_type": "code",
   "execution_count": 85,
   "id": "ba1bf7bc",
   "metadata": {},
   "outputs": [],
   "source": [
    "df_editbucket_w <- df_editbucket  %>%\n",
    "   select(test_group,editcountbucket,cnt_session ) %>%\n",
    "   spread(test_group, cnt_session)"
   ]
  },
  {
   "cell_type": "code",
   "execution_count": 86,
   "id": "638d34c1",
   "metadata": {},
   "outputs": [
    {
     "data": {
      "text/html": [
       "<table class=\"dataframe\">\n",
       "<caption>A tibble: 5 × 3</caption>\n",
       "<thead>\n",
       "\t<tr><th scope=col>editcountbucket</th><th scope=col>control</th><th scope=col>treatment</th></tr>\n",
       "\t<tr><th scope=col>&lt;chr&gt;</th><th scope=col>&lt;int&gt;</th><th scope=col>&lt;int&gt;</th></tr>\n",
       "</thead>\n",
       "<tbody>\n",
       "\t<tr><td>0 edits      </td><td>1622</td><td>373</td></tr>\n",
       "\t<tr><td>1-4 edits    </td><td>1258</td><td>228</td></tr>\n",
       "\t<tr><td>100-999 edits</td><td>1414</td><td>294</td></tr>\n",
       "\t<tr><td>1000+ edits  </td><td>1797</td><td>351</td></tr>\n",
       "\t<tr><td>5-99 edits   </td><td>2908</td><td>466</td></tr>\n",
       "</tbody>\n",
       "</table>\n"
      ],
      "text/latex": [
       "A tibble: 5 × 3\n",
       "\\begin{tabular}{lll}\n",
       " editcountbucket & control & treatment\\\\\n",
       " <chr> & <int> & <int>\\\\\n",
       "\\hline\n",
       "\t 0 edits       & 1622 & 373\\\\\n",
       "\t 1-4 edits     & 1258 & 228\\\\\n",
       "\t 100-999 edits & 1414 & 294\\\\\n",
       "\t 1000+ edits   & 1797 & 351\\\\\n",
       "\t 5-99 edits    & 2908 & 466\\\\\n",
       "\\end{tabular}\n"
      ],
      "text/markdown": [
       "\n",
       "A tibble: 5 × 3\n",
       "\n",
       "| editcountbucket &lt;chr&gt; | control &lt;int&gt; | treatment &lt;int&gt; |\n",
       "|---|---|---|\n",
       "| 0 edits       | 1622 | 373 |\n",
       "| 1-4 edits     | 1258 | 228 |\n",
       "| 100-999 edits | 1414 | 294 |\n",
       "| 1000+ edits   | 1797 | 351 |\n",
       "| 5-99 edits    | 2908 | 466 |\n",
       "\n"
      ],
      "text/plain": [
       "  editcountbucket control treatment\n",
       "1 0 edits         1622    373      \n",
       "2 1-4 edits       1258    228      \n",
       "3 100-999 edits   1414    294      \n",
       "4 1000+ edits     1797    351      \n",
       "5 5-99 edits      2908    466      "
      ]
     },
     "metadata": {},
     "output_type": "display_data"
    }
   ],
   "source": [
    "df_editbucket_w "
   ]
  },
  {
   "cell_type": "code",
   "execution_count": 87,
   "id": "713dac53",
   "metadata": {},
   "outputs": [
    {
     "data": {
      "text/html": [
       "8999"
      ],
      "text/latex": [
       "8999"
      ],
      "text/markdown": [
       "8999"
      ],
      "text/plain": [
       "[1] 8999"
      ]
     },
     "metadata": {},
     "output_type": "display_data"
    }
   ],
   "source": [
    "sum(df_editbucket_w[, 'control'])"
   ]
  },
  {
   "cell_type": "code",
   "execution_count": 88,
   "id": "9bed0c77",
   "metadata": {},
   "outputs": [
    {
     "data": {
      "text/html": [
       "1712"
      ],
      "text/latex": [
       "1712"
      ],
      "text/markdown": [
       "1712"
      ],
      "text/plain": [
       "[1] 1712"
      ]
     },
     "metadata": {},
     "output_type": "display_data"
    }
   ],
   "source": [
    "sum(df_editbucket_w[, 'treatment'])"
   ]
  },
  {
   "cell_type": "code",
   "execution_count": 89,
   "id": "a6b7f72e",
   "metadata": {},
   "outputs": [],
   "source": [
    "df_editbucket_w  <- df_editbucket_w  %>%\n",
    "  mutate(\n",
    "    control_pct = round(control*100/8999,2) ,\n",
    "    treatment_pct = round(treatment*100/1712,2) \n",
    "   )"
   ]
  },
  {
   "cell_type": "code",
   "execution_count": 90,
   "id": "1368000f",
   "metadata": {},
   "outputs": [
    {
     "data": {
      "text/html": [
       "<table class=\"dataframe\">\n",
       "<caption>A tibble: 5 × 5</caption>\n",
       "<thead>\n",
       "\t<tr><th scope=col>editcountbucket</th><th scope=col>control</th><th scope=col>treatment</th><th scope=col>control_pct</th><th scope=col>treatment_pct</th></tr>\n",
       "\t<tr><th scope=col>&lt;chr&gt;</th><th scope=col>&lt;int&gt;</th><th scope=col>&lt;int&gt;</th><th scope=col>&lt;dbl&gt;</th><th scope=col>&lt;dbl&gt;</th></tr>\n",
       "</thead>\n",
       "<tbody>\n",
       "\t<tr><td>0 edits      </td><td>1622</td><td>373</td><td>18.02</td><td>21.79</td></tr>\n",
       "\t<tr><td>1-4 edits    </td><td>1258</td><td>228</td><td>13.98</td><td>13.32</td></tr>\n",
       "\t<tr><td>100-999 edits</td><td>1414</td><td>294</td><td>15.71</td><td>17.17</td></tr>\n",
       "\t<tr><td>1000+ edits  </td><td>1797</td><td>351</td><td>19.97</td><td>20.50</td></tr>\n",
       "\t<tr><td>5-99 edits   </td><td>2908</td><td>466</td><td>32.31</td><td>27.22</td></tr>\n",
       "</tbody>\n",
       "</table>\n"
      ],
      "text/latex": [
       "A tibble: 5 × 5\n",
       "\\begin{tabular}{lllll}\n",
       " editcountbucket & control & treatment & control\\_pct & treatment\\_pct\\\\\n",
       " <chr> & <int> & <int> & <dbl> & <dbl>\\\\\n",
       "\\hline\n",
       "\t 0 edits       & 1622 & 373 & 18.02 & 21.79\\\\\n",
       "\t 1-4 edits     & 1258 & 228 & 13.98 & 13.32\\\\\n",
       "\t 100-999 edits & 1414 & 294 & 15.71 & 17.17\\\\\n",
       "\t 1000+ edits   & 1797 & 351 & 19.97 & 20.50\\\\\n",
       "\t 5-99 edits    & 2908 & 466 & 32.31 & 27.22\\\\\n",
       "\\end{tabular}\n"
      ],
      "text/markdown": [
       "\n",
       "A tibble: 5 × 5\n",
       "\n",
       "| editcountbucket &lt;chr&gt; | control &lt;int&gt; | treatment &lt;int&gt; | control_pct &lt;dbl&gt; | treatment_pct &lt;dbl&gt; |\n",
       "|---|---|---|---|---|\n",
       "| 0 edits       | 1622 | 373 | 18.02 | 21.79 |\n",
       "| 1-4 edits     | 1258 | 228 | 13.98 | 13.32 |\n",
       "| 100-999 edits | 1414 | 294 | 15.71 | 17.17 |\n",
       "| 1000+ edits   | 1797 | 351 | 19.97 | 20.50 |\n",
       "| 5-99 edits    | 2908 | 466 | 32.31 | 27.22 |\n",
       "\n"
      ],
      "text/plain": [
       "  editcountbucket control treatment control_pct treatment_pct\n",
       "1 0 edits         1622    373       18.02       21.79        \n",
       "2 1-4 edits       1258    228       13.98       13.32        \n",
       "3 100-999 edits   1414    294       15.71       17.17        \n",
       "4 1000+ edits     1797    351       19.97       20.50        \n",
       "5 5-99 edits      2908    466       32.31       27.22        "
      ]
     },
     "metadata": {},
     "output_type": "display_data"
    }
   ],
   "source": [
    "df_editbucket_w"
   ]
  },
  {
   "cell_type": "markdown",
   "id": "44e8281b",
   "metadata": {},
   "source": [
    "__Note__  \n",
    "\n",
    "The proportions of each editcount bucket in treatment group and control group are close . Though control group has a larger portion of `5-99 edits` bucket, and a smaller portion of `0 edits` compared to treatment group, for the entire `<=99 edits` bucket, the proportions are close. \n"
   ]
  },
  {
   "cell_type": "markdown",
   "id": "d4ee78e7",
   "metadata": {},
   "source": [
    "### Distribution of number of clicks"
   ]
  },
  {
   "cell_type": "code",
   "execution_count": 91,
   "id": "f7f2a254",
   "metadata": {},
   "outputs": [],
   "source": [
    "df_his <- df %>% \n",
    "  filter(isanon=='false') %>%\n",
    "  group_by(test_group, clicks, editcountbucket) %>%\n",
    "  summarize(cnt=n(), .groups='drop') %>%\n",
    "  spread(test_group, cnt)"
   ]
  },
  {
   "cell_type": "code",
   "execution_count": 92,
   "id": "f5e3a3a6",
   "metadata": {},
   "outputs": [],
   "source": [
    "df_his[is.na(df_his)] <- 0"
   ]
  },
  {
   "cell_type": "code",
   "execution_count": 93,
   "id": "dca077ae",
   "metadata": {},
   "outputs": [
    {
     "data": {
      "text/html": [
       "<table class=\"dataframe\">\n",
       "<caption>A tibble: 64 × 4</caption>\n",
       "<thead>\n",
       "\t<tr><th scope=col>clicks</th><th scope=col>editcountbucket</th><th scope=col>control</th><th scope=col>treatment</th></tr>\n",
       "\t<tr><th scope=col>&lt;int&gt;</th><th scope=col>&lt;chr&gt;</th><th scope=col>&lt;int&gt;</th><th scope=col>&lt;int&gt;</th></tr>\n",
       "</thead>\n",
       "<tbody>\n",
       "\t<tr><td>1</td><td>0 edits      </td><td>1899</td><td>281</td></tr>\n",
       "\t<tr><td>1</td><td>1-4 edits    </td><td>1422</td><td>166</td></tr>\n",
       "\t<tr><td>1</td><td>100-999 edits</td><td>1908</td><td>257</td></tr>\n",
       "\t<tr><td>1</td><td>1000+ edits  </td><td>2683</td><td>312</td></tr>\n",
       "\t<tr><td>1</td><td>5-99 edits   </td><td>3646</td><td>363</td></tr>\n",
       "\t<tr><td>2</td><td>0 edits      </td><td> 177</td><td> 73</td></tr>\n",
       "\t<tr><td>2</td><td>1-4 edits    </td><td> 131</td><td> 50</td></tr>\n",
       "\t<tr><td>2</td><td>100-999 edits</td><td> 167</td><td> 53</td></tr>\n",
       "\t<tr><td>2</td><td>1000+ edits  </td><td> 194</td><td>127</td></tr>\n",
       "\t<tr><td>2</td><td>5-99 edits   </td><td> 279</td><td> 82</td></tr>\n",
       "\t<tr><td>3</td><td>0 edits      </td><td>  28</td><td> 24</td></tr>\n",
       "\t<tr><td>3</td><td>1-4 edits    </td><td>  21</td><td> 19</td></tr>\n",
       "\t<tr><td>3</td><td>100-999 edits</td><td>  21</td><td> 32</td></tr>\n",
       "\t<tr><td>3</td><td>1000+ edits  </td><td>  24</td><td> 23</td></tr>\n",
       "\t<tr><td>3</td><td>5-99 edits   </td><td>  40</td><td> 33</td></tr>\n",
       "\t<tr><td>4</td><td>0 edits      </td><td>  12</td><td> 13</td></tr>\n",
       "\t<tr><td>4</td><td>1-4 edits    </td><td>   9</td><td>  9</td></tr>\n",
       "\t<tr><td>4</td><td>100-999 edits</td><td>   8</td><td> 15</td></tr>\n",
       "\t<tr><td>4</td><td>1000+ edits  </td><td>  10</td><td>  8</td></tr>\n",
       "\t<tr><td>4</td><td>5-99 edits   </td><td>  14</td><td> 15</td></tr>\n",
       "\t<tr><td>5</td><td>0 edits      </td><td>   4</td><td>  8</td></tr>\n",
       "\t<tr><td>5</td><td>1-4 edits    </td><td>   2</td><td>  2</td></tr>\n",
       "\t<tr><td>5</td><td>100-999 edits</td><td>   2</td><td>  4</td></tr>\n",
       "\t<tr><td>5</td><td>1000+ edits  </td><td>   8</td><td>  5</td></tr>\n",
       "\t<tr><td>5</td><td>5-99 edits   </td><td>   6</td><td> 13</td></tr>\n",
       "\t<tr><td>6</td><td>0 edits      </td><td>   6</td><td>  8</td></tr>\n",
       "\t<tr><td>6</td><td>1-4 edits    </td><td>   2</td><td>  3</td></tr>\n",
       "\t<tr><td>6</td><td>100-999 edits</td><td>   2</td><td>  3</td></tr>\n",
       "\t<tr><td>6</td><td>1000+ edits  </td><td>   1</td><td>  5</td></tr>\n",
       "\t<tr><td>6</td><td>5-99 edits   </td><td>   2</td><td>  2</td></tr>\n",
       "\t<tr><td>⋮</td><td>⋮</td><td>⋮</td><td>⋮</td></tr>\n",
       "\t<tr><td> 7</td><td>5-99 edits   </td><td>1</td><td>4</td></tr>\n",
       "\t<tr><td> 8</td><td>0 edits      </td><td>1</td><td>2</td></tr>\n",
       "\t<tr><td> 8</td><td>1-4 edits    </td><td>0</td><td>1</td></tr>\n",
       "\t<tr><td> 8</td><td>100-999 edits</td><td>0</td><td>2</td></tr>\n",
       "\t<tr><td> 8</td><td>1000+ edits  </td><td>3</td><td>0</td></tr>\n",
       "\t<tr><td> 8</td><td>5-99 edits   </td><td>0</td><td>4</td></tr>\n",
       "\t<tr><td> 9</td><td>100-999 edits</td><td>0</td><td>2</td></tr>\n",
       "\t<tr><td> 9</td><td>1000+ edits  </td><td>0</td><td>3</td></tr>\n",
       "\t<tr><td> 9</td><td>5-99 edits   </td><td>1</td><td>7</td></tr>\n",
       "\t<tr><td>10</td><td>1-4 edits    </td><td>1</td><td>2</td></tr>\n",
       "\t<tr><td>10</td><td>1000+ edits  </td><td>1</td><td>1</td></tr>\n",
       "\t<tr><td>10</td><td>5-99 edits   </td><td>1</td><td>2</td></tr>\n",
       "\t<tr><td>11</td><td>0 edits      </td><td>0</td><td>2</td></tr>\n",
       "\t<tr><td>11</td><td>1-4 edits    </td><td>0</td><td>1</td></tr>\n",
       "\t<tr><td>11</td><td>100-999 edits</td><td>0</td><td>1</td></tr>\n",
       "\t<tr><td>11</td><td>1000+ edits  </td><td>0</td><td>1</td></tr>\n",
       "\t<tr><td>12</td><td>0 edits      </td><td>1</td><td>1</td></tr>\n",
       "\t<tr><td>12</td><td>1-4 edits    </td><td>0</td><td>1</td></tr>\n",
       "\t<tr><td>12</td><td>100-999 edits</td><td>0</td><td>1</td></tr>\n",
       "\t<tr><td>12</td><td>1000+ edits  </td><td>0</td><td>1</td></tr>\n",
       "\t<tr><td>12</td><td>5-99 edits   </td><td>1</td><td>1</td></tr>\n",
       "\t<tr><td>13</td><td>1-4 edits    </td><td>1</td><td>0</td></tr>\n",
       "\t<tr><td>13</td><td>1000+ edits  </td><td>0</td><td>1</td></tr>\n",
       "\t<tr><td>13</td><td>5-99 edits   </td><td>0</td><td>1</td></tr>\n",
       "\t<tr><td>14</td><td>5-99 edits   </td><td>0</td><td>1</td></tr>\n",
       "\t<tr><td>15</td><td>0 edits      </td><td>0</td><td>1</td></tr>\n",
       "\t<tr><td>16</td><td>5-99 edits   </td><td>0</td><td>1</td></tr>\n",
       "\t<tr><td>17</td><td>5-99 edits   </td><td>1</td><td>0</td></tr>\n",
       "\t<tr><td>19</td><td>1000+ edits  </td><td>0</td><td>1</td></tr>\n",
       "\t<tr><td>22</td><td>100-999 edits</td><td>1</td><td>0</td></tr>\n",
       "</tbody>\n",
       "</table>\n"
      ],
      "text/latex": [
       "A tibble: 64 × 4\n",
       "\\begin{tabular}{llll}\n",
       " clicks & editcountbucket & control & treatment\\\\\n",
       " <int> & <chr> & <int> & <int>\\\\\n",
       "\\hline\n",
       "\t 1 & 0 edits       & 1899 & 281\\\\\n",
       "\t 1 & 1-4 edits     & 1422 & 166\\\\\n",
       "\t 1 & 100-999 edits & 1908 & 257\\\\\n",
       "\t 1 & 1000+ edits   & 2683 & 312\\\\\n",
       "\t 1 & 5-99 edits    & 3646 & 363\\\\\n",
       "\t 2 & 0 edits       &  177 &  73\\\\\n",
       "\t 2 & 1-4 edits     &  131 &  50\\\\\n",
       "\t 2 & 100-999 edits &  167 &  53\\\\\n",
       "\t 2 & 1000+ edits   &  194 & 127\\\\\n",
       "\t 2 & 5-99 edits    &  279 &  82\\\\\n",
       "\t 3 & 0 edits       &   28 &  24\\\\\n",
       "\t 3 & 1-4 edits     &   21 &  19\\\\\n",
       "\t 3 & 100-999 edits &   21 &  32\\\\\n",
       "\t 3 & 1000+ edits   &   24 &  23\\\\\n",
       "\t 3 & 5-99 edits    &   40 &  33\\\\\n",
       "\t 4 & 0 edits       &   12 &  13\\\\\n",
       "\t 4 & 1-4 edits     &    9 &   9\\\\\n",
       "\t 4 & 100-999 edits &    8 &  15\\\\\n",
       "\t 4 & 1000+ edits   &   10 &   8\\\\\n",
       "\t 4 & 5-99 edits    &   14 &  15\\\\\n",
       "\t 5 & 0 edits       &    4 &   8\\\\\n",
       "\t 5 & 1-4 edits     &    2 &   2\\\\\n",
       "\t 5 & 100-999 edits &    2 &   4\\\\\n",
       "\t 5 & 1000+ edits   &    8 &   5\\\\\n",
       "\t 5 & 5-99 edits    &    6 &  13\\\\\n",
       "\t 6 & 0 edits       &    6 &   8\\\\\n",
       "\t 6 & 1-4 edits     &    2 &   3\\\\\n",
       "\t 6 & 100-999 edits &    2 &   3\\\\\n",
       "\t 6 & 1000+ edits   &    1 &   5\\\\\n",
       "\t 6 & 5-99 edits    &    2 &   2\\\\\n",
       "\t ⋮ & ⋮ & ⋮ & ⋮\\\\\n",
       "\t  7 & 5-99 edits    & 1 & 4\\\\\n",
       "\t  8 & 0 edits       & 1 & 2\\\\\n",
       "\t  8 & 1-4 edits     & 0 & 1\\\\\n",
       "\t  8 & 100-999 edits & 0 & 2\\\\\n",
       "\t  8 & 1000+ edits   & 3 & 0\\\\\n",
       "\t  8 & 5-99 edits    & 0 & 4\\\\\n",
       "\t  9 & 100-999 edits & 0 & 2\\\\\n",
       "\t  9 & 1000+ edits   & 0 & 3\\\\\n",
       "\t  9 & 5-99 edits    & 1 & 7\\\\\n",
       "\t 10 & 1-4 edits     & 1 & 2\\\\\n",
       "\t 10 & 1000+ edits   & 1 & 1\\\\\n",
       "\t 10 & 5-99 edits    & 1 & 2\\\\\n",
       "\t 11 & 0 edits       & 0 & 2\\\\\n",
       "\t 11 & 1-4 edits     & 0 & 1\\\\\n",
       "\t 11 & 100-999 edits & 0 & 1\\\\\n",
       "\t 11 & 1000+ edits   & 0 & 1\\\\\n",
       "\t 12 & 0 edits       & 1 & 1\\\\\n",
       "\t 12 & 1-4 edits     & 0 & 1\\\\\n",
       "\t 12 & 100-999 edits & 0 & 1\\\\\n",
       "\t 12 & 1000+ edits   & 0 & 1\\\\\n",
       "\t 12 & 5-99 edits    & 1 & 1\\\\\n",
       "\t 13 & 1-4 edits     & 1 & 0\\\\\n",
       "\t 13 & 1000+ edits   & 0 & 1\\\\\n",
       "\t 13 & 5-99 edits    & 0 & 1\\\\\n",
       "\t 14 & 5-99 edits    & 0 & 1\\\\\n",
       "\t 15 & 0 edits       & 0 & 1\\\\\n",
       "\t 16 & 5-99 edits    & 0 & 1\\\\\n",
       "\t 17 & 5-99 edits    & 1 & 0\\\\\n",
       "\t 19 & 1000+ edits   & 0 & 1\\\\\n",
       "\t 22 & 100-999 edits & 1 & 0\\\\\n",
       "\\end{tabular}\n"
      ],
      "text/markdown": [
       "\n",
       "A tibble: 64 × 4\n",
       "\n",
       "| clicks &lt;int&gt; | editcountbucket &lt;chr&gt; | control &lt;int&gt; | treatment &lt;int&gt; |\n",
       "|---|---|---|---|\n",
       "| 1 | 0 edits       | 1899 | 281 |\n",
       "| 1 | 1-4 edits     | 1422 | 166 |\n",
       "| 1 | 100-999 edits | 1908 | 257 |\n",
       "| 1 | 1000+ edits   | 2683 | 312 |\n",
       "| 1 | 5-99 edits    | 3646 | 363 |\n",
       "| 2 | 0 edits       |  177 |  73 |\n",
       "| 2 | 1-4 edits     |  131 |  50 |\n",
       "| 2 | 100-999 edits |  167 |  53 |\n",
       "| 2 | 1000+ edits   |  194 | 127 |\n",
       "| 2 | 5-99 edits    |  279 |  82 |\n",
       "| 3 | 0 edits       |   28 |  24 |\n",
       "| 3 | 1-4 edits     |   21 |  19 |\n",
       "| 3 | 100-999 edits |   21 |  32 |\n",
       "| 3 | 1000+ edits   |   24 |  23 |\n",
       "| 3 | 5-99 edits    |   40 |  33 |\n",
       "| 4 | 0 edits       |   12 |  13 |\n",
       "| 4 | 1-4 edits     |    9 |   9 |\n",
       "| 4 | 100-999 edits |    8 |  15 |\n",
       "| 4 | 1000+ edits   |   10 |   8 |\n",
       "| 4 | 5-99 edits    |   14 |  15 |\n",
       "| 5 | 0 edits       |    4 |   8 |\n",
       "| 5 | 1-4 edits     |    2 |   2 |\n",
       "| 5 | 100-999 edits |    2 |   4 |\n",
       "| 5 | 1000+ edits   |    8 |   5 |\n",
       "| 5 | 5-99 edits    |    6 |  13 |\n",
       "| 6 | 0 edits       |    6 |   8 |\n",
       "| 6 | 1-4 edits     |    2 |   3 |\n",
       "| 6 | 100-999 edits |    2 |   3 |\n",
       "| 6 | 1000+ edits   |    1 |   5 |\n",
       "| 6 | 5-99 edits    |    2 |   2 |\n",
       "| ⋮ | ⋮ | ⋮ | ⋮ |\n",
       "|  7 | 5-99 edits    | 1 | 4 |\n",
       "|  8 | 0 edits       | 1 | 2 |\n",
       "|  8 | 1-4 edits     | 0 | 1 |\n",
       "|  8 | 100-999 edits | 0 | 2 |\n",
       "|  8 | 1000+ edits   | 3 | 0 |\n",
       "|  8 | 5-99 edits    | 0 | 4 |\n",
       "|  9 | 100-999 edits | 0 | 2 |\n",
       "|  9 | 1000+ edits   | 0 | 3 |\n",
       "|  9 | 5-99 edits    | 1 | 7 |\n",
       "| 10 | 1-4 edits     | 1 | 2 |\n",
       "| 10 | 1000+ edits   | 1 | 1 |\n",
       "| 10 | 5-99 edits    | 1 | 2 |\n",
       "| 11 | 0 edits       | 0 | 2 |\n",
       "| 11 | 1-4 edits     | 0 | 1 |\n",
       "| 11 | 100-999 edits | 0 | 1 |\n",
       "| 11 | 1000+ edits   | 0 | 1 |\n",
       "| 12 | 0 edits       | 1 | 1 |\n",
       "| 12 | 1-4 edits     | 0 | 1 |\n",
       "| 12 | 100-999 edits | 0 | 1 |\n",
       "| 12 | 1000+ edits   | 0 | 1 |\n",
       "| 12 | 5-99 edits    | 1 | 1 |\n",
       "| 13 | 1-4 edits     | 1 | 0 |\n",
       "| 13 | 1000+ edits   | 0 | 1 |\n",
       "| 13 | 5-99 edits    | 0 | 1 |\n",
       "| 14 | 5-99 edits    | 0 | 1 |\n",
       "| 15 | 0 edits       | 0 | 1 |\n",
       "| 16 | 5-99 edits    | 0 | 1 |\n",
       "| 17 | 5-99 edits    | 1 | 0 |\n",
       "| 19 | 1000+ edits   | 0 | 1 |\n",
       "| 22 | 100-999 edits | 1 | 0 |\n",
       "\n"
      ],
      "text/plain": [
       "   clicks editcountbucket control treatment\n",
       "1  1      0 edits         1899    281      \n",
       "2  1      1-4 edits       1422    166      \n",
       "3  1      100-999 edits   1908    257      \n",
       "4  1      1000+ edits     2683    312      \n",
       "5  1      5-99 edits      3646    363      \n",
       "6  2      0 edits          177     73      \n",
       "7  2      1-4 edits        131     50      \n",
       "8  2      100-999 edits    167     53      \n",
       "9  2      1000+ edits      194    127      \n",
       "10 2      5-99 edits       279     82      \n",
       "11 3      0 edits           28     24      \n",
       "12 3      1-4 edits         21     19      \n",
       "13 3      100-999 edits     21     32      \n",
       "14 3      1000+ edits       24     23      \n",
       "15 3      5-99 edits        40     33      \n",
       "16 4      0 edits           12     13      \n",
       "17 4      1-4 edits          9      9      \n",
       "18 4      100-999 edits      8     15      \n",
       "19 4      1000+ edits       10      8      \n",
       "20 4      5-99 edits        14     15      \n",
       "21 5      0 edits            4      8      \n",
       "22 5      1-4 edits          2      2      \n",
       "23 5      100-999 edits      2      4      \n",
       "24 5      1000+ edits        8      5      \n",
       "25 5      5-99 edits         6     13      \n",
       "26 6      0 edits            6      8      \n",
       "27 6      1-4 edits          2      3      \n",
       "28 6      100-999 edits      2      3      \n",
       "29 6      1000+ edits        1      5      \n",
       "30 6      5-99 edits         2      2      \n",
       "⋮  ⋮      ⋮               ⋮       ⋮        \n",
       "35  7     5-99 edits      1       4        \n",
       "36  8     0 edits         1       2        \n",
       "37  8     1-4 edits       0       1        \n",
       "38  8     100-999 edits   0       2        \n",
       "39  8     1000+ edits     3       0        \n",
       "40  8     5-99 edits      0       4        \n",
       "41  9     100-999 edits   0       2        \n",
       "42  9     1000+ edits     0       3        \n",
       "43  9     5-99 edits      1       7        \n",
       "44 10     1-4 edits       1       2        \n",
       "45 10     1000+ edits     1       1        \n",
       "46 10     5-99 edits      1       2        \n",
       "47 11     0 edits         0       2        \n",
       "48 11     1-4 edits       0       1        \n",
       "49 11     100-999 edits   0       1        \n",
       "50 11     1000+ edits     0       1        \n",
       "51 12     0 edits         1       1        \n",
       "52 12     1-4 edits       0       1        \n",
       "53 12     100-999 edits   0       1        \n",
       "54 12     1000+ edits     0       1        \n",
       "55 12     5-99 edits      1       1        \n",
       "56 13     1-4 edits       1       0        \n",
       "57 13     1000+ edits     0       1        \n",
       "58 13     5-99 edits      0       1        \n",
       "59 14     5-99 edits      0       1        \n",
       "60 15     0 edits         0       1        \n",
       "61 16     5-99 edits      0       1        \n",
       "62 17     5-99 edits      1       0        \n",
       "63 19     1000+ edits     0       1        \n",
       "64 22     100-999 edits   1       0        "
      ]
     },
     "metadata": {},
     "output_type": "display_data"
    }
   ],
   "source": [
    "df_his"
   ]
  },
  {
   "cell_type": "code",
   "execution_count": 62,
   "id": "088af558",
   "metadata": {},
   "outputs": [
    {
     "data": {
      "text/html": [
       "12746"
      ],
      "text/latex": [
       "12746"
      ],
      "text/markdown": [
       "12746"
      ],
      "text/plain": [
       "[1] 12746"
      ]
     },
     "metadata": {},
     "output_type": "display_data"
    }
   ],
   "source": [
    "sum(df_his[, 'control'])"
   ]
  },
  {
   "cell_type": "code",
   "execution_count": 63,
   "id": "28cfe9c6",
   "metadata": {},
   "outputs": [
    {
     "data": {
      "text/html": [
       "2068"
      ],
      "text/latex": [
       "2068"
      ],
      "text/markdown": [
       "2068"
      ],
      "text/plain": [
       "[1] 2068"
      ]
     },
     "metadata": {},
     "output_type": "display_data"
    }
   ],
   "source": [
    "sum(df_his[, 'treatment'])"
   ]
  },
  {
   "cell_type": "code",
   "execution_count": 94,
   "id": "647db89d",
   "metadata": {},
   "outputs": [],
   "source": [
    "df_his <- df_his %>%\n",
    "  mutate(\n",
    "    control_pct = round(control*100/12746,2) ,\n",
    "    treatment_pct = round(treatment*100/2068,2) \n",
    " )"
   ]
  },
  {
   "cell_type": "code",
   "execution_count": 95,
   "id": "ca152018",
   "metadata": {},
   "outputs": [
    {
     "data": {
      "text/html": [
       "<table class=\"dataframe\">\n",
       "<caption>A tibble: 64 × 6</caption>\n",
       "<thead>\n",
       "\t<tr><th scope=col>clicks</th><th scope=col>editcountbucket</th><th scope=col>control</th><th scope=col>treatment</th><th scope=col>control_pct</th><th scope=col>treatment_pct</th></tr>\n",
       "\t<tr><th scope=col>&lt;int&gt;</th><th scope=col>&lt;chr&gt;</th><th scope=col>&lt;int&gt;</th><th scope=col>&lt;int&gt;</th><th scope=col>&lt;dbl&gt;</th><th scope=col>&lt;dbl&gt;</th></tr>\n",
       "</thead>\n",
       "<tbody>\n",
       "\t<tr><td>1</td><td>0 edits      </td><td>1899</td><td>281</td><td>14.90</td><td>13.59</td></tr>\n",
       "\t<tr><td>1</td><td>1-4 edits    </td><td>1422</td><td>166</td><td>11.16</td><td> 8.03</td></tr>\n",
       "\t<tr><td>1</td><td>100-999 edits</td><td>1908</td><td>257</td><td>14.97</td><td>12.43</td></tr>\n",
       "\t<tr><td>1</td><td>1000+ edits  </td><td>2683</td><td>312</td><td>21.05</td><td>15.09</td></tr>\n",
       "\t<tr><td>1</td><td>5-99 edits   </td><td>3646</td><td>363</td><td>28.61</td><td>17.55</td></tr>\n",
       "\t<tr><td>2</td><td>0 edits      </td><td> 177</td><td> 73</td><td> 1.39</td><td> 3.53</td></tr>\n",
       "\t<tr><td>2</td><td>1-4 edits    </td><td> 131</td><td> 50</td><td> 1.03</td><td> 2.42</td></tr>\n",
       "\t<tr><td>2</td><td>100-999 edits</td><td> 167</td><td> 53</td><td> 1.31</td><td> 2.56</td></tr>\n",
       "\t<tr><td>2</td><td>1000+ edits  </td><td> 194</td><td>127</td><td> 1.52</td><td> 6.14</td></tr>\n",
       "\t<tr><td>2</td><td>5-99 edits   </td><td> 279</td><td> 82</td><td> 2.19</td><td> 3.97</td></tr>\n",
       "\t<tr><td>3</td><td>0 edits      </td><td>  28</td><td> 24</td><td> 0.22</td><td> 1.16</td></tr>\n",
       "\t<tr><td>3</td><td>1-4 edits    </td><td>  21</td><td> 19</td><td> 0.16</td><td> 0.92</td></tr>\n",
       "\t<tr><td>3</td><td>100-999 edits</td><td>  21</td><td> 32</td><td> 0.16</td><td> 1.55</td></tr>\n",
       "\t<tr><td>3</td><td>1000+ edits  </td><td>  24</td><td> 23</td><td> 0.19</td><td> 1.11</td></tr>\n",
       "\t<tr><td>3</td><td>5-99 edits   </td><td>  40</td><td> 33</td><td> 0.31</td><td> 1.60</td></tr>\n",
       "\t<tr><td>4</td><td>0 edits      </td><td>  12</td><td> 13</td><td> 0.09</td><td> 0.63</td></tr>\n",
       "\t<tr><td>4</td><td>1-4 edits    </td><td>   9</td><td>  9</td><td> 0.07</td><td> 0.44</td></tr>\n",
       "\t<tr><td>4</td><td>100-999 edits</td><td>   8</td><td> 15</td><td> 0.06</td><td> 0.73</td></tr>\n",
       "\t<tr><td>4</td><td>1000+ edits  </td><td>  10</td><td>  8</td><td> 0.08</td><td> 0.39</td></tr>\n",
       "\t<tr><td>4</td><td>5-99 edits   </td><td>  14</td><td> 15</td><td> 0.11</td><td> 0.73</td></tr>\n",
       "\t<tr><td>5</td><td>0 edits      </td><td>   4</td><td>  8</td><td> 0.03</td><td> 0.39</td></tr>\n",
       "\t<tr><td>5</td><td>1-4 edits    </td><td>   2</td><td>  2</td><td> 0.02</td><td> 0.10</td></tr>\n",
       "\t<tr><td>5</td><td>100-999 edits</td><td>   2</td><td>  4</td><td> 0.02</td><td> 0.19</td></tr>\n",
       "\t<tr><td>5</td><td>1000+ edits  </td><td>   8</td><td>  5</td><td> 0.06</td><td> 0.24</td></tr>\n",
       "\t<tr><td>5</td><td>5-99 edits   </td><td>   6</td><td> 13</td><td> 0.05</td><td> 0.63</td></tr>\n",
       "\t<tr><td>6</td><td>0 edits      </td><td>   6</td><td>  8</td><td> 0.05</td><td> 0.39</td></tr>\n",
       "\t<tr><td>6</td><td>1-4 edits    </td><td>   2</td><td>  3</td><td> 0.02</td><td> 0.15</td></tr>\n",
       "\t<tr><td>6</td><td>100-999 edits</td><td>   2</td><td>  3</td><td> 0.02</td><td> 0.15</td></tr>\n",
       "\t<tr><td>6</td><td>1000+ edits  </td><td>   1</td><td>  5</td><td> 0.01</td><td> 0.24</td></tr>\n",
       "\t<tr><td>6</td><td>5-99 edits   </td><td>   2</td><td>  2</td><td> 0.02</td><td> 0.10</td></tr>\n",
       "\t<tr><td>⋮</td><td>⋮</td><td>⋮</td><td>⋮</td><td>⋮</td><td>⋮</td></tr>\n",
       "\t<tr><td> 7</td><td>5-99 edits   </td><td>1</td><td>4</td><td>0.01</td><td>0.19</td></tr>\n",
       "\t<tr><td> 8</td><td>0 edits      </td><td>1</td><td>2</td><td>0.01</td><td>0.10</td></tr>\n",
       "\t<tr><td> 8</td><td>1-4 edits    </td><td>0</td><td>1</td><td>0.00</td><td>0.05</td></tr>\n",
       "\t<tr><td> 8</td><td>100-999 edits</td><td>0</td><td>2</td><td>0.00</td><td>0.10</td></tr>\n",
       "\t<tr><td> 8</td><td>1000+ edits  </td><td>3</td><td>0</td><td>0.02</td><td>0.00</td></tr>\n",
       "\t<tr><td> 8</td><td>5-99 edits   </td><td>0</td><td>4</td><td>0.00</td><td>0.19</td></tr>\n",
       "\t<tr><td> 9</td><td>100-999 edits</td><td>0</td><td>2</td><td>0.00</td><td>0.10</td></tr>\n",
       "\t<tr><td> 9</td><td>1000+ edits  </td><td>0</td><td>3</td><td>0.00</td><td>0.15</td></tr>\n",
       "\t<tr><td> 9</td><td>5-99 edits   </td><td>1</td><td>7</td><td>0.01</td><td>0.34</td></tr>\n",
       "\t<tr><td>10</td><td>1-4 edits    </td><td>1</td><td>2</td><td>0.01</td><td>0.10</td></tr>\n",
       "\t<tr><td>10</td><td>1000+ edits  </td><td>1</td><td>1</td><td>0.01</td><td>0.05</td></tr>\n",
       "\t<tr><td>10</td><td>5-99 edits   </td><td>1</td><td>2</td><td>0.01</td><td>0.10</td></tr>\n",
       "\t<tr><td>11</td><td>0 edits      </td><td>0</td><td>2</td><td>0.00</td><td>0.10</td></tr>\n",
       "\t<tr><td>11</td><td>1-4 edits    </td><td>0</td><td>1</td><td>0.00</td><td>0.05</td></tr>\n",
       "\t<tr><td>11</td><td>100-999 edits</td><td>0</td><td>1</td><td>0.00</td><td>0.05</td></tr>\n",
       "\t<tr><td>11</td><td>1000+ edits  </td><td>0</td><td>1</td><td>0.00</td><td>0.05</td></tr>\n",
       "\t<tr><td>12</td><td>0 edits      </td><td>1</td><td>1</td><td>0.01</td><td>0.05</td></tr>\n",
       "\t<tr><td>12</td><td>1-4 edits    </td><td>0</td><td>1</td><td>0.00</td><td>0.05</td></tr>\n",
       "\t<tr><td>12</td><td>100-999 edits</td><td>0</td><td>1</td><td>0.00</td><td>0.05</td></tr>\n",
       "\t<tr><td>12</td><td>1000+ edits  </td><td>0</td><td>1</td><td>0.00</td><td>0.05</td></tr>\n",
       "\t<tr><td>12</td><td>5-99 edits   </td><td>1</td><td>1</td><td>0.01</td><td>0.05</td></tr>\n",
       "\t<tr><td>13</td><td>1-4 edits    </td><td>1</td><td>0</td><td>0.01</td><td>0.00</td></tr>\n",
       "\t<tr><td>13</td><td>1000+ edits  </td><td>0</td><td>1</td><td>0.00</td><td>0.05</td></tr>\n",
       "\t<tr><td>13</td><td>5-99 edits   </td><td>0</td><td>1</td><td>0.00</td><td>0.05</td></tr>\n",
       "\t<tr><td>14</td><td>5-99 edits   </td><td>0</td><td>1</td><td>0.00</td><td>0.05</td></tr>\n",
       "\t<tr><td>15</td><td>0 edits      </td><td>0</td><td>1</td><td>0.00</td><td>0.05</td></tr>\n",
       "\t<tr><td>16</td><td>5-99 edits   </td><td>0</td><td>1</td><td>0.00</td><td>0.05</td></tr>\n",
       "\t<tr><td>17</td><td>5-99 edits   </td><td>1</td><td>0</td><td>0.01</td><td>0.00</td></tr>\n",
       "\t<tr><td>19</td><td>1000+ edits  </td><td>0</td><td>1</td><td>0.00</td><td>0.05</td></tr>\n",
       "\t<tr><td>22</td><td>100-999 edits</td><td>1</td><td>0</td><td>0.01</td><td>0.00</td></tr>\n",
       "</tbody>\n",
       "</table>\n"
      ],
      "text/latex": [
       "A tibble: 64 × 6\n",
       "\\begin{tabular}{llllll}\n",
       " clicks & editcountbucket & control & treatment & control\\_pct & treatment\\_pct\\\\\n",
       " <int> & <chr> & <int> & <int> & <dbl> & <dbl>\\\\\n",
       "\\hline\n",
       "\t 1 & 0 edits       & 1899 & 281 & 14.90 & 13.59\\\\\n",
       "\t 1 & 1-4 edits     & 1422 & 166 & 11.16 &  8.03\\\\\n",
       "\t 1 & 100-999 edits & 1908 & 257 & 14.97 & 12.43\\\\\n",
       "\t 1 & 1000+ edits   & 2683 & 312 & 21.05 & 15.09\\\\\n",
       "\t 1 & 5-99 edits    & 3646 & 363 & 28.61 & 17.55\\\\\n",
       "\t 2 & 0 edits       &  177 &  73 &  1.39 &  3.53\\\\\n",
       "\t 2 & 1-4 edits     &  131 &  50 &  1.03 &  2.42\\\\\n",
       "\t 2 & 100-999 edits &  167 &  53 &  1.31 &  2.56\\\\\n",
       "\t 2 & 1000+ edits   &  194 & 127 &  1.52 &  6.14\\\\\n",
       "\t 2 & 5-99 edits    &  279 &  82 &  2.19 &  3.97\\\\\n",
       "\t 3 & 0 edits       &   28 &  24 &  0.22 &  1.16\\\\\n",
       "\t 3 & 1-4 edits     &   21 &  19 &  0.16 &  0.92\\\\\n",
       "\t 3 & 100-999 edits &   21 &  32 &  0.16 &  1.55\\\\\n",
       "\t 3 & 1000+ edits   &   24 &  23 &  0.19 &  1.11\\\\\n",
       "\t 3 & 5-99 edits    &   40 &  33 &  0.31 &  1.60\\\\\n",
       "\t 4 & 0 edits       &   12 &  13 &  0.09 &  0.63\\\\\n",
       "\t 4 & 1-4 edits     &    9 &   9 &  0.07 &  0.44\\\\\n",
       "\t 4 & 100-999 edits &    8 &  15 &  0.06 &  0.73\\\\\n",
       "\t 4 & 1000+ edits   &   10 &   8 &  0.08 &  0.39\\\\\n",
       "\t 4 & 5-99 edits    &   14 &  15 &  0.11 &  0.73\\\\\n",
       "\t 5 & 0 edits       &    4 &   8 &  0.03 &  0.39\\\\\n",
       "\t 5 & 1-4 edits     &    2 &   2 &  0.02 &  0.10\\\\\n",
       "\t 5 & 100-999 edits &    2 &   4 &  0.02 &  0.19\\\\\n",
       "\t 5 & 1000+ edits   &    8 &   5 &  0.06 &  0.24\\\\\n",
       "\t 5 & 5-99 edits    &    6 &  13 &  0.05 &  0.63\\\\\n",
       "\t 6 & 0 edits       &    6 &   8 &  0.05 &  0.39\\\\\n",
       "\t 6 & 1-4 edits     &    2 &   3 &  0.02 &  0.15\\\\\n",
       "\t 6 & 100-999 edits &    2 &   3 &  0.02 &  0.15\\\\\n",
       "\t 6 & 1000+ edits   &    1 &   5 &  0.01 &  0.24\\\\\n",
       "\t 6 & 5-99 edits    &    2 &   2 &  0.02 &  0.10\\\\\n",
       "\t ⋮ & ⋮ & ⋮ & ⋮ & ⋮ & ⋮\\\\\n",
       "\t  7 & 5-99 edits    & 1 & 4 & 0.01 & 0.19\\\\\n",
       "\t  8 & 0 edits       & 1 & 2 & 0.01 & 0.10\\\\\n",
       "\t  8 & 1-4 edits     & 0 & 1 & 0.00 & 0.05\\\\\n",
       "\t  8 & 100-999 edits & 0 & 2 & 0.00 & 0.10\\\\\n",
       "\t  8 & 1000+ edits   & 3 & 0 & 0.02 & 0.00\\\\\n",
       "\t  8 & 5-99 edits    & 0 & 4 & 0.00 & 0.19\\\\\n",
       "\t  9 & 100-999 edits & 0 & 2 & 0.00 & 0.10\\\\\n",
       "\t  9 & 1000+ edits   & 0 & 3 & 0.00 & 0.15\\\\\n",
       "\t  9 & 5-99 edits    & 1 & 7 & 0.01 & 0.34\\\\\n",
       "\t 10 & 1-4 edits     & 1 & 2 & 0.01 & 0.10\\\\\n",
       "\t 10 & 1000+ edits   & 1 & 1 & 0.01 & 0.05\\\\\n",
       "\t 10 & 5-99 edits    & 1 & 2 & 0.01 & 0.10\\\\\n",
       "\t 11 & 0 edits       & 0 & 2 & 0.00 & 0.10\\\\\n",
       "\t 11 & 1-4 edits     & 0 & 1 & 0.00 & 0.05\\\\\n",
       "\t 11 & 100-999 edits & 0 & 1 & 0.00 & 0.05\\\\\n",
       "\t 11 & 1000+ edits   & 0 & 1 & 0.00 & 0.05\\\\\n",
       "\t 12 & 0 edits       & 1 & 1 & 0.01 & 0.05\\\\\n",
       "\t 12 & 1-4 edits     & 0 & 1 & 0.00 & 0.05\\\\\n",
       "\t 12 & 100-999 edits & 0 & 1 & 0.00 & 0.05\\\\\n",
       "\t 12 & 1000+ edits   & 0 & 1 & 0.00 & 0.05\\\\\n",
       "\t 12 & 5-99 edits    & 1 & 1 & 0.01 & 0.05\\\\\n",
       "\t 13 & 1-4 edits     & 1 & 0 & 0.01 & 0.00\\\\\n",
       "\t 13 & 1000+ edits   & 0 & 1 & 0.00 & 0.05\\\\\n",
       "\t 13 & 5-99 edits    & 0 & 1 & 0.00 & 0.05\\\\\n",
       "\t 14 & 5-99 edits    & 0 & 1 & 0.00 & 0.05\\\\\n",
       "\t 15 & 0 edits       & 0 & 1 & 0.00 & 0.05\\\\\n",
       "\t 16 & 5-99 edits    & 0 & 1 & 0.00 & 0.05\\\\\n",
       "\t 17 & 5-99 edits    & 1 & 0 & 0.01 & 0.00\\\\\n",
       "\t 19 & 1000+ edits   & 0 & 1 & 0.00 & 0.05\\\\\n",
       "\t 22 & 100-999 edits & 1 & 0 & 0.01 & 0.00\\\\\n",
       "\\end{tabular}\n"
      ],
      "text/markdown": [
       "\n",
       "A tibble: 64 × 6\n",
       "\n",
       "| clicks &lt;int&gt; | editcountbucket &lt;chr&gt; | control &lt;int&gt; | treatment &lt;int&gt; | control_pct &lt;dbl&gt; | treatment_pct &lt;dbl&gt; |\n",
       "|---|---|---|---|---|---|\n",
       "| 1 | 0 edits       | 1899 | 281 | 14.90 | 13.59 |\n",
       "| 1 | 1-4 edits     | 1422 | 166 | 11.16 |  8.03 |\n",
       "| 1 | 100-999 edits | 1908 | 257 | 14.97 | 12.43 |\n",
       "| 1 | 1000+ edits   | 2683 | 312 | 21.05 | 15.09 |\n",
       "| 1 | 5-99 edits    | 3646 | 363 | 28.61 | 17.55 |\n",
       "| 2 | 0 edits       |  177 |  73 |  1.39 |  3.53 |\n",
       "| 2 | 1-4 edits     |  131 |  50 |  1.03 |  2.42 |\n",
       "| 2 | 100-999 edits |  167 |  53 |  1.31 |  2.56 |\n",
       "| 2 | 1000+ edits   |  194 | 127 |  1.52 |  6.14 |\n",
       "| 2 | 5-99 edits    |  279 |  82 |  2.19 |  3.97 |\n",
       "| 3 | 0 edits       |   28 |  24 |  0.22 |  1.16 |\n",
       "| 3 | 1-4 edits     |   21 |  19 |  0.16 |  0.92 |\n",
       "| 3 | 100-999 edits |   21 |  32 |  0.16 |  1.55 |\n",
       "| 3 | 1000+ edits   |   24 |  23 |  0.19 |  1.11 |\n",
       "| 3 | 5-99 edits    |   40 |  33 |  0.31 |  1.60 |\n",
       "| 4 | 0 edits       |   12 |  13 |  0.09 |  0.63 |\n",
       "| 4 | 1-4 edits     |    9 |   9 |  0.07 |  0.44 |\n",
       "| 4 | 100-999 edits |    8 |  15 |  0.06 |  0.73 |\n",
       "| 4 | 1000+ edits   |   10 |   8 |  0.08 |  0.39 |\n",
       "| 4 | 5-99 edits    |   14 |  15 |  0.11 |  0.73 |\n",
       "| 5 | 0 edits       |    4 |   8 |  0.03 |  0.39 |\n",
       "| 5 | 1-4 edits     |    2 |   2 |  0.02 |  0.10 |\n",
       "| 5 | 100-999 edits |    2 |   4 |  0.02 |  0.19 |\n",
       "| 5 | 1000+ edits   |    8 |   5 |  0.06 |  0.24 |\n",
       "| 5 | 5-99 edits    |    6 |  13 |  0.05 |  0.63 |\n",
       "| 6 | 0 edits       |    6 |   8 |  0.05 |  0.39 |\n",
       "| 6 | 1-4 edits     |    2 |   3 |  0.02 |  0.15 |\n",
       "| 6 | 100-999 edits |    2 |   3 |  0.02 |  0.15 |\n",
       "| 6 | 1000+ edits   |    1 |   5 |  0.01 |  0.24 |\n",
       "| 6 | 5-99 edits    |    2 |   2 |  0.02 |  0.10 |\n",
       "| ⋮ | ⋮ | ⋮ | ⋮ | ⋮ | ⋮ |\n",
       "|  7 | 5-99 edits    | 1 | 4 | 0.01 | 0.19 |\n",
       "|  8 | 0 edits       | 1 | 2 | 0.01 | 0.10 |\n",
       "|  8 | 1-4 edits     | 0 | 1 | 0.00 | 0.05 |\n",
       "|  8 | 100-999 edits | 0 | 2 | 0.00 | 0.10 |\n",
       "|  8 | 1000+ edits   | 3 | 0 | 0.02 | 0.00 |\n",
       "|  8 | 5-99 edits    | 0 | 4 | 0.00 | 0.19 |\n",
       "|  9 | 100-999 edits | 0 | 2 | 0.00 | 0.10 |\n",
       "|  9 | 1000+ edits   | 0 | 3 | 0.00 | 0.15 |\n",
       "|  9 | 5-99 edits    | 1 | 7 | 0.01 | 0.34 |\n",
       "| 10 | 1-4 edits     | 1 | 2 | 0.01 | 0.10 |\n",
       "| 10 | 1000+ edits   | 1 | 1 | 0.01 | 0.05 |\n",
       "| 10 | 5-99 edits    | 1 | 2 | 0.01 | 0.10 |\n",
       "| 11 | 0 edits       | 0 | 2 | 0.00 | 0.10 |\n",
       "| 11 | 1-4 edits     | 0 | 1 | 0.00 | 0.05 |\n",
       "| 11 | 100-999 edits | 0 | 1 | 0.00 | 0.05 |\n",
       "| 11 | 1000+ edits   | 0 | 1 | 0.00 | 0.05 |\n",
       "| 12 | 0 edits       | 1 | 1 | 0.01 | 0.05 |\n",
       "| 12 | 1-4 edits     | 0 | 1 | 0.00 | 0.05 |\n",
       "| 12 | 100-999 edits | 0 | 1 | 0.00 | 0.05 |\n",
       "| 12 | 1000+ edits   | 0 | 1 | 0.00 | 0.05 |\n",
       "| 12 | 5-99 edits    | 1 | 1 | 0.01 | 0.05 |\n",
       "| 13 | 1-4 edits     | 1 | 0 | 0.01 | 0.00 |\n",
       "| 13 | 1000+ edits   | 0 | 1 | 0.00 | 0.05 |\n",
       "| 13 | 5-99 edits    | 0 | 1 | 0.00 | 0.05 |\n",
       "| 14 | 5-99 edits    | 0 | 1 | 0.00 | 0.05 |\n",
       "| 15 | 0 edits       | 0 | 1 | 0.00 | 0.05 |\n",
       "| 16 | 5-99 edits    | 0 | 1 | 0.00 | 0.05 |\n",
       "| 17 | 5-99 edits    | 1 | 0 | 0.01 | 0.00 |\n",
       "| 19 | 1000+ edits   | 0 | 1 | 0.00 | 0.05 |\n",
       "| 22 | 100-999 edits | 1 | 0 | 0.01 | 0.00 |\n",
       "\n"
      ],
      "text/plain": [
       "   clicks editcountbucket control treatment control_pct treatment_pct\n",
       "1  1      0 edits         1899    281       14.90       13.59        \n",
       "2  1      1-4 edits       1422    166       11.16        8.03        \n",
       "3  1      100-999 edits   1908    257       14.97       12.43        \n",
       "4  1      1000+ edits     2683    312       21.05       15.09        \n",
       "5  1      5-99 edits      3646    363       28.61       17.55        \n",
       "6  2      0 edits          177     73        1.39        3.53        \n",
       "7  2      1-4 edits        131     50        1.03        2.42        \n",
       "8  2      100-999 edits    167     53        1.31        2.56        \n",
       "9  2      1000+ edits      194    127        1.52        6.14        \n",
       "10 2      5-99 edits       279     82        2.19        3.97        \n",
       "11 3      0 edits           28     24        0.22        1.16        \n",
       "12 3      1-4 edits         21     19        0.16        0.92        \n",
       "13 3      100-999 edits     21     32        0.16        1.55        \n",
       "14 3      1000+ edits       24     23        0.19        1.11        \n",
       "15 3      5-99 edits        40     33        0.31        1.60        \n",
       "16 4      0 edits           12     13        0.09        0.63        \n",
       "17 4      1-4 edits          9      9        0.07        0.44        \n",
       "18 4      100-999 edits      8     15        0.06        0.73        \n",
       "19 4      1000+ edits       10      8        0.08        0.39        \n",
       "20 4      5-99 edits        14     15        0.11        0.73        \n",
       "21 5      0 edits            4      8        0.03        0.39        \n",
       "22 5      1-4 edits          2      2        0.02        0.10        \n",
       "23 5      100-999 edits      2      4        0.02        0.19        \n",
       "24 5      1000+ edits        8      5        0.06        0.24        \n",
       "25 5      5-99 edits         6     13        0.05        0.63        \n",
       "26 6      0 edits            6      8        0.05        0.39        \n",
       "27 6      1-4 edits          2      3        0.02        0.15        \n",
       "28 6      100-999 edits      2      3        0.02        0.15        \n",
       "29 6      1000+ edits        1      5        0.01        0.24        \n",
       "30 6      5-99 edits         2      2        0.02        0.10        \n",
       "⋮  ⋮      ⋮               ⋮       ⋮         ⋮           ⋮            \n",
       "35  7     5-99 edits      1       4         0.01        0.19         \n",
       "36  8     0 edits         1       2         0.01        0.10         \n",
       "37  8     1-4 edits       0       1         0.00        0.05         \n",
       "38  8     100-999 edits   0       2         0.00        0.10         \n",
       "39  8     1000+ edits     3       0         0.02        0.00         \n",
       "40  8     5-99 edits      0       4         0.00        0.19         \n",
       "41  9     100-999 edits   0       2         0.00        0.10         \n",
       "42  9     1000+ edits     0       3         0.00        0.15         \n",
       "43  9     5-99 edits      1       7         0.01        0.34         \n",
       "44 10     1-4 edits       1       2         0.01        0.10         \n",
       "45 10     1000+ edits     1       1         0.01        0.05         \n",
       "46 10     5-99 edits      1       2         0.01        0.10         \n",
       "47 11     0 edits         0       2         0.00        0.10         \n",
       "48 11     1-4 edits       0       1         0.00        0.05         \n",
       "49 11     100-999 edits   0       1         0.00        0.05         \n",
       "50 11     1000+ edits     0       1         0.00        0.05         \n",
       "51 12     0 edits         1       1         0.01        0.05         \n",
       "52 12     1-4 edits       0       1         0.00        0.05         \n",
       "53 12     100-999 edits   0       1         0.00        0.05         \n",
       "54 12     1000+ edits     0       1         0.00        0.05         \n",
       "55 12     5-99 edits      1       1         0.01        0.05         \n",
       "56 13     1-4 edits       1       0         0.01        0.00         \n",
       "57 13     1000+ edits     0       1         0.00        0.05         \n",
       "58 13     5-99 edits      0       1         0.00        0.05         \n",
       "59 14     5-99 edits      0       1         0.00        0.05         \n",
       "60 15     0 edits         0       1         0.00        0.05         \n",
       "61 16     5-99 edits      0       1         0.00        0.05         \n",
       "62 17     5-99 edits      1       0         0.01        0.00         \n",
       "63 19     1000+ edits     0       1         0.00        0.05         \n",
       "64 22     100-999 edits   1       0         0.01        0.00         "
      ]
     },
     "metadata": {},
     "output_type": "display_data"
    }
   ],
   "source": [
    "df_his"
   ]
  },
  {
   "cell_type": "code",
   "execution_count": 106,
   "id": "475b3751",
   "metadata": {},
   "outputs": [],
   "source": [
    "df_his_L <- df_his %>%\n",
    "   gather(\"test_group\",\"proportion\",5:6) %>% \n",
    "      mutate(\n",
    "        editcountbucket_lab = factor(\n",
    "            editcountbucket , \n",
    "            levels = c(\"0 edits\", \"1-4 edits\", \"5-99 edits\",\"100-999 edits\", \"1000+ edits\")\n",
    "              )\n",
    "          )"
   ]
  },
  {
   "cell_type": "code",
   "execution_count": 107,
   "id": "5bb92923",
   "metadata": {},
   "outputs": [
    {
     "data": {
      "text/html": [
       "<table class=\"dataframe\">\n",
       "<caption>A tibble: 128 × 7</caption>\n",
       "<thead>\n",
       "\t<tr><th scope=col>clicks</th><th scope=col>editcountbucket</th><th scope=col>control</th><th scope=col>treatment</th><th scope=col>test_group</th><th scope=col>proportion</th><th scope=col>editcountbucket_lab</th></tr>\n",
       "\t<tr><th scope=col>&lt;int&gt;</th><th scope=col>&lt;chr&gt;</th><th scope=col>&lt;int&gt;</th><th scope=col>&lt;int&gt;</th><th scope=col>&lt;chr&gt;</th><th scope=col>&lt;dbl&gt;</th><th scope=col>&lt;fct&gt;</th></tr>\n",
       "</thead>\n",
       "<tbody>\n",
       "\t<tr><td>1</td><td>0 edits      </td><td>1899</td><td>281</td><td>control_pct</td><td>14.90</td><td>0 edits      </td></tr>\n",
       "\t<tr><td>1</td><td>1-4 edits    </td><td>1422</td><td>166</td><td>control_pct</td><td>11.16</td><td>1-4 edits    </td></tr>\n",
       "\t<tr><td>1</td><td>100-999 edits</td><td>1908</td><td>257</td><td>control_pct</td><td>14.97</td><td>100-999 edits</td></tr>\n",
       "\t<tr><td>1</td><td>1000+ edits  </td><td>2683</td><td>312</td><td>control_pct</td><td>21.05</td><td>1000+ edits  </td></tr>\n",
       "\t<tr><td>1</td><td>5-99 edits   </td><td>3646</td><td>363</td><td>control_pct</td><td>28.61</td><td>5-99 edits   </td></tr>\n",
       "\t<tr><td>2</td><td>0 edits      </td><td> 177</td><td> 73</td><td>control_pct</td><td> 1.39</td><td>0 edits      </td></tr>\n",
       "\t<tr><td>2</td><td>1-4 edits    </td><td> 131</td><td> 50</td><td>control_pct</td><td> 1.03</td><td>1-4 edits    </td></tr>\n",
       "\t<tr><td>2</td><td>100-999 edits</td><td> 167</td><td> 53</td><td>control_pct</td><td> 1.31</td><td>100-999 edits</td></tr>\n",
       "\t<tr><td>2</td><td>1000+ edits  </td><td> 194</td><td>127</td><td>control_pct</td><td> 1.52</td><td>1000+ edits  </td></tr>\n",
       "\t<tr><td>2</td><td>5-99 edits   </td><td> 279</td><td> 82</td><td>control_pct</td><td> 2.19</td><td>5-99 edits   </td></tr>\n",
       "\t<tr><td>3</td><td>0 edits      </td><td>  28</td><td> 24</td><td>control_pct</td><td> 0.22</td><td>0 edits      </td></tr>\n",
       "\t<tr><td>3</td><td>1-4 edits    </td><td>  21</td><td> 19</td><td>control_pct</td><td> 0.16</td><td>1-4 edits    </td></tr>\n",
       "\t<tr><td>3</td><td>100-999 edits</td><td>  21</td><td> 32</td><td>control_pct</td><td> 0.16</td><td>100-999 edits</td></tr>\n",
       "\t<tr><td>3</td><td>1000+ edits  </td><td>  24</td><td> 23</td><td>control_pct</td><td> 0.19</td><td>1000+ edits  </td></tr>\n",
       "\t<tr><td>3</td><td>5-99 edits   </td><td>  40</td><td> 33</td><td>control_pct</td><td> 0.31</td><td>5-99 edits   </td></tr>\n",
       "\t<tr><td>4</td><td>0 edits      </td><td>  12</td><td> 13</td><td>control_pct</td><td> 0.09</td><td>0 edits      </td></tr>\n",
       "\t<tr><td>4</td><td>1-4 edits    </td><td>   9</td><td>  9</td><td>control_pct</td><td> 0.07</td><td>1-4 edits    </td></tr>\n",
       "\t<tr><td>4</td><td>100-999 edits</td><td>   8</td><td> 15</td><td>control_pct</td><td> 0.06</td><td>100-999 edits</td></tr>\n",
       "\t<tr><td>4</td><td>1000+ edits  </td><td>  10</td><td>  8</td><td>control_pct</td><td> 0.08</td><td>1000+ edits  </td></tr>\n",
       "\t<tr><td>4</td><td>5-99 edits   </td><td>  14</td><td> 15</td><td>control_pct</td><td> 0.11</td><td>5-99 edits   </td></tr>\n",
       "\t<tr><td>5</td><td>0 edits      </td><td>   4</td><td>  8</td><td>control_pct</td><td> 0.03</td><td>0 edits      </td></tr>\n",
       "\t<tr><td>5</td><td>1-4 edits    </td><td>   2</td><td>  2</td><td>control_pct</td><td> 0.02</td><td>1-4 edits    </td></tr>\n",
       "\t<tr><td>5</td><td>100-999 edits</td><td>   2</td><td>  4</td><td>control_pct</td><td> 0.02</td><td>100-999 edits</td></tr>\n",
       "\t<tr><td>5</td><td>1000+ edits  </td><td>   8</td><td>  5</td><td>control_pct</td><td> 0.06</td><td>1000+ edits  </td></tr>\n",
       "\t<tr><td>5</td><td>5-99 edits   </td><td>   6</td><td> 13</td><td>control_pct</td><td> 0.05</td><td>5-99 edits   </td></tr>\n",
       "\t<tr><td>6</td><td>0 edits      </td><td>   6</td><td>  8</td><td>control_pct</td><td> 0.05</td><td>0 edits      </td></tr>\n",
       "\t<tr><td>6</td><td>1-4 edits    </td><td>   2</td><td>  3</td><td>control_pct</td><td> 0.02</td><td>1-4 edits    </td></tr>\n",
       "\t<tr><td>6</td><td>100-999 edits</td><td>   2</td><td>  3</td><td>control_pct</td><td> 0.02</td><td>100-999 edits</td></tr>\n",
       "\t<tr><td>6</td><td>1000+ edits  </td><td>   1</td><td>  5</td><td>control_pct</td><td> 0.01</td><td>1000+ edits  </td></tr>\n",
       "\t<tr><td>6</td><td>5-99 edits   </td><td>   2</td><td>  2</td><td>control_pct</td><td> 0.02</td><td>5-99 edits   </td></tr>\n",
       "\t<tr><td>⋮</td><td>⋮</td><td>⋮</td><td>⋮</td><td>⋮</td><td>⋮</td><td>⋮</td></tr>\n",
       "\t<tr><td> 7</td><td>5-99 edits   </td><td>1</td><td>4</td><td>treatment_pct</td><td>0.19</td><td>5-99 edits   </td></tr>\n",
       "\t<tr><td> 8</td><td>0 edits      </td><td>1</td><td>2</td><td>treatment_pct</td><td>0.10</td><td>0 edits      </td></tr>\n",
       "\t<tr><td> 8</td><td>1-4 edits    </td><td>0</td><td>1</td><td>treatment_pct</td><td>0.05</td><td>1-4 edits    </td></tr>\n",
       "\t<tr><td> 8</td><td>100-999 edits</td><td>0</td><td>2</td><td>treatment_pct</td><td>0.10</td><td>100-999 edits</td></tr>\n",
       "\t<tr><td> 8</td><td>1000+ edits  </td><td>3</td><td>0</td><td>treatment_pct</td><td>0.00</td><td>1000+ edits  </td></tr>\n",
       "\t<tr><td> 8</td><td>5-99 edits   </td><td>0</td><td>4</td><td>treatment_pct</td><td>0.19</td><td>5-99 edits   </td></tr>\n",
       "\t<tr><td> 9</td><td>100-999 edits</td><td>0</td><td>2</td><td>treatment_pct</td><td>0.10</td><td>100-999 edits</td></tr>\n",
       "\t<tr><td> 9</td><td>1000+ edits  </td><td>0</td><td>3</td><td>treatment_pct</td><td>0.15</td><td>1000+ edits  </td></tr>\n",
       "\t<tr><td> 9</td><td>5-99 edits   </td><td>1</td><td>7</td><td>treatment_pct</td><td>0.34</td><td>5-99 edits   </td></tr>\n",
       "\t<tr><td>10</td><td>1-4 edits    </td><td>1</td><td>2</td><td>treatment_pct</td><td>0.10</td><td>1-4 edits    </td></tr>\n",
       "\t<tr><td>10</td><td>1000+ edits  </td><td>1</td><td>1</td><td>treatment_pct</td><td>0.05</td><td>1000+ edits  </td></tr>\n",
       "\t<tr><td>10</td><td>5-99 edits   </td><td>1</td><td>2</td><td>treatment_pct</td><td>0.10</td><td>5-99 edits   </td></tr>\n",
       "\t<tr><td>11</td><td>0 edits      </td><td>0</td><td>2</td><td>treatment_pct</td><td>0.10</td><td>0 edits      </td></tr>\n",
       "\t<tr><td>11</td><td>1-4 edits    </td><td>0</td><td>1</td><td>treatment_pct</td><td>0.05</td><td>1-4 edits    </td></tr>\n",
       "\t<tr><td>11</td><td>100-999 edits</td><td>0</td><td>1</td><td>treatment_pct</td><td>0.05</td><td>100-999 edits</td></tr>\n",
       "\t<tr><td>11</td><td>1000+ edits  </td><td>0</td><td>1</td><td>treatment_pct</td><td>0.05</td><td>1000+ edits  </td></tr>\n",
       "\t<tr><td>12</td><td>0 edits      </td><td>1</td><td>1</td><td>treatment_pct</td><td>0.05</td><td>0 edits      </td></tr>\n",
       "\t<tr><td>12</td><td>1-4 edits    </td><td>0</td><td>1</td><td>treatment_pct</td><td>0.05</td><td>1-4 edits    </td></tr>\n",
       "\t<tr><td>12</td><td>100-999 edits</td><td>0</td><td>1</td><td>treatment_pct</td><td>0.05</td><td>100-999 edits</td></tr>\n",
       "\t<tr><td>12</td><td>1000+ edits  </td><td>0</td><td>1</td><td>treatment_pct</td><td>0.05</td><td>1000+ edits  </td></tr>\n",
       "\t<tr><td>12</td><td>5-99 edits   </td><td>1</td><td>1</td><td>treatment_pct</td><td>0.05</td><td>5-99 edits   </td></tr>\n",
       "\t<tr><td>13</td><td>1-4 edits    </td><td>1</td><td>0</td><td>treatment_pct</td><td>0.00</td><td>1-4 edits    </td></tr>\n",
       "\t<tr><td>13</td><td>1000+ edits  </td><td>0</td><td>1</td><td>treatment_pct</td><td>0.05</td><td>1000+ edits  </td></tr>\n",
       "\t<tr><td>13</td><td>5-99 edits   </td><td>0</td><td>1</td><td>treatment_pct</td><td>0.05</td><td>5-99 edits   </td></tr>\n",
       "\t<tr><td>14</td><td>5-99 edits   </td><td>0</td><td>1</td><td>treatment_pct</td><td>0.05</td><td>5-99 edits   </td></tr>\n",
       "\t<tr><td>15</td><td>0 edits      </td><td>0</td><td>1</td><td>treatment_pct</td><td>0.05</td><td>0 edits      </td></tr>\n",
       "\t<tr><td>16</td><td>5-99 edits   </td><td>0</td><td>1</td><td>treatment_pct</td><td>0.05</td><td>5-99 edits   </td></tr>\n",
       "\t<tr><td>17</td><td>5-99 edits   </td><td>1</td><td>0</td><td>treatment_pct</td><td>0.00</td><td>5-99 edits   </td></tr>\n",
       "\t<tr><td>19</td><td>1000+ edits  </td><td>0</td><td>1</td><td>treatment_pct</td><td>0.05</td><td>1000+ edits  </td></tr>\n",
       "\t<tr><td>22</td><td>100-999 edits</td><td>1</td><td>0</td><td>treatment_pct</td><td>0.00</td><td>100-999 edits</td></tr>\n",
       "</tbody>\n",
       "</table>\n"
      ],
      "text/latex": [
       "A tibble: 128 × 7\n",
       "\\begin{tabular}{lllllll}\n",
       " clicks & editcountbucket & control & treatment & test\\_group & proportion & editcountbucket\\_lab\\\\\n",
       " <int> & <chr> & <int> & <int> & <chr> & <dbl> & <fct>\\\\\n",
       "\\hline\n",
       "\t 1 & 0 edits       & 1899 & 281 & control\\_pct & 14.90 & 0 edits      \\\\\n",
       "\t 1 & 1-4 edits     & 1422 & 166 & control\\_pct & 11.16 & 1-4 edits    \\\\\n",
       "\t 1 & 100-999 edits & 1908 & 257 & control\\_pct & 14.97 & 100-999 edits\\\\\n",
       "\t 1 & 1000+ edits   & 2683 & 312 & control\\_pct & 21.05 & 1000+ edits  \\\\\n",
       "\t 1 & 5-99 edits    & 3646 & 363 & control\\_pct & 28.61 & 5-99 edits   \\\\\n",
       "\t 2 & 0 edits       &  177 &  73 & control\\_pct &  1.39 & 0 edits      \\\\\n",
       "\t 2 & 1-4 edits     &  131 &  50 & control\\_pct &  1.03 & 1-4 edits    \\\\\n",
       "\t 2 & 100-999 edits &  167 &  53 & control\\_pct &  1.31 & 100-999 edits\\\\\n",
       "\t 2 & 1000+ edits   &  194 & 127 & control\\_pct &  1.52 & 1000+ edits  \\\\\n",
       "\t 2 & 5-99 edits    &  279 &  82 & control\\_pct &  2.19 & 5-99 edits   \\\\\n",
       "\t 3 & 0 edits       &   28 &  24 & control\\_pct &  0.22 & 0 edits      \\\\\n",
       "\t 3 & 1-4 edits     &   21 &  19 & control\\_pct &  0.16 & 1-4 edits    \\\\\n",
       "\t 3 & 100-999 edits &   21 &  32 & control\\_pct &  0.16 & 100-999 edits\\\\\n",
       "\t 3 & 1000+ edits   &   24 &  23 & control\\_pct &  0.19 & 1000+ edits  \\\\\n",
       "\t 3 & 5-99 edits    &   40 &  33 & control\\_pct &  0.31 & 5-99 edits   \\\\\n",
       "\t 4 & 0 edits       &   12 &  13 & control\\_pct &  0.09 & 0 edits      \\\\\n",
       "\t 4 & 1-4 edits     &    9 &   9 & control\\_pct &  0.07 & 1-4 edits    \\\\\n",
       "\t 4 & 100-999 edits &    8 &  15 & control\\_pct &  0.06 & 100-999 edits\\\\\n",
       "\t 4 & 1000+ edits   &   10 &   8 & control\\_pct &  0.08 & 1000+ edits  \\\\\n",
       "\t 4 & 5-99 edits    &   14 &  15 & control\\_pct &  0.11 & 5-99 edits   \\\\\n",
       "\t 5 & 0 edits       &    4 &   8 & control\\_pct &  0.03 & 0 edits      \\\\\n",
       "\t 5 & 1-4 edits     &    2 &   2 & control\\_pct &  0.02 & 1-4 edits    \\\\\n",
       "\t 5 & 100-999 edits &    2 &   4 & control\\_pct &  0.02 & 100-999 edits\\\\\n",
       "\t 5 & 1000+ edits   &    8 &   5 & control\\_pct &  0.06 & 1000+ edits  \\\\\n",
       "\t 5 & 5-99 edits    &    6 &  13 & control\\_pct &  0.05 & 5-99 edits   \\\\\n",
       "\t 6 & 0 edits       &    6 &   8 & control\\_pct &  0.05 & 0 edits      \\\\\n",
       "\t 6 & 1-4 edits     &    2 &   3 & control\\_pct &  0.02 & 1-4 edits    \\\\\n",
       "\t 6 & 100-999 edits &    2 &   3 & control\\_pct &  0.02 & 100-999 edits\\\\\n",
       "\t 6 & 1000+ edits   &    1 &   5 & control\\_pct &  0.01 & 1000+ edits  \\\\\n",
       "\t 6 & 5-99 edits    &    2 &   2 & control\\_pct &  0.02 & 5-99 edits   \\\\\n",
       "\t ⋮ & ⋮ & ⋮ & ⋮ & ⋮ & ⋮ & ⋮\\\\\n",
       "\t  7 & 5-99 edits    & 1 & 4 & treatment\\_pct & 0.19 & 5-99 edits   \\\\\n",
       "\t  8 & 0 edits       & 1 & 2 & treatment\\_pct & 0.10 & 0 edits      \\\\\n",
       "\t  8 & 1-4 edits     & 0 & 1 & treatment\\_pct & 0.05 & 1-4 edits    \\\\\n",
       "\t  8 & 100-999 edits & 0 & 2 & treatment\\_pct & 0.10 & 100-999 edits\\\\\n",
       "\t  8 & 1000+ edits   & 3 & 0 & treatment\\_pct & 0.00 & 1000+ edits  \\\\\n",
       "\t  8 & 5-99 edits    & 0 & 4 & treatment\\_pct & 0.19 & 5-99 edits   \\\\\n",
       "\t  9 & 100-999 edits & 0 & 2 & treatment\\_pct & 0.10 & 100-999 edits\\\\\n",
       "\t  9 & 1000+ edits   & 0 & 3 & treatment\\_pct & 0.15 & 1000+ edits  \\\\\n",
       "\t  9 & 5-99 edits    & 1 & 7 & treatment\\_pct & 0.34 & 5-99 edits   \\\\\n",
       "\t 10 & 1-4 edits     & 1 & 2 & treatment\\_pct & 0.10 & 1-4 edits    \\\\\n",
       "\t 10 & 1000+ edits   & 1 & 1 & treatment\\_pct & 0.05 & 1000+ edits  \\\\\n",
       "\t 10 & 5-99 edits    & 1 & 2 & treatment\\_pct & 0.10 & 5-99 edits   \\\\\n",
       "\t 11 & 0 edits       & 0 & 2 & treatment\\_pct & 0.10 & 0 edits      \\\\\n",
       "\t 11 & 1-4 edits     & 0 & 1 & treatment\\_pct & 0.05 & 1-4 edits    \\\\\n",
       "\t 11 & 100-999 edits & 0 & 1 & treatment\\_pct & 0.05 & 100-999 edits\\\\\n",
       "\t 11 & 1000+ edits   & 0 & 1 & treatment\\_pct & 0.05 & 1000+ edits  \\\\\n",
       "\t 12 & 0 edits       & 1 & 1 & treatment\\_pct & 0.05 & 0 edits      \\\\\n",
       "\t 12 & 1-4 edits     & 0 & 1 & treatment\\_pct & 0.05 & 1-4 edits    \\\\\n",
       "\t 12 & 100-999 edits & 0 & 1 & treatment\\_pct & 0.05 & 100-999 edits\\\\\n",
       "\t 12 & 1000+ edits   & 0 & 1 & treatment\\_pct & 0.05 & 1000+ edits  \\\\\n",
       "\t 12 & 5-99 edits    & 1 & 1 & treatment\\_pct & 0.05 & 5-99 edits   \\\\\n",
       "\t 13 & 1-4 edits     & 1 & 0 & treatment\\_pct & 0.00 & 1-4 edits    \\\\\n",
       "\t 13 & 1000+ edits   & 0 & 1 & treatment\\_pct & 0.05 & 1000+ edits  \\\\\n",
       "\t 13 & 5-99 edits    & 0 & 1 & treatment\\_pct & 0.05 & 5-99 edits   \\\\\n",
       "\t 14 & 5-99 edits    & 0 & 1 & treatment\\_pct & 0.05 & 5-99 edits   \\\\\n",
       "\t 15 & 0 edits       & 0 & 1 & treatment\\_pct & 0.05 & 0 edits      \\\\\n",
       "\t 16 & 5-99 edits    & 0 & 1 & treatment\\_pct & 0.05 & 5-99 edits   \\\\\n",
       "\t 17 & 5-99 edits    & 1 & 0 & treatment\\_pct & 0.00 & 5-99 edits   \\\\\n",
       "\t 19 & 1000+ edits   & 0 & 1 & treatment\\_pct & 0.05 & 1000+ edits  \\\\\n",
       "\t 22 & 100-999 edits & 1 & 0 & treatment\\_pct & 0.00 & 100-999 edits\\\\\n",
       "\\end{tabular}\n"
      ],
      "text/markdown": [
       "\n",
       "A tibble: 128 × 7\n",
       "\n",
       "| clicks &lt;int&gt; | editcountbucket &lt;chr&gt; | control &lt;int&gt; | treatment &lt;int&gt; | test_group &lt;chr&gt; | proportion &lt;dbl&gt; | editcountbucket_lab &lt;fct&gt; |\n",
       "|---|---|---|---|---|---|---|\n",
       "| 1 | 0 edits       | 1899 | 281 | control_pct | 14.90 | 0 edits       |\n",
       "| 1 | 1-4 edits     | 1422 | 166 | control_pct | 11.16 | 1-4 edits     |\n",
       "| 1 | 100-999 edits | 1908 | 257 | control_pct | 14.97 | 100-999 edits |\n",
       "| 1 | 1000+ edits   | 2683 | 312 | control_pct | 21.05 | 1000+ edits   |\n",
       "| 1 | 5-99 edits    | 3646 | 363 | control_pct | 28.61 | 5-99 edits    |\n",
       "| 2 | 0 edits       |  177 |  73 | control_pct |  1.39 | 0 edits       |\n",
       "| 2 | 1-4 edits     |  131 |  50 | control_pct |  1.03 | 1-4 edits     |\n",
       "| 2 | 100-999 edits |  167 |  53 | control_pct |  1.31 | 100-999 edits |\n",
       "| 2 | 1000+ edits   |  194 | 127 | control_pct |  1.52 | 1000+ edits   |\n",
       "| 2 | 5-99 edits    |  279 |  82 | control_pct |  2.19 | 5-99 edits    |\n",
       "| 3 | 0 edits       |   28 |  24 | control_pct |  0.22 | 0 edits       |\n",
       "| 3 | 1-4 edits     |   21 |  19 | control_pct |  0.16 | 1-4 edits     |\n",
       "| 3 | 100-999 edits |   21 |  32 | control_pct |  0.16 | 100-999 edits |\n",
       "| 3 | 1000+ edits   |   24 |  23 | control_pct |  0.19 | 1000+ edits   |\n",
       "| 3 | 5-99 edits    |   40 |  33 | control_pct |  0.31 | 5-99 edits    |\n",
       "| 4 | 0 edits       |   12 |  13 | control_pct |  0.09 | 0 edits       |\n",
       "| 4 | 1-4 edits     |    9 |   9 | control_pct |  0.07 | 1-4 edits     |\n",
       "| 4 | 100-999 edits |    8 |  15 | control_pct |  0.06 | 100-999 edits |\n",
       "| 4 | 1000+ edits   |   10 |   8 | control_pct |  0.08 | 1000+ edits   |\n",
       "| 4 | 5-99 edits    |   14 |  15 | control_pct |  0.11 | 5-99 edits    |\n",
       "| 5 | 0 edits       |    4 |   8 | control_pct |  0.03 | 0 edits       |\n",
       "| 5 | 1-4 edits     |    2 |   2 | control_pct |  0.02 | 1-4 edits     |\n",
       "| 5 | 100-999 edits |    2 |   4 | control_pct |  0.02 | 100-999 edits |\n",
       "| 5 | 1000+ edits   |    8 |   5 | control_pct |  0.06 | 1000+ edits   |\n",
       "| 5 | 5-99 edits    |    6 |  13 | control_pct |  0.05 | 5-99 edits    |\n",
       "| 6 | 0 edits       |    6 |   8 | control_pct |  0.05 | 0 edits       |\n",
       "| 6 | 1-4 edits     |    2 |   3 | control_pct |  0.02 | 1-4 edits     |\n",
       "| 6 | 100-999 edits |    2 |   3 | control_pct |  0.02 | 100-999 edits |\n",
       "| 6 | 1000+ edits   |    1 |   5 | control_pct |  0.01 | 1000+ edits   |\n",
       "| 6 | 5-99 edits    |    2 |   2 | control_pct |  0.02 | 5-99 edits    |\n",
       "| ⋮ | ⋮ | ⋮ | ⋮ | ⋮ | ⋮ | ⋮ |\n",
       "|  7 | 5-99 edits    | 1 | 4 | treatment_pct | 0.19 | 5-99 edits    |\n",
       "|  8 | 0 edits       | 1 | 2 | treatment_pct | 0.10 | 0 edits       |\n",
       "|  8 | 1-4 edits     | 0 | 1 | treatment_pct | 0.05 | 1-4 edits     |\n",
       "|  8 | 100-999 edits | 0 | 2 | treatment_pct | 0.10 | 100-999 edits |\n",
       "|  8 | 1000+ edits   | 3 | 0 | treatment_pct | 0.00 | 1000+ edits   |\n",
       "|  8 | 5-99 edits    | 0 | 4 | treatment_pct | 0.19 | 5-99 edits    |\n",
       "|  9 | 100-999 edits | 0 | 2 | treatment_pct | 0.10 | 100-999 edits |\n",
       "|  9 | 1000+ edits   | 0 | 3 | treatment_pct | 0.15 | 1000+ edits   |\n",
       "|  9 | 5-99 edits    | 1 | 7 | treatment_pct | 0.34 | 5-99 edits    |\n",
       "| 10 | 1-4 edits     | 1 | 2 | treatment_pct | 0.10 | 1-4 edits     |\n",
       "| 10 | 1000+ edits   | 1 | 1 | treatment_pct | 0.05 | 1000+ edits   |\n",
       "| 10 | 5-99 edits    | 1 | 2 | treatment_pct | 0.10 | 5-99 edits    |\n",
       "| 11 | 0 edits       | 0 | 2 | treatment_pct | 0.10 | 0 edits       |\n",
       "| 11 | 1-4 edits     | 0 | 1 | treatment_pct | 0.05 | 1-4 edits     |\n",
       "| 11 | 100-999 edits | 0 | 1 | treatment_pct | 0.05 | 100-999 edits |\n",
       "| 11 | 1000+ edits   | 0 | 1 | treatment_pct | 0.05 | 1000+ edits   |\n",
       "| 12 | 0 edits       | 1 | 1 | treatment_pct | 0.05 | 0 edits       |\n",
       "| 12 | 1-4 edits     | 0 | 1 | treatment_pct | 0.05 | 1-4 edits     |\n",
       "| 12 | 100-999 edits | 0 | 1 | treatment_pct | 0.05 | 100-999 edits |\n",
       "| 12 | 1000+ edits   | 0 | 1 | treatment_pct | 0.05 | 1000+ edits   |\n",
       "| 12 | 5-99 edits    | 1 | 1 | treatment_pct | 0.05 | 5-99 edits    |\n",
       "| 13 | 1-4 edits     | 1 | 0 | treatment_pct | 0.00 | 1-4 edits     |\n",
       "| 13 | 1000+ edits   | 0 | 1 | treatment_pct | 0.05 | 1000+ edits   |\n",
       "| 13 | 5-99 edits    | 0 | 1 | treatment_pct | 0.05 | 5-99 edits    |\n",
       "| 14 | 5-99 edits    | 0 | 1 | treatment_pct | 0.05 | 5-99 edits    |\n",
       "| 15 | 0 edits       | 0 | 1 | treatment_pct | 0.05 | 0 edits       |\n",
       "| 16 | 5-99 edits    | 0 | 1 | treatment_pct | 0.05 | 5-99 edits    |\n",
       "| 17 | 5-99 edits    | 1 | 0 | treatment_pct | 0.00 | 5-99 edits    |\n",
       "| 19 | 1000+ edits   | 0 | 1 | treatment_pct | 0.05 | 1000+ edits   |\n",
       "| 22 | 100-999 edits | 1 | 0 | treatment_pct | 0.00 | 100-999 edits |\n",
       "\n"
      ],
      "text/plain": [
       "    clicks editcountbucket control treatment test_group    proportion\n",
       "1   1      0 edits         1899    281       control_pct   14.90     \n",
       "2   1      1-4 edits       1422    166       control_pct   11.16     \n",
       "3   1      100-999 edits   1908    257       control_pct   14.97     \n",
       "4   1      1000+ edits     2683    312       control_pct   21.05     \n",
       "5   1      5-99 edits      3646    363       control_pct   28.61     \n",
       "6   2      0 edits          177     73       control_pct    1.39     \n",
       "7   2      1-4 edits        131     50       control_pct    1.03     \n",
       "8   2      100-999 edits    167     53       control_pct    1.31     \n",
       "9   2      1000+ edits      194    127       control_pct    1.52     \n",
       "10  2      5-99 edits       279     82       control_pct    2.19     \n",
       "11  3      0 edits           28     24       control_pct    0.22     \n",
       "12  3      1-4 edits         21     19       control_pct    0.16     \n",
       "13  3      100-999 edits     21     32       control_pct    0.16     \n",
       "14  3      1000+ edits       24     23       control_pct    0.19     \n",
       "15  3      5-99 edits        40     33       control_pct    0.31     \n",
       "16  4      0 edits           12     13       control_pct    0.09     \n",
       "17  4      1-4 edits          9      9       control_pct    0.07     \n",
       "18  4      100-999 edits      8     15       control_pct    0.06     \n",
       "19  4      1000+ edits       10      8       control_pct    0.08     \n",
       "20  4      5-99 edits        14     15       control_pct    0.11     \n",
       "21  5      0 edits            4      8       control_pct    0.03     \n",
       "22  5      1-4 edits          2      2       control_pct    0.02     \n",
       "23  5      100-999 edits      2      4       control_pct    0.02     \n",
       "24  5      1000+ edits        8      5       control_pct    0.06     \n",
       "25  5      5-99 edits         6     13       control_pct    0.05     \n",
       "26  6      0 edits            6      8       control_pct    0.05     \n",
       "27  6      1-4 edits          2      3       control_pct    0.02     \n",
       "28  6      100-999 edits      2      3       control_pct    0.02     \n",
       "29  6      1000+ edits        1      5       control_pct    0.01     \n",
       "30  6      5-99 edits         2      2       control_pct    0.02     \n",
       "⋮   ⋮      ⋮               ⋮       ⋮         ⋮             ⋮         \n",
       "99   7     5-99 edits      1       4         treatment_pct 0.19      \n",
       "100  8     0 edits         1       2         treatment_pct 0.10      \n",
       "101  8     1-4 edits       0       1         treatment_pct 0.05      \n",
       "102  8     100-999 edits   0       2         treatment_pct 0.10      \n",
       "103  8     1000+ edits     3       0         treatment_pct 0.00      \n",
       "104  8     5-99 edits      0       4         treatment_pct 0.19      \n",
       "105  9     100-999 edits   0       2         treatment_pct 0.10      \n",
       "106  9     1000+ edits     0       3         treatment_pct 0.15      \n",
       "107  9     5-99 edits      1       7         treatment_pct 0.34      \n",
       "108 10     1-4 edits       1       2         treatment_pct 0.10      \n",
       "109 10     1000+ edits     1       1         treatment_pct 0.05      \n",
       "110 10     5-99 edits      1       2         treatment_pct 0.10      \n",
       "111 11     0 edits         0       2         treatment_pct 0.10      \n",
       "112 11     1-4 edits       0       1         treatment_pct 0.05      \n",
       "113 11     100-999 edits   0       1         treatment_pct 0.05      \n",
       "114 11     1000+ edits     0       1         treatment_pct 0.05      \n",
       "115 12     0 edits         1       1         treatment_pct 0.05      \n",
       "116 12     1-4 edits       0       1         treatment_pct 0.05      \n",
       "117 12     100-999 edits   0       1         treatment_pct 0.05      \n",
       "118 12     1000+ edits     0       1         treatment_pct 0.05      \n",
       "119 12     5-99 edits      1       1         treatment_pct 0.05      \n",
       "120 13     1-4 edits       1       0         treatment_pct 0.00      \n",
       "121 13     1000+ edits     0       1         treatment_pct 0.05      \n",
       "122 13     5-99 edits      0       1         treatment_pct 0.05      \n",
       "123 14     5-99 edits      0       1         treatment_pct 0.05      \n",
       "124 15     0 edits         0       1         treatment_pct 0.05      \n",
       "125 16     5-99 edits      0       1         treatment_pct 0.05      \n",
       "126 17     5-99 edits      1       0         treatment_pct 0.00      \n",
       "127 19     1000+ edits     0       1         treatment_pct 0.05      \n",
       "128 22     100-999 edits   1       0         treatment_pct 0.00      \n",
       "    editcountbucket_lab\n",
       "1   0 edits            \n",
       "2   1-4 edits          \n",
       "3   100-999 edits      \n",
       "4   1000+ edits        \n",
       "5   5-99 edits         \n",
       "6   0 edits            \n",
       "7   1-4 edits          \n",
       "8   100-999 edits      \n",
       "9   1000+ edits        \n",
       "10  5-99 edits         \n",
       "11  0 edits            \n",
       "12  1-4 edits          \n",
       "13  100-999 edits      \n",
       "14  1000+ edits        \n",
       "15  5-99 edits         \n",
       "16  0 edits            \n",
       "17  1-4 edits          \n",
       "18  100-999 edits      \n",
       "19  1000+ edits        \n",
       "20  5-99 edits         \n",
       "21  0 edits            \n",
       "22  1-4 edits          \n",
       "23  100-999 edits      \n",
       "24  1000+ edits        \n",
       "25  5-99 edits         \n",
       "26  0 edits            \n",
       "27  1-4 edits          \n",
       "28  100-999 edits      \n",
       "29  1000+ edits        \n",
       "30  5-99 edits         \n",
       "⋮   ⋮                  \n",
       "99  5-99 edits         \n",
       "100 0 edits            \n",
       "101 1-4 edits          \n",
       "102 100-999 edits      \n",
       "103 1000+ edits        \n",
       "104 5-99 edits         \n",
       "105 100-999 edits      \n",
       "106 1000+ edits        \n",
       "107 5-99 edits         \n",
       "108 1-4 edits          \n",
       "109 1000+ edits        \n",
       "110 5-99 edits         \n",
       "111 0 edits            \n",
       "112 1-4 edits          \n",
       "113 100-999 edits      \n",
       "114 1000+ edits        \n",
       "115 0 edits            \n",
       "116 1-4 edits          \n",
       "117 100-999 edits      \n",
       "118 1000+ edits        \n",
       "119 5-99 edits         \n",
       "120 1-4 edits          \n",
       "121 1000+ edits        \n",
       "122 5-99 edits         \n",
       "123 5-99 edits         \n",
       "124 0 edits            \n",
       "125 5-99 edits         \n",
       "126 5-99 edits         \n",
       "127 1000+ edits        \n",
       "128 100-999 edits      "
      ]
     },
     "metadata": {},
     "output_type": "display_data"
    }
   ],
   "source": [
    "df_his_L"
   ]
  },
  {
   "cell_type": "code",
   "execution_count": 111,
   "id": "d2cd123c",
   "metadata": {},
   "outputs": [
    {
     "data": {
      "image/png": "[encoded data removed]",
      "text/plain": [
       "plot without title"
      ]
     },
     "metadata": {
      "image/png": {
       "height": 600,
       "width": 900
      }
     },
     "output_type": "display_data"
    }
   ],
   "source": [
    "distribution_clicks_loggedin  <- df_his_L  %>%\n",
    "        ggplot(aes(x =editcountbucket_lab , y= proportion, fill=test_group)) +\n",
    "        #make consistent width in geom_col for the category with missing data\n",
    "        geom_col( position = position_dodge(preserve = \"single\") ) +        \n",
    "        geom_text(aes(label = paste(proportion)), color = \"black\", position = position_dodge(width = 1), vjust = -0.5, hjust = 0.5, size = 3) +\n",
    "        facet_wrap(~clicks , ncol=4, scale = 'free_y' ) +\n",
    "        #make geom_text within the canvas's bounds\n",
    "        scale_y_continuous(expand = expansion(mult = 0.2)) +\n",
    "        labs (\n",
    "              y = \"Proportion of total sessions in each test group\" ,\n",
    "             x = \"Edit count bucket\",\n",
    "             title = \"Proportion of total sessions in each test group\" ,\n",
    "             caption = \"User type: Logged-in Users\" ) +\n",
    "        scale_fill_manual(values= c( \"#666666\",  \"#000099\"), name = \"feature\")  +\n",
    "         theme(\n",
    "            panel.grid.major = element_blank(), \n",
    "            panel.grid.minor = element_blank(),\n",
    "            panel.background = element_blank(),\n",
    "             #each plot's x axix lable\n",
    "            axis.text.x = element_text(angle=90),\n",
    "            plot.caption = element_text(hjust = 0, face= \"italic\"),\n",
    "            strip.background =element_rect(fill=\"white\"),\n",
    "            plot.title = element_text(hjust = 0.5),\n",
    "            text = element_text(size=12),\n",
    "            axis.line = element_line(colour = \"black\"),\n",
    "            legend.position = \"bottom\")\n",
    "distribution_clicks_loggedin "
   ]
  },
  {
   "cell_type": "code",
   "execution_count": 131,
   "id": "6ba715cc",
   "metadata": {},
   "outputs": [],
   "source": [
    "\n",
    "\n",
    "df_his_overall <- df_his %>%\n",
    "  select(clicks, editcountbucket, control, treatment) %>%\n",
    "  group_by(clicks) %>%\n",
    "  summarize(total_clicks_control= sum(control), total_clicks_treatment= sum(treatment)) %>%\n",
    "  mutate(\n",
    "    control_pct = round(total_clicks_control*100/12746,2) ,\n",
    "    treatment_pct = round(total_clicks_treatment*100/2068,2) \n",
    " )"
   ]
  },
  {
   "cell_type": "code",
   "execution_count": 134,
   "id": "e40391aa",
   "metadata": {},
   "outputs": [
    {
     "data": {
      "text/html": [
       "<table class=\"dataframe\">\n",
       "<caption>A tibble: 19 × 5</caption>\n",
       "<thead>\n",
       "\t<tr><th scope=col>clicks</th><th scope=col>total_clicks_control</th><th scope=col>total_clicks_treatment</th><th scope=col>control_pct</th><th scope=col>treatment_pct</th></tr>\n",
       "\t<tr><th scope=col>&lt;int&gt;</th><th scope=col>&lt;int&gt;</th><th scope=col>&lt;int&gt;</th><th scope=col>&lt;dbl&gt;</th><th scope=col>&lt;dbl&gt;</th></tr>\n",
       "</thead>\n",
       "<tbody>\n",
       "\t<tr><td> 1</td><td>11558</td><td>1379</td><td>90.68</td><td>66.68</td></tr>\n",
       "\t<tr><td> 2</td><td>  948</td><td> 385</td><td> 7.44</td><td>18.62</td></tr>\n",
       "\t<tr><td> 3</td><td>  134</td><td> 131</td><td> 1.05</td><td> 6.33</td></tr>\n",
       "\t<tr><td> 4</td><td>   53</td><td>  60</td><td> 0.42</td><td> 2.90</td></tr>\n",
       "\t<tr><td> 5</td><td>   22</td><td>  32</td><td> 0.17</td><td> 1.55</td></tr>\n",
       "\t<tr><td> 6</td><td>   13</td><td>  21</td><td> 0.10</td><td> 1.02</td></tr>\n",
       "\t<tr><td> 7</td><td>    5</td><td>  18</td><td> 0.04</td><td> 0.87</td></tr>\n",
       "\t<tr><td> 8</td><td>    4</td><td>   9</td><td> 0.03</td><td> 0.44</td></tr>\n",
       "\t<tr><td> 9</td><td>    1</td><td>  12</td><td> 0.01</td><td> 0.58</td></tr>\n",
       "\t<tr><td>10</td><td>    3</td><td>   5</td><td> 0.02</td><td> 0.24</td></tr>\n",
       "\t<tr><td>11</td><td>    0</td><td>   5</td><td> 0.00</td><td> 0.24</td></tr>\n",
       "\t<tr><td>12</td><td>    2</td><td>   5</td><td> 0.02</td><td> 0.24</td></tr>\n",
       "\t<tr><td>13</td><td>    1</td><td>   2</td><td> 0.01</td><td> 0.10</td></tr>\n",
       "\t<tr><td>14</td><td>    0</td><td>   1</td><td> 0.00</td><td> 0.05</td></tr>\n",
       "\t<tr><td>15</td><td>    0</td><td>   1</td><td> 0.00</td><td> 0.05</td></tr>\n",
       "\t<tr><td>16</td><td>    0</td><td>   1</td><td> 0.00</td><td> 0.05</td></tr>\n",
       "\t<tr><td>17</td><td>    1</td><td>   0</td><td> 0.01</td><td> 0.00</td></tr>\n",
       "\t<tr><td>19</td><td>    0</td><td>   1</td><td> 0.00</td><td> 0.05</td></tr>\n",
       "\t<tr><td>22</td><td>    1</td><td>   0</td><td> 0.01</td><td> 0.00</td></tr>\n",
       "</tbody>\n",
       "</table>\n"
      ],
      "text/latex": [
       "A tibble: 19 × 5\n",
       "\\begin{tabular}{lllll}\n",
       " clicks & total\\_clicks\\_control & total\\_clicks\\_treatment & control\\_pct & treatment\\_pct\\\\\n",
       " <int> & <int> & <int> & <dbl> & <dbl>\\\\\n",
       "\\hline\n",
       "\t  1 & 11558 & 1379 & 90.68 & 66.68\\\\\n",
       "\t  2 &   948 &  385 &  7.44 & 18.62\\\\\n",
       "\t  3 &   134 &  131 &  1.05 &  6.33\\\\\n",
       "\t  4 &    53 &   60 &  0.42 &  2.90\\\\\n",
       "\t  5 &    22 &   32 &  0.17 &  1.55\\\\\n",
       "\t  6 &    13 &   21 &  0.10 &  1.02\\\\\n",
       "\t  7 &     5 &   18 &  0.04 &  0.87\\\\\n",
       "\t  8 &     4 &    9 &  0.03 &  0.44\\\\\n",
       "\t  9 &     1 &   12 &  0.01 &  0.58\\\\\n",
       "\t 10 &     3 &    5 &  0.02 &  0.24\\\\\n",
       "\t 11 &     0 &    5 &  0.00 &  0.24\\\\\n",
       "\t 12 &     2 &    5 &  0.02 &  0.24\\\\\n",
       "\t 13 &     1 &    2 &  0.01 &  0.10\\\\\n",
       "\t 14 &     0 &    1 &  0.00 &  0.05\\\\\n",
       "\t 15 &     0 &    1 &  0.00 &  0.05\\\\\n",
       "\t 16 &     0 &    1 &  0.00 &  0.05\\\\\n",
       "\t 17 &     1 &    0 &  0.01 &  0.00\\\\\n",
       "\t 19 &     0 &    1 &  0.00 &  0.05\\\\\n",
       "\t 22 &     1 &    0 &  0.01 &  0.00\\\\\n",
       "\\end{tabular}\n"
      ],
      "text/markdown": [
       "\n",
       "A tibble: 19 × 5\n",
       "\n",
       "| clicks &lt;int&gt; | total_clicks_control &lt;int&gt; | total_clicks_treatment &lt;int&gt; | control_pct &lt;dbl&gt; | treatment_pct &lt;dbl&gt; |\n",
       "|---|---|---|---|---|\n",
       "|  1 | 11558 | 1379 | 90.68 | 66.68 |\n",
       "|  2 |   948 |  385 |  7.44 | 18.62 |\n",
       "|  3 |   134 |  131 |  1.05 |  6.33 |\n",
       "|  4 |    53 |   60 |  0.42 |  2.90 |\n",
       "|  5 |    22 |   32 |  0.17 |  1.55 |\n",
       "|  6 |    13 |   21 |  0.10 |  1.02 |\n",
       "|  7 |     5 |   18 |  0.04 |  0.87 |\n",
       "|  8 |     4 |    9 |  0.03 |  0.44 |\n",
       "|  9 |     1 |   12 |  0.01 |  0.58 |\n",
       "| 10 |     3 |    5 |  0.02 |  0.24 |\n",
       "| 11 |     0 |    5 |  0.00 |  0.24 |\n",
       "| 12 |     2 |    5 |  0.02 |  0.24 |\n",
       "| 13 |     1 |    2 |  0.01 |  0.10 |\n",
       "| 14 |     0 |    1 |  0.00 |  0.05 |\n",
       "| 15 |     0 |    1 |  0.00 |  0.05 |\n",
       "| 16 |     0 |    1 |  0.00 |  0.05 |\n",
       "| 17 |     1 |    0 |  0.01 |  0.00 |\n",
       "| 19 |     0 |    1 |  0.00 |  0.05 |\n",
       "| 22 |     1 |    0 |  0.01 |  0.00 |\n",
       "\n"
      ],
      "text/plain": [
       "   clicks total_clicks_control total_clicks_treatment control_pct treatment_pct\n",
       "1   1     11558                1379                   90.68       66.68        \n",
       "2   2       948                 385                    7.44       18.62        \n",
       "3   3       134                 131                    1.05        6.33        \n",
       "4   4        53                  60                    0.42        2.90        \n",
       "5   5        22                  32                    0.17        1.55        \n",
       "6   6        13                  21                    0.10        1.02        \n",
       "7   7         5                  18                    0.04        0.87        \n",
       "8   8         4                   9                    0.03        0.44        \n",
       "9   9         1                  12                    0.01        0.58        \n",
       "10 10         3                   5                    0.02        0.24        \n",
       "11 11         0                   5                    0.00        0.24        \n",
       "12 12         2                   5                    0.02        0.24        \n",
       "13 13         1                   2                    0.01        0.10        \n",
       "14 14         0                   1                    0.00        0.05        \n",
       "15 15         0                   1                    0.00        0.05        \n",
       "16 16         0                   1                    0.00        0.05        \n",
       "17 17         1                   0                    0.01        0.00        \n",
       "18 19         0                   1                    0.00        0.05        \n",
       "19 22         1                   0                    0.01        0.00        "
      ]
     },
     "metadata": {},
     "output_type": "display_data"
    }
   ],
   "source": [
    "df_his_overall"
   ]
  },
  {
   "cell_type": "code",
   "execution_count": 135,
   "id": "a89d91f4",
   "metadata": {},
   "outputs": [],
   "source": [
    "df_his_login_overall_L <- df_his_overall %>% \n",
    "  filter(clicks<16) %>%\n",
    "  gather(\"test_group\",\"proportion\",4:5) \n"
   ]
  },
  {
   "cell_type": "code",
   "execution_count": 136,
   "id": "de95bb7b",
   "metadata": {},
   "outputs": [
    {
     "data": {
      "text/html": [
       "<table class=\"dataframe\">\n",
       "<caption>A tibble: 6 × 5</caption>\n",
       "<thead>\n",
       "\t<tr><th scope=col>clicks</th><th scope=col>total_clicks_control</th><th scope=col>total_clicks_treatment</th><th scope=col>test_group</th><th scope=col>proportion</th></tr>\n",
       "\t<tr><th scope=col>&lt;int&gt;</th><th scope=col>&lt;int&gt;</th><th scope=col>&lt;int&gt;</th><th scope=col>&lt;chr&gt;</th><th scope=col>&lt;dbl&gt;</th></tr>\n",
       "</thead>\n",
       "<tbody>\n",
       "\t<tr><td>1</td><td>11558</td><td>1379</td><td>control_pct</td><td>90.68</td></tr>\n",
       "\t<tr><td>2</td><td>  948</td><td> 385</td><td>control_pct</td><td> 7.44</td></tr>\n",
       "\t<tr><td>3</td><td>  134</td><td> 131</td><td>control_pct</td><td> 1.05</td></tr>\n",
       "\t<tr><td>4</td><td>   53</td><td>  60</td><td>control_pct</td><td> 0.42</td></tr>\n",
       "\t<tr><td>5</td><td>   22</td><td>  32</td><td>control_pct</td><td> 0.17</td></tr>\n",
       "\t<tr><td>6</td><td>   13</td><td>  21</td><td>control_pct</td><td> 0.10</td></tr>\n",
       "</tbody>\n",
       "</table>\n"
      ],
      "text/latex": [
       "A tibble: 6 × 5\n",
       "\\begin{tabular}{lllll}\n",
       " clicks & total\\_clicks\\_control & total\\_clicks\\_treatment & test\\_group & proportion\\\\\n",
       " <int> & <int> & <int> & <chr> & <dbl>\\\\\n",
       "\\hline\n",
       "\t 1 & 11558 & 1379 & control\\_pct & 90.68\\\\\n",
       "\t 2 &   948 &  385 & control\\_pct &  7.44\\\\\n",
       "\t 3 &   134 &  131 & control\\_pct &  1.05\\\\\n",
       "\t 4 &    53 &   60 & control\\_pct &  0.42\\\\\n",
       "\t 5 &    22 &   32 & control\\_pct &  0.17\\\\\n",
       "\t 6 &    13 &   21 & control\\_pct &  0.10\\\\\n",
       "\\end{tabular}\n"
      ],
      "text/markdown": [
       "\n",
       "A tibble: 6 × 5\n",
       "\n",
       "| clicks &lt;int&gt; | total_clicks_control &lt;int&gt; | total_clicks_treatment &lt;int&gt; | test_group &lt;chr&gt; | proportion &lt;dbl&gt; |\n",
       "|---|---|---|---|---|\n",
       "| 1 | 11558 | 1379 | control_pct | 90.68 |\n",
       "| 2 |   948 |  385 | control_pct |  7.44 |\n",
       "| 3 |   134 |  131 | control_pct |  1.05 |\n",
       "| 4 |    53 |   60 | control_pct |  0.42 |\n",
       "| 5 |    22 |   32 | control_pct |  0.17 |\n",
       "| 6 |    13 |   21 | control_pct |  0.10 |\n",
       "\n"
      ],
      "text/plain": [
       "  clicks total_clicks_control total_clicks_treatment test_group  proportion\n",
       "1 1      11558                1379                   control_pct 90.68     \n",
       "2 2        948                 385                   control_pct  7.44     \n",
       "3 3        134                 131                   control_pct  1.05     \n",
       "4 4         53                  60                   control_pct  0.42     \n",
       "5 5         22                  32                   control_pct  0.17     \n",
       "6 6         13                  21                   control_pct  0.10     "
      ]
     },
     "metadata": {},
     "output_type": "display_data"
    }
   ],
   "source": [
    "head(df_his_login_overall_L )"
   ]
  },
  {
   "cell_type": "code",
   "execution_count": 143,
   "id": "26c59b4e",
   "metadata": {},
   "outputs": [
    {
     "data": {
      "image/png": "[encoded data removed]",
      "text/plain": [
       "plot without title"
      ]
     },
     "metadata": {
      "image/png": {
       "height": 600,
       "width": 900
      }
     },
     "output_type": "display_data"
    }
   ],
   "source": [
    "distribution_clicks_loggedin_overall  <- df_his_login_overall_L   %>%\n",
    "        ggplot(aes(x =test_group , y= proportion, fill=test_group)) +\n",
    "        #make consistent width in geom_col for the category with missing data\n",
    "        geom_col( position = position_dodge(preserve = \"single\") ) +        \n",
    "        geom_text(aes(label = paste(proportion)), color = \"black\", position = position_dodge(width = 1), vjust = -0.5, hjust = 0.5, size = 3) +\n",
    "        facet_wrap(~clicks , ncol=4, scale = 'free_y' ) +\n",
    "        #make geom_text within the canvas's bounds\n",
    "        scale_y_continuous(expand = expansion(mult = 0.2)) +\n",
    "        labs (\n",
    "              y = \"Proportion of total sessions in each test group\" ,\n",
    "             x = \"Edit count bucket\",\n",
    "             title = \"Proportion of total sessions in each test group by number of clicks on ToC (%)\" ,\n",
    "             caption = \"User type: Logged-in Users    \n",
    "Number of clicks: clicks per session on each page\" ) +\n",
    "        scale_fill_manual(values= c( \"#666666\",  \"#000099\"), name = \"feature\")  +\n",
    "         theme(\n",
    "            panel.grid.major = element_blank(), \n",
    "            panel.grid.minor = element_blank(),\n",
    "            panel.background = element_blank(),\n",
    "             #each plot's x axix lable\n",
    "            axis.text.x = element_text(angle=90),\n",
    "            plot.caption = element_text(hjust = 0, face= \"italic\"),\n",
    "            strip.background =element_rect(fill=\"white\"),\n",
    "            plot.title = element_text(hjust = 0.5),\n",
    "            text = element_text(size=12),\n",
    "            axis.line = element_line(colour = \"black\"),\n",
    "            legend.position = \"bottom\")\n",
    "distribution_clicks_loggedin_overall"
   ]
  },
  {
   "cell_type": "markdown",
   "id": "1e6d6429",
   "metadata": {},
   "source": [
    "__Note__   \n",
    "\n",
    "Control group has higher proportion of sessions has 1 click per page per session.  \n",
    "Treatment group has higher propotion of session has MORE than 1 click per page per session.   \n",
    "The trend is consistent among all eidt count buckets. "
   ]
  },
  {
   "cell_type": "markdown",
   "id": "f17a2375",
   "metadata": {},
   "source": [
    "### Modeling"
   ]
  },
  {
   "cell_type": "code",
   "execution_count": 72,
   "id": "e805ba8e",
   "metadata": {},
   "outputs": [
    {
     "data": {
      "image/png": "[encoded data removed]",
      "text/plain": [
       "plot without title"
      ]
     },
     "metadata": {
      "image/png": {
       "height": 600,
       "width": 900
      }
     },
     "output_type": "display_data"
    }
   ],
   "source": [
    "p1 <- df_loggedin %>%\n",
    " ggplot( aes(x=clicks, fill=test_group)) +\n",
    "    geom_histogram( color=\"#e9ecef\", alpha=0.4, position = 'identity', bins=100) +\n",
    "    scale_x_log10() +\n",
    "    scale_fill_manual(values=c(\"#666666\", \"#000099\")) +\n",
    "    labs ( title = \"Check distribution of clicks per session and page -- Logged-in users\",\n",
    "         fill=\"\") +\n",
    "    theme_light(base_size=18)\n",
    "p1"
   ]
  },
  {
   "cell_type": "code",
   "execution_count": 73,
   "id": "f72aefed",
   "metadata": {},
   "outputs": [],
   "source": [
    "m1_c <- glmer( formula = clicks ~ test_group + (1 | wiki),\n",
    "    family = poisson(link = \"log\"),\n",
    "    data = df_loggedin)"
   ]
  },
  {
   "cell_type": "code",
   "execution_count": 74,
   "id": "2186a869",
   "metadata": {},
   "outputs": [
    {
     "data": {
      "text/plain": [
       "Generalized linear mixed model fit by maximum likelihood (Laplace\n",
       "  Approximation) [glmerMod]\n",
       " Family: poisson  ( log )\n",
       "Formula: clicks ~ test_group + (1 | wiki)\n",
       "   Data: df_loggedin\n",
       "\n",
       "     AIC      BIC   logLik deviance df.resid \n",
       " 35167.8  35190.6 -17580.9  35161.8    14811 \n",
       "\n",
       "Scaled residuals: \n",
       "    Min      1Q  Median      3Q     Max \n",
       "-0.6590 -0.1305 -0.1058 -0.1058 19.8125 \n",
       "\n",
       "Random effects:\n",
       " Groups Name        Variance Std.Dev.\n",
       " wiki   (Intercept) 0.002401 0.049   \n",
       "Number of obs: 14814, groups:  wiki, 19\n",
       "\n",
       "Fixed effects:\n",
       "                    Estimate Std. Error z value Pr(>|z|)    \n",
       "(Intercept)          0.16473    0.02024   8.141 3.93e-16 ***\n",
       "test_grouptreatment  0.42831    0.01879  22.793  < 2e-16 ***\n",
       "---\n",
       "Signif. codes:  0 ‘***’ 0.001 ‘**’ 0.01 ‘*’ 0.05 ‘.’ 0.1 ‘ ’ 1\n",
       "\n",
       "Correlation of Fixed Effects:\n",
       "            (Intr)\n",
       "tst_grptrtm -0.269"
      ]
     },
     "metadata": {},
     "output_type": "display_data"
    }
   ],
   "source": [
    "summary(m1_c)"
   ]
  },
  {
   "cell_type": "code",
   "execution_count": 75,
   "id": "09ee4c55",
   "metadata": {},
   "outputs": [
    {
     "data": {
      "text/plain": [
       "$wiki\n",
       "                (Intercept)\n",
       "bnwiki        -0.0139862494\n",
       "dewikivoyage  -0.0165985605\n",
       "euwiki         0.0299194990\n",
       "fawiki         0.0362020390\n",
       "frwiki        -0.0589616469\n",
       "frwikiquote   -0.0016612509\n",
       "frwiktionary   0.0015614160\n",
       "hewiki        -0.0392206226\n",
       "incubatorwiki  0.0281577045\n",
       "kowiki         0.0545916918\n",
       "plwikinews    -0.0008216889\n",
       "ptwiki        -0.0342923244\n",
       "ptwikinews     0.0147172497\n",
       "ptwikiversity  0.0151654071\n",
       "srwiki         0.0028571926\n",
       "thwiki         0.0305091446\n",
       "trwiki         0.0112486188\n",
       "vecwiki       -0.0038529505\n",
       "viwiki        -0.0524412853\n",
       "\n",
       "with conditional variances for “wiki” "
      ]
     },
     "metadata": {},
     "output_type": "display_data"
    }
   ],
   "source": [
    "ranef(m1_c)"
   ]
  },
  {
   "cell_type": "code",
   "execution_count": 76,
   "id": "2a22b29b",
   "metadata": {},
   "outputs": [
    {
     "data": {
      "text/html": [
       "<table class=\"dataframe\">\n",
       "<caption>A anova: 1 × 4</caption>\n",
       "<thead>\n",
       "\t<tr><th></th><th scope=col>npar</th><th scope=col>Sum Sq</th><th scope=col>Mean Sq</th><th scope=col>F value</th></tr>\n",
       "\t<tr><th></th><th scope=col>&lt;int&gt;</th><th scope=col>&lt;dbl&gt;</th><th scope=col>&lt;dbl&gt;</th><th scope=col>&lt;dbl&gt;</th></tr>\n",
       "</thead>\n",
       "<tbody>\n",
       "\t<tr><th scope=row>test_group</th><td>1</td><td>521.3048</td><td>521.3048</td><td>521.3048</td></tr>\n",
       "</tbody>\n",
       "</table>\n"
      ],
      "text/latex": [
       "A anova: 1 × 4\n",
       "\\begin{tabular}{r|llll}\n",
       "  & npar & Sum Sq & Mean Sq & F value\\\\\n",
       "  & <int> & <dbl> & <dbl> & <dbl>\\\\\n",
       "\\hline\n",
       "\ttest\\_group & 1 & 521.3048 & 521.3048 & 521.3048\\\\\n",
       "\\end{tabular}\n"
      ],
      "text/markdown": [
       "\n",
       "A anova: 1 × 4\n",
       "\n",
       "| <!--/--> | npar &lt;int&gt; | Sum Sq &lt;dbl&gt; | Mean Sq &lt;dbl&gt; | F value &lt;dbl&gt; |\n",
       "|---|---|---|---|---|\n",
       "| test_group | 1 | 521.3048 | 521.3048 | 521.3048 |\n",
       "\n"
      ],
      "text/plain": [
       "           npar Sum Sq   Mean Sq  F value \n",
       "test_group 1    521.3048 521.3048 521.3048"
      ]
     },
     "metadata": {},
     "output_type": "display_data"
    },
    {
     "data": {
      "text/html": [
       "<style>\n",
       ".dl-inline {width: auto; margin:0; padding: 0}\n",
       ".dl-inline>dt, .dl-inline>dd {float: none; width: auto; display: inline-block}\n",
       ".dl-inline>dt::after {content: \":\\0020\"; padding-right: .5ex}\n",
       ".dl-inline>dt:not(:first-of-type) {padding-left: .5ex}\n",
       "</style><dl class=dl-inline><dt>(Intercept)</dt><dd>0.164725112348048</dd><dt>test_grouptreatment</dt><dd>0.428314150565097</dd></dl>\n"
      ],
      "text/latex": [
       "\\begin{description*}\n",
       "\\item[(Intercept)] 0.164725112348048\n",
       "\\item[test\\textbackslash{}\\_grouptreatment] 0.428314150565097\n",
       "\\end{description*}\n"
      ],
      "text/markdown": [
       "(Intercept)\n",
       ":   0.164725112348048test_grouptreatment\n",
       ":   0.428314150565097\n",
       "\n"
      ],
      "text/plain": [
       "        (Intercept) test_grouptreatment \n",
       "          0.1647251           0.4283142 "
      ]
     },
     "metadata": {},
     "output_type": "display_data"
    }
   ],
   "source": [
    "anova(m1_c)\n",
    "fixef(m1_c)"
   ]
  },
  {
   "cell_type": "code",
   "execution_count": 77,
   "id": "d33a2b6d",
   "metadata": {},
   "outputs": [
    {
     "data": {
      "text/html": [
       "1.53466812210466"
      ],
      "text/latex": [
       "1.53466812210466"
      ],
      "text/markdown": [
       "1.53466812210466"
      ],
      "text/plain": [
       "[1] 1.534668"
      ]
     },
     "metadata": {},
     "output_type": "display_data"
    }
   ],
   "source": [
    "exp(0.428314150565097)"
   ]
  },
  {
   "cell_type": "code",
   "execution_count": 78,
   "id": "7e51af43",
   "metadata": {},
   "outputs": [
    {
     "name": "stderr",
     "output_type": "stream",
     "text": [
      "Warning message:\n",
      "“The null model is correct only if all variables used by the original model remain unchanged.”\n"
     ]
    },
    {
     "data": {
      "text/html": [
       "<table class=\"dataframe\">\n",
       "<caption>A matrix: 3 × 2 of type dbl</caption>\n",
       "<thead>\n",
       "\t<tr><th></th><th scope=col>R2m</th><th scope=col>R2c</th></tr>\n",
       "</thead>\n",
       "<tbody>\n",
       "\t<tr><th scope=row>delta</th><td>0.02835028</td><td>0.03143866</td></tr>\n",
       "\t<tr><th scope=row>lognormal</th><td>0.03762507</td><td>0.04172381</td></tr>\n",
       "\t<tr><th scope=row>trigamma</th><td>0.01957527</td><td>0.02170773</td></tr>\n",
       "</tbody>\n",
       "</table>\n"
      ],
      "text/latex": [
       "A matrix: 3 × 2 of type dbl\n",
       "\\begin{tabular}{r|ll}\n",
       "  & R2m & R2c\\\\\n",
       "\\hline\n",
       "\tdelta & 0.02835028 & 0.03143866\\\\\n",
       "\tlognormal & 0.03762507 & 0.04172381\\\\\n",
       "\ttrigamma & 0.01957527 & 0.02170773\\\\\n",
       "\\end{tabular}\n"
      ],
      "text/markdown": [
       "\n",
       "A matrix: 3 × 2 of type dbl\n",
       "\n",
       "| <!--/--> | R2m | R2c |\n",
       "|---|---|---|\n",
       "| delta | 0.02835028 | 0.03143866 |\n",
       "| lognormal | 0.03762507 | 0.04172381 |\n",
       "| trigamma | 0.01957527 | 0.02170773 |\n",
       "\n"
      ],
      "text/plain": [
       "          R2m        R2c       \n",
       "delta     0.02835028 0.03143866\n",
       "lognormal 0.03762507 0.04172381\n",
       "trigamma  0.01957527 0.02170773"
      ]
     },
     "metadata": {},
     "output_type": "display_data"
    }
   ],
   "source": [
    "r.squaredGLMM(m1_c) "
   ]
  },
  {
   "cell_type": "markdown",
   "id": "342ed5c5",
   "metadata": {},
   "source": [
    "__Note:__  \n",
    "\n",
    "__On logged-in users__: \n",
    "\n",
    "p-value < 2e-16. coefficient of test_grouptreatment is 0.42831 > 0. It means for the sessions with clicks on ToC, the treatment group has 53% more clicks on ToC than the control group. \n",
    "\n",
    "But only 4%(R2) of variance is explained by the model with fix variable test_group and random variable wiki. It means some other factors played role in influnce the number of clicks. One of possible factors is the length of pages. The longer pages possibly result in more clicks on ToC. However, We don't have page related info in data to confirm. "
   ]
  },
  {
   "cell_type": "markdown",
   "id": "f13c803e",
   "metadata": {},
   "source": [
    "## Anonymous user"
   ]
  },
  {
   "cell_type": "code",
   "execution_count": 112,
   "id": "baffc382",
   "metadata": {},
   "outputs": [],
   "source": [
    "df_anon <- df %>% \n",
    "  filter(isanon=='true')"
   ]
  },
  {
   "cell_type": "code",
   "execution_count": 114,
   "id": "7f8f2699",
   "metadata": {},
   "outputs": [
    {
     "data": {
      "text/html": [
       "<table class=\"dataframe\">\n",
       "<caption>A data.frame: 6 × 8</caption>\n",
       "<thead>\n",
       "\t<tr><th></th><th scope=col>session_id</th><th scope=col>wiki</th><th scope=col>isanon</th><th scope=col>test_group</th><th scope=col>name</th><th scope=col>editcountbucket</th><th scope=col>pagetoken</th><th scope=col>clicks</th></tr>\n",
       "\t<tr><th></th><th scope=col>&lt;chr&gt;</th><th scope=col>&lt;chr&gt;</th><th scope=col>&lt;chr&gt;</th><th scope=col>&lt;chr&gt;</th><th scope=col>&lt;chr&gt;</th><th scope=col>&lt;chr&gt;</th><th scope=col>&lt;chr&gt;</th><th scope=col>&lt;int&gt;</th></tr>\n",
       "</thead>\n",
       "<tbody>\n",
       "\t<tr><th scope=row>1</th><td>00003645f652c5586de5</td><td>kowiki</td><td>true</td><td>treatment</td><td>ui.sidebar-toc</td><td>0 edits</td><td>888ed5c2cf536812553b</td><td>2</td></tr>\n",
       "\t<tr><th scope=row>2</th><td>000054a3eb219587e6ed</td><td>viwiki</td><td>true</td><td>control  </td><td>ui.toc        </td><td>0 edits</td><td>e4aa818062fb8fa00749</td><td>1</td></tr>\n",
       "\t<tr><th scope=row>3</th><td>00005658cad1c9bfdd9c</td><td>frwiki</td><td>true</td><td>control  </td><td>ui.toc        </td><td>0 edits</td><td>6574a7926c6a7559ed51</td><td>1</td></tr>\n",
       "\t<tr><th scope=row>4</th><td>0000804a10182a407ca7</td><td>ptwiki</td><td>true</td><td>control  </td><td>ui.toc        </td><td>0 edits</td><td>5c701e60092b9dbade71</td><td>1</td></tr>\n",
       "\t<tr><th scope=row>5</th><td>000082b0ad7fdaf4c466</td><td>frwiki</td><td>true</td><td>control  </td><td>ui.toc        </td><td>0 edits</td><td>71ebb420d6329e51005b</td><td>1</td></tr>\n",
       "\t<tr><th scope=row>6</th><td>000099a312101de4df16</td><td>frwiki</td><td>true</td><td>control  </td><td>ui.toc        </td><td>0 edits</td><td>b948dcad9283239d243d</td><td>1</td></tr>\n",
       "</tbody>\n",
       "</table>\n"
      ],
      "text/latex": [
       "A data.frame: 6 × 8\n",
       "\\begin{tabular}{r|llllllll}\n",
       "  & session\\_id & wiki & isanon & test\\_group & name & editcountbucket & pagetoken & clicks\\\\\n",
       "  & <chr> & <chr> & <chr> & <chr> & <chr> & <chr> & <chr> & <int>\\\\\n",
       "\\hline\n",
       "\t1 & 00003645f652c5586de5 & kowiki & true & treatment & ui.sidebar-toc & 0 edits & 888ed5c2cf536812553b & 2\\\\\n",
       "\t2 & 000054a3eb219587e6ed & viwiki & true & control   & ui.toc         & 0 edits & e4aa818062fb8fa00749 & 1\\\\\n",
       "\t3 & 00005658cad1c9bfdd9c & frwiki & true & control   & ui.toc         & 0 edits & 6574a7926c6a7559ed51 & 1\\\\\n",
       "\t4 & 0000804a10182a407ca7 & ptwiki & true & control   & ui.toc         & 0 edits & 5c701e60092b9dbade71 & 1\\\\\n",
       "\t5 & 000082b0ad7fdaf4c466 & frwiki & true & control   & ui.toc         & 0 edits & 71ebb420d6329e51005b & 1\\\\\n",
       "\t6 & 000099a312101de4df16 & frwiki & true & control   & ui.toc         & 0 edits & b948dcad9283239d243d & 1\\\\\n",
       "\\end{tabular}\n"
      ],
      "text/markdown": [
       "\n",
       "A data.frame: 6 × 8\n",
       "\n",
       "| <!--/--> | session_id &lt;chr&gt; | wiki &lt;chr&gt; | isanon &lt;chr&gt; | test_group &lt;chr&gt; | name &lt;chr&gt; | editcountbucket &lt;chr&gt; | pagetoken &lt;chr&gt; | clicks &lt;int&gt; |\n",
       "|---|---|---|---|---|---|---|---|---|\n",
       "| 1 | 00003645f652c5586de5 | kowiki | true | treatment | ui.sidebar-toc | 0 edits | 888ed5c2cf536812553b | 2 |\n",
       "| 2 | 000054a3eb219587e6ed | viwiki | true | control   | ui.toc         | 0 edits | e4aa818062fb8fa00749 | 1 |\n",
       "| 3 | 00005658cad1c9bfdd9c | frwiki | true | control   | ui.toc         | 0 edits | 6574a7926c6a7559ed51 | 1 |\n",
       "| 4 | 0000804a10182a407ca7 | ptwiki | true | control   | ui.toc         | 0 edits | 5c701e60092b9dbade71 | 1 |\n",
       "| 5 | 000082b0ad7fdaf4c466 | frwiki | true | control   | ui.toc         | 0 edits | 71ebb420d6329e51005b | 1 |\n",
       "| 6 | 000099a312101de4df16 | frwiki | true | control   | ui.toc         | 0 edits | b948dcad9283239d243d | 1 |\n",
       "\n"
      ],
      "text/plain": [
       "  session_id           wiki   isanon test_group name           editcountbucket\n",
       "1 00003645f652c5586de5 kowiki true   treatment  ui.sidebar-toc 0 edits        \n",
       "2 000054a3eb219587e6ed viwiki true   control    ui.toc         0 edits        \n",
       "3 00005658cad1c9bfdd9c frwiki true   control    ui.toc         0 edits        \n",
       "4 0000804a10182a407ca7 ptwiki true   control    ui.toc         0 edits        \n",
       "5 000082b0ad7fdaf4c466 frwiki true   control    ui.toc         0 edits        \n",
       "6 000099a312101de4df16 frwiki true   control    ui.toc         0 edits        \n",
       "  pagetoken            clicks\n",
       "1 888ed5c2cf536812553b 2     \n",
       "2 e4aa818062fb8fa00749 1     \n",
       "3 6574a7926c6a7559ed51 1     \n",
       "4 5c701e60092b9dbade71 1     \n",
       "5 71ebb420d6329e51005b 1     \n",
       "6 b948dcad9283239d243d 1     "
      ]
     },
     "metadata": {},
     "output_type": "display_data"
    }
   ],
   "source": [
    "head(df_anon)"
   ]
  },
  {
   "cell_type": "code",
   "execution_count": 115,
   "id": "caa71039",
   "metadata": {},
   "outputs": [],
   "source": [
    "df_his_anon <- df_anon %>% \n",
    "  group_by(test_group, clicks) %>%\n",
    "  summarize(cnt=n(), .groups='drop') %>%\n",
    "  spread(test_group, cnt)"
   ]
  },
  {
   "cell_type": "code",
   "execution_count": 117,
   "id": "2cc1ffb1",
   "metadata": {},
   "outputs": [],
   "source": [
    "df_his_anon[is.na(df_his_anon)] <- 0"
   ]
  },
  {
   "cell_type": "code",
   "execution_count": 119,
   "id": "ff83d063",
   "metadata": {},
   "outputs": [
    {
     "data": {
      "text/html": [
       "374636"
      ],
      "text/latex": [
       "374636"
      ],
      "text/markdown": [
       "374636"
      ],
      "text/plain": [
       "[1] 374636"
      ]
     },
     "metadata": {},
     "output_type": "display_data"
    }
   ],
   "source": [
    "sum(df_his_anon[,'control'])"
   ]
  },
  {
   "cell_type": "code",
   "execution_count": 120,
   "id": "f38bfabf",
   "metadata": {},
   "outputs": [
    {
     "data": {
      "text/html": [
       "62317"
      ],
      "text/latex": [
       "62317"
      ],
      "text/markdown": [
       "62317"
      ],
      "text/plain": [
       "[1] 62317"
      ]
     },
     "metadata": {},
     "output_type": "display_data"
    }
   ],
   "source": [
    "sum(df_his_anon[,'treatment'])"
   ]
  },
  {
   "cell_type": "code",
   "execution_count": 121,
   "id": "cb1722bc",
   "metadata": {},
   "outputs": [],
   "source": [
    "df_his_anon <- df_his_anon %>%\n",
    "  mutate(\n",
    "    control_pct = round(control*100/374636,2) ,\n",
    "    treatment_pct = round(treatment*100/62317,2) \n",
    " )"
   ]
  },
  {
   "cell_type": "code",
   "execution_count": 123,
   "id": "a89981a0",
   "metadata": {},
   "outputs": [
    {
     "data": {
      "text/html": [
       "<table class=\"dataframe\">\n",
       "<caption>A tibble: 60 × 5</caption>\n",
       "<thead>\n",
       "\t<tr><th scope=col>clicks</th><th scope=col>control</th><th scope=col>treatment</th><th scope=col>control_pct</th><th scope=col>treatment_pct</th></tr>\n",
       "\t<tr><th scope=col>&lt;int&gt;</th><th scope=col>&lt;int&gt;</th><th scope=col>&lt;int&gt;</th><th scope=col>&lt;dbl&gt;</th><th scope=col>&lt;dbl&gt;</th></tr>\n",
       "</thead>\n",
       "<tbody>\n",
       "\t<tr><td>  1</td><td>336377</td><td>44575</td><td>89.79</td><td>71.53</td></tr>\n",
       "\t<tr><td>  2</td><td> 29320</td><td> 9651</td><td> 7.83</td><td>15.49</td></tr>\n",
       "\t<tr><td>  3</td><td>  5382</td><td> 3477</td><td> 1.44</td><td> 5.58</td></tr>\n",
       "\t<tr><td>  4</td><td>  1726</td><td> 1687</td><td> 0.46</td><td> 2.71</td></tr>\n",
       "\t<tr><td>  5</td><td>   710</td><td>  898</td><td> 0.19</td><td> 1.44</td></tr>\n",
       "\t<tr><td>  6</td><td>   402</td><td>  614</td><td> 0.11</td><td> 0.99</td></tr>\n",
       "\t<tr><td>  7</td><td>   195</td><td>  379</td><td> 0.05</td><td> 0.61</td></tr>\n",
       "\t<tr><td>  8</td><td>   137</td><td>  276</td><td> 0.04</td><td> 0.44</td></tr>\n",
       "\t<tr><td>  9</td><td>    99</td><td>  177</td><td> 0.03</td><td> 0.28</td></tr>\n",
       "\t<tr><td> 10</td><td>    51</td><td>  136</td><td> 0.01</td><td> 0.22</td></tr>\n",
       "\t<tr><td> 11</td><td>    45</td><td>   79</td><td> 0.01</td><td> 0.13</td></tr>\n",
       "\t<tr><td> 12</td><td>    33</td><td>   72</td><td> 0.01</td><td> 0.12</td></tr>\n",
       "\t<tr><td> 13</td><td>    18</td><td>   60</td><td> 0.00</td><td> 0.10</td></tr>\n",
       "\t<tr><td> 14</td><td>    16</td><td>   44</td><td> 0.00</td><td> 0.07</td></tr>\n",
       "\t<tr><td> 15</td><td>    23</td><td>   27</td><td> 0.01</td><td> 0.04</td></tr>\n",
       "\t<tr><td> 16</td><td>    10</td><td>   29</td><td> 0.00</td><td> 0.05</td></tr>\n",
       "\t<tr><td> 17</td><td>    13</td><td>   23</td><td> 0.00</td><td> 0.04</td></tr>\n",
       "\t<tr><td> 18</td><td>     6</td><td>   15</td><td> 0.00</td><td> 0.02</td></tr>\n",
       "\t<tr><td> 19</td><td>     4</td><td>   12</td><td> 0.00</td><td> 0.02</td></tr>\n",
       "\t<tr><td> 20</td><td>     8</td><td>    9</td><td> 0.00</td><td> 0.01</td></tr>\n",
       "\t<tr><td> 21</td><td>     4</td><td>   11</td><td> 0.00</td><td> 0.02</td></tr>\n",
       "\t<tr><td> 22</td><td>     5</td><td>    9</td><td> 0.00</td><td> 0.01</td></tr>\n",
       "\t<tr><td> 23</td><td>     0</td><td>    6</td><td> 0.00</td><td> 0.01</td></tr>\n",
       "\t<tr><td> 24</td><td>     0</td><td>   12</td><td> 0.00</td><td> 0.02</td></tr>\n",
       "\t<tr><td> 25</td><td>     3</td><td>    4</td><td> 0.00</td><td> 0.01</td></tr>\n",
       "\t<tr><td> 26</td><td>     4</td><td>    4</td><td> 0.00</td><td> 0.01</td></tr>\n",
       "\t<tr><td> 27</td><td>     4</td><td>    2</td><td> 0.00</td><td> 0.00</td></tr>\n",
       "\t<tr><td> 28</td><td>     1</td><td>    2</td><td> 0.00</td><td> 0.00</td></tr>\n",
       "\t<tr><td> 29</td><td>     4</td><td>    4</td><td> 0.00</td><td> 0.01</td></tr>\n",
       "\t<tr><td> 30</td><td>     0</td><td>    2</td><td> 0.00</td><td> 0.00</td></tr>\n",
       "\t<tr><td> 31</td><td>     1</td><td>    2</td><td> 0.00</td><td> 0.00</td></tr>\n",
       "\t<tr><td> 32</td><td>     1</td><td>    1</td><td> 0.00</td><td> 0.00</td></tr>\n",
       "\t<tr><td> 33</td><td>     1</td><td>    0</td><td> 0.00</td><td> 0.00</td></tr>\n",
       "\t<tr><td> 34</td><td>     1</td><td>    3</td><td> 0.00</td><td> 0.00</td></tr>\n",
       "\t<tr><td> 35</td><td>     2</td><td>    2</td><td> 0.00</td><td> 0.00</td></tr>\n",
       "\t<tr><td> 36</td><td>     3</td><td>    2</td><td> 0.00</td><td> 0.00</td></tr>\n",
       "\t<tr><td> 37</td><td>     0</td><td>    3</td><td> 0.00</td><td> 0.00</td></tr>\n",
       "\t<tr><td> 38</td><td>     1</td><td>    1</td><td> 0.00</td><td> 0.00</td></tr>\n",
       "\t<tr><td> 39</td><td>     2</td><td>    0</td><td> 0.00</td><td> 0.00</td></tr>\n",
       "\t<tr><td> 42</td><td>     1</td><td>    2</td><td> 0.00</td><td> 0.00</td></tr>\n",
       "\t<tr><td> 43</td><td>     2</td><td>    1</td><td> 0.00</td><td> 0.00</td></tr>\n",
       "\t<tr><td> 44</td><td>     0</td><td>    2</td><td> 0.00</td><td> 0.00</td></tr>\n",
       "\t<tr><td> 46</td><td>     3</td><td>    0</td><td> 0.00</td><td> 0.00</td></tr>\n",
       "\t<tr><td> 47</td><td>     1</td><td>    0</td><td> 0.00</td><td> 0.00</td></tr>\n",
       "\t<tr><td> 51</td><td>     1</td><td>    0</td><td> 0.00</td><td> 0.00</td></tr>\n",
       "\t<tr><td> 53</td><td>     1</td><td>    0</td><td> 0.00</td><td> 0.00</td></tr>\n",
       "\t<tr><td> 56</td><td>     1</td><td>    0</td><td> 0.00</td><td> 0.00</td></tr>\n",
       "\t<tr><td> 62</td><td>     1</td><td>    0</td><td> 0.00</td><td> 0.00</td></tr>\n",
       "\t<tr><td> 64</td><td>     1</td><td>    0</td><td> 0.00</td><td> 0.00</td></tr>\n",
       "\t<tr><td> 70</td><td>     1</td><td>    1</td><td> 0.00</td><td> 0.00</td></tr>\n",
       "\t<tr><td> 72</td><td>     1</td><td>    0</td><td> 0.00</td><td> 0.00</td></tr>\n",
       "\t<tr><td> 73</td><td>     2</td><td>    0</td><td> 0.00</td><td> 0.00</td></tr>\n",
       "\t<tr><td> 75</td><td>     1</td><td>    0</td><td> 0.00</td><td> 0.00</td></tr>\n",
       "\t<tr><td> 99</td><td>     1</td><td>    0</td><td> 0.00</td><td> 0.00</td></tr>\n",
       "\t<tr><td>105</td><td>     2</td><td>    0</td><td> 0.00</td><td> 0.00</td></tr>\n",
       "\t<tr><td>112</td><td>     1</td><td>    0</td><td> 0.00</td><td> 0.00</td></tr>\n",
       "\t<tr><td>138</td><td>     1</td><td>    0</td><td> 0.00</td><td> 0.00</td></tr>\n",
       "\t<tr><td>188</td><td>     0</td><td>    1</td><td> 0.00</td><td> 0.00</td></tr>\n",
       "\t<tr><td>191</td><td>     1</td><td>    0</td><td> 0.00</td><td> 0.00</td></tr>\n",
       "\t<tr><td>197</td><td>     1</td><td>    0</td><td> 0.00</td><td> 0.00</td></tr>\n",
       "</tbody>\n",
       "</table>\n"
      ],
      "text/latex": [
       "A tibble: 60 × 5\n",
       "\\begin{tabular}{lllll}\n",
       " clicks & control & treatment & control\\_pct & treatment\\_pct\\\\\n",
       " <int> & <int> & <int> & <dbl> & <dbl>\\\\\n",
       "\\hline\n",
       "\t   1 & 336377 & 44575 & 89.79 & 71.53\\\\\n",
       "\t   2 &  29320 &  9651 &  7.83 & 15.49\\\\\n",
       "\t   3 &   5382 &  3477 &  1.44 &  5.58\\\\\n",
       "\t   4 &   1726 &  1687 &  0.46 &  2.71\\\\\n",
       "\t   5 &    710 &   898 &  0.19 &  1.44\\\\\n",
       "\t   6 &    402 &   614 &  0.11 &  0.99\\\\\n",
       "\t   7 &    195 &   379 &  0.05 &  0.61\\\\\n",
       "\t   8 &    137 &   276 &  0.04 &  0.44\\\\\n",
       "\t   9 &     99 &   177 &  0.03 &  0.28\\\\\n",
       "\t  10 &     51 &   136 &  0.01 &  0.22\\\\\n",
       "\t  11 &     45 &    79 &  0.01 &  0.13\\\\\n",
       "\t  12 &     33 &    72 &  0.01 &  0.12\\\\\n",
       "\t  13 &     18 &    60 &  0.00 &  0.10\\\\\n",
       "\t  14 &     16 &    44 &  0.00 &  0.07\\\\\n",
       "\t  15 &     23 &    27 &  0.01 &  0.04\\\\\n",
       "\t  16 &     10 &    29 &  0.00 &  0.05\\\\\n",
       "\t  17 &     13 &    23 &  0.00 &  0.04\\\\\n",
       "\t  18 &      6 &    15 &  0.00 &  0.02\\\\\n",
       "\t  19 &      4 &    12 &  0.00 &  0.02\\\\\n",
       "\t  20 &      8 &     9 &  0.00 &  0.01\\\\\n",
       "\t  21 &      4 &    11 &  0.00 &  0.02\\\\\n",
       "\t  22 &      5 &     9 &  0.00 &  0.01\\\\\n",
       "\t  23 &      0 &     6 &  0.00 &  0.01\\\\\n",
       "\t  24 &      0 &    12 &  0.00 &  0.02\\\\\n",
       "\t  25 &      3 &     4 &  0.00 &  0.01\\\\\n",
       "\t  26 &      4 &     4 &  0.00 &  0.01\\\\\n",
       "\t  27 &      4 &     2 &  0.00 &  0.00\\\\\n",
       "\t  28 &      1 &     2 &  0.00 &  0.00\\\\\n",
       "\t  29 &      4 &     4 &  0.00 &  0.01\\\\\n",
       "\t  30 &      0 &     2 &  0.00 &  0.00\\\\\n",
       "\t  31 &      1 &     2 &  0.00 &  0.00\\\\\n",
       "\t  32 &      1 &     1 &  0.00 &  0.00\\\\\n",
       "\t  33 &      1 &     0 &  0.00 &  0.00\\\\\n",
       "\t  34 &      1 &     3 &  0.00 &  0.00\\\\\n",
       "\t  35 &      2 &     2 &  0.00 &  0.00\\\\\n",
       "\t  36 &      3 &     2 &  0.00 &  0.00\\\\\n",
       "\t  37 &      0 &     3 &  0.00 &  0.00\\\\\n",
       "\t  38 &      1 &     1 &  0.00 &  0.00\\\\\n",
       "\t  39 &      2 &     0 &  0.00 &  0.00\\\\\n",
       "\t  42 &      1 &     2 &  0.00 &  0.00\\\\\n",
       "\t  43 &      2 &     1 &  0.00 &  0.00\\\\\n",
       "\t  44 &      0 &     2 &  0.00 &  0.00\\\\\n",
       "\t  46 &      3 &     0 &  0.00 &  0.00\\\\\n",
       "\t  47 &      1 &     0 &  0.00 &  0.00\\\\\n",
       "\t  51 &      1 &     0 &  0.00 &  0.00\\\\\n",
       "\t  53 &      1 &     0 &  0.00 &  0.00\\\\\n",
       "\t  56 &      1 &     0 &  0.00 &  0.00\\\\\n",
       "\t  62 &      1 &     0 &  0.00 &  0.00\\\\\n",
       "\t  64 &      1 &     0 &  0.00 &  0.00\\\\\n",
       "\t  70 &      1 &     1 &  0.00 &  0.00\\\\\n",
       "\t  72 &      1 &     0 &  0.00 &  0.00\\\\\n",
       "\t  73 &      2 &     0 &  0.00 &  0.00\\\\\n",
       "\t  75 &      1 &     0 &  0.00 &  0.00\\\\\n",
       "\t  99 &      1 &     0 &  0.00 &  0.00\\\\\n",
       "\t 105 &      2 &     0 &  0.00 &  0.00\\\\\n",
       "\t 112 &      1 &     0 &  0.00 &  0.00\\\\\n",
       "\t 138 &      1 &     0 &  0.00 &  0.00\\\\\n",
       "\t 188 &      0 &     1 &  0.00 &  0.00\\\\\n",
       "\t 191 &      1 &     0 &  0.00 &  0.00\\\\\n",
       "\t 197 &      1 &     0 &  0.00 &  0.00\\\\\n",
       "\\end{tabular}\n"
      ],
      "text/markdown": [
       "\n",
       "A tibble: 60 × 5\n",
       "\n",
       "| clicks &lt;int&gt; | control &lt;int&gt; | treatment &lt;int&gt; | control_pct &lt;dbl&gt; | treatment_pct &lt;dbl&gt; |\n",
       "|---|---|---|---|---|\n",
       "|   1 | 336377 | 44575 | 89.79 | 71.53 |\n",
       "|   2 |  29320 |  9651 |  7.83 | 15.49 |\n",
       "|   3 |   5382 |  3477 |  1.44 |  5.58 |\n",
       "|   4 |   1726 |  1687 |  0.46 |  2.71 |\n",
       "|   5 |    710 |   898 |  0.19 |  1.44 |\n",
       "|   6 |    402 |   614 |  0.11 |  0.99 |\n",
       "|   7 |    195 |   379 |  0.05 |  0.61 |\n",
       "|   8 |    137 |   276 |  0.04 |  0.44 |\n",
       "|   9 |     99 |   177 |  0.03 |  0.28 |\n",
       "|  10 |     51 |   136 |  0.01 |  0.22 |\n",
       "|  11 |     45 |    79 |  0.01 |  0.13 |\n",
       "|  12 |     33 |    72 |  0.01 |  0.12 |\n",
       "|  13 |     18 |    60 |  0.00 |  0.10 |\n",
       "|  14 |     16 |    44 |  0.00 |  0.07 |\n",
       "|  15 |     23 |    27 |  0.01 |  0.04 |\n",
       "|  16 |     10 |    29 |  0.00 |  0.05 |\n",
       "|  17 |     13 |    23 |  0.00 |  0.04 |\n",
       "|  18 |      6 |    15 |  0.00 |  0.02 |\n",
       "|  19 |      4 |    12 |  0.00 |  0.02 |\n",
       "|  20 |      8 |     9 |  0.00 |  0.01 |\n",
       "|  21 |      4 |    11 |  0.00 |  0.02 |\n",
       "|  22 |      5 |     9 |  0.00 |  0.01 |\n",
       "|  23 |      0 |     6 |  0.00 |  0.01 |\n",
       "|  24 |      0 |    12 |  0.00 |  0.02 |\n",
       "|  25 |      3 |     4 |  0.00 |  0.01 |\n",
       "|  26 |      4 |     4 |  0.00 |  0.01 |\n",
       "|  27 |      4 |     2 |  0.00 |  0.00 |\n",
       "|  28 |      1 |     2 |  0.00 |  0.00 |\n",
       "|  29 |      4 |     4 |  0.00 |  0.01 |\n",
       "|  30 |      0 |     2 |  0.00 |  0.00 |\n",
       "|  31 |      1 |     2 |  0.00 |  0.00 |\n",
       "|  32 |      1 |     1 |  0.00 |  0.00 |\n",
       "|  33 |      1 |     0 |  0.00 |  0.00 |\n",
       "|  34 |      1 |     3 |  0.00 |  0.00 |\n",
       "|  35 |      2 |     2 |  0.00 |  0.00 |\n",
       "|  36 |      3 |     2 |  0.00 |  0.00 |\n",
       "|  37 |      0 |     3 |  0.00 |  0.00 |\n",
       "|  38 |      1 |     1 |  0.00 |  0.00 |\n",
       "|  39 |      2 |     0 |  0.00 |  0.00 |\n",
       "|  42 |      1 |     2 |  0.00 |  0.00 |\n",
       "|  43 |      2 |     1 |  0.00 |  0.00 |\n",
       "|  44 |      0 |     2 |  0.00 |  0.00 |\n",
       "|  46 |      3 |     0 |  0.00 |  0.00 |\n",
       "|  47 |      1 |     0 |  0.00 |  0.00 |\n",
       "|  51 |      1 |     0 |  0.00 |  0.00 |\n",
       "|  53 |      1 |     0 |  0.00 |  0.00 |\n",
       "|  56 |      1 |     0 |  0.00 |  0.00 |\n",
       "|  62 |      1 |     0 |  0.00 |  0.00 |\n",
       "|  64 |      1 |     0 |  0.00 |  0.00 |\n",
       "|  70 |      1 |     1 |  0.00 |  0.00 |\n",
       "|  72 |      1 |     0 |  0.00 |  0.00 |\n",
       "|  73 |      2 |     0 |  0.00 |  0.00 |\n",
       "|  75 |      1 |     0 |  0.00 |  0.00 |\n",
       "|  99 |      1 |     0 |  0.00 |  0.00 |\n",
       "| 105 |      2 |     0 |  0.00 |  0.00 |\n",
       "| 112 |      1 |     0 |  0.00 |  0.00 |\n",
       "| 138 |      1 |     0 |  0.00 |  0.00 |\n",
       "| 188 |      0 |     1 |  0.00 |  0.00 |\n",
       "| 191 |      1 |     0 |  0.00 |  0.00 |\n",
       "| 197 |      1 |     0 |  0.00 |  0.00 |\n",
       "\n"
      ],
      "text/plain": [
       "   clicks control treatment control_pct treatment_pct\n",
       "1    1    336377  44575     89.79       71.53        \n",
       "2    2     29320   9651      7.83       15.49        \n",
       "3    3      5382   3477      1.44        5.58        \n",
       "4    4      1726   1687      0.46        2.71        \n",
       "5    5       710    898      0.19        1.44        \n",
       "6    6       402    614      0.11        0.99        \n",
       "7    7       195    379      0.05        0.61        \n",
       "8    8       137    276      0.04        0.44        \n",
       "9    9        99    177      0.03        0.28        \n",
       "10  10        51    136      0.01        0.22        \n",
       "11  11        45     79      0.01        0.13        \n",
       "12  12        33     72      0.01        0.12        \n",
       "13  13        18     60      0.00        0.10        \n",
       "14  14        16     44      0.00        0.07        \n",
       "15  15        23     27      0.01        0.04        \n",
       "16  16        10     29      0.00        0.05        \n",
       "17  17        13     23      0.00        0.04        \n",
       "18  18         6     15      0.00        0.02        \n",
       "19  19         4     12      0.00        0.02        \n",
       "20  20         8      9      0.00        0.01        \n",
       "21  21         4     11      0.00        0.02        \n",
       "22  22         5      9      0.00        0.01        \n",
       "23  23         0      6      0.00        0.01        \n",
       "24  24         0     12      0.00        0.02        \n",
       "25  25         3      4      0.00        0.01        \n",
       "26  26         4      4      0.00        0.01        \n",
       "27  27         4      2      0.00        0.00        \n",
       "28  28         1      2      0.00        0.00        \n",
       "29  29         4      4      0.00        0.01        \n",
       "30  30         0      2      0.00        0.00        \n",
       "31  31         1      2      0.00        0.00        \n",
       "32  32         1      1      0.00        0.00        \n",
       "33  33         1      0      0.00        0.00        \n",
       "34  34         1      3      0.00        0.00        \n",
       "35  35         2      2      0.00        0.00        \n",
       "36  36         3      2      0.00        0.00        \n",
       "37  37         0      3      0.00        0.00        \n",
       "38  38         1      1      0.00        0.00        \n",
       "39  39         2      0      0.00        0.00        \n",
       "40  42         1      2      0.00        0.00        \n",
       "41  43         2      1      0.00        0.00        \n",
       "42  44         0      2      0.00        0.00        \n",
       "43  46         3      0      0.00        0.00        \n",
       "44  47         1      0      0.00        0.00        \n",
       "45  51         1      0      0.00        0.00        \n",
       "46  53         1      0      0.00        0.00        \n",
       "47  56         1      0      0.00        0.00        \n",
       "48  62         1      0      0.00        0.00        \n",
       "49  64         1      0      0.00        0.00        \n",
       "50  70         1      1      0.00        0.00        \n",
       "51  72         1      0      0.00        0.00        \n",
       "52  73         2      0      0.00        0.00        \n",
       "53  75         1      0      0.00        0.00        \n",
       "54  99         1      0      0.00        0.00        \n",
       "55 105         2      0      0.00        0.00        \n",
       "56 112         1      0      0.00        0.00        \n",
       "57 138         1      0      0.00        0.00        \n",
       "58 188         0      1      0.00        0.00        \n",
       "59 191         1      0      0.00        0.00        \n",
       "60 197         1      0      0.00        0.00        "
      ]
     },
     "metadata": {},
     "output_type": "display_data"
    }
   ],
   "source": [
    "df_his_anon"
   ]
  },
  {
   "cell_type": "code",
   "execution_count": 126,
   "id": "538800d1",
   "metadata": {},
   "outputs": [],
   "source": [
    "df_his_anon_L <- df_his_anon %>%\n",
    "   filter(clicks<16) %>%\n",
    "   gather(\"test_group\",\"proportion\",4:5) "
   ]
  },
  {
   "cell_type": "code",
   "execution_count": 127,
   "id": "799a37fc",
   "metadata": {},
   "outputs": [
    {
     "data": {
      "text/html": [
       "<table class=\"dataframe\">\n",
       "<caption>A tibble: 6 × 5</caption>\n",
       "<thead>\n",
       "\t<tr><th scope=col>clicks</th><th scope=col>control</th><th scope=col>treatment</th><th scope=col>test_group</th><th scope=col>proportion</th></tr>\n",
       "\t<tr><th scope=col>&lt;int&gt;</th><th scope=col>&lt;int&gt;</th><th scope=col>&lt;int&gt;</th><th scope=col>&lt;chr&gt;</th><th scope=col>&lt;dbl&gt;</th></tr>\n",
       "</thead>\n",
       "<tbody>\n",
       "\t<tr><td>1</td><td>336377</td><td>44575</td><td>control_pct</td><td>89.79</td></tr>\n",
       "\t<tr><td>2</td><td> 29320</td><td> 9651</td><td>control_pct</td><td> 7.83</td></tr>\n",
       "\t<tr><td>3</td><td>  5382</td><td> 3477</td><td>control_pct</td><td> 1.44</td></tr>\n",
       "\t<tr><td>4</td><td>  1726</td><td> 1687</td><td>control_pct</td><td> 0.46</td></tr>\n",
       "\t<tr><td>5</td><td>   710</td><td>  898</td><td>control_pct</td><td> 0.19</td></tr>\n",
       "\t<tr><td>6</td><td>   402</td><td>  614</td><td>control_pct</td><td> 0.11</td></tr>\n",
       "</tbody>\n",
       "</table>\n"
      ],
      "text/latex": [
       "A tibble: 6 × 5\n",
       "\\begin{tabular}{lllll}\n",
       " clicks & control & treatment & test\\_group & proportion\\\\\n",
       " <int> & <int> & <int> & <chr> & <dbl>\\\\\n",
       "\\hline\n",
       "\t 1 & 336377 & 44575 & control\\_pct & 89.79\\\\\n",
       "\t 2 &  29320 &  9651 & control\\_pct &  7.83\\\\\n",
       "\t 3 &   5382 &  3477 & control\\_pct &  1.44\\\\\n",
       "\t 4 &   1726 &  1687 & control\\_pct &  0.46\\\\\n",
       "\t 5 &    710 &   898 & control\\_pct &  0.19\\\\\n",
       "\t 6 &    402 &   614 & control\\_pct &  0.11\\\\\n",
       "\\end{tabular}\n"
      ],
      "text/markdown": [
       "\n",
       "A tibble: 6 × 5\n",
       "\n",
       "| clicks &lt;int&gt; | control &lt;int&gt; | treatment &lt;int&gt; | test_group &lt;chr&gt; | proportion &lt;dbl&gt; |\n",
       "|---|---|---|---|---|\n",
       "| 1 | 336377 | 44575 | control_pct | 89.79 |\n",
       "| 2 |  29320 |  9651 | control_pct |  7.83 |\n",
       "| 3 |   5382 |  3477 | control_pct |  1.44 |\n",
       "| 4 |   1726 |  1687 | control_pct |  0.46 |\n",
       "| 5 |    710 |   898 | control_pct |  0.19 |\n",
       "| 6 |    402 |   614 | control_pct |  0.11 |\n",
       "\n"
      ],
      "text/plain": [
       "  clicks control treatment test_group  proportion\n",
       "1 1      336377  44575     control_pct 89.79     \n",
       "2 2       29320   9651     control_pct  7.83     \n",
       "3 3        5382   3477     control_pct  1.44     \n",
       "4 4        1726   1687     control_pct  0.46     \n",
       "5 5         710    898     control_pct  0.19     \n",
       "6 6         402    614     control_pct  0.11     "
      ]
     },
     "metadata": {},
     "output_type": "display_data"
    }
   ],
   "source": [
    "head(df_his_anon_L)"
   ]
  },
  {
   "cell_type": "markdown",
   "id": "ebf49326",
   "metadata": {},
   "source": [
    "### Distribution of number of clicks"
   ]
  },
  {
   "cell_type": "code",
   "execution_count": 142,
   "id": "68e38127",
   "metadata": {},
   "outputs": [
    {
     "data": {
      "image/png": "[encoded data removed]",
      "text/plain": [
       "plot without title"
      ]
     },
     "metadata": {
      "image/png": {
       "height": 600,
       "width": 900
      }
     },
     "output_type": "display_data"
    }
   ],
   "source": [
    "distribution_clicks_anon  <- df_his_anon_L  %>%\n",
    "        ggplot(aes(x =test_group , y= proportion, fill=test_group)) +\n",
    "        #make consistent width in geom_col for the category with missing data\n",
    "        geom_col( position = position_dodge(preserve = \"single\") ) +        \n",
    "        geom_text(aes(label = paste(proportion)), color = \"black\", position = position_dodge(width = 1), vjust = -0.5, hjust = 0.5, size = 3) +\n",
    "        facet_wrap(~clicks , ncol=4, scale = 'free_y' ) +\n",
    "        #make geom_text within the canvas's bounds\n",
    "        scale_y_continuous(expand = expansion(mult = 0.2)) +\n",
    "        labs (\n",
    "              y = \"Proportion of total sessions in each test group\" ,\n",
    "             x = \"Edit count bucket\",\n",
    "             title = \"Proportion of total sessions in each test group by number of clicks on ToC (%)\" ,\n",
    "             caption = \"User type: Anonymous Users\n",
    "Number of clicks: clicks per session on each page\" ) +\n",
    "        scale_fill_manual(values= c( \"#666666\",  \"#000099\"), name = \"feature\")  +\n",
    "         theme(\n",
    "            panel.grid.major = element_blank(), \n",
    "            panel.grid.minor = element_blank(),\n",
    "            panel.background = element_blank(),\n",
    "             #each plot's x axix lable\n",
    "            axis.text.x = element_text(angle=90),\n",
    "            plot.caption = element_text(hjust = 0, face= \"italic\"),\n",
    "            strip.background =element_rect(fill=\"white\"),\n",
    "            plot.title = element_text(hjust = 0.5),\n",
    "            text = element_text(size=12),\n",
    "            axis.line = element_line(colour = \"black\"),\n",
    "            legend.position = \"bottom\")\n",
    "distribution_clicks_anon\n"
   ]
  },
  {
   "cell_type": "markdown",
   "id": "9e6bbfbe",
   "metadata": {},
   "source": [
    "### Modeling"
   ]
  },
  {
   "cell_type": "code",
   "execution_count": 144,
   "id": "b61892a4",
   "metadata": {},
   "outputs": [],
   "source": [
    "m2_c <- glmer( formula = clicks ~ test_group + (1 | wiki),\n",
    "    family = poisson(link = \"log\"),\n",
    "    data = df_anon)"
   ]
  },
  {
   "cell_type": "code",
   "execution_count": 145,
   "id": "406f6ef5",
   "metadata": {},
   "outputs": [
    {
     "data": {
      "text/plain": [
       "Generalized linear mixed model fit by maximum likelihood (Laplace\n",
       "  Approximation) [glmerMod]\n",
       " Family: poisson  ( log )\n",
       "Formula: clicks ~ test_group + (1 | wiki)\n",
       "   Data: df_anon\n",
       "\n",
       "      AIC       BIC    logLik  deviance  df.resid \n",
       "1065983.9 1066016.8 -532988.9 1065977.9    436950 \n",
       "\n",
       "Scaled residuals: \n",
       "    Min      1Q  Median      3Q     Max \n",
       " -0.654  -0.173  -0.128  -0.128 179.572 \n",
       "\n",
       "Random effects:\n",
       " Groups Name        Variance Std.Dev.\n",
       " wiki   (Intercept) 0.002653 0.05151 \n",
       "Number of obs: 436953, groups:  wiki, 20\n",
       "\n",
       "Fixed effects:\n",
       "                    Estimate Std. Error z value Pr(>|z|)    \n",
       "(Intercept)          0.19010    0.01363   13.95   <2e-16 ***\n",
       "test_grouptreatment  0.36138    0.00346  104.44   <2e-16 ***\n",
       "---\n",
       "Signif. codes:  0 ‘***’ 0.001 ‘**’ 0.01 ‘*’ 0.05 ‘.’ 0.1 ‘ ’ 1\n",
       "\n",
       "Correlation of Fixed Effects:\n",
       "            (Intr)\n",
       "tst_grptrtm -0.056"
      ]
     },
     "metadata": {},
     "output_type": "display_data"
    }
   ],
   "source": [
    "summary(m2_c)"
   ]
  },
  {
   "cell_type": "code",
   "execution_count": 146,
   "id": "81f7d77e",
   "metadata": {},
   "outputs": [
    {
     "data": {
      "text/html": [
       "<style>\n",
       ".dl-inline {width: auto; margin:0; padding: 0}\n",
       ".dl-inline>dt, .dl-inline>dd {float: none; width: auto; display: inline-block}\n",
       ".dl-inline>dt::after {content: \":\\0020\"; padding-right: .5ex}\n",
       ".dl-inline>dt:not(:first-of-type) {padding-left: .5ex}\n",
       "</style><dl class=dl-inline><dt>(Intercept)</dt><dd>0.190104338951044</dd><dt>test_grouptreatment</dt><dd>0.361383038407578</dd></dl>\n"
      ],
      "text/latex": [
       "\\begin{description*}\n",
       "\\item[(Intercept)] 0.190104338951044\n",
       "\\item[test\\textbackslash{}\\_grouptreatment] 0.361383038407578\n",
       "\\end{description*}\n"
      ],
      "text/markdown": [
       "(Intercept)\n",
       ":   0.190104338951044test_grouptreatment\n",
       ":   0.361383038407578\n",
       "\n"
      ],
      "text/plain": [
       "        (Intercept) test_grouptreatment \n",
       "          0.1901043           0.3613830 "
      ]
     },
     "metadata": {},
     "output_type": "display_data"
    }
   ],
   "source": [
    "fixef(m2_c)"
   ]
  },
  {
   "cell_type": "code",
   "execution_count": 149,
   "id": "f817d2df",
   "metadata": {},
   "outputs": [
    {
     "data": {
      "text/html": [
       "1.43531313565642"
      ],
      "text/latex": [
       "1.43531313565642"
      ],
      "text/markdown": [
       "1.43531313565642"
      ],
      "text/plain": [
       "[1] 1.435313"
      ]
     },
     "metadata": {},
     "output_type": "display_data"
    }
   ],
   "source": [
    "exp(0.361383038407578)"
   ]
  },
  {
   "cell_type": "code",
   "execution_count": 150,
   "id": "3f787c13",
   "metadata": {},
   "outputs": [
    {
     "name": "stderr",
     "output_type": "stream",
     "text": [
      "Warning message:\n",
      "“The null model is correct only if all variables used by the original model remain unchanged.”\n"
     ]
    },
    {
     "data": {
      "text/html": [
       "<table class=\"dataframe\">\n",
       "<caption>A matrix: 3 × 2 of type dbl</caption>\n",
       "<thead>\n",
       "\t<tr><th></th><th scope=col>R2m</th><th scope=col>R2c</th></tr>\n",
       "</thead>\n",
       "<tbody>\n",
       "\t<tr><th scope=row>delta</th><td>0.02064321</td><td>0.02407310</td></tr>\n",
       "\t<tr><th scope=row>lognormal</th><td>0.02748250</td><td>0.03204875</td></tr>\n",
       "\t<tr><th scope=row>trigamma</th><td>0.01420581</td><td>0.01656612</td></tr>\n",
       "</tbody>\n",
       "</table>\n"
      ],
      "text/latex": [
       "A matrix: 3 × 2 of type dbl\n",
       "\\begin{tabular}{r|ll}\n",
       "  & R2m & R2c\\\\\n",
       "\\hline\n",
       "\tdelta & 0.02064321 & 0.02407310\\\\\n",
       "\tlognormal & 0.02748250 & 0.03204875\\\\\n",
       "\ttrigamma & 0.01420581 & 0.01656612\\\\\n",
       "\\end{tabular}\n"
      ],
      "text/markdown": [
       "\n",
       "A matrix: 3 × 2 of type dbl\n",
       "\n",
       "| <!--/--> | R2m | R2c |\n",
       "|---|---|---|\n",
       "| delta | 0.02064321 | 0.02407310 |\n",
       "| lognormal | 0.02748250 | 0.03204875 |\n",
       "| trigamma | 0.01420581 | 0.01656612 |\n",
       "\n"
      ],
      "text/plain": [
       "          R2m        R2c       \n",
       "delta     0.02064321 0.02407310\n",
       "lognormal 0.02748250 0.03204875\n",
       "trigamma  0.01420581 0.01656612"
      ]
     },
     "metadata": {},
     "output_type": "display_data"
    }
   ],
   "source": [
    "r.squaredGLMM(m2_c) "
   ]
  },
  {
   "cell_type": "markdown",
   "id": "085f3eb7",
   "metadata": {},
   "source": [
    "__Note:__  \n",
    "\n",
    "__On anonymous users__: \n",
    "\n",
    "p-value < 2e-16. coefficient of test_grouptreatment is 0.36138 > 0. It means for the sessions with clicks on ToC, the treatment group has 43.5% more clicks on ToC than the control group. \n",
    "\n",
    "But only 3%(R2) of variance is explained by the model with fixed variable test_group and random variable wiki. It means some other factors played a role in influencing the number of clicks. One of possible factors is the length of pages. The longer pages possibly result in more clicks on ToC. However, We don't have page related info in data to confirm."
   ]
  },
  {
   "cell_type": "markdown",
   "id": "e761ee31",
   "metadata": {},
   "source": [
    "__Summary__\n",
    "\n",
    "Among the sessions with at least 1 click on ToC, the treatment group has more clicks on ToC than the control group. Data model predicts 53% more clicks on new ToC with logged-in users and 45.5% more clicks on new ToC with anonymous users.\n",
    "\n",
    "Above estimated growth is only limited to the users who have clicked. We cannot confirm whether the new ToC has a higher adoption rate because we don't have correct data for users who see the new ToC with 0 click.\n",
    "Above prediction is made based on an assumption that users' click behavior is not impacted by the previous ToC version they saw. \n",
    "\n",
    "The low R squared value indicates the model does not include all factors which influenced the number of clicks. One of possible factors is the length of pages. The longer pages possibly result in more clicks on ToC. However, We don't have page related info in data to confirm."
   ]
  },
  {
   "cell_type": "code",
   "execution_count": null,
   "id": "c2c007ba",
   "metadata": {},
   "outputs": [],
   "source": []
  }
 ],
 "metadata": {
  "kernelspec": {
   "display_name": "R",
   "language": "R",
   "name": "ir"
  },
  "language_info": {
   "codemirror_mode": "r",
   "file_extension": ".r",
   "mimetype": "text/x-r-source",
   "name": "R",
   "pygments_lexer": "r",
   "version": "3.5.2"
  }
 },
 "nbformat": 4,
 "nbformat_minor": 5
}
