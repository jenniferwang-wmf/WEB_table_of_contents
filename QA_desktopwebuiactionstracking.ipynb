{
 "cells": [
  {
   "cell_type": "code",
   "execution_count": 78,
   "id": "c350e351",
   "metadata": {},
   "outputs": [],
   "source": [
    "shhh <- function(expr) suppressPackageStartupMessages(suppressWarnings(suppressMessages(expr)))\n",
    "shhh({\n",
    "library(tidyverse); \n",
    "library(lubridate); \n",
    "library(scales);\n",
    "library(magrittr); \n",
    "library(dplyr);\n",
    "})"
   ]
  },
  {
   "cell_type": "code",
   "execution_count": 79,
   "id": "9737c6ef",
   "metadata": {},
   "outputs": [
    {
     "data": {
      "text/html": [
       "<script>  \n",
       "code_show=true; \n",
       "function code_toggle() {\n",
       "  if (code_show){\n",
       "    $('div.input').hide();\n",
       "  } else {\n",
       "    $('div.input').show();\n",
       "  }\n",
       "  code_show = !code_show\n",
       "}  \n",
       "$( document ).ready(code_toggle);\n",
       "</script>\n",
       "  <form action=\"javascript:code_toggle()\">\n",
       "    <input type=\"submit\" value=\"Click here to toggle on/off the raw code.\">\n",
       " </form>"
      ]
     },
     "metadata": {},
     "output_type": "display_data"
    }
   ],
   "source": [
    "library(IRdisplay)\n",
    "\n",
    "display_html(\n",
    "'<script>  \n",
    "code_show=true; \n",
    "function code_toggle() {\n",
    "  if (code_show){\n",
    "    $(\\'div.input\\').hide();\n",
    "  } else {\n",
    "    $(\\'div.input\\').show();\n",
    "  }\n",
    "  code_show = !code_show\n",
    "}  \n",
    "$( document ).ready(code_toggle);\n",
    "</script>\n",
    "  <form action=\"javascript:code_toggle()\">\n",
    "    <input type=\"submit\" value=\"Click here to toggle on/off the raw code.\">\n",
    " </form>'\n",
    ")"
   ]
  },
  {
   "cell_type": "code",
   "execution_count": 3,
   "id": "7cf4aa4e",
   "metadata": {},
   "outputs": [],
   "source": [
    "options(repr.plot.width = 15, repr.plot.height = 10)"
   ]
  },
  {
   "cell_type": "markdown",
   "id": "42ee4f17",
   "metadata": {},
   "source": [
    "# Introduction\n",
    "\n",
    "__April 20, 2022__ \n",
    "\n",
    "[Parent QA ticket](https://phabricator.wikimedia.org/T305442) | [QA ticket](https://phabricator.wikimedia.org/T306558)"
   ]
  },
  {
   "cell_type": "markdown",
   "id": "58211f89",
   "metadata": {},
   "source": [
    "# Instrumentation note\n",
    "The related events will be stored in schema desktopwebuiactionstracking with event.name = 'ui.toc'.\n",
    "Sample rate:\n",
    "20% for pilot wikis\n",
    "\n"
   ]
  },
  {
   "cell_type": "markdown",
   "id": "c97c3c07",
   "metadata": {},
   "source": [
    "# QA DesktopWebUIActionsTracking schema"
   ]
  },
  {
   "cell_type": "markdown",
   "id": "375ec2ce",
   "metadata": {},
   "source": [
    "## Check event.action, skin, skin version, anon users, edit count bucket"
   ]
  },
  {
   "cell_type": "code",
   "execution_count": 33,
   "id": "1fd892d1",
   "metadata": {},
   "outputs": [],
   "source": [
    "query <- \n",
    "\"\n",
    "SELECT event.action, event.skin, event.skinVersion, event.isAnon,\n",
    "event.editCountBucket, COUNT(1) AS clicks, \n",
    "COUNT(DISTINCT event.token) AS session_tokens\n",
    "FROM event.desktopwebuiactionstracking \n",
    "WHERE year = 2022 AND month = 4 \n",
    "AND event.name = 'ui.toc'\n",
    "GROUP BY event.action,event.skin, event.skinVersion, event.isAnon,\n",
    "event.editCountBucket\n",
    "\""
   ]
  },
  {
   "cell_type": "code",
   "execution_count": 34,
   "id": "5b6ba3ea",
   "metadata": {},
   "outputs": [
    {
     "name": "stderr",
     "output_type": "stream",
     "text": [
      "Don't forget to authenticate with Kerberos using kinit\n",
      "\n"
     ]
    }
   ],
   "source": [
    "df <- wmfdata::query_hive(query)"
   ]
  },
  {
   "cell_type": "code",
   "execution_count": 35,
   "id": "9642ebbb",
   "metadata": {},
   "outputs": [
    {
     "data": {
      "text/html": [
       "<table class=\"dataframe\">\n",
       "<caption>A data.frame: 6 × 7</caption>\n",
       "<thead>\n",
       "\t<tr><th scope=col>action</th><th scope=col>skin</th><th scope=col>skinversion</th><th scope=col>isanon</th><th scope=col>editcountbucket</th><th scope=col>clicks</th><th scope=col>session_tokens</th></tr>\n",
       "\t<tr><th scope=col>&lt;chr&gt;</th><th scope=col>&lt;chr&gt;</th><th scope=col>&lt;int&gt;</th><th scope=col>&lt;chr&gt;</th><th scope=col>&lt;chr&gt;</th><th scope=col>&lt;int&gt;</th><th scope=col>&lt;int&gt;</th></tr>\n",
       "</thead>\n",
       "<tbody>\n",
       "\t<tr><td>click</td><td>vector-2022</td><td>2</td><td>false</td><td>5-99 edits   </td><td>  63507</td><td>  21390</td></tr>\n",
       "\t<tr><td>click</td><td>vector-2022</td><td>2</td><td>false</td><td>100-999 edits</td><td>  52877</td><td>  12496</td></tr>\n",
       "\t<tr><td>click</td><td>vector-2022</td><td>2</td><td>true </td><td>0 edits      </td><td>2483914</td><td>1821429</td></tr>\n",
       "\t<tr><td>click</td><td>vector-2022</td><td>2</td><td>false</td><td>1-4 edits    </td><td>  23480</td><td>   9435</td></tr>\n",
       "\t<tr><td>click</td><td>vector-2022</td><td>2</td><td>false</td><td>1000+ edits  </td><td> 108750</td><td>  21633</td></tr>\n",
       "\t<tr><td>click</td><td>vector-2022</td><td>2</td><td>false</td><td>0 edits      </td><td>  26142</td><td>  11445</td></tr>\n",
       "</tbody>\n",
       "</table>\n"
      ],
      "text/latex": [
       "A data.frame: 6 × 7\n",
       "\\begin{tabular}{lllllll}\n",
       " action & skin & skinversion & isanon & editcountbucket & clicks & session\\_tokens\\\\\n",
       " <chr> & <chr> & <int> & <chr> & <chr> & <int> & <int>\\\\\n",
       "\\hline\n",
       "\t click & vector-2022 & 2 & false & 5-99 edits    &   63507 &   21390\\\\\n",
       "\t click & vector-2022 & 2 & false & 100-999 edits &   52877 &   12496\\\\\n",
       "\t click & vector-2022 & 2 & true  & 0 edits       & 2483914 & 1821429\\\\\n",
       "\t click & vector-2022 & 2 & false & 1-4 edits     &   23480 &    9435\\\\\n",
       "\t click & vector-2022 & 2 & false & 1000+ edits   &  108750 &   21633\\\\\n",
       "\t click & vector-2022 & 2 & false & 0 edits       &   26142 &   11445\\\\\n",
       "\\end{tabular}\n"
      ],
      "text/markdown": [
       "\n",
       "A data.frame: 6 × 7\n",
       "\n",
       "| action &lt;chr&gt; | skin &lt;chr&gt; | skinversion &lt;int&gt; | isanon &lt;chr&gt; | editcountbucket &lt;chr&gt; | clicks &lt;int&gt; | session_tokens &lt;int&gt; |\n",
       "|---|---|---|---|---|---|---|\n",
       "| click | vector-2022 | 2 | false | 5-99 edits    |   63507 |   21390 |\n",
       "| click | vector-2022 | 2 | false | 100-999 edits |   52877 |   12496 |\n",
       "| click | vector-2022 | 2 | true  | 0 edits       | 2483914 | 1821429 |\n",
       "| click | vector-2022 | 2 | false | 1-4 edits     |   23480 |    9435 |\n",
       "| click | vector-2022 | 2 | false | 1000+ edits   |  108750 |   21633 |\n",
       "| click | vector-2022 | 2 | false | 0 edits       |   26142 |   11445 |\n",
       "\n"
      ],
      "text/plain": [
       "  action skin        skinversion isanon editcountbucket clicks  session_tokens\n",
       "1 click  vector-2022 2           false  5-99 edits        63507   21390       \n",
       "2 click  vector-2022 2           false  100-999 edits     52877   12496       \n",
       "3 click  vector-2022 2           true   0 edits         2483914 1821429       \n",
       "4 click  vector-2022 2           false  1-4 edits         23480    9435       \n",
       "5 click  vector-2022 2           false  1000+ edits      108750   21633       \n",
       "6 click  vector-2022 2           false  0 edits           26142   11445       "
      ]
     },
     "metadata": {},
     "output_type": "display_data"
    }
   ],
   "source": [
    "df"
   ]
  },
  {
   "cell_type": "markdown",
   "id": "1a0ccdb8",
   "metadata": {},
   "source": [
    "## By wikis"
   ]
  },
  {
   "cell_type": "code",
   "execution_count": 98,
   "id": "84e2e7b5",
   "metadata": {},
   "outputs": [],
   "source": [
    "query <- \n",
    "\"\n",
    "SELECT wiki,  COUNT(1) AS clicks, \n",
    "COUNT(DISTINCT event.token) AS session_tokens, min(meta.dt) as first_event_ts\n",
    "FROM event.desktopwebuiactionstracking \n",
    "WHERE year = 2022 AND month IN (3, 4) \n",
    "AND event.name = 'ui.toc'\n",
    "GROUP BY wiki\n",
    "ORDER BY session_tokens DESC, first_event_ts\n",
    "LIMIT 10000\n",
    "\""
   ]
  },
  {
   "cell_type": "code",
   "execution_count": 99,
   "id": "7b0af32e",
   "metadata": {},
   "outputs": [
    {
     "name": "stderr",
     "output_type": "stream",
     "text": [
      "Don't forget to authenticate with Kerberos using kinit\n",
      "\n"
     ]
    }
   ],
   "source": [
    "df <- wmfdata::query_hive(query)"
   ]
  },
  {
   "cell_type": "markdown",
   "id": "85346fb6",
   "metadata": {},
   "source": [
    "__Note:__ \n",
    "\n",
    "Events are enabled on 135 wikis.\n",
    "\n",
    "frwiki has most clicks on toc events and sessions, 5.9 times of the 2nd place ptwiki. Need to check the sample rate. "
   ]
  },
  {
   "cell_type": "markdown",
   "id": "2c45cb73",
   "metadata": {},
   "source": [
    "## By date"
   ]
  },
  {
   "cell_type": "code",
   "execution_count": 42,
   "id": "58ad499d",
   "metadata": {},
   "outputs": [],
   "source": [
    "query <- \n",
    "\"\n",
    "SELECT to_date(meta.dt) AS date_time, COUNT(1) AS clicks, \n",
    "COUNT(DISTINCT event.token) AS session_tokens\n",
    "FROM event.desktopwebuiactionstracking \n",
    "WHERE year = 2022 \n",
    "AND event.name = 'ui.toc'\n",
    "GROUP BY to_date(meta.dt)\n",
    "\""
   ]
  },
  {
   "cell_type": "code",
   "execution_count": 43,
   "id": "475860e7",
   "metadata": {},
   "outputs": [
    {
     "name": "stderr",
     "output_type": "stream",
     "text": [
      "Don't forget to authenticate with Kerberos using kinit\n",
      "\n"
     ]
    }
   ],
   "source": [
    "df <- wmfdata::query_hive(query)"
   ]
  },
  {
   "cell_type": "code",
   "execution_count": 44,
   "id": "c48579cd",
   "metadata": {},
   "outputs": [
    {
     "data": {
      "text/html": [
       "<table class=\"dataframe\">\n",
       "<caption>A data.frame: 21 × 3</caption>\n",
       "<thead>\n",
       "\t<tr><th scope=col>date_time</th><th scope=col>clicks</th><th scope=col>session_tokens</th></tr>\n",
       "\t<tr><th scope=col>&lt;chr&gt;</th><th scope=col>&lt;int&gt;</th><th scope=col>&lt;int&gt;</th></tr>\n",
       "</thead>\n",
       "<tbody>\n",
       "\t<tr><td>2022-03-29</td><td>   400</td><td>   270</td></tr>\n",
       "\t<tr><td>2022-03-30</td><td>  7103</td><td>  4894</td></tr>\n",
       "\t<tr><td>2022-03-31</td><td>140134</td><td>103428</td></tr>\n",
       "\t<tr><td>2022-04-01</td><td>161531</td><td>117455</td></tr>\n",
       "\t<tr><td>2022-04-02</td><td>136477</td><td> 97035</td></tr>\n",
       "\t<tr><td>2022-04-03</td><td>157052</td><td>111906</td></tr>\n",
       "\t<tr><td>2022-04-04</td><td>180706</td><td>133069</td></tr>\n",
       "\t<tr><td>2022-04-05</td><td>176664</td><td>130172</td></tr>\n",
       "\t<tr><td>2022-04-06</td><td>177019</td><td>130644</td></tr>\n",
       "\t<tr><td>2022-04-07</td><td>173827</td><td>127011</td></tr>\n",
       "\t<tr><td>2022-04-08</td><td>158064</td><td>114961</td></tr>\n",
       "\t<tr><td>2022-04-09</td><td>129573</td><td> 92588</td></tr>\n",
       "\t<tr><td>2022-04-10</td><td>137473</td><td> 98974</td></tr>\n",
       "\t<tr><td>2022-04-11</td><td>176441</td><td>128053</td></tr>\n",
       "\t<tr><td>2022-04-12</td><td>169011</td><td>123654</td></tr>\n",
       "\t<tr><td>2022-04-13</td><td>169918</td><td>124730</td></tr>\n",
       "\t<tr><td>2022-04-14</td><td>157016</td><td>114970</td></tr>\n",
       "\t<tr><td>2022-04-15</td><td>137282</td><td> 98818</td></tr>\n",
       "\t<tr><td>2022-04-16</td><td>117221</td><td> 82786</td></tr>\n",
       "\t<tr><td>2022-04-17</td><td>124956</td><td> 88977</td></tr>\n",
       "\t<tr><td>2022-04-18</td><td>127348</td><td> 92435</td></tr>\n",
       "</tbody>\n",
       "</table>\n"
      ],
      "text/latex": [
       "A data.frame: 21 × 3\n",
       "\\begin{tabular}{lll}\n",
       " date\\_time & clicks & session\\_tokens\\\\\n",
       " <chr> & <int> & <int>\\\\\n",
       "\\hline\n",
       "\t 2022-03-29 &    400 &    270\\\\\n",
       "\t 2022-03-30 &   7103 &   4894\\\\\n",
       "\t 2022-03-31 & 140134 & 103428\\\\\n",
       "\t 2022-04-01 & 161531 & 117455\\\\\n",
       "\t 2022-04-02 & 136477 &  97035\\\\\n",
       "\t 2022-04-03 & 157052 & 111906\\\\\n",
       "\t 2022-04-04 & 180706 & 133069\\\\\n",
       "\t 2022-04-05 & 176664 & 130172\\\\\n",
       "\t 2022-04-06 & 177019 & 130644\\\\\n",
       "\t 2022-04-07 & 173827 & 127011\\\\\n",
       "\t 2022-04-08 & 158064 & 114961\\\\\n",
       "\t 2022-04-09 & 129573 &  92588\\\\\n",
       "\t 2022-04-10 & 137473 &  98974\\\\\n",
       "\t 2022-04-11 & 176441 & 128053\\\\\n",
       "\t 2022-04-12 & 169011 & 123654\\\\\n",
       "\t 2022-04-13 & 169918 & 124730\\\\\n",
       "\t 2022-04-14 & 157016 & 114970\\\\\n",
       "\t 2022-04-15 & 137282 &  98818\\\\\n",
       "\t 2022-04-16 & 117221 &  82786\\\\\n",
       "\t 2022-04-17 & 124956 &  88977\\\\\n",
       "\t 2022-04-18 & 127348 &  92435\\\\\n",
       "\\end{tabular}\n"
      ],
      "text/markdown": [
       "\n",
       "A data.frame: 21 × 3\n",
       "\n",
       "| date_time &lt;chr&gt; | clicks &lt;int&gt; | session_tokens &lt;int&gt; |\n",
       "|---|---|---|\n",
       "| 2022-03-29 |    400 |    270 |\n",
       "| 2022-03-30 |   7103 |   4894 |\n",
       "| 2022-03-31 | 140134 | 103428 |\n",
       "| 2022-04-01 | 161531 | 117455 |\n",
       "| 2022-04-02 | 136477 |  97035 |\n",
       "| 2022-04-03 | 157052 | 111906 |\n",
       "| 2022-04-04 | 180706 | 133069 |\n",
       "| 2022-04-05 | 176664 | 130172 |\n",
       "| 2022-04-06 | 177019 | 130644 |\n",
       "| 2022-04-07 | 173827 | 127011 |\n",
       "| 2022-04-08 | 158064 | 114961 |\n",
       "| 2022-04-09 | 129573 |  92588 |\n",
       "| 2022-04-10 | 137473 |  98974 |\n",
       "| 2022-04-11 | 176441 | 128053 |\n",
       "| 2022-04-12 | 169011 | 123654 |\n",
       "| 2022-04-13 | 169918 | 124730 |\n",
       "| 2022-04-14 | 157016 | 114970 |\n",
       "| 2022-04-15 | 137282 |  98818 |\n",
       "| 2022-04-16 | 117221 |  82786 |\n",
       "| 2022-04-17 | 124956 |  88977 |\n",
       "| 2022-04-18 | 127348 |  92435 |\n",
       "\n"
      ],
      "text/plain": [
       "   date_time  clicks session_tokens\n",
       "1  2022-03-29    400    270        \n",
       "2  2022-03-30   7103   4894        \n",
       "3  2022-03-31 140134 103428        \n",
       "4  2022-04-01 161531 117455        \n",
       "5  2022-04-02 136477  97035        \n",
       "6  2022-04-03 157052 111906        \n",
       "7  2022-04-04 180706 133069        \n",
       "8  2022-04-05 176664 130172        \n",
       "9  2022-04-06 177019 130644        \n",
       "10 2022-04-07 173827 127011        \n",
       "11 2022-04-08 158064 114961        \n",
       "12 2022-04-09 129573  92588        \n",
       "13 2022-04-10 137473  98974        \n",
       "14 2022-04-11 176441 128053        \n",
       "15 2022-04-12 169011 123654        \n",
       "16 2022-04-13 169918 124730        \n",
       "17 2022-04-14 157016 114970        \n",
       "18 2022-04-15 137282  98818        \n",
       "19 2022-04-16 117221  82786        \n",
       "20 2022-04-17 124956  88977        \n",
       "21 2022-04-18 127348  92435        "
      ]
     },
     "metadata": {},
     "output_type": "display_data"
    }
   ],
   "source": [
    "df"
   ]
  },
  {
   "cell_type": "markdown",
   "id": "388f3417",
   "metadata": {},
   "source": [
    "__Note:__\n",
    "\n",
    "Events are available since March 29, 2022. "
   ]
  },
  {
   "cell_type": "markdown",
   "id": "a22a7da5",
   "metadata": {},
   "source": [
    "## By agent type"
   ]
  },
  {
   "cell_type": "code",
   "execution_count": 106,
   "id": "dff7dcbb",
   "metadata": {},
   "outputs": [],
   "source": [
    "query<- \"\n",
    "\n",
    "SELECT  COUNT(1) AS clicks, \n",
    "COUNT(DISTINCT event.token) AS session_tokens\n",
    "FROM event.desktopwebuiactionstracking \n",
    "WHERE year = 2022 AND month = 4 \n",
    "AND event.name = 'ui.toc' AND user_agent_map['device_family']='Spider'\n",
    "\""
   ]
  },
  {
   "cell_type": "code",
   "execution_count": 107,
   "id": "a3aa4d44",
   "metadata": {},
   "outputs": [
    {
     "name": "stderr",
     "output_type": "stream",
     "text": [
      "Don't forget to authenticate with Kerberos using kinit\n",
      "\n"
     ]
    }
   ],
   "source": [
    "df <- wmfdata::query_hive(query)"
   ]
  },
  {
   "cell_type": "code",
   "execution_count": 108,
   "id": "c4492537",
   "metadata": {},
   "outputs": [
    {
     "data": {
      "text/html": [
       "<table class=\"dataframe\">\n",
       "<caption>A data.frame: 1 × 2</caption>\n",
       "<thead>\n",
       "\t<tr><th scope=col>clicks</th><th scope=col>session_tokens</th></tr>\n",
       "\t<tr><th scope=col>&lt;int&gt;</th><th scope=col>&lt;int&gt;</th></tr>\n",
       "</thead>\n",
       "<tbody>\n",
       "\t<tr><td>6</td><td>5</td></tr>\n",
       "</tbody>\n",
       "</table>\n"
      ],
      "text/latex": [
       "A data.frame: 1 × 2\n",
       "\\begin{tabular}{ll}\n",
       " clicks & session\\_tokens\\\\\n",
       " <int> & <int>\\\\\n",
       "\\hline\n",
       "\t 6 & 5\\\\\n",
       "\\end{tabular}\n"
      ],
      "text/markdown": [
       "\n",
       "A data.frame: 1 × 2\n",
       "\n",
       "| clicks &lt;int&gt; | session_tokens &lt;int&gt; |\n",
       "|---|---|\n",
       "| 6 | 5 |\n",
       "\n"
      ],
      "text/plain": [
       "  clicks session_tokens\n",
       "1 6      5             "
      ]
     },
     "metadata": {},
     "output_type": "display_data"
    }
   ],
   "source": [
    "df"
   ]
  },
  {
   "cell_type": "markdown",
   "id": "0baafb63",
   "metadata": {},
   "source": [
    "## bot user"
   ]
  },
  {
   "cell_type": "code",
   "execution_count": 103,
   "id": "986cab3e",
   "metadata": {},
   "outputs": [],
   "source": [
    "query <- \n",
    "\"\n",
    "SELECT useragent.is_bot, COUNT(1) AS clicks, \n",
    "COUNT(DISTINCT event.token) AS session_tokens\n",
    "FROM event.desktopwebuiactionstracking \n",
    "WHERE year = 2022 AND month = 4 \n",
    "AND event.name = 'ui.toc'\n",
    "GROUP BY useragent.is_bot\n",
    "\""
   ]
  },
  {
   "cell_type": "code",
   "execution_count": 104,
   "id": "1c87798b",
   "metadata": {},
   "outputs": [
    {
     "name": "stderr",
     "output_type": "stream",
     "text": [
      "Don't forget to authenticate with Kerberos using kinit\n",
      "\n"
     ]
    }
   ],
   "source": [
    "df <- wmfdata::query_hive(query)"
   ]
  },
  {
   "cell_type": "code",
   "execution_count": 105,
   "id": "88051ac7",
   "metadata": {},
   "outputs": [
    {
     "data": {
      "text/html": [
       "<table class=\"dataframe\">\n",
       "<caption>A data.frame: 2 × 3</caption>\n",
       "<thead>\n",
       "\t<tr><th scope=col>is_bot</th><th scope=col>clicks</th><th scope=col>session_tokens</th></tr>\n",
       "\t<tr><th scope=col>&lt;chr&gt;</th><th scope=col>&lt;int&gt;</th><th scope=col>&lt;int&gt;</th></tr>\n",
       "</thead>\n",
       "<tbody>\n",
       "\t<tr><td>false</td><td>3098412</td><td>2127775</td></tr>\n",
       "\t<tr><td>true </td><td>      7</td><td>      6</td></tr>\n",
       "</tbody>\n",
       "</table>\n"
      ],
      "text/latex": [
       "A data.frame: 2 × 3\n",
       "\\begin{tabular}{lll}\n",
       " is\\_bot & clicks & session\\_tokens\\\\\n",
       " <chr> & <int> & <int>\\\\\n",
       "\\hline\n",
       "\t false & 3098412 & 2127775\\\\\n",
       "\t true  &       7 &       6\\\\\n",
       "\\end{tabular}\n"
      ],
      "text/markdown": [
       "\n",
       "A data.frame: 2 × 3\n",
       "\n",
       "| is_bot &lt;chr&gt; | clicks &lt;int&gt; | session_tokens &lt;int&gt; |\n",
       "|---|---|---|\n",
       "| false | 3098412 | 2127775 |\n",
       "| true  |       7 |       6 |\n",
       "\n"
      ],
      "text/plain": [
       "  is_bot clicks  session_tokens\n",
       "1 false  3098412 2127775       \n",
       "2 true         7       6       "
      ]
     },
     "metadata": {},
     "output_type": "display_data"
    }
   ],
   "source": [
    "df"
   ]
  },
  {
   "cell_type": "markdown",
   "id": "a3b0a4d8",
   "metadata": {},
   "source": [
    "## Screen resolution"
   ]
  },
  {
   "cell_type": "code",
   "execution_count": 61,
   "id": "dee827fc",
   "metadata": {},
   "outputs": [],
   "source": [
    "query <- \n",
    "\"\n",
    "SELECT DISTINCT event.viewportSizeBucket\n",
    "FROM event.desktopwebuiactionstracking \n",
    "WHERE year = 2022 AND month = 4 AND day=17\n",
    "AND event.name = 'ui.toc'\n",
    "\""
   ]
  },
  {
   "cell_type": "code",
   "execution_count": 62,
   "id": "c116e6f5",
   "metadata": {},
   "outputs": [
    {
     "name": "stderr",
     "output_type": "stream",
     "text": [
      "Don't forget to authenticate with Kerberos using kinit\n",
      "\n"
     ]
    }
   ],
   "source": [
    "df <- wmfdata::query_hive(query)"
   ]
  },
  {
   "cell_type": "code",
   "execution_count": 63,
   "id": "a99535ec",
   "metadata": {},
   "outputs": [
    {
     "data": {
      "text/html": [
       "<table class=\"dataframe\">\n",
       "<caption>A data.frame: 11 × 1</caption>\n",
       "<thead>\n",
       "\t<tr><th scope=col>viewportsizebucket</th></tr>\n",
       "\t<tr><th scope=col>&lt;chr&gt;</th></tr>\n",
       "</thead>\n",
       "<tbody>\n",
       "\t<tr><td>NULL         </td></tr>\n",
       "\t<tr><td><span style=white-space:pre-wrap>&gt;2000px      </span></td></tr>\n",
       "\t<tr><td>720-999      </td></tr>\n",
       "\t<tr><td>720px-999px  </td></tr>\n",
       "\t<tr><td><span style=white-space:pre-wrap>&lt;320px       </span></td></tr>\n",
       "\t<tr><td>1000-1199    </td></tr>\n",
       "\t<tr><td>1000px-1199px</td></tr>\n",
       "\t<tr><td>1200-2000    </td></tr>\n",
       "\t<tr><td>1200px-2000px</td></tr>\n",
       "\t<tr><td>320-719      </td></tr>\n",
       "\t<tr><td>320px-719px  </td></tr>\n",
       "</tbody>\n",
       "</table>\n"
      ],
      "text/latex": [
       "A data.frame: 11 × 1\n",
       "\\begin{tabular}{l}\n",
       " viewportsizebucket\\\\\n",
       " <chr>\\\\\n",
       "\\hline\n",
       "\t NULL         \\\\\n",
       "\t >2000px      \\\\\n",
       "\t 720-999      \\\\\n",
       "\t 720px-999px  \\\\\n",
       "\t <320px       \\\\\n",
       "\t 1000-1199    \\\\\n",
       "\t 1000px-1199px\\\\\n",
       "\t 1200-2000    \\\\\n",
       "\t 1200px-2000px\\\\\n",
       "\t 320-719      \\\\\n",
       "\t 320px-719px  \\\\\n",
       "\\end{tabular}\n"
      ],
      "text/markdown": [
       "\n",
       "A data.frame: 11 × 1\n",
       "\n",
       "| viewportsizebucket &lt;chr&gt; |\n",
       "|---|\n",
       "| NULL          |\n",
       "| &gt;2000px       |\n",
       "| 720-999       |\n",
       "| 720px-999px   |\n",
       "| &lt;320px        |\n",
       "| 1000-1199     |\n",
       "| 1000px-1199px |\n",
       "| 1200-2000     |\n",
       "| 1200px-2000px |\n",
       "| 320-719       |\n",
       "| 320px-719px   |\n",
       "\n"
      ],
      "text/plain": [
       "   viewportsizebucket\n",
       "1  NULL              \n",
       "2  >2000px           \n",
       "3  720-999           \n",
       "4  720px-999px       \n",
       "5  <320px            \n",
       "6  1000-1199         \n",
       "7  1000px-1199px     \n",
       "8  1200-2000         \n",
       "9  1200px-2000px     \n",
       "10 320-719           \n",
       "11 320px-719px       "
      ]
     },
     "metadata": {},
     "output_type": "display_data"
    }
   ],
   "source": [
    "df"
   ]
  },
  {
   "cell_type": "markdown",
   "id": "2c619e19",
   "metadata": {},
   "source": []
  },
  {
   "cell_type": "code",
   "execution_count": 71,
   "id": "33021e14",
   "metadata": {},
   "outputs": [],
   "source": [
    "query <- \"\n",
    "select distinct wiki\n",
    "from event.desktopwebuiactionstracking \n",
    "where year = 2022 and month = 4 \n",
    "and event.name = 'ui.toc'\n",
    "AND event.viewportSizeBucket='1200-2000'\n",
    "\""
   ]
  },
  {
   "cell_type": "code",
   "execution_count": 72,
   "id": "47624c57",
   "metadata": {},
   "outputs": [
    {
     "name": "stderr",
     "output_type": "stream",
     "text": [
      "Don't forget to authenticate with Kerberos using kinit\n",
      "\n"
     ]
    }
   ],
   "source": [
    "df_1 <- wmfdata::query_hive(query)"
   ]
  },
  {
   "cell_type": "code",
   "execution_count": 73,
   "id": "97e55ec0",
   "metadata": {},
   "outputs": [
    {
     "data": {
      "text/html": [
       "<table class=\"dataframe\">\n",
       "<caption>A data.frame: 85 × 1</caption>\n",
       "<thead>\n",
       "\t<tr><th scope=col>wiki</th></tr>\n",
       "\t<tr><th scope=col>&lt;chr&gt;</th></tr>\n",
       "</thead>\n",
       "<tbody>\n",
       "\t<tr><td>brwiki        </td></tr>\n",
       "\t<tr><td>frwiktionary  </td></tr>\n",
       "\t<tr><td>itwikisource  </td></tr>\n",
       "\t<tr><td>specieswiki   </td></tr>\n",
       "\t<tr><td>kawiki        </td></tr>\n",
       "\t<tr><td>metawiki      </td></tr>\n",
       "\t<tr><td>frwikiquote   </td></tr>\n",
       "\t<tr><td>zhwikiquote   </td></tr>\n",
       "\t<tr><td>arywiki       </td></tr>\n",
       "\t<tr><td>test2wiki     </td></tr>\n",
       "\t<tr><td>wawiktionary  </td></tr>\n",
       "\t<tr><td>mediawikiwiki </td></tr>\n",
       "\t<tr><td>srwiki        </td></tr>\n",
       "\t<tr><td>alswiki       </td></tr>\n",
       "\t<tr><td>idwiki        </td></tr>\n",
       "\t<tr><td>enwikibooks   </td></tr>\n",
       "\t<tr><td>foundationwiki</td></tr>\n",
       "\t<tr><td>frwikisource  </td></tr>\n",
       "\t<tr><td>incubatorwiki </td></tr>\n",
       "\t<tr><td>svwiki        </td></tr>\n",
       "\t<tr><td>kkwiki        </td></tr>\n",
       "\t<tr><td>ruwiktionary  </td></tr>\n",
       "\t<tr><td>enwiktionary  </td></tr>\n",
       "\t<tr><td>cawiki        </td></tr>\n",
       "\t<tr><td>bnwiktionary  </td></tr>\n",
       "\t<tr><td>kowiki        </td></tr>\n",
       "\t<tr><td>plwikisource  </td></tr>\n",
       "\t<tr><td>vecwiki       </td></tr>\n",
       "\t<tr><td>viwikibooks   </td></tr>\n",
       "\t<tr><td>zhwiki        </td></tr>\n",
       "\t<tr><td>⋮</td></tr>\n",
       "\t<tr><td>rowiki      </td></tr>\n",
       "\t<tr><td>trwiki      </td></tr>\n",
       "\t<tr><td>dewikivoyage</td></tr>\n",
       "\t<tr><td>commonswiki </td></tr>\n",
       "\t<tr><td>nlwiki      </td></tr>\n",
       "\t<tr><td>enwikivoyage</td></tr>\n",
       "\t<tr><td>fawiki      </td></tr>\n",
       "\t<tr><td>ukwiktionary</td></tr>\n",
       "\t<tr><td>hewiki      </td></tr>\n",
       "\t<tr><td>plwikinews  </td></tr>\n",
       "\t<tr><td>nowiki      </td></tr>\n",
       "\t<tr><td>ruwiki      </td></tr>\n",
       "\t<tr><td>dawiki      </td></tr>\n",
       "\t<tr><td>ptwiki      </td></tr>\n",
       "\t<tr><td>hiwiki      </td></tr>\n",
       "\t<tr><td>dewiki      </td></tr>\n",
       "\t<tr><td>wawiki      </td></tr>\n",
       "\t<tr><td>xmfwiki     </td></tr>\n",
       "\t<tr><td>fiwiki      </td></tr>\n",
       "\t<tr><td>bewiki      </td></tr>\n",
       "\t<tr><td>ukwikisource</td></tr>\n",
       "\t<tr><td>bgwiki      </td></tr>\n",
       "\t<tr><td>labswiki    </td></tr>\n",
       "\t<tr><td>lvwiki      </td></tr>\n",
       "\t<tr><td>simplewiki  </td></tr>\n",
       "\t<tr><td>frwiki      </td></tr>\n",
       "\t<tr><td>bnwiki      </td></tr>\n",
       "\t<tr><td>dewikibooks </td></tr>\n",
       "\t<tr><td>myvwiki     </td></tr>\n",
       "\t<tr><td>ukwiki      </td></tr>\n",
       "</tbody>\n",
       "</table>\n"
      ],
      "text/latex": [
       "A data.frame: 85 × 1\n",
       "\\begin{tabular}{l}\n",
       " wiki\\\\\n",
       " <chr>\\\\\n",
       "\\hline\n",
       "\t brwiki        \\\\\n",
       "\t frwiktionary  \\\\\n",
       "\t itwikisource  \\\\\n",
       "\t specieswiki   \\\\\n",
       "\t kawiki        \\\\\n",
       "\t metawiki      \\\\\n",
       "\t frwikiquote   \\\\\n",
       "\t zhwikiquote   \\\\\n",
       "\t arywiki       \\\\\n",
       "\t test2wiki     \\\\\n",
       "\t wawiktionary  \\\\\n",
       "\t mediawikiwiki \\\\\n",
       "\t srwiki        \\\\\n",
       "\t alswiki       \\\\\n",
       "\t idwiki        \\\\\n",
       "\t enwikibooks   \\\\\n",
       "\t foundationwiki\\\\\n",
       "\t frwikisource  \\\\\n",
       "\t incubatorwiki \\\\\n",
       "\t svwiki        \\\\\n",
       "\t kkwiki        \\\\\n",
       "\t ruwiktionary  \\\\\n",
       "\t enwiktionary  \\\\\n",
       "\t cawiki        \\\\\n",
       "\t bnwiktionary  \\\\\n",
       "\t kowiki        \\\\\n",
       "\t plwikisource  \\\\\n",
       "\t vecwiki       \\\\\n",
       "\t viwikibooks   \\\\\n",
       "\t zhwiki        \\\\\n",
       "\t ⋮\\\\\n",
       "\t rowiki      \\\\\n",
       "\t trwiki      \\\\\n",
       "\t dewikivoyage\\\\\n",
       "\t commonswiki \\\\\n",
       "\t nlwiki      \\\\\n",
       "\t enwikivoyage\\\\\n",
       "\t fawiki      \\\\\n",
       "\t ukwiktionary\\\\\n",
       "\t hewiki      \\\\\n",
       "\t plwikinews  \\\\\n",
       "\t nowiki      \\\\\n",
       "\t ruwiki      \\\\\n",
       "\t dawiki      \\\\\n",
       "\t ptwiki      \\\\\n",
       "\t hiwiki      \\\\\n",
       "\t dewiki      \\\\\n",
       "\t wawiki      \\\\\n",
       "\t xmfwiki     \\\\\n",
       "\t fiwiki      \\\\\n",
       "\t bewiki      \\\\\n",
       "\t ukwikisource\\\\\n",
       "\t bgwiki      \\\\\n",
       "\t labswiki    \\\\\n",
       "\t lvwiki      \\\\\n",
       "\t simplewiki  \\\\\n",
       "\t frwiki      \\\\\n",
       "\t bnwiki      \\\\\n",
       "\t dewikibooks \\\\\n",
       "\t myvwiki     \\\\\n",
       "\t ukwiki      \\\\\n",
       "\\end{tabular}\n"
      ],
      "text/markdown": [
       "\n",
       "A data.frame: 85 × 1\n",
       "\n",
       "| wiki &lt;chr&gt; |\n",
       "|---|\n",
       "| brwiki         |\n",
       "| frwiktionary   |\n",
       "| itwikisource   |\n",
       "| specieswiki    |\n",
       "| kawiki         |\n",
       "| metawiki       |\n",
       "| frwikiquote    |\n",
       "| zhwikiquote    |\n",
       "| arywiki        |\n",
       "| test2wiki      |\n",
       "| wawiktionary   |\n",
       "| mediawikiwiki  |\n",
       "| srwiki         |\n",
       "| alswiki        |\n",
       "| idwiki         |\n",
       "| enwikibooks    |\n",
       "| foundationwiki |\n",
       "| frwikisource   |\n",
       "| incubatorwiki  |\n",
       "| svwiki         |\n",
       "| kkwiki         |\n",
       "| ruwiktionary   |\n",
       "| enwiktionary   |\n",
       "| cawiki         |\n",
       "| bnwiktionary   |\n",
       "| kowiki         |\n",
       "| plwikisource   |\n",
       "| vecwiki        |\n",
       "| viwikibooks    |\n",
       "| zhwiki         |\n",
       "| ⋮ |\n",
       "| rowiki       |\n",
       "| trwiki       |\n",
       "| dewikivoyage |\n",
       "| commonswiki  |\n",
       "| nlwiki       |\n",
       "| enwikivoyage |\n",
       "| fawiki       |\n",
       "| ukwiktionary |\n",
       "| hewiki       |\n",
       "| plwikinews   |\n",
       "| nowiki       |\n",
       "| ruwiki       |\n",
       "| dawiki       |\n",
       "| ptwiki       |\n",
       "| hiwiki       |\n",
       "| dewiki       |\n",
       "| wawiki       |\n",
       "| xmfwiki      |\n",
       "| fiwiki       |\n",
       "| bewiki       |\n",
       "| ukwikisource |\n",
       "| bgwiki       |\n",
       "| labswiki     |\n",
       "| lvwiki       |\n",
       "| simplewiki   |\n",
       "| frwiki       |\n",
       "| bnwiki       |\n",
       "| dewikibooks  |\n",
       "| myvwiki      |\n",
       "| ukwiki       |\n",
       "\n"
      ],
      "text/plain": [
       "   wiki          \n",
       "1  brwiki        \n",
       "2  frwiktionary  \n",
       "3  itwikisource  \n",
       "4  specieswiki   \n",
       "5  kawiki        \n",
       "6  metawiki      \n",
       "7  frwikiquote   \n",
       "8  zhwikiquote   \n",
       "9  arywiki       \n",
       "10 test2wiki     \n",
       "11 wawiktionary  \n",
       "12 mediawikiwiki \n",
       "13 srwiki        \n",
       "14 alswiki       \n",
       "15 idwiki        \n",
       "16 enwikibooks   \n",
       "17 foundationwiki\n",
       "18 frwikisource  \n",
       "19 incubatorwiki \n",
       "20 svwiki        \n",
       "21 kkwiki        \n",
       "22 ruwiktionary  \n",
       "23 enwiktionary  \n",
       "24 cawiki        \n",
       "25 bnwiktionary  \n",
       "26 kowiki        \n",
       "27 plwikisource  \n",
       "28 vecwiki       \n",
       "29 viwikibooks   \n",
       "30 zhwiki        \n",
       "⋮  ⋮             \n",
       "56 rowiki        \n",
       "57 trwiki        \n",
       "58 dewikivoyage  \n",
       "59 commonswiki   \n",
       "60 nlwiki        \n",
       "61 enwikivoyage  \n",
       "62 fawiki        \n",
       "63 ukwiktionary  \n",
       "64 hewiki        \n",
       "65 plwikinews    \n",
       "66 nowiki        \n",
       "67 ruwiki        \n",
       "68 dawiki        \n",
       "69 ptwiki        \n",
       "70 hiwiki        \n",
       "71 dewiki        \n",
       "72 wawiki        \n",
       "73 xmfwiki       \n",
       "74 fiwiki        \n",
       "75 bewiki        \n",
       "76 ukwikisource  \n",
       "77 bgwiki        \n",
       "78 labswiki      \n",
       "79 lvwiki        \n",
       "80 simplewiki    \n",
       "81 frwiki        \n",
       "82 bnwiki        \n",
       "83 dewikibooks   \n",
       "84 myvwiki       \n",
       "85 ukwiki        "
      ]
     },
     "metadata": {},
     "output_type": "display_data"
    }
   ],
   "source": [
    "df_1"
   ]
  },
  {
   "cell_type": "code",
   "execution_count": 74,
   "id": "09556e72",
   "metadata": {},
   "outputs": [],
   "source": [
    "query <- \"\n",
    "select distinct wiki\n",
    "from event.desktopwebuiactionstracking \n",
    "where year = 2022 and month = 4 \n",
    "and event.name = 'ui.toc'\n",
    "AND event.viewportSizeBucket='1200px-2000px'\n",
    "\""
   ]
  },
  {
   "cell_type": "code",
   "execution_count": 75,
   "id": "e9c03cf8",
   "metadata": {},
   "outputs": [
    {
     "name": "stderr",
     "output_type": "stream",
     "text": [
      "Don't forget to authenticate with Kerberos using kinit\n",
      "\n"
     ]
    }
   ],
   "source": [
    "df_2<- wmfdata::query_hive(query)"
   ]
  },
  {
   "cell_type": "code",
   "execution_count": 76,
   "id": "c10d89c4",
   "metadata": {},
   "outputs": [
    {
     "data": {
      "text/html": [
       "<table class=\"dataframe\">\n",
       "<caption>A data.frame: 87 × 1</caption>\n",
       "<thead>\n",
       "\t<tr><th scope=col>wiki</th></tr>\n",
       "\t<tr><th scope=col>&lt;chr&gt;</th></tr>\n",
       "</thead>\n",
       "<tbody>\n",
       "\t<tr><td>frwiktionary  </td></tr>\n",
       "\t<tr><td>itwikisource  </td></tr>\n",
       "\t<tr><td>specieswiki   </td></tr>\n",
       "\t<tr><td>frwikinews    </td></tr>\n",
       "\t<tr><td>kawiki        </td></tr>\n",
       "\t<tr><td>metawiki      </td></tr>\n",
       "\t<tr><td>frwikiquote   </td></tr>\n",
       "\t<tr><td>nahwiki       </td></tr>\n",
       "\t<tr><td>arywiki       </td></tr>\n",
       "\t<tr><td>test2wiki     </td></tr>\n",
       "\t<tr><td>enwikiversity </td></tr>\n",
       "\t<tr><td>mediawikiwiki </td></tr>\n",
       "\t<tr><td>srwiki        </td></tr>\n",
       "\t<tr><td>idwiki        </td></tr>\n",
       "\t<tr><td>enwikibooks   </td></tr>\n",
       "\t<tr><td>foundationwiki</td></tr>\n",
       "\t<tr><td>frwikisource  </td></tr>\n",
       "\t<tr><td>incubatorwiki </td></tr>\n",
       "\t<tr><td>niawiktionary </td></tr>\n",
       "\t<tr><td>kowikibooks   </td></tr>\n",
       "\t<tr><td>svwiki        </td></tr>\n",
       "\t<tr><td>ruwiktionary  </td></tr>\n",
       "\t<tr><td>enwiktionary  </td></tr>\n",
       "\t<tr><td>zh_yuewiki    </td></tr>\n",
       "\t<tr><td>cawiki        </td></tr>\n",
       "\t<tr><td>satwiki       </td></tr>\n",
       "\t<tr><td>kowiki        </td></tr>\n",
       "\t<tr><td>kawiktionary  </td></tr>\n",
       "\t<tr><td>thwiktionary  </td></tr>\n",
       "\t<tr><td>vecwiki       </td></tr>\n",
       "\t<tr><td>⋮</td></tr>\n",
       "\t<tr><td>plwiki      </td></tr>\n",
       "\t<tr><td>plwikimedia </td></tr>\n",
       "\t<tr><td>rowiki      </td></tr>\n",
       "\t<tr><td>trwiki      </td></tr>\n",
       "\t<tr><td>dewikivoyage</td></tr>\n",
       "\t<tr><td>commonswiki </td></tr>\n",
       "\t<tr><td>fawikibooks </td></tr>\n",
       "\t<tr><td>nlwiki      </td></tr>\n",
       "\t<tr><td>fawiki      </td></tr>\n",
       "\t<tr><td>ukwiktionary</td></tr>\n",
       "\t<tr><td>hewiki      </td></tr>\n",
       "\t<tr><td>plwikinews  </td></tr>\n",
       "\t<tr><td>nowiki      </td></tr>\n",
       "\t<tr><td>ruwiki      </td></tr>\n",
       "\t<tr><td>dawiki      </td></tr>\n",
       "\t<tr><td>ptwiki      </td></tr>\n",
       "\t<tr><td>dewiki      </td></tr>\n",
       "\t<tr><td>fiwiki      </td></tr>\n",
       "\t<tr><td>bewiki      </td></tr>\n",
       "\t<tr><td>ltwiki      </td></tr>\n",
       "\t<tr><td>bgwiki      </td></tr>\n",
       "\t<tr><td>labswiki    </td></tr>\n",
       "\t<tr><td>hrwiki      </td></tr>\n",
       "\t<tr><td>simplewiki  </td></tr>\n",
       "\t<tr><td>testwiki    </td></tr>\n",
       "\t<tr><td>frwiki      </td></tr>\n",
       "\t<tr><td>bnwiki      </td></tr>\n",
       "\t<tr><td>myvwiki     </td></tr>\n",
       "\t<tr><td>ukwiki      </td></tr>\n",
       "\t<tr><td>trwikisource</td></tr>\n",
       "</tbody>\n",
       "</table>\n"
      ],
      "text/latex": [
       "A data.frame: 87 × 1\n",
       "\\begin{tabular}{l}\n",
       " wiki\\\\\n",
       " <chr>\\\\\n",
       "\\hline\n",
       "\t frwiktionary  \\\\\n",
       "\t itwikisource  \\\\\n",
       "\t specieswiki   \\\\\n",
       "\t frwikinews    \\\\\n",
       "\t kawiki        \\\\\n",
       "\t metawiki      \\\\\n",
       "\t frwikiquote   \\\\\n",
       "\t nahwiki       \\\\\n",
       "\t arywiki       \\\\\n",
       "\t test2wiki     \\\\\n",
       "\t enwikiversity \\\\\n",
       "\t mediawikiwiki \\\\\n",
       "\t srwiki        \\\\\n",
       "\t idwiki        \\\\\n",
       "\t enwikibooks   \\\\\n",
       "\t foundationwiki\\\\\n",
       "\t frwikisource  \\\\\n",
       "\t incubatorwiki \\\\\n",
       "\t niawiktionary \\\\\n",
       "\t kowikibooks   \\\\\n",
       "\t svwiki        \\\\\n",
       "\t ruwiktionary  \\\\\n",
       "\t enwiktionary  \\\\\n",
       "\t zh\\_yuewiki    \\\\\n",
       "\t cawiki        \\\\\n",
       "\t satwiki       \\\\\n",
       "\t kowiki        \\\\\n",
       "\t kawiktionary  \\\\\n",
       "\t thwiktionary  \\\\\n",
       "\t vecwiki       \\\\\n",
       "\t ⋮\\\\\n",
       "\t plwiki      \\\\\n",
       "\t plwikimedia \\\\\n",
       "\t rowiki      \\\\\n",
       "\t trwiki      \\\\\n",
       "\t dewikivoyage\\\\\n",
       "\t commonswiki \\\\\n",
       "\t fawikibooks \\\\\n",
       "\t nlwiki      \\\\\n",
       "\t fawiki      \\\\\n",
       "\t ukwiktionary\\\\\n",
       "\t hewiki      \\\\\n",
       "\t plwikinews  \\\\\n",
       "\t nowiki      \\\\\n",
       "\t ruwiki      \\\\\n",
       "\t dawiki      \\\\\n",
       "\t ptwiki      \\\\\n",
       "\t dewiki      \\\\\n",
       "\t fiwiki      \\\\\n",
       "\t bewiki      \\\\\n",
       "\t ltwiki      \\\\\n",
       "\t bgwiki      \\\\\n",
       "\t labswiki    \\\\\n",
       "\t hrwiki      \\\\\n",
       "\t simplewiki  \\\\\n",
       "\t testwiki    \\\\\n",
       "\t frwiki      \\\\\n",
       "\t bnwiki      \\\\\n",
       "\t myvwiki     \\\\\n",
       "\t ukwiki      \\\\\n",
       "\t trwikisource\\\\\n",
       "\\end{tabular}\n"
      ],
      "text/markdown": [
       "\n",
       "A data.frame: 87 × 1\n",
       "\n",
       "| wiki &lt;chr&gt; |\n",
       "|---|\n",
       "| frwiktionary   |\n",
       "| itwikisource   |\n",
       "| specieswiki    |\n",
       "| frwikinews     |\n",
       "| kawiki         |\n",
       "| metawiki       |\n",
       "| frwikiquote    |\n",
       "| nahwiki        |\n",
       "| arywiki        |\n",
       "| test2wiki      |\n",
       "| enwikiversity  |\n",
       "| mediawikiwiki  |\n",
       "| srwiki         |\n",
       "| idwiki         |\n",
       "| enwikibooks    |\n",
       "| foundationwiki |\n",
       "| frwikisource   |\n",
       "| incubatorwiki  |\n",
       "| niawiktionary  |\n",
       "| kowikibooks    |\n",
       "| svwiki         |\n",
       "| ruwiktionary   |\n",
       "| enwiktionary   |\n",
       "| zh_yuewiki     |\n",
       "| cawiki         |\n",
       "| satwiki        |\n",
       "| kowiki         |\n",
       "| kawiktionary   |\n",
       "| thwiktionary   |\n",
       "| vecwiki        |\n",
       "| ⋮ |\n",
       "| plwiki       |\n",
       "| plwikimedia  |\n",
       "| rowiki       |\n",
       "| trwiki       |\n",
       "| dewikivoyage |\n",
       "| commonswiki  |\n",
       "| fawikibooks  |\n",
       "| nlwiki       |\n",
       "| fawiki       |\n",
       "| ukwiktionary |\n",
       "| hewiki       |\n",
       "| plwikinews   |\n",
       "| nowiki       |\n",
       "| ruwiki       |\n",
       "| dawiki       |\n",
       "| ptwiki       |\n",
       "| dewiki       |\n",
       "| fiwiki       |\n",
       "| bewiki       |\n",
       "| ltwiki       |\n",
       "| bgwiki       |\n",
       "| labswiki     |\n",
       "| hrwiki       |\n",
       "| simplewiki   |\n",
       "| testwiki     |\n",
       "| frwiki       |\n",
       "| bnwiki       |\n",
       "| myvwiki      |\n",
       "| ukwiki       |\n",
       "| trwikisource |\n",
       "\n"
      ],
      "text/plain": [
       "   wiki          \n",
       "1  frwiktionary  \n",
       "2  itwikisource  \n",
       "3  specieswiki   \n",
       "4  frwikinews    \n",
       "5  kawiki        \n",
       "6  metawiki      \n",
       "7  frwikiquote   \n",
       "8  nahwiki       \n",
       "9  arywiki       \n",
       "10 test2wiki     \n",
       "11 enwikiversity \n",
       "12 mediawikiwiki \n",
       "13 srwiki        \n",
       "14 idwiki        \n",
       "15 enwikibooks   \n",
       "16 foundationwiki\n",
       "17 frwikisource  \n",
       "18 incubatorwiki \n",
       "19 niawiktionary \n",
       "20 kowikibooks   \n",
       "21 svwiki        \n",
       "22 ruwiktionary  \n",
       "23 enwiktionary  \n",
       "24 zh_yuewiki    \n",
       "25 cawiki        \n",
       "26 satwiki       \n",
       "27 kowiki        \n",
       "28 kawiktionary  \n",
       "29 thwiktionary  \n",
       "30 vecwiki       \n",
       "⋮  ⋮             \n",
       "58 plwiki        \n",
       "59 plwikimedia   \n",
       "60 rowiki        \n",
       "61 trwiki        \n",
       "62 dewikivoyage  \n",
       "63 commonswiki   \n",
       "64 fawikibooks   \n",
       "65 nlwiki        \n",
       "66 fawiki        \n",
       "67 ukwiktionary  \n",
       "68 hewiki        \n",
       "69 plwikinews    \n",
       "70 nowiki        \n",
       "71 ruwiki        \n",
       "72 dawiki        \n",
       "73 ptwiki        \n",
       "74 dewiki        \n",
       "75 fiwiki        \n",
       "76 bewiki        \n",
       "77 ltwiki        \n",
       "78 bgwiki        \n",
       "79 labswiki      \n",
       "80 hrwiki        \n",
       "81 simplewiki    \n",
       "82 testwiki      \n",
       "83 frwiki        \n",
       "84 bnwiki        \n",
       "85 myvwiki       \n",
       "86 ukwiki        \n",
       "87 trwikisource  "
      ]
     },
     "metadata": {},
     "output_type": "display_data"
    }
   ],
   "source": [
    "df_2"
   ]
  },
  {
   "cell_type": "markdown",
   "id": "ce43336e",
   "metadata": {},
   "source": [
    "__Note:__\n",
    "\n",
    "Check the different formats of screen sizes by wiki. \n",
    "\n",
    "In the `desktopwebuiactionstracking` schema , the `viewportsizebucket` field has mixed formats for the screen size. For example, for the same screen size, it was recored as 1200-2000 or 1200px-2000px. It shows on all wikis and all days since the instrument was enabled.\n"
   ]
  }
 ],
 "metadata": {
  "kernelspec": {
   "display_name": "R",
   "language": "R",
   "name": "ir"
  },
  "language_info": {
   "codemirror_mode": "r",
   "file_extension": ".r",
   "mimetype": "text/x-r-source",
   "name": "R",
   "pygments_lexer": "r",
   "version": "3.5.2"
  }
 },
 "nbformat": 4,
 "nbformat_minor": 5
}
