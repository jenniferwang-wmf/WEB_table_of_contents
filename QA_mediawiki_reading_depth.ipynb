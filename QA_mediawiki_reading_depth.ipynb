{
 "cells": [
  {
   "cell_type": "code",
   "execution_count": 2,
   "id": "a91b99b9",
   "metadata": {},
   "outputs": [],
   "source": [
    "shhh <- function(expr) suppressPackageStartupMessages(suppressWarnings(suppressMessages(expr)))\n",
    "shhh({\n",
    "library(tidyverse); \n",
    "library(lubridate); \n",
    "library(scales);\n",
    "library(magrittr); \n",
    "library(dplyr);\n",
    "})"
   ]
  },
  {
   "cell_type": "code",
   "execution_count": 3,
   "id": "99bd31a4",
   "metadata": {},
   "outputs": [
    {
     "data": {
      "text/html": [
       "<script>  \n",
       "code_show=true; \n",
       "function code_toggle() {\n",
       "  if (code_show){\n",
       "    $('div.input').hide();\n",
       "  } else {\n",
       "    $('div.input').show();\n",
       "  }\n",
       "  code_show = !code_show\n",
       "}  \n",
       "$( document ).ready(code_toggle);\n",
       "</script>\n",
       "  <form action=\"javascript:code_toggle()\">\n",
       "    <input type=\"submit\" value=\"Click here to toggle on/off the raw code.\">\n",
       " </form>"
      ]
     },
     "metadata": {},
     "output_type": "display_data"
    }
   ],
   "source": [
    "library(IRdisplay)\n",
    "\n",
    "display_html(\n",
    "'<script>  \n",
    "code_show=true; \n",
    "function code_toggle() {\n",
    "  if (code_show){\n",
    "    $(\\'div.input\\').hide();\n",
    "  } else {\n",
    "    $(\\'div.input\\').show();\n",
    "  }\n",
    "  code_show = !code_show\n",
    "}  \n",
    "$( document ).ready(code_toggle);\n",
    "</script>\n",
    "  <form action=\"javascript:code_toggle()\">\n",
    "    <input type=\"submit\" value=\"Click here to toggle on/off the raw code.\">\n",
    " </form>'\n",
    ")"
   ]
  },
  {
   "cell_type": "code",
   "execution_count": 4,
   "id": "65c5d5d7",
   "metadata": {},
   "outputs": [],
   "source": [
    "options(repr.plot.width = 15, repr.plot.height = 10)"
   ]
  },
  {
   "cell_type": "markdown",
   "id": "35b378a2",
   "metadata": {},
   "source": [
    "# Introduction\n",
    "\n",
    "__April 20, 2022__  \n",
    "__May 2, 2022__. \n",
    "\n",
    "\n",
    "[Parent QA ticket](https://phabricator.wikimedia.org/T305442) | [QA ticket](https://phabricator.wikimedia.org/T306558)"
   ]
  },
  {
   "cell_type": "markdown",
   "id": "768bbc8f",
   "metadata": {},
   "source": [
    "schema: https://schema.wikimedia.org/repositories//secondary/jsonschema/analytics/mediawiki/web_ui_reading_depth/current.yaml"
   ]
  },
  {
   "cell_type": "markdown",
   "id": "c3c16a16",
   "metadata": {},
   "source": [
    "# Instrumentation note\n",
    "The related events will be stored in schema mediawiki_reading_depth, identified by session_token\n",
    "\n",
    "\n"
   ]
  },
  {
   "cell_type": "markdown",
   "id": "58566a93",
   "metadata": {},
   "source": [
    "# QA mediawiki_reading_depth schema"
   ]
  },
  {
   "cell_type": "markdown",
   "id": "8feedbf4",
   "metadata": {},
   "source": [
    "## By wikis"
   ]
  },
  {
   "cell_type": "markdown",
   "id": "fa065f50",
   "metadata": {},
   "source": [
    "QAed on April 20, 2022, events are only avaiable for enwiki"
   ]
  },
  {
   "cell_type": "code",
   "execution_count": 116,
   "id": "e2ca6e4e",
   "metadata": {},
   "outputs": [],
   "source": [
    "query <- \n",
    "\"\n",
    "SELECT meta.domain,  COUNT(1) AS events, \n",
    "COUNT(DISTINCT session_token) AS session_tokens\n",
    "FROM event.mediawiki_reading_depth \n",
    "WHERE year = 2022 AND month=4\n",
    "GROUP BY meta.domain\n",
    "\""
   ]
  },
  {
   "cell_type": "code",
   "execution_count": 117,
   "id": "5837424c",
   "metadata": {},
   "outputs": [
    {
     "name": "stderr",
     "output_type": "stream",
     "text": [
      "Don't forget to authenticate with Kerberos using kinit\n",
      "\n"
     ]
    }
   ],
   "source": [
    "df <- wmfdata::query_hive(query)"
   ]
  },
  {
   "cell_type": "code",
   "execution_count": 118,
   "id": "30a33c76",
   "metadata": {},
   "outputs": [
    {
     "data": {
      "text/html": [
       "<table class=\"dataframe\">\n",
       "<caption>A data.frame: 9 × 3</caption>\n",
       "<thead>\n",
       "\t<tr><th scope=col>domain</th><th scope=col>events</th><th scope=col>session_tokens</th></tr>\n",
       "\t<tr><th scope=col>&lt;chr&gt;</th><th scope=col>&lt;int&gt;</th><th scope=col>&lt;int&gt;</th></tr>\n",
       "</thead>\n",
       "<tbody>\n",
       "\t<tr><td>en.jinzhao.wiki                     </td><td>      5</td><td>      4</td></tr>\n",
       "\t<tr><td>en.wiki.hancel.org                  </td><td>    287</td><td>     10</td></tr>\n",
       "\t<tr><td>en.wikipedia.org                    </td><td>6209887</td><td>1360192</td></tr>\n",
       "\t<tr><td>en.wikipedia.ahau.cf                </td><td>      1</td><td>      1</td></tr>\n",
       "\t<tr><td>en.wikipedia.ahmu.cf                </td><td>    107</td><td>      2</td></tr>\n",
       "\t<tr><td>en.wikipedia.xn--3js309f.xn--kpry57d</td><td>      2</td><td>      1</td></tr>\n",
       "\t<tr><td>en.turkcewiki.org                   </td><td>      2</td><td>      1</td></tr>\n",
       "\t<tr><td>en.wikipedia.iwiki.eu.org           </td><td>    141</td><td>     12</td></tr>\n",
       "\t<tr><td>en.wikipedia.iwiki.uk               </td><td>    323</td><td>      5</td></tr>\n",
       "</tbody>\n",
       "</table>\n"
      ],
      "text/latex": [
       "A data.frame: 9 × 3\n",
       "\\begin{tabular}{lll}\n",
       " domain & events & session\\_tokens\\\\\n",
       " <chr> & <int> & <int>\\\\\n",
       "\\hline\n",
       "\t en.jinzhao.wiki                      &       5 &       4\\\\\n",
       "\t en.wiki.hancel.org                   &     287 &      10\\\\\n",
       "\t en.wikipedia.org                     & 6209887 & 1360192\\\\\n",
       "\t en.wikipedia.ahau.cf                 &       1 &       1\\\\\n",
       "\t en.wikipedia.ahmu.cf                 &     107 &       2\\\\\n",
       "\t en.wikipedia.xn--3js309f.xn--kpry57d &       2 &       1\\\\\n",
       "\t en.turkcewiki.org                    &       2 &       1\\\\\n",
       "\t en.wikipedia.iwiki.eu.org            &     141 &      12\\\\\n",
       "\t en.wikipedia.iwiki.uk                &     323 &       5\\\\\n",
       "\\end{tabular}\n"
      ],
      "text/markdown": [
       "\n",
       "A data.frame: 9 × 3\n",
       "\n",
       "| domain &lt;chr&gt; | events &lt;int&gt; | session_tokens &lt;int&gt; |\n",
       "|---|---|---|\n",
       "| en.jinzhao.wiki                      |       5 |       4 |\n",
       "| en.wiki.hancel.org                   |     287 |      10 |\n",
       "| en.wikipedia.org                     | 6209887 | 1360192 |\n",
       "| en.wikipedia.ahau.cf                 |       1 |       1 |\n",
       "| en.wikipedia.ahmu.cf                 |     107 |       2 |\n",
       "| en.wikipedia.xn--3js309f.xn--kpry57d |       2 |       1 |\n",
       "| en.turkcewiki.org                    |       2 |       1 |\n",
       "| en.wikipedia.iwiki.eu.org            |     141 |      12 |\n",
       "| en.wikipedia.iwiki.uk                |     323 |       5 |\n",
       "\n"
      ],
      "text/plain": [
       "  domain                               events  session_tokens\n",
       "1 en.jinzhao.wiki                            5       4       \n",
       "2 en.wiki.hancel.org                       287      10       \n",
       "3 en.wikipedia.org                     6209887 1360192       \n",
       "4 en.wikipedia.ahau.cf                       1       1       \n",
       "5 en.wikipedia.ahmu.cf                     107       2       \n",
       "6 en.wikipedia.xn--3js309f.xn--kpry57d       2       1       \n",
       "7 en.turkcewiki.org                          2       1       \n",
       "8 en.wikipedia.iwiki.eu.org                141      12       \n",
       "9 en.wikipedia.iwiki.uk                    323       5       "
      ]
     },
     "metadata": {},
     "output_type": "display_data"
    }
   ],
   "source": [
    "df"
   ]
  },
  {
   "cell_type": "markdown",
   "id": "48c51777",
   "metadata": {},
   "source": [
    "QAed on May 2, 2022, events are avaiable for polit wikis since 2022-04-26.\n",
    "\n",
    "'tr.wikipedia.org',\n",
    "'vi.wikipedia.org',\n",
    "'ary.wikipedia.org',\n",
    "'fa.wikipedia.org',\n",
    "'fr.wikipedia.org',\n",
    "'pt.wikipedia.org',\n",
    "'en.wikipedia.org',\n",
    "'foundation.wikimedia.org',\n",
    "'ko.wikipedia.org',\n",
    "'fr.wiktionary.org',\n",
    "'he.wikipedia.org',\n",
    "'vi.wikibooks.org',\n",
    "'bn.wikipedia.org',\n",
    "'de.wikivoyage.org',\n",
    "'en.turkcewiki.org',\n",
    "'fr.wikiquote.org',\n",
    "'pt.wikiversity.org',\n",
    "'id.wikipedia.org',\n",
    "'pt.wikinews.org',\n",
    "'eu.wikipedia.org',\n",
    "'incubator.wikimedia.org',\n",
    "'pl.wikinews.org',\n",
    "'sr.wikipedia.org',\n",
    "'th.wikipedia.org',\n",
    "'vec.wikipedia.org',\n",
    "'www.mediawiki.org',\n",
    "'www.turkcewiki.org',\n",
    "'www.turkcewiki.org'\n",
    "\n",
    "\n",
    "24 of them are polits wikis:\n",
    "\n",
    "'tr.wikipedia.org',\n",
    "'vi.wikipedia.org',\n",
    "'ary.wikipedia.org',\n",
    "'fa.wikipedia.org',\n",
    "'fr.wikipedia.org',\n",
    "'pt.wikipedia.org',\n",
    "'foundation.wikimedia.org',\n",
    "'ko.wikipedia.org',\n",
    "'fr.wiktionary.org',\n",
    "'he.wikipedia.org',\n",
    "'vi.wikibooks.org',\n",
    "'bn.wikipedia.org',\n",
    "'de.wikivoyage.org',\n",
    "'fr.wikiquote.org',\n",
    "'pt.wikiversity.org',\n",
    "'id.wikipedia.org',\n",
    "'pt.wikinews.org',\n",
    "'eu.wikipedia.org',\n",
    "'incubator.wikimedia.org',\n",
    "'pl.wikinews.org',\n",
    "'sr.wikipedia.org',\n",
    "'th.wikipedia.org',\n",
    "'vec.wikipedia.org',\n",
    "'www.mediawiki.org',"
   ]
  },
  {
   "cell_type": "code",
   "execution_count": 1,
   "id": "ef9cc9e5",
   "metadata": {},
   "outputs": [],
   "source": [
    "query <- \n",
    "\"\n",
    "SELECT meta.domain,  COUNT(1) AS events, \n",
    "COUNT(DISTINCT session_token) AS session_tokens\n",
    "FROM event.mediawiki_reading_depth \n",
    "WHERE year = 2022 AND month in (4,5)\n",
    "GROUP BY meta.domain\n",
    "\""
   ]
  },
  {
   "cell_type": "code",
   "execution_count": 5,
   "id": "b51555eb",
   "metadata": {},
   "outputs": [
    {
     "name": "stderr",
     "output_type": "stream",
     "text": [
      "Don't forget to authenticate with Kerberos using kinit\n",
      "\n"
     ]
    }
   ],
   "source": [
    "df <- wmfdata::query_hive(query)"
   ]
  },
  {
   "cell_type": "code",
   "execution_count": 6,
   "id": "03e305f9",
   "metadata": {},
   "outputs": [
    {
     "data": {
      "text/html": [
       "<table class=\"dataframe\">\n",
       "<caption>A data.frame: 42 × 3</caption>\n",
       "<thead>\n",
       "\t<tr><th scope=col>domain</th><th scope=col>events</th><th scope=col>session_tokens</th></tr>\n",
       "\t<tr><th scope=col>&lt;chr&gt;</th><th scope=col>&lt;int&gt;</th><th scope=col>&lt;int&gt;</th></tr>\n",
       "</thead>\n",
       "<tbody>\n",
       "\t<tr><td>ko.wikipedia.xn--3js309f.xn--kpry57d</td><td>      2</td><td>      1</td></tr>\n",
       "\t<tr><td>test2.wikipedia.org                 </td><td>     10</td><td>      7</td></tr>\n",
       "\t<tr><td>th.wikipedia.iwiki.eu.org           </td><td>      4</td><td>      1</td></tr>\n",
       "\t<tr><td>tr.wikipedia.org                    </td><td> 302729</td><td>  90053</td></tr>\n",
       "\t<tr><td>vi.wikipedia.org                    </td><td> 137293</td><td>  46879</td></tr>\n",
       "\t<tr><td>ary.wikipedia.org                   </td><td>    100</td><td>     47</td></tr>\n",
       "\t<tr><td>en.wikipedia.iwiki.eu.org           </td><td>    178</td><td>     14</td></tr>\n",
       "\t<tr><td>fa.wikipedia.org                    </td><td> 551344</td><td> 117064</td></tr>\n",
       "\t<tr><td>fr.wikipedia.org                    </td><td>1556759</td><td> 426272</td></tr>\n",
       "\t<tr><td>pt.wiki.hancel.org                  </td><td>      1</td><td>      1</td></tr>\n",
       "\t<tr><td>pt.wikipedia.org                    </td><td> 608253</td><td> 182995</td></tr>\n",
       "\t<tr><td>en-wikipedia-org-wkpd.datafree.co   </td><td>   1261</td><td>     39</td></tr>\n",
       "\t<tr><td>en.wikipedia.ahmu.cf                </td><td>    118</td><td>      3</td></tr>\n",
       "\t<tr><td>en.wikipedia.org                    </td><td>9540356</td><td>2077236</td></tr>\n",
       "\t<tr><td>foundation.wikimedia.org            </td><td>   4364</td><td>   1672</td></tr>\n",
       "\t<tr><td>ko.wikipedia.org                    </td><td> 193154</td><td>  56018</td></tr>\n",
       "\t<tr><td>en.jinzhao.wiki                     </td><td>      7</td><td>      5</td></tr>\n",
       "\t<tr><td>en.wikipedia.ahau.cf                </td><td>      5</td><td>      2</td></tr>\n",
       "\t<tr><td>fr.wiktionary.org                   </td><td>  23604</td><td>   9210</td></tr>\n",
       "\t<tr><td>he.wikipedia.org                    </td><td> 188565</td><td>  46229</td></tr>\n",
       "\t<tr><td>vi.wikibooks.org                    </td><td>     45</td><td>     19</td></tr>\n",
       "\t<tr><td>wiki-indonesia.club                 </td><td>     27</td><td>      4</td></tr>\n",
       "\t<tr><td>bn.wikipedia.org                    </td><td>  34334</td><td>  10977</td></tr>\n",
       "\t<tr><td>de.wikivoyage.org                   </td><td>   1517</td><td>    536</td></tr>\n",
       "\t<tr><td>en.turkcewiki.org                   </td><td>      2</td><td>      1</td></tr>\n",
       "\t<tr><td>en.wikipedia.iwiki.uk               </td><td>    343</td><td>      8</td></tr>\n",
       "\t<tr><td>fr.wikiquote.org                    </td><td>    281</td><td>    148</td></tr>\n",
       "\t<tr><td>pt.wikiversity.org                  </td><td>    385</td><td>    183</td></tr>\n",
       "\t<tr><td>vi.wikipedia.iwiki.eu.org           </td><td>      2</td><td>      1</td></tr>\n",
       "\t<tr><td>id.wikipedia.org                    </td><td> 178807</td><td>  51977</td></tr>\n",
       "\t<tr><td>pt.wikinews.org                     </td><td>    130</td><td>     61</td></tr>\n",
       "\t<tr><td>en.wiki.hancel.org                  </td><td>    432</td><td>     16</td></tr>\n",
       "\t<tr><td>en.wikipedia.xn--3js309f.xn--kpry57d</td><td>      2</td><td>      1</td></tr>\n",
       "\t<tr><td>eu.wikipedia.org                    </td><td>   5367</td><td>   1027</td></tr>\n",
       "\t<tr><td>incubator.wikimedia.org             </td><td>    755</td><td>     95</td></tr>\n",
       "\t<tr><td>pl.wikinews.org                     </td><td>    245</td><td>     12</td></tr>\n",
       "\t<tr><td>sr.wikipedia.org                    </td><td>  68251</td><td>  18651</td></tr>\n",
       "\t<tr><td>test.wikipedia.org                  </td><td>     15</td><td>      5</td></tr>\n",
       "\t<tr><td>th.wikipedia.org                    </td><td> 102389</td><td>  35360</td></tr>\n",
       "\t<tr><td>vec.wikipedia.org                   </td><td>    140</td><td>     36</td></tr>\n",
       "\t<tr><td>www.mediawiki.org                   </td><td>   7179</td><td>   1034</td></tr>\n",
       "\t<tr><td>www.turkcewiki.org                  </td><td>     50</td><td>     30</td></tr>\n",
       "</tbody>\n",
       "</table>\n"
      ],
      "text/latex": [
       "A data.frame: 42 × 3\n",
       "\\begin{tabular}{lll}\n",
       " domain & events & session\\_tokens\\\\\n",
       " <chr> & <int> & <int>\\\\\n",
       "\\hline\n",
       "\t ko.wikipedia.xn--3js309f.xn--kpry57d &       2 &       1\\\\\n",
       "\t test2.wikipedia.org                  &      10 &       7\\\\\n",
       "\t th.wikipedia.iwiki.eu.org            &       4 &       1\\\\\n",
       "\t tr.wikipedia.org                     &  302729 &   90053\\\\\n",
       "\t vi.wikipedia.org                     &  137293 &   46879\\\\\n",
       "\t ary.wikipedia.org                    &     100 &      47\\\\\n",
       "\t en.wikipedia.iwiki.eu.org            &     178 &      14\\\\\n",
       "\t fa.wikipedia.org                     &  551344 &  117064\\\\\n",
       "\t fr.wikipedia.org                     & 1556759 &  426272\\\\\n",
       "\t pt.wiki.hancel.org                   &       1 &       1\\\\\n",
       "\t pt.wikipedia.org                     &  608253 &  182995\\\\\n",
       "\t en-wikipedia-org-wkpd.datafree.co    &    1261 &      39\\\\\n",
       "\t en.wikipedia.ahmu.cf                 &     118 &       3\\\\\n",
       "\t en.wikipedia.org                     & 9540356 & 2077236\\\\\n",
       "\t foundation.wikimedia.org             &    4364 &    1672\\\\\n",
       "\t ko.wikipedia.org                     &  193154 &   56018\\\\\n",
       "\t en.jinzhao.wiki                      &       7 &       5\\\\\n",
       "\t en.wikipedia.ahau.cf                 &       5 &       2\\\\\n",
       "\t fr.wiktionary.org                    &   23604 &    9210\\\\\n",
       "\t he.wikipedia.org                     &  188565 &   46229\\\\\n",
       "\t vi.wikibooks.org                     &      45 &      19\\\\\n",
       "\t wiki-indonesia.club                  &      27 &       4\\\\\n",
       "\t bn.wikipedia.org                     &   34334 &   10977\\\\\n",
       "\t de.wikivoyage.org                    &    1517 &     536\\\\\n",
       "\t en.turkcewiki.org                    &       2 &       1\\\\\n",
       "\t en.wikipedia.iwiki.uk                &     343 &       8\\\\\n",
       "\t fr.wikiquote.org                     &     281 &     148\\\\\n",
       "\t pt.wikiversity.org                   &     385 &     183\\\\\n",
       "\t vi.wikipedia.iwiki.eu.org            &       2 &       1\\\\\n",
       "\t id.wikipedia.org                     &  178807 &   51977\\\\\n",
       "\t pt.wikinews.org                      &     130 &      61\\\\\n",
       "\t en.wiki.hancel.org                   &     432 &      16\\\\\n",
       "\t en.wikipedia.xn--3js309f.xn--kpry57d &       2 &       1\\\\\n",
       "\t eu.wikipedia.org                     &    5367 &    1027\\\\\n",
       "\t incubator.wikimedia.org              &     755 &      95\\\\\n",
       "\t pl.wikinews.org                      &     245 &      12\\\\\n",
       "\t sr.wikipedia.org                     &   68251 &   18651\\\\\n",
       "\t test.wikipedia.org                   &      15 &       5\\\\\n",
       "\t th.wikipedia.org                     &  102389 &   35360\\\\\n",
       "\t vec.wikipedia.org                    &     140 &      36\\\\\n",
       "\t www.mediawiki.org                    &    7179 &    1034\\\\\n",
       "\t www.turkcewiki.org                   &      50 &      30\\\\\n",
       "\\end{tabular}\n"
      ],
      "text/markdown": [
       "\n",
       "A data.frame: 42 × 3\n",
       "\n",
       "| domain &lt;chr&gt; | events &lt;int&gt; | session_tokens &lt;int&gt; |\n",
       "|---|---|---|\n",
       "| ko.wikipedia.xn--3js309f.xn--kpry57d |       2 |       1 |\n",
       "| test2.wikipedia.org                  |      10 |       7 |\n",
       "| th.wikipedia.iwiki.eu.org            |       4 |       1 |\n",
       "| tr.wikipedia.org                     |  302729 |   90053 |\n",
       "| vi.wikipedia.org                     |  137293 |   46879 |\n",
       "| ary.wikipedia.org                    |     100 |      47 |\n",
       "| en.wikipedia.iwiki.eu.org            |     178 |      14 |\n",
       "| fa.wikipedia.org                     |  551344 |  117064 |\n",
       "| fr.wikipedia.org                     | 1556759 |  426272 |\n",
       "| pt.wiki.hancel.org                   |       1 |       1 |\n",
       "| pt.wikipedia.org                     |  608253 |  182995 |\n",
       "| en-wikipedia-org-wkpd.datafree.co    |    1261 |      39 |\n",
       "| en.wikipedia.ahmu.cf                 |     118 |       3 |\n",
       "| en.wikipedia.org                     | 9540356 | 2077236 |\n",
       "| foundation.wikimedia.org             |    4364 |    1672 |\n",
       "| ko.wikipedia.org                     |  193154 |   56018 |\n",
       "| en.jinzhao.wiki                      |       7 |       5 |\n",
       "| en.wikipedia.ahau.cf                 |       5 |       2 |\n",
       "| fr.wiktionary.org                    |   23604 |    9210 |\n",
       "| he.wikipedia.org                     |  188565 |   46229 |\n",
       "| vi.wikibooks.org                     |      45 |      19 |\n",
       "| wiki-indonesia.club                  |      27 |       4 |\n",
       "| bn.wikipedia.org                     |   34334 |   10977 |\n",
       "| de.wikivoyage.org                    |    1517 |     536 |\n",
       "| en.turkcewiki.org                    |       2 |       1 |\n",
       "| en.wikipedia.iwiki.uk                |     343 |       8 |\n",
       "| fr.wikiquote.org                     |     281 |     148 |\n",
       "| pt.wikiversity.org                   |     385 |     183 |\n",
       "| vi.wikipedia.iwiki.eu.org            |       2 |       1 |\n",
       "| id.wikipedia.org                     |  178807 |   51977 |\n",
       "| pt.wikinews.org                      |     130 |      61 |\n",
       "| en.wiki.hancel.org                   |     432 |      16 |\n",
       "| en.wikipedia.xn--3js309f.xn--kpry57d |       2 |       1 |\n",
       "| eu.wikipedia.org                     |    5367 |    1027 |\n",
       "| incubator.wikimedia.org              |     755 |      95 |\n",
       "| pl.wikinews.org                      |     245 |      12 |\n",
       "| sr.wikipedia.org                     |   68251 |   18651 |\n",
       "| test.wikipedia.org                   |      15 |       5 |\n",
       "| th.wikipedia.org                     |  102389 |   35360 |\n",
       "| vec.wikipedia.org                    |     140 |      36 |\n",
       "| www.mediawiki.org                    |    7179 |    1034 |\n",
       "| www.turkcewiki.org                   |      50 |      30 |\n",
       "\n"
      ],
      "text/plain": [
       "   domain                               events  session_tokens\n",
       "1  ko.wikipedia.xn--3js309f.xn--kpry57d       2       1       \n",
       "2  test2.wikipedia.org                       10       7       \n",
       "3  th.wikipedia.iwiki.eu.org                  4       1       \n",
       "4  tr.wikipedia.org                      302729   90053       \n",
       "5  vi.wikipedia.org                      137293   46879       \n",
       "6  ary.wikipedia.org                        100      47       \n",
       "7  en.wikipedia.iwiki.eu.org                178      14       \n",
       "8  fa.wikipedia.org                      551344  117064       \n",
       "9  fr.wikipedia.org                     1556759  426272       \n",
       "10 pt.wiki.hancel.org                         1       1       \n",
       "11 pt.wikipedia.org                      608253  182995       \n",
       "12 en-wikipedia-org-wkpd.datafree.co       1261      39       \n",
       "13 en.wikipedia.ahmu.cf                     118       3       \n",
       "14 en.wikipedia.org                     9540356 2077236       \n",
       "15 foundation.wikimedia.org                4364    1672       \n",
       "16 ko.wikipedia.org                      193154   56018       \n",
       "17 en.jinzhao.wiki                            7       5       \n",
       "18 en.wikipedia.ahau.cf                       5       2       \n",
       "19 fr.wiktionary.org                      23604    9210       \n",
       "20 he.wikipedia.org                      188565   46229       \n",
       "21 vi.wikibooks.org                          45      19       \n",
       "22 wiki-indonesia.club                       27       4       \n",
       "23 bn.wikipedia.org                       34334   10977       \n",
       "24 de.wikivoyage.org                       1517     536       \n",
       "25 en.turkcewiki.org                          2       1       \n",
       "26 en.wikipedia.iwiki.uk                    343       8       \n",
       "27 fr.wikiquote.org                         281     148       \n",
       "28 pt.wikiversity.org                       385     183       \n",
       "29 vi.wikipedia.iwiki.eu.org                  2       1       \n",
       "30 id.wikipedia.org                      178807   51977       \n",
       "31 pt.wikinews.org                          130      61       \n",
       "32 en.wiki.hancel.org                       432      16       \n",
       "33 en.wikipedia.xn--3js309f.xn--kpry57d       2       1       \n",
       "34 eu.wikipedia.org                        5367    1027       \n",
       "35 incubator.wikimedia.org                  755      95       \n",
       "36 pl.wikinews.org                          245      12       \n",
       "37 sr.wikipedia.org                       68251   18651       \n",
       "38 test.wikipedia.org                        15       5       \n",
       "39 th.wikipedia.org                      102389   35360       \n",
       "40 vec.wikipedia.org                        140      36       \n",
       "41 www.mediawiki.org                       7179    1034       \n",
       "42 www.turkcewiki.org                        50      30       "
      ]
     },
     "metadata": {},
     "output_type": "display_data"
    }
   ],
   "source": [
    "df"
   ]
  },
  {
   "cell_type": "markdown",
   "id": "68bf3a3f",
   "metadata": {},
   "source": [
    "## By date"
   ]
  },
  {
   "cell_type": "code",
   "execution_count": 57,
   "id": "c2a1f2d3",
   "metadata": {},
   "outputs": [],
   "source": [
    "query <- \n",
    "\"\n",
    "SELECT meta.domain, min(meta.dt)\n",
    "FROM event.mediawiki_reading_depth\n",
    "WHERE year=2022 AND month IN (4, 5)\n",
    "GROUP BY meta.domain\n",
    "\""
   ]
  },
  {
   "cell_type": "code",
   "execution_count": 16,
   "id": "4216c371",
   "metadata": {},
   "outputs": [
    {
     "name": "stderr",
     "output_type": "stream",
     "text": [
      "Don't forget to authenticate with Kerberos using kinit\n",
      "\n"
     ]
    }
   ],
   "source": [
    "df <- wmfdata::query_hive(query)"
   ]
  },
  {
   "cell_type": "code",
   "execution_count": 17,
   "id": "3cd5de4f",
   "metadata": {},
   "outputs": [
    {
     "data": {
      "text/html": [
       "<table class=\"dataframe\">\n",
       "<caption>A data.frame: 42 × 2</caption>\n",
       "<thead>\n",
       "\t<tr><th scope=col>domain</th><th scope=col>X_c1</th></tr>\n",
       "\t<tr><th scope=col>&lt;chr&gt;</th><th scope=col>&lt;chr&gt;</th></tr>\n",
       "</thead>\n",
       "<tbody>\n",
       "\t<tr><td>ko.wikipedia.xn--3js309f.xn--kpry57d</td><td>2022-04-28T04:28:56.901Z</td></tr>\n",
       "\t<tr><td>test2.wikipedia.org                 </td><td>2022-04-27T17:55:20.713Z</td></tr>\n",
       "\t<tr><td>th.wikipedia.iwiki.eu.org           </td><td>2022-04-30T02:45:40.278Z</td></tr>\n",
       "\t<tr><td>tr.wikipedia.org                    </td><td>2022-04-26T20:25:55.479Z</td></tr>\n",
       "\t<tr><td>vi.wikipedia.org                    </td><td>2022-04-26T20:27:51.823Z</td></tr>\n",
       "\t<tr><td>ary.wikipedia.org                   </td><td>2022-04-26T20:36:57.000Z</td></tr>\n",
       "\t<tr><td>en.wikipedia.iwiki.eu.org           </td><td>2022-04-01T12:33:33.983Z</td></tr>\n",
       "\t<tr><td>fa.wikipedia.org                    </td><td>2022-04-26T20:29:15.001Z</td></tr>\n",
       "\t<tr><td>fr.wikipedia.org                    </td><td>2022-04-26T20:25:23.518Z</td></tr>\n",
       "\t<tr><td>pt.wiki.hancel.org                  </td><td>2022-04-30T04:43:17.274Z</td></tr>\n",
       "\t<tr><td>pt.wikipedia.org                    </td><td>2022-04-26T20:25:57.119Z</td></tr>\n",
       "\t<tr><td>en-wikipedia-org-wkpd.datafree.co   </td><td>2022-04-27T12:41:27.628Z</td></tr>\n",
       "\t<tr><td>en.wikipedia.ahmu.cf                </td><td>2022-04-04T23:05:38.983Z</td></tr>\n",
       "\t<tr><td>en.wikipedia.org                    </td><td>2022-04-01T00:00:00.100Z</td></tr>\n",
       "\t<tr><td>foundation.wikimedia.org            </td><td>2022-04-26T20:31:57.074Z</td></tr>\n",
       "\t<tr><td>ko.wikipedia.org                    </td><td>2022-04-26T20:29:35.631Z</td></tr>\n",
       "\t<tr><td>en.jinzhao.wiki                     </td><td>2022-04-01T05:29:31.161Z</td></tr>\n",
       "\t<tr><td>en.wikipedia.ahau.cf                </td><td>2022-04-12T13:36:11.777Z</td></tr>\n",
       "\t<tr><td>fr.wiktionary.org                   </td><td>2022-04-26T20:27:44.944Z</td></tr>\n",
       "\t<tr><td>he.wikipedia.org                    </td><td>2022-04-26T20:26:13.903Z</td></tr>\n",
       "\t<tr><td>vi.wikibooks.org                    </td><td>2022-04-27T01:20:40.085Z</td></tr>\n",
       "\t<tr><td>wiki-indonesia.club                 </td><td>2022-04-28T12:00:35.159Z</td></tr>\n",
       "\t<tr><td>bn.wikipedia.org                    </td><td>2022-04-26T20:32:13.425Z</td></tr>\n",
       "\t<tr><td>de.wikivoyage.org                   </td><td>2022-04-26T20:32:40.055Z</td></tr>\n",
       "\t<tr><td>en.turkcewiki.org                   </td><td>2022-04-15T05:58:04.111Z</td></tr>\n",
       "\t<tr><td>en.wikipedia.iwiki.uk               </td><td>2022-04-05T17:54:46.198Z</td></tr>\n",
       "\t<tr><td>fr.wikiquote.org                    </td><td>2022-04-26T21:05:58.859Z</td></tr>\n",
       "\t<tr><td>pt.wikiversity.org                  </td><td>2022-04-26T20:39:52.814Z</td></tr>\n",
       "\t<tr><td>vi.wikipedia.iwiki.eu.org           </td><td>2022-04-27T04:25:52.511Z</td></tr>\n",
       "\t<tr><td>id.wikipedia.org                    </td><td>2022-04-26T20:28:58.687Z</td></tr>\n",
       "\t<tr><td>pt.wikinews.org                     </td><td>2022-04-26T22:11:53.692Z</td></tr>\n",
       "\t<tr><td>en.wiki.hancel.org                  </td><td>2022-04-04T03:17:20.085Z</td></tr>\n",
       "\t<tr><td>en.wikipedia.xn--3js309f.xn--kpry57d</td><td>2022-04-09T11:29:16.188Z</td></tr>\n",
       "\t<tr><td>eu.wikipedia.org                    </td><td>2022-04-26T20:34:25.863Z</td></tr>\n",
       "\t<tr><td>incubator.wikimedia.org             </td><td>2022-04-27T00:25:33.799Z</td></tr>\n",
       "\t<tr><td>pl.wikinews.org                     </td><td>2022-04-27T06:30:04.396Z</td></tr>\n",
       "\t<tr><td>sr.wikipedia.org                    </td><td>2022-04-26T20:28:54.423Z</td></tr>\n",
       "\t<tr><td>test.wikipedia.org                  </td><td>2022-04-29T16:29:28.330Z</td></tr>\n",
       "\t<tr><td>th.wikipedia.org                    </td><td>2022-04-26T20:27:54.992Z</td></tr>\n",
       "\t<tr><td>vec.wikipedia.org                   </td><td>2022-04-27T00:09:08.146Z</td></tr>\n",
       "\t<tr><td>www.mediawiki.org                   </td><td>2022-04-26T20:31:38.181Z</td></tr>\n",
       "\t<tr><td>www.turkcewiki.org                  </td><td>2022-04-26T22:40:42.994Z</td></tr>\n",
       "</tbody>\n",
       "</table>\n"
      ],
      "text/latex": [
       "A data.frame: 42 × 2\n",
       "\\begin{tabular}{ll}\n",
       " domain & X\\_c1\\\\\n",
       " <chr> & <chr>\\\\\n",
       "\\hline\n",
       "\t ko.wikipedia.xn--3js309f.xn--kpry57d & 2022-04-28T04:28:56.901Z\\\\\n",
       "\t test2.wikipedia.org                  & 2022-04-27T17:55:20.713Z\\\\\n",
       "\t th.wikipedia.iwiki.eu.org            & 2022-04-30T02:45:40.278Z\\\\\n",
       "\t tr.wikipedia.org                     & 2022-04-26T20:25:55.479Z\\\\\n",
       "\t vi.wikipedia.org                     & 2022-04-26T20:27:51.823Z\\\\\n",
       "\t ary.wikipedia.org                    & 2022-04-26T20:36:57.000Z\\\\\n",
       "\t en.wikipedia.iwiki.eu.org            & 2022-04-01T12:33:33.983Z\\\\\n",
       "\t fa.wikipedia.org                     & 2022-04-26T20:29:15.001Z\\\\\n",
       "\t fr.wikipedia.org                     & 2022-04-26T20:25:23.518Z\\\\\n",
       "\t pt.wiki.hancel.org                   & 2022-04-30T04:43:17.274Z\\\\\n",
       "\t pt.wikipedia.org                     & 2022-04-26T20:25:57.119Z\\\\\n",
       "\t en-wikipedia-org-wkpd.datafree.co    & 2022-04-27T12:41:27.628Z\\\\\n",
       "\t en.wikipedia.ahmu.cf                 & 2022-04-04T23:05:38.983Z\\\\\n",
       "\t en.wikipedia.org                     & 2022-04-01T00:00:00.100Z\\\\\n",
       "\t foundation.wikimedia.org             & 2022-04-26T20:31:57.074Z\\\\\n",
       "\t ko.wikipedia.org                     & 2022-04-26T20:29:35.631Z\\\\\n",
       "\t en.jinzhao.wiki                      & 2022-04-01T05:29:31.161Z\\\\\n",
       "\t en.wikipedia.ahau.cf                 & 2022-04-12T13:36:11.777Z\\\\\n",
       "\t fr.wiktionary.org                    & 2022-04-26T20:27:44.944Z\\\\\n",
       "\t he.wikipedia.org                     & 2022-04-26T20:26:13.903Z\\\\\n",
       "\t vi.wikibooks.org                     & 2022-04-27T01:20:40.085Z\\\\\n",
       "\t wiki-indonesia.club                  & 2022-04-28T12:00:35.159Z\\\\\n",
       "\t bn.wikipedia.org                     & 2022-04-26T20:32:13.425Z\\\\\n",
       "\t de.wikivoyage.org                    & 2022-04-26T20:32:40.055Z\\\\\n",
       "\t en.turkcewiki.org                    & 2022-04-15T05:58:04.111Z\\\\\n",
       "\t en.wikipedia.iwiki.uk                & 2022-04-05T17:54:46.198Z\\\\\n",
       "\t fr.wikiquote.org                     & 2022-04-26T21:05:58.859Z\\\\\n",
       "\t pt.wikiversity.org                   & 2022-04-26T20:39:52.814Z\\\\\n",
       "\t vi.wikipedia.iwiki.eu.org            & 2022-04-27T04:25:52.511Z\\\\\n",
       "\t id.wikipedia.org                     & 2022-04-26T20:28:58.687Z\\\\\n",
       "\t pt.wikinews.org                      & 2022-04-26T22:11:53.692Z\\\\\n",
       "\t en.wiki.hancel.org                   & 2022-04-04T03:17:20.085Z\\\\\n",
       "\t en.wikipedia.xn--3js309f.xn--kpry57d & 2022-04-09T11:29:16.188Z\\\\\n",
       "\t eu.wikipedia.org                     & 2022-04-26T20:34:25.863Z\\\\\n",
       "\t incubator.wikimedia.org              & 2022-04-27T00:25:33.799Z\\\\\n",
       "\t pl.wikinews.org                      & 2022-04-27T06:30:04.396Z\\\\\n",
       "\t sr.wikipedia.org                     & 2022-04-26T20:28:54.423Z\\\\\n",
       "\t test.wikipedia.org                   & 2022-04-29T16:29:28.330Z\\\\\n",
       "\t th.wikipedia.org                     & 2022-04-26T20:27:54.992Z\\\\\n",
       "\t vec.wikipedia.org                    & 2022-04-27T00:09:08.146Z\\\\\n",
       "\t www.mediawiki.org                    & 2022-04-26T20:31:38.181Z\\\\\n",
       "\t www.turkcewiki.org                   & 2022-04-26T22:40:42.994Z\\\\\n",
       "\\end{tabular}\n"
      ],
      "text/markdown": [
       "\n",
       "A data.frame: 42 × 2\n",
       "\n",
       "| domain &lt;chr&gt; | X_c1 &lt;chr&gt; |\n",
       "|---|---|\n",
       "| ko.wikipedia.xn--3js309f.xn--kpry57d | 2022-04-28T04:28:56.901Z |\n",
       "| test2.wikipedia.org                  | 2022-04-27T17:55:20.713Z |\n",
       "| th.wikipedia.iwiki.eu.org            | 2022-04-30T02:45:40.278Z |\n",
       "| tr.wikipedia.org                     | 2022-04-26T20:25:55.479Z |\n",
       "| vi.wikipedia.org                     | 2022-04-26T20:27:51.823Z |\n",
       "| ary.wikipedia.org                    | 2022-04-26T20:36:57.000Z |\n",
       "| en.wikipedia.iwiki.eu.org            | 2022-04-01T12:33:33.983Z |\n",
       "| fa.wikipedia.org                     | 2022-04-26T20:29:15.001Z |\n",
       "| fr.wikipedia.org                     | 2022-04-26T20:25:23.518Z |\n",
       "| pt.wiki.hancel.org                   | 2022-04-30T04:43:17.274Z |\n",
       "| pt.wikipedia.org                     | 2022-04-26T20:25:57.119Z |\n",
       "| en-wikipedia-org-wkpd.datafree.co    | 2022-04-27T12:41:27.628Z |\n",
       "| en.wikipedia.ahmu.cf                 | 2022-04-04T23:05:38.983Z |\n",
       "| en.wikipedia.org                     | 2022-04-01T00:00:00.100Z |\n",
       "| foundation.wikimedia.org             | 2022-04-26T20:31:57.074Z |\n",
       "| ko.wikipedia.org                     | 2022-04-26T20:29:35.631Z |\n",
       "| en.jinzhao.wiki                      | 2022-04-01T05:29:31.161Z |\n",
       "| en.wikipedia.ahau.cf                 | 2022-04-12T13:36:11.777Z |\n",
       "| fr.wiktionary.org                    | 2022-04-26T20:27:44.944Z |\n",
       "| he.wikipedia.org                     | 2022-04-26T20:26:13.903Z |\n",
       "| vi.wikibooks.org                     | 2022-04-27T01:20:40.085Z |\n",
       "| wiki-indonesia.club                  | 2022-04-28T12:00:35.159Z |\n",
       "| bn.wikipedia.org                     | 2022-04-26T20:32:13.425Z |\n",
       "| de.wikivoyage.org                    | 2022-04-26T20:32:40.055Z |\n",
       "| en.turkcewiki.org                    | 2022-04-15T05:58:04.111Z |\n",
       "| en.wikipedia.iwiki.uk                | 2022-04-05T17:54:46.198Z |\n",
       "| fr.wikiquote.org                     | 2022-04-26T21:05:58.859Z |\n",
       "| pt.wikiversity.org                   | 2022-04-26T20:39:52.814Z |\n",
       "| vi.wikipedia.iwiki.eu.org            | 2022-04-27T04:25:52.511Z |\n",
       "| id.wikipedia.org                     | 2022-04-26T20:28:58.687Z |\n",
       "| pt.wikinews.org                      | 2022-04-26T22:11:53.692Z |\n",
       "| en.wiki.hancel.org                   | 2022-04-04T03:17:20.085Z |\n",
       "| en.wikipedia.xn--3js309f.xn--kpry57d | 2022-04-09T11:29:16.188Z |\n",
       "| eu.wikipedia.org                     | 2022-04-26T20:34:25.863Z |\n",
       "| incubator.wikimedia.org              | 2022-04-27T00:25:33.799Z |\n",
       "| pl.wikinews.org                      | 2022-04-27T06:30:04.396Z |\n",
       "| sr.wikipedia.org                     | 2022-04-26T20:28:54.423Z |\n",
       "| test.wikipedia.org                   | 2022-04-29T16:29:28.330Z |\n",
       "| th.wikipedia.org                     | 2022-04-26T20:27:54.992Z |\n",
       "| vec.wikipedia.org                    | 2022-04-27T00:09:08.146Z |\n",
       "| www.mediawiki.org                    | 2022-04-26T20:31:38.181Z |\n",
       "| www.turkcewiki.org                   | 2022-04-26T22:40:42.994Z |\n",
       "\n"
      ],
      "text/plain": [
       "   domain                               X_c1                    \n",
       "1  ko.wikipedia.xn--3js309f.xn--kpry57d 2022-04-28T04:28:56.901Z\n",
       "2  test2.wikipedia.org                  2022-04-27T17:55:20.713Z\n",
       "3  th.wikipedia.iwiki.eu.org            2022-04-30T02:45:40.278Z\n",
       "4  tr.wikipedia.org                     2022-04-26T20:25:55.479Z\n",
       "5  vi.wikipedia.org                     2022-04-26T20:27:51.823Z\n",
       "6  ary.wikipedia.org                    2022-04-26T20:36:57.000Z\n",
       "7  en.wikipedia.iwiki.eu.org            2022-04-01T12:33:33.983Z\n",
       "8  fa.wikipedia.org                     2022-04-26T20:29:15.001Z\n",
       "9  fr.wikipedia.org                     2022-04-26T20:25:23.518Z\n",
       "10 pt.wiki.hancel.org                   2022-04-30T04:43:17.274Z\n",
       "11 pt.wikipedia.org                     2022-04-26T20:25:57.119Z\n",
       "12 en-wikipedia-org-wkpd.datafree.co    2022-04-27T12:41:27.628Z\n",
       "13 en.wikipedia.ahmu.cf                 2022-04-04T23:05:38.983Z\n",
       "14 en.wikipedia.org                     2022-04-01T00:00:00.100Z\n",
       "15 foundation.wikimedia.org             2022-04-26T20:31:57.074Z\n",
       "16 ko.wikipedia.org                     2022-04-26T20:29:35.631Z\n",
       "17 en.jinzhao.wiki                      2022-04-01T05:29:31.161Z\n",
       "18 en.wikipedia.ahau.cf                 2022-04-12T13:36:11.777Z\n",
       "19 fr.wiktionary.org                    2022-04-26T20:27:44.944Z\n",
       "20 he.wikipedia.org                     2022-04-26T20:26:13.903Z\n",
       "21 vi.wikibooks.org                     2022-04-27T01:20:40.085Z\n",
       "22 wiki-indonesia.club                  2022-04-28T12:00:35.159Z\n",
       "23 bn.wikipedia.org                     2022-04-26T20:32:13.425Z\n",
       "24 de.wikivoyage.org                    2022-04-26T20:32:40.055Z\n",
       "25 en.turkcewiki.org                    2022-04-15T05:58:04.111Z\n",
       "26 en.wikipedia.iwiki.uk                2022-04-05T17:54:46.198Z\n",
       "27 fr.wikiquote.org                     2022-04-26T21:05:58.859Z\n",
       "28 pt.wikiversity.org                   2022-04-26T20:39:52.814Z\n",
       "29 vi.wikipedia.iwiki.eu.org            2022-04-27T04:25:52.511Z\n",
       "30 id.wikipedia.org                     2022-04-26T20:28:58.687Z\n",
       "31 pt.wikinews.org                      2022-04-26T22:11:53.692Z\n",
       "32 en.wiki.hancel.org                   2022-04-04T03:17:20.085Z\n",
       "33 en.wikipedia.xn--3js309f.xn--kpry57d 2022-04-09T11:29:16.188Z\n",
       "34 eu.wikipedia.org                     2022-04-26T20:34:25.863Z\n",
       "35 incubator.wikimedia.org              2022-04-27T00:25:33.799Z\n",
       "36 pl.wikinews.org                      2022-04-27T06:30:04.396Z\n",
       "37 sr.wikipedia.org                     2022-04-26T20:28:54.423Z\n",
       "38 test.wikipedia.org                   2022-04-29T16:29:28.330Z\n",
       "39 th.wikipedia.org                     2022-04-26T20:27:54.992Z\n",
       "40 vec.wikipedia.org                    2022-04-27T00:09:08.146Z\n",
       "41 www.mediawiki.org                    2022-04-26T20:31:38.181Z\n",
       "42 www.turkcewiki.org                   2022-04-26T22:40:42.994Z"
      ]
     },
     "metadata": {},
     "output_type": "display_data"
    }
   ],
   "source": [
    "df"
   ]
  },
  {
   "cell_type": "code",
   "execution_count": 18,
   "id": "7aedcc05",
   "metadata": {},
   "outputs": [],
   "source": [
    "query <- \n",
    "\"\n",
    "SELECT TO_DATE(meta.dt),  year, month,day, COUNT(1) AS events, \n",
    "COUNT(DISTINCT session_token) AS sessions\n",
    "FROM event.mediawiki_reading_depth\n",
    "WHERE year=2022 AND month IN (4, 5)\n",
    "AND meta.domain= 'fr.wikipedia.org'\n",
    "GROUP BY TO_DATE(meta.dt),year, month,day\n",
    "\""
   ]
  },
  {
   "cell_type": "code",
   "execution_count": 13,
   "id": "8e8ab0ce",
   "metadata": {},
   "outputs": [
    {
     "name": "stderr",
     "output_type": "stream",
     "text": [
      "Don't forget to authenticate with Kerberos using kinit\n",
      "\n"
     ]
    }
   ],
   "source": [
    "df_date <- wmfdata::query_hive(query)"
   ]
  },
  {
   "cell_type": "code",
   "execution_count": 14,
   "id": "f583347f",
   "metadata": {},
   "outputs": [
    {
     "data": {
      "text/html": [
       "<table class=\"dataframe\">\n",
       "<caption>A data.frame: 7 × 6</caption>\n",
       "<thead>\n",
       "\t<tr><th scope=col>X_c0</th><th scope=col>year</th><th scope=col>month</th><th scope=col>day</th><th scope=col>events</th><th scope=col>sessions</th></tr>\n",
       "\t<tr><th scope=col>&lt;chr&gt;</th><th scope=col>&lt;int&gt;</th><th scope=col>&lt;int&gt;</th><th scope=col>&lt;int&gt;</th><th scope=col>&lt;int&gt;</th><th scope=col>&lt;int&gt;</th></tr>\n",
       "</thead>\n",
       "<tbody>\n",
       "\t<tr><td>2022-04-29</td><td>2022</td><td>4</td><td>29</td><td>260969</td><td>75220</td></tr>\n",
       "\t<tr><td>2022-05-01</td><td>2022</td><td>5</td><td> 1</td><td>278308</td><td>79832</td></tr>\n",
       "\t<tr><td>2022-04-27</td><td>2022</td><td>4</td><td>27</td><td>277719</td><td>78532</td></tr>\n",
       "\t<tr><td>2022-04-30</td><td>2022</td><td>4</td><td>30</td><td>244298</td><td>71588</td></tr>\n",
       "\t<tr><td>2022-05-02</td><td>2022</td><td>5</td><td> 2</td><td>206188</td><td>58340</td></tr>\n",
       "\t<tr><td>2022-04-28</td><td>2022</td><td>4</td><td>28</td><td>265972</td><td>76777</td></tr>\n",
       "\t<tr><td>2022-04-26</td><td>2022</td><td>4</td><td>26</td><td> 40212</td><td>11942</td></tr>\n",
       "</tbody>\n",
       "</table>\n"
      ],
      "text/latex": [
       "A data.frame: 7 × 6\n",
       "\\begin{tabular}{llllll}\n",
       " X\\_c0 & year & month & day & events & sessions\\\\\n",
       " <chr> & <int> & <int> & <int> & <int> & <int>\\\\\n",
       "\\hline\n",
       "\t 2022-04-29 & 2022 & 4 & 29 & 260969 & 75220\\\\\n",
       "\t 2022-05-01 & 2022 & 5 &  1 & 278308 & 79832\\\\\n",
       "\t 2022-04-27 & 2022 & 4 & 27 & 277719 & 78532\\\\\n",
       "\t 2022-04-30 & 2022 & 4 & 30 & 244298 & 71588\\\\\n",
       "\t 2022-05-02 & 2022 & 5 &  2 & 206188 & 58340\\\\\n",
       "\t 2022-04-28 & 2022 & 4 & 28 & 265972 & 76777\\\\\n",
       "\t 2022-04-26 & 2022 & 4 & 26 &  40212 & 11942\\\\\n",
       "\\end{tabular}\n"
      ],
      "text/markdown": [
       "\n",
       "A data.frame: 7 × 6\n",
       "\n",
       "| X_c0 &lt;chr&gt; | year &lt;int&gt; | month &lt;int&gt; | day &lt;int&gt; | events &lt;int&gt; | sessions &lt;int&gt; |\n",
       "|---|---|---|---|---|---|\n",
       "| 2022-04-29 | 2022 | 4 | 29 | 260969 | 75220 |\n",
       "| 2022-05-01 | 2022 | 5 |  1 | 278308 | 79832 |\n",
       "| 2022-04-27 | 2022 | 4 | 27 | 277719 | 78532 |\n",
       "| 2022-04-30 | 2022 | 4 | 30 | 244298 | 71588 |\n",
       "| 2022-05-02 | 2022 | 5 |  2 | 206188 | 58340 |\n",
       "| 2022-04-28 | 2022 | 4 | 28 | 265972 | 76777 |\n",
       "| 2022-04-26 | 2022 | 4 | 26 |  40212 | 11942 |\n",
       "\n"
      ],
      "text/plain": [
       "  X_c0       year month day events sessions\n",
       "1 2022-04-29 2022 4     29  260969 75220   \n",
       "2 2022-05-01 2022 5      1  278308 79832   \n",
       "3 2022-04-27 2022 4     27  277719 78532   \n",
       "4 2022-04-30 2022 4     30  244298 71588   \n",
       "5 2022-05-02 2022 5      2  206188 58340   \n",
       "6 2022-04-28 2022 4     28  265972 76777   \n",
       "7 2022-04-26 2022 4     26   40212 11942   "
      ]
     },
     "metadata": {},
     "output_type": "display_data"
    }
   ],
   "source": [
    "df_date"
   ]
  },
  {
   "cell_type": "markdown",
   "id": "ff3833b4",
   "metadata": {},
   "source": [
    "__Note__\n",
    "\n",
    "The events are avaible on polit wikis since 2022-04-26"
   ]
  },
  {
   "cell_type": "markdown",
   "id": "bd322a20",
   "metadata": {},
   "source": [
    "# By namespace"
   ]
  },
  {
   "cell_type": "code",
   "execution_count": 54,
   "id": "a8926716",
   "metadata": {},
   "outputs": [],
   "source": [
    "query <- \n",
    "\"\n",
    "SELECT page_namespace, COUNT(1) AS events, \n",
    "COUNT(DISTINCT session_token) AS sessions\n",
    "FROM event.mediawiki_reading_depth\n",
    "WHERE year=2022 and month IN (4 ,5)\n",
    "AND meta.domain IN (\n",
    "'tr.wikipedia.org',\n",
    "'vi.wikipedia.org',\n",
    "'ary.wikipedia.org',\n",
    "'fa.wikipedia.org',\n",
    "'fr.wikipedia.org',\n",
    "'pt.wikipedia.org',\n",
    "'foundation.wikimedia.org',\n",
    "'ko.wikipedia.org',\n",
    "'fr.wiktionary.org',\n",
    "'he.wikipedia.org',\n",
    "'vi.wikibooks.org',\n",
    "'bn.wikipedia.org',\n",
    "'de.wikivoyage.org',\n",
    "'fr.wikiquote.org',\n",
    "'pt.wikiversity.org',\n",
    "'id.wikipedia.org',\n",
    "'pt.wikinews.org',\n",
    "'eu.wikipedia.org',\n",
    "'incubator.wikimedia.org',\n",
    "'pl.wikinews.org',\n",
    "'sr.wikipedia.org',\n",
    "'th.wikipedia.org',\n",
    "'vec.wikipedia.org',\n",
    "'www.mediawiki.org'\n",
    ")\n",
    "GROUP BY page_namespace\n",
    "ORDER BY page_namespace\n",
    "LIMIT 100000\n",
    "\""
   ]
  },
  {
   "cell_type": "code",
   "execution_count": 55,
   "id": "d0f159f0",
   "metadata": {},
   "outputs": [
    {
     "name": "stderr",
     "output_type": "stream",
     "text": [
      "Don't forget to authenticate with Kerberos using kinit\n",
      "\n"
     ]
    }
   ],
   "source": [
    "df <- wmfdata::query_hive(query)"
   ]
  },
  {
   "cell_type": "code",
   "execution_count": 56,
   "id": "e6a90490",
   "metadata": {},
   "outputs": [
    {
     "data": {
      "text/html": [
       "<table class=\"dataframe\">\n",
       "<caption>A data.frame: 30 × 3</caption>\n",
       "<thead>\n",
       "\t<tr><th scope=col>page_namespace</th><th scope=col>events</th><th scope=col>sessions</th></tr>\n",
       "\t<tr><th scope=col>&lt;int&gt;</th><th scope=col>&lt;int&gt;</th><th scope=col>&lt;int&gt;</th></tr>\n",
       "</thead>\n",
       "<tbody>\n",
       "\t<tr><td>  -1</td><td>  54383</td><td>  11404</td></tr>\n",
       "\t<tr><td>   0</td><td>3848007</td><td>1100523</td></tr>\n",
       "\t<tr><td>   1</td><td>   2914</td><td>    729</td></tr>\n",
       "\t<tr><td>   2</td><td>   3686</td><td>    470</td></tr>\n",
       "\t<tr><td>   3</td><td>   1792</td><td>    328</td></tr>\n",
       "\t<tr><td>   4</td><td>  40549</td><td>  13233</td></tr>\n",
       "\t<tr><td>   5</td><td>    176</td><td>     55</td></tr>\n",
       "\t<tr><td>   6</td><td>  20784</td><td>   9459</td></tr>\n",
       "\t<tr><td>   7</td><td>     11</td><td>      5</td></tr>\n",
       "\t<tr><td>   8</td><td>     25</td><td>     10</td></tr>\n",
       "\t<tr><td>  10</td><td>   3118</td><td>   1022</td></tr>\n",
       "\t<tr><td>  11</td><td>     71</td><td>     23</td></tr>\n",
       "\t<tr><td>  12</td><td>   2776</td><td>    969</td></tr>\n",
       "\t<tr><td>  13</td><td>      8</td><td>      4</td></tr>\n",
       "\t<tr><td>  14</td><td>  56502</td><td>  10131</td></tr>\n",
       "\t<tr><td>  15</td><td>     39</td><td>     17</td></tr>\n",
       "\t<tr><td> 100</td><td>   4396</td><td>   1549</td></tr>\n",
       "\t<tr><td> 101</td><td>      6</td><td>      3</td></tr>\n",
       "\t<tr><td> 102</td><td>   1240</td><td>    264</td></tr>\n",
       "\t<tr><td> 103</td><td>     68</td><td>     27</td></tr>\n",
       "\t<tr><td> 104</td><td>    541</td><td>    123</td></tr>\n",
       "\t<tr><td> 106</td><td>    124</td><td>     34</td></tr>\n",
       "\t<tr><td> 107</td><td>     10</td><td>      1</td></tr>\n",
       "\t<tr><td> 108</td><td>     12</td><td>      5</td></tr>\n",
       "\t<tr><td> 112</td><td>      7</td><td>      4</td></tr>\n",
       "\t<tr><td> 116</td><td>    121</td><td>     64</td></tr>\n",
       "\t<tr><td> 118</td><td>    292</td><td>     78</td></tr>\n",
       "\t<tr><td> 828</td><td>     29</td><td>     12</td></tr>\n",
       "\t<tr><td>1198</td><td>      1</td><td>      1</td></tr>\n",
       "\t<tr><td>2600</td><td>    264</td><td>     64</td></tr>\n",
       "</tbody>\n",
       "</table>\n"
      ],
      "text/latex": [
       "A data.frame: 30 × 3\n",
       "\\begin{tabular}{lll}\n",
       " page\\_namespace & events & sessions\\\\\n",
       " <int> & <int> & <int>\\\\\n",
       "\\hline\n",
       "\t   -1 &   54383 &   11404\\\\\n",
       "\t    0 & 3848007 & 1100523\\\\\n",
       "\t    1 &    2914 &     729\\\\\n",
       "\t    2 &    3686 &     470\\\\\n",
       "\t    3 &    1792 &     328\\\\\n",
       "\t    4 &   40549 &   13233\\\\\n",
       "\t    5 &     176 &      55\\\\\n",
       "\t    6 &   20784 &    9459\\\\\n",
       "\t    7 &      11 &       5\\\\\n",
       "\t    8 &      25 &      10\\\\\n",
       "\t   10 &    3118 &    1022\\\\\n",
       "\t   11 &      71 &      23\\\\\n",
       "\t   12 &    2776 &     969\\\\\n",
       "\t   13 &       8 &       4\\\\\n",
       "\t   14 &   56502 &   10131\\\\\n",
       "\t   15 &      39 &      17\\\\\n",
       "\t  100 &    4396 &    1549\\\\\n",
       "\t  101 &       6 &       3\\\\\n",
       "\t  102 &    1240 &     264\\\\\n",
       "\t  103 &      68 &      27\\\\\n",
       "\t  104 &     541 &     123\\\\\n",
       "\t  106 &     124 &      34\\\\\n",
       "\t  107 &      10 &       1\\\\\n",
       "\t  108 &      12 &       5\\\\\n",
       "\t  112 &       7 &       4\\\\\n",
       "\t  116 &     121 &      64\\\\\n",
       "\t  118 &     292 &      78\\\\\n",
       "\t  828 &      29 &      12\\\\\n",
       "\t 1198 &       1 &       1\\\\\n",
       "\t 2600 &     264 &      64\\\\\n",
       "\\end{tabular}\n"
      ],
      "text/markdown": [
       "\n",
       "A data.frame: 30 × 3\n",
       "\n",
       "| page_namespace &lt;int&gt; | events &lt;int&gt; | sessions &lt;int&gt; |\n",
       "|---|---|---|\n",
       "|   -1 |   54383 |   11404 |\n",
       "|    0 | 3848007 | 1100523 |\n",
       "|    1 |    2914 |     729 |\n",
       "|    2 |    3686 |     470 |\n",
       "|    3 |    1792 |     328 |\n",
       "|    4 |   40549 |   13233 |\n",
       "|    5 |     176 |      55 |\n",
       "|    6 |   20784 |    9459 |\n",
       "|    7 |      11 |       5 |\n",
       "|    8 |      25 |      10 |\n",
       "|   10 |    3118 |    1022 |\n",
       "|   11 |      71 |      23 |\n",
       "|   12 |    2776 |     969 |\n",
       "|   13 |       8 |       4 |\n",
       "|   14 |   56502 |   10131 |\n",
       "|   15 |      39 |      17 |\n",
       "|  100 |    4396 |    1549 |\n",
       "|  101 |       6 |       3 |\n",
       "|  102 |    1240 |     264 |\n",
       "|  103 |      68 |      27 |\n",
       "|  104 |     541 |     123 |\n",
       "|  106 |     124 |      34 |\n",
       "|  107 |      10 |       1 |\n",
       "|  108 |      12 |       5 |\n",
       "|  112 |       7 |       4 |\n",
       "|  116 |     121 |      64 |\n",
       "|  118 |     292 |      78 |\n",
       "|  828 |      29 |      12 |\n",
       "| 1198 |       1 |       1 |\n",
       "| 2600 |     264 |      64 |\n",
       "\n"
      ],
      "text/plain": [
       "   page_namespace events  sessions\n",
       "1    -1             54383   11404 \n",
       "2     0           3848007 1100523 \n",
       "3     1              2914     729 \n",
       "4     2              3686     470 \n",
       "5     3              1792     328 \n",
       "6     4             40549   13233 \n",
       "7     5               176      55 \n",
       "8     6             20784    9459 \n",
       "9     7                11       5 \n",
       "10    8                25      10 \n",
       "11   10              3118    1022 \n",
       "12   11                71      23 \n",
       "13   12              2776     969 \n",
       "14   13                 8       4 \n",
       "15   14             56502   10131 \n",
       "16   15                39      17 \n",
       "17  100              4396    1549 \n",
       "18  101                 6       3 \n",
       "19  102              1240     264 \n",
       "20  103                68      27 \n",
       "21  104               541     123 \n",
       "22  106               124      34 \n",
       "23  107                10       1 \n",
       "24  108                12       5 \n",
       "25  112                 7       4 \n",
       "26  116               121      64 \n",
       "27  118               292      78 \n",
       "28  828                29      12 \n",
       "29 1198                 1       1 \n",
       "30 2600               264      64 "
      ]
     },
     "metadata": {},
     "output_type": "display_data"
    }
   ],
   "source": [
    "df"
   ]
  },
  {
   "cell_type": "markdown",
   "id": "ee0dcbc3",
   "metadata": {},
   "source": [
    "# BY user type: anonymous users and logged-in users"
   ]
  },
  {
   "cell_type": "code",
   "execution_count": 58,
   "id": "544edcb6",
   "metadata": {},
   "outputs": [],
   "source": [
    "query <- \n",
    "\"\n",
    "SELECT is_anon, COUNT(1) AS events, \n",
    "COUNT(DISTINCT session_token) AS sessions\n",
    "FROM event.mediawiki_reading_depth\n",
    "WHERE year=2022 AND month IN (4,5)\n",
    "AND meta.domain IN (\n",
    "'tr.wikipedia.org',\n",
    "'vi.wikipedia.org',\n",
    "'ary.wikipedia.org',\n",
    "'fa.wikipedia.org',\n",
    "'fr.wikipedia.org',\n",
    "'pt.wikipedia.org',\n",
    "'foundation.wikimedia.org',\n",
    "'ko.wikipedia.org',\n",
    "'fr.wiktionary.org',\n",
    "'he.wikipedia.org',\n",
    "'vi.wikibooks.org',\n",
    "'bn.wikipedia.org',\n",
    "'de.wikivoyage.org',\n",
    "'fr.wikiquote.org',\n",
    "'pt.wikiversity.org',\n",
    "'id.wikipedia.org',\n",
    "'pt.wikinews.org',\n",
    "'eu.wikipedia.org',\n",
    "'incubator.wikimedia.org',\n",
    "'pl.wikinews.org',\n",
    "'sr.wikipedia.org',\n",
    "'th.wikipedia.org',\n",
    "'vec.wikipedia.org',\n",
    "'www.mediawiki.org'\n",
    ")\n",
    "GROUP BY is_anon\n",
    "LIMIT 100000\n",
    "\""
   ]
  },
  {
   "cell_type": "code",
   "execution_count": 59,
   "id": "16083e40",
   "metadata": {},
   "outputs": [
    {
     "name": "stderr",
     "output_type": "stream",
     "text": [
      "Don't forget to authenticate with Kerberos using kinit\n",
      "\n"
     ]
    }
   ],
   "source": [
    "df <- wmfdata::query_hive(query)"
   ]
  },
  {
   "cell_type": "code",
   "execution_count": 60,
   "id": "2ca82567",
   "metadata": {},
   "outputs": [
    {
     "data": {
      "text/html": [
       "<table class=\"dataframe\">\n",
       "<caption>A data.frame: 2 × 3</caption>\n",
       "<thead>\n",
       "\t<tr><th scope=col>is_anon</th><th scope=col>events</th><th scope=col>sessions</th></tr>\n",
       "\t<tr><th scope=col>&lt;chr&gt;</th><th scope=col>&lt;int&gt;</th><th scope=col>&lt;int&gt;</th></tr>\n",
       "</thead>\n",
       "<tbody>\n",
       "\t<tr><td>false</td><td>  81673</td><td>   3437</td></tr>\n",
       "\t<tr><td>true </td><td>3960279</td><td>1114739</td></tr>\n",
       "</tbody>\n",
       "</table>\n"
      ],
      "text/latex": [
       "A data.frame: 2 × 3\n",
       "\\begin{tabular}{lll}\n",
       " is\\_anon & events & sessions\\\\\n",
       " <chr> & <int> & <int>\\\\\n",
       "\\hline\n",
       "\t false &   81673 &    3437\\\\\n",
       "\t true  & 3960279 & 1114739\\\\\n",
       "\\end{tabular}\n"
      ],
      "text/markdown": [
       "\n",
       "A data.frame: 2 × 3\n",
       "\n",
       "| is_anon &lt;chr&gt; | events &lt;int&gt; | sessions &lt;int&gt; |\n",
       "|---|---|---|\n",
       "| false |   81673 |    3437 |\n",
       "| true  | 3960279 | 1114739 |\n",
       "\n"
      ],
      "text/plain": [
       "  is_anon events  sessions\n",
       "1 false     81673    3437 \n",
       "2 true    3960279 1114739 "
      ]
     },
     "metadata": {},
     "output_type": "display_data"
    }
   ],
   "source": [
    "df"
   ]
  },
  {
   "cell_type": "markdown",
   "id": "a3aae8e3",
   "metadata": {},
   "source": [
    "# By action"
   ]
  },
  {
   "cell_type": "code",
   "execution_count": 61,
   "id": "7c289e04",
   "metadata": {},
   "outputs": [],
   "source": [
    "query <- \n",
    "\"\n",
    "SELECT action, COUNT(1) AS events, \n",
    "COUNT(DISTINCT session_token) AS sessions\n",
    "FROM event.mediawiki_reading_depth\n",
    "WHERE year=2022 AND month IN (4,5)\n",
    "AND meta.domain IN (\n",
    "'tr.wikipedia.org',\n",
    "'vi.wikipedia.org',\n",
    "'ary.wikipedia.org',\n",
    "'fa.wikipedia.org',\n",
    "'fr.wikipedia.org',\n",
    "'pt.wikipedia.org',\n",
    "'foundation.wikimedia.org',\n",
    "'ko.wikipedia.org',\n",
    "'fr.wiktionary.org',\n",
    "'he.wikipedia.org',\n",
    "'vi.wikibooks.org',\n",
    "'bn.wikipedia.org',\n",
    "'de.wikivoyage.org',\n",
    "'fr.wikiquote.org',\n",
    "'pt.wikiversity.org',\n",
    "'id.wikipedia.org',\n",
    "'pt.wikinews.org',\n",
    "'eu.wikipedia.org',\n",
    "'incubator.wikimedia.org',\n",
    "'pl.wikinews.org',\n",
    "'sr.wikipedia.org',\n",
    "'th.wikipedia.org',\n",
    "'vec.wikipedia.org',\n",
    "'www.mediawiki.org'\n",
    ")\n",
    "GROUP BY action\n",
    "LIMIT 100000\n",
    "\"\n"
   ]
  },
  {
   "cell_type": "code",
   "execution_count": 62,
   "id": "80ed3b1d",
   "metadata": {},
   "outputs": [
    {
     "name": "stderr",
     "output_type": "stream",
     "text": [
      "Don't forget to authenticate with Kerberos using kinit\n",
      "\n"
     ]
    }
   ],
   "source": [
    "df <- wmfdata::query_hive(query)"
   ]
  },
  {
   "cell_type": "code",
   "execution_count": 63,
   "id": "b73ed1d2",
   "metadata": {},
   "outputs": [
    {
     "data": {
      "text/html": [
       "<table class=\"dataframe\">\n",
       "<caption>A data.frame: 2 × 3</caption>\n",
       "<thead>\n",
       "\t<tr><th scope=col>action</th><th scope=col>events</th><th scope=col>sessions</th></tr>\n",
       "\t<tr><th scope=col>&lt;chr&gt;</th><th scope=col>&lt;int&gt;</th><th scope=col>&lt;int&gt;</th></tr>\n",
       "</thead>\n",
       "<tbody>\n",
       "\t<tr><td>pageLoaded  </td><td>2432788</td><td>1115318</td></tr>\n",
       "\t<tr><td>pageUnloaded</td><td>1609164</td><td> 529527</td></tr>\n",
       "</tbody>\n",
       "</table>\n"
      ],
      "text/latex": [
       "A data.frame: 2 × 3\n",
       "\\begin{tabular}{lll}\n",
       " action & events & sessions\\\\\n",
       " <chr> & <int> & <int>\\\\\n",
       "\\hline\n",
       "\t pageLoaded   & 2432788 & 1115318\\\\\n",
       "\t pageUnloaded & 1609164 &  529527\\\\\n",
       "\\end{tabular}\n"
      ],
      "text/markdown": [
       "\n",
       "A data.frame: 2 × 3\n",
       "\n",
       "| action &lt;chr&gt; | events &lt;int&gt; | sessions &lt;int&gt; |\n",
       "|---|---|---|\n",
       "| pageLoaded   | 2432788 | 1115318 |\n",
       "| pageUnloaded | 1609164 |  529527 |\n",
       "\n"
      ],
      "text/plain": [
       "  action       events  sessions\n",
       "1 pageLoaded   2432788 1115318 \n",
       "2 pageUnloaded 1609164  529527 "
      ]
     },
     "metadata": {},
     "output_type": "display_data"
    }
   ],
   "source": [
    "df"
   ]
  },
  {
   "cell_type": "markdown",
   "id": "9e9c1e2c",
   "metadata": {},
   "source": [
    "__Note:__  \n",
    "\n",
    "Two types of actions are recorded: pageLoaded, pageUnloaded"
   ]
  },
  {
   "cell_type": "markdown",
   "id": "0d599d11",
   "metadata": {},
   "source": [
    "# By page_length"
   ]
  },
  {
   "cell_type": "code",
   "execution_count": 64,
   "id": "14860b25",
   "metadata": {},
   "outputs": [],
   "source": [
    "query <- \n",
    "\"\n",
    "SELECT page_length, COUNT(1) AS events, \n",
    "COUNT(DISTINCT session_token) AS sessions\n",
    "FROM event.mediawiki_reading_depth\n",
    "WHERE year=2022 AND month IN (4,5)\n",
    "AND meta.domain IN (\n",
    "'tr.wikipedia.org',\n",
    "'vi.wikipedia.org',\n",
    "'ary.wikipedia.org',\n",
    "'fa.wikipedia.org',\n",
    "'fr.wikipedia.org',\n",
    "'pt.wikipedia.org',\n",
    "'foundation.wikimedia.org',\n",
    "'ko.wikipedia.org',\n",
    "'fr.wiktionary.org',\n",
    "'he.wikipedia.org',\n",
    "'vi.wikibooks.org',\n",
    "'bn.wikipedia.org',\n",
    "'de.wikivoyage.org',\n",
    "'fr.wikiquote.org',\n",
    "'pt.wikiversity.org',\n",
    "'id.wikipedia.org',\n",
    "'pt.wikinews.org',\n",
    "'eu.wikipedia.org',\n",
    "'incubator.wikimedia.org',\n",
    "'pl.wikinews.org',\n",
    "'sr.wikipedia.org',\n",
    "'th.wikipedia.org',\n",
    "'vec.wikipedia.org',\n",
    "'www.mediawiki.org'\n",
    ")\n",
    "GROUP BY page_length\n",
    "ORDER BY page_length\n",
    "LIMIT 100000\n",
    "\""
   ]
  },
  {
   "cell_type": "code",
   "execution_count": 65,
   "id": "d35ad5d0",
   "metadata": {},
   "outputs": [
    {
     "name": "stderr",
     "output_type": "stream",
     "text": [
      "Don't forget to authenticate with Kerberos using kinit\n",
      "\n"
     ]
    }
   ],
   "source": [
    "df <- wmfdata::query_hive(query)"
   ]
  },
  {
   "cell_type": "code",
   "execution_count": 66,
   "id": "5d965f09",
   "metadata": {},
   "outputs": [
    {
     "data": {
      "text/html": [
       "<table class=\"dataframe\">\n",
       "<caption>A data.frame: 54 × 3</caption>\n",
       "<thead>\n",
       "\t<tr><th scope=col>page_length</th><th scope=col>events</th><th scope=col>sessions</th></tr>\n",
       "\t<tr><th scope=col>&lt;int&gt;</th><th scope=col>&lt;int&gt;</th><th scope=col>&lt;int&gt;</th></tr>\n",
       "</thead>\n",
       "<tbody>\n",
       "\t<tr><td>     -1</td><td>    50</td><td>    31</td></tr>\n",
       "\t<tr><td>      0</td><td> 86353</td><td> 24021</td></tr>\n",
       "\t<tr><td>      1</td><td>   424</td><td>    93</td></tr>\n",
       "\t<tr><td>      2</td><td>     1</td><td>     1</td></tr>\n",
       "\t<tr><td>      6</td><td>     4</td><td>     3</td></tr>\n",
       "\t<tr><td>      8</td><td>    67</td><td>     5</td></tr>\n",
       "\t<tr><td>      9</td><td>     2</td><td>     1</td></tr>\n",
       "\t<tr><td>     10</td><td>   288</td><td>    47</td></tr>\n",
       "\t<tr><td>     20</td><td>  1936</td><td>   257</td></tr>\n",
       "\t<tr><td>     30</td><td>  1282</td><td>   318</td></tr>\n",
       "\t<tr><td>     40</td><td>  1118</td><td>   357</td></tr>\n",
       "\t<tr><td>     50</td><td>  1037</td><td>   304</td></tr>\n",
       "\t<tr><td>     60</td><td>  1149</td><td>   372</td></tr>\n",
       "\t<tr><td>     70</td><td>  1567</td><td>   504</td></tr>\n",
       "\t<tr><td>     80</td><td>  2173</td><td>   539</td></tr>\n",
       "\t<tr><td>     90</td><td>  1974</td><td>   614</td></tr>\n",
       "\t<tr><td>    100</td><td> 11381</td><td>  3055</td></tr>\n",
       "\t<tr><td>    200</td><td> 22677</td><td>  5646</td></tr>\n",
       "\t<tr><td>    300</td><td> 14215</td><td>  4282</td></tr>\n",
       "\t<tr><td>    400</td><td> 10281</td><td>  3687</td></tr>\n",
       "\t<tr><td>    500</td><td> 11173</td><td>  4364</td></tr>\n",
       "\t<tr><td>    600</td><td>  8852</td><td>  3937</td></tr>\n",
       "\t<tr><td>    700</td><td>  9291</td><td>  4345</td></tr>\n",
       "\t<tr><td>    800</td><td>  9135</td><td>  4409</td></tr>\n",
       "\t<tr><td>    900</td><td> 10309</td><td>  4854</td></tr>\n",
       "\t<tr><td>   1000</td><td> 69051</td><td> 30415</td></tr>\n",
       "\t<tr><td>   2000</td><td>172130</td><td> 72372</td></tr>\n",
       "\t<tr><td>   3000</td><td>195136</td><td> 82582</td></tr>\n",
       "\t<tr><td>   4000</td><td>201977</td><td> 87548</td></tr>\n",
       "\t<tr><td>   5000</td><td>211997</td><td> 91041</td></tr>\n",
       "\t<tr><td>   6000</td><td>171219</td><td> 76968</td></tr>\n",
       "\t<tr><td>   7000</td><td>154313</td><td> 70900</td></tr>\n",
       "\t<tr><td>   8000</td><td>137029</td><td> 63889</td></tr>\n",
       "\t<tr><td>   9000</td><td>126010</td><td> 59135</td></tr>\n",
       "\t<tr><td>  10000</td><td>539834</td><td>223508</td></tr>\n",
       "\t<tr><td>  20000</td><td>576844</td><td>240533</td></tr>\n",
       "\t<tr><td>  30000</td><td>326398</td><td>146164</td></tr>\n",
       "\t<tr><td>  40000</td><td>213827</td><td> 99437</td></tr>\n",
       "\t<tr><td>  50000</td><td>149340</td><td> 71245</td></tr>\n",
       "\t<tr><td>  60000</td><td>108301</td><td> 51414</td></tr>\n",
       "\t<tr><td>  70000</td><td> 81307</td><td> 39284</td></tr>\n",
       "\t<tr><td>  80000</td><td> 59101</td><td> 29273</td></tr>\n",
       "\t<tr><td>  90000</td><td> 50941</td><td> 24759</td></tr>\n",
       "\t<tr><td> 100000</td><td>152291</td><td> 69603</td></tr>\n",
       "\t<tr><td> 200000</td><td>101127</td><td> 46053</td></tr>\n",
       "\t<tr><td> 300000</td><td> 23487</td><td> 11439</td></tr>\n",
       "\t<tr><td> 400000</td><td> 10953</td><td>  5434</td></tr>\n",
       "\t<tr><td> 500000</td><td>  1490</td><td>   698</td></tr>\n",
       "\t<tr><td> 600000</td><td>   388</td><td>   177</td></tr>\n",
       "\t<tr><td> 700000</td><td>   313</td><td>   181</td></tr>\n",
       "\t<tr><td> 800000</td><td>   108</td><td>    68</td></tr>\n",
       "\t<tr><td> 900000</td><td>    83</td><td>    41</td></tr>\n",
       "\t<tr><td>1000000</td><td>   209</td><td>   100</td></tr>\n",
       "\t<tr><td>2000000</td><td>     9</td><td>     4</td></tr>\n",
       "</tbody>\n",
       "</table>\n"
      ],
      "text/latex": [
       "A data.frame: 54 × 3\n",
       "\\begin{tabular}{lll}\n",
       " page\\_length & events & sessions\\\\\n",
       " <int> & <int> & <int>\\\\\n",
       "\\hline\n",
       "\t      -1 &     50 &     31\\\\\n",
       "\t       0 &  86353 &  24021\\\\\n",
       "\t       1 &    424 &     93\\\\\n",
       "\t       2 &      1 &      1\\\\\n",
       "\t       6 &      4 &      3\\\\\n",
       "\t       8 &     67 &      5\\\\\n",
       "\t       9 &      2 &      1\\\\\n",
       "\t      10 &    288 &     47\\\\\n",
       "\t      20 &   1936 &    257\\\\\n",
       "\t      30 &   1282 &    318\\\\\n",
       "\t      40 &   1118 &    357\\\\\n",
       "\t      50 &   1037 &    304\\\\\n",
       "\t      60 &   1149 &    372\\\\\n",
       "\t      70 &   1567 &    504\\\\\n",
       "\t      80 &   2173 &    539\\\\\n",
       "\t      90 &   1974 &    614\\\\\n",
       "\t     100 &  11381 &   3055\\\\\n",
       "\t     200 &  22677 &   5646\\\\\n",
       "\t     300 &  14215 &   4282\\\\\n",
       "\t     400 &  10281 &   3687\\\\\n",
       "\t     500 &  11173 &   4364\\\\\n",
       "\t     600 &   8852 &   3937\\\\\n",
       "\t     700 &   9291 &   4345\\\\\n",
       "\t     800 &   9135 &   4409\\\\\n",
       "\t     900 &  10309 &   4854\\\\\n",
       "\t    1000 &  69051 &  30415\\\\\n",
       "\t    2000 & 172130 &  72372\\\\\n",
       "\t    3000 & 195136 &  82582\\\\\n",
       "\t    4000 & 201977 &  87548\\\\\n",
       "\t    5000 & 211997 &  91041\\\\\n",
       "\t    6000 & 171219 &  76968\\\\\n",
       "\t    7000 & 154313 &  70900\\\\\n",
       "\t    8000 & 137029 &  63889\\\\\n",
       "\t    9000 & 126010 &  59135\\\\\n",
       "\t   10000 & 539834 & 223508\\\\\n",
       "\t   20000 & 576844 & 240533\\\\\n",
       "\t   30000 & 326398 & 146164\\\\\n",
       "\t   40000 & 213827 &  99437\\\\\n",
       "\t   50000 & 149340 &  71245\\\\\n",
       "\t   60000 & 108301 &  51414\\\\\n",
       "\t   70000 &  81307 &  39284\\\\\n",
       "\t   80000 &  59101 &  29273\\\\\n",
       "\t   90000 &  50941 &  24759\\\\\n",
       "\t  100000 & 152291 &  69603\\\\\n",
       "\t  200000 & 101127 &  46053\\\\\n",
       "\t  300000 &  23487 &  11439\\\\\n",
       "\t  400000 &  10953 &   5434\\\\\n",
       "\t  500000 &   1490 &    698\\\\\n",
       "\t  600000 &    388 &    177\\\\\n",
       "\t  700000 &    313 &    181\\\\\n",
       "\t  800000 &    108 &     68\\\\\n",
       "\t  900000 &     83 &     41\\\\\n",
       "\t 1000000 &    209 &    100\\\\\n",
       "\t 2000000 &      9 &      4\\\\\n",
       "\\end{tabular}\n"
      ],
      "text/markdown": [
       "\n",
       "A data.frame: 54 × 3\n",
       "\n",
       "| page_length &lt;int&gt; | events &lt;int&gt; | sessions &lt;int&gt; |\n",
       "|---|---|---|\n",
       "|      -1 |     50 |     31 |\n",
       "|       0 |  86353 |  24021 |\n",
       "|       1 |    424 |     93 |\n",
       "|       2 |      1 |      1 |\n",
       "|       6 |      4 |      3 |\n",
       "|       8 |     67 |      5 |\n",
       "|       9 |      2 |      1 |\n",
       "|      10 |    288 |     47 |\n",
       "|      20 |   1936 |    257 |\n",
       "|      30 |   1282 |    318 |\n",
       "|      40 |   1118 |    357 |\n",
       "|      50 |   1037 |    304 |\n",
       "|      60 |   1149 |    372 |\n",
       "|      70 |   1567 |    504 |\n",
       "|      80 |   2173 |    539 |\n",
       "|      90 |   1974 |    614 |\n",
       "|     100 |  11381 |   3055 |\n",
       "|     200 |  22677 |   5646 |\n",
       "|     300 |  14215 |   4282 |\n",
       "|     400 |  10281 |   3687 |\n",
       "|     500 |  11173 |   4364 |\n",
       "|     600 |   8852 |   3937 |\n",
       "|     700 |   9291 |   4345 |\n",
       "|     800 |   9135 |   4409 |\n",
       "|     900 |  10309 |   4854 |\n",
       "|    1000 |  69051 |  30415 |\n",
       "|    2000 | 172130 |  72372 |\n",
       "|    3000 | 195136 |  82582 |\n",
       "|    4000 | 201977 |  87548 |\n",
       "|    5000 | 211997 |  91041 |\n",
       "|    6000 | 171219 |  76968 |\n",
       "|    7000 | 154313 |  70900 |\n",
       "|    8000 | 137029 |  63889 |\n",
       "|    9000 | 126010 |  59135 |\n",
       "|   10000 | 539834 | 223508 |\n",
       "|   20000 | 576844 | 240533 |\n",
       "|   30000 | 326398 | 146164 |\n",
       "|   40000 | 213827 |  99437 |\n",
       "|   50000 | 149340 |  71245 |\n",
       "|   60000 | 108301 |  51414 |\n",
       "|   70000 |  81307 |  39284 |\n",
       "|   80000 |  59101 |  29273 |\n",
       "|   90000 |  50941 |  24759 |\n",
       "|  100000 | 152291 |  69603 |\n",
       "|  200000 | 101127 |  46053 |\n",
       "|  300000 |  23487 |  11439 |\n",
       "|  400000 |  10953 |   5434 |\n",
       "|  500000 |   1490 |    698 |\n",
       "|  600000 |    388 |    177 |\n",
       "|  700000 |    313 |    181 |\n",
       "|  800000 |    108 |     68 |\n",
       "|  900000 |     83 |     41 |\n",
       "| 1000000 |    209 |    100 |\n",
       "| 2000000 |      9 |      4 |\n",
       "\n"
      ],
      "text/plain": [
       "   page_length events sessions\n",
       "1       -1         50     31  \n",
       "2        0      86353  24021  \n",
       "3        1        424     93  \n",
       "4        2          1      1  \n",
       "5        6          4      3  \n",
       "6        8         67      5  \n",
       "7        9          2      1  \n",
       "8       10        288     47  \n",
       "9       20       1936    257  \n",
       "10      30       1282    318  \n",
       "11      40       1118    357  \n",
       "12      50       1037    304  \n",
       "13      60       1149    372  \n",
       "14      70       1567    504  \n",
       "15      80       2173    539  \n",
       "16      90       1974    614  \n",
       "17     100      11381   3055  \n",
       "18     200      22677   5646  \n",
       "19     300      14215   4282  \n",
       "20     400      10281   3687  \n",
       "21     500      11173   4364  \n",
       "22     600       8852   3937  \n",
       "23     700       9291   4345  \n",
       "24     800       9135   4409  \n",
       "25     900      10309   4854  \n",
       "26    1000      69051  30415  \n",
       "27    2000     172130  72372  \n",
       "28    3000     195136  82582  \n",
       "29    4000     201977  87548  \n",
       "30    5000     211997  91041  \n",
       "31    6000     171219  76968  \n",
       "32    7000     154313  70900  \n",
       "33    8000     137029  63889  \n",
       "34    9000     126010  59135  \n",
       "35   10000     539834 223508  \n",
       "36   20000     576844 240533  \n",
       "37   30000     326398 146164  \n",
       "38   40000     213827  99437  \n",
       "39   50000     149340  71245  \n",
       "40   60000     108301  51414  \n",
       "41   70000      81307  39284  \n",
       "42   80000      59101  29273  \n",
       "43   90000      50941  24759  \n",
       "44  100000     152291  69603  \n",
       "45  200000     101127  46053  \n",
       "46  300000      23487  11439  \n",
       "47  400000      10953   5434  \n",
       "48  500000       1490    698  \n",
       "49  600000        388    177  \n",
       "50  700000        313    181  \n",
       "51  800000        108     68  \n",
       "52  900000         83     41  \n",
       "53 1000000        209    100  \n",
       "54 2000000          9      4  "
      ]
     },
     "metadata": {},
     "output_type": "display_data"
    }
   ],
   "source": [
    "df"
   ]
  },
  {
   "cell_type": "markdown",
   "id": "ffc0e1ad",
   "metadata": {},
   "source": [
    "# By access method"
   ]
  },
  {
   "cell_type": "code",
   "execution_count": 67,
   "id": "58201924",
   "metadata": {},
   "outputs": [],
   "source": [
    "query <- \n",
    "\"\n",
    "SELECT access_method, COUNT(1) AS events, \n",
    "COUNT(DISTINCT session_token) AS sessions\n",
    "FROM event.mediawiki_reading_depth\n",
    "WHERE year=2022 AND month IN (4,5)\n",
    "AND meta.domain IN (\n",
    "'tr.wikipedia.org',\n",
    "'vi.wikipedia.org',\n",
    "'ary.wikipedia.org',\n",
    "'fa.wikipedia.org',\n",
    "'fr.wikipedia.org',\n",
    "'pt.wikipedia.org',\n",
    "'foundation.wikimedia.org',\n",
    "'ko.wikipedia.org',\n",
    "'fr.wiktionary.org',\n",
    "'he.wikipedia.org',\n",
    "'vi.wikibooks.org',\n",
    "'bn.wikipedia.org',\n",
    "'de.wikivoyage.org',\n",
    "'fr.wikiquote.org',\n",
    "'pt.wikiversity.org',\n",
    "'id.wikipedia.org',\n",
    "'pt.wikinews.org',\n",
    "'eu.wikipedia.org',\n",
    "'incubator.wikimedia.org',\n",
    "'pl.wikinews.org',\n",
    "'sr.wikipedia.org',\n",
    "'th.wikipedia.org',\n",
    "'vec.wikipedia.org',\n",
    "'www.mediawiki.org'\n",
    ")\n",
    "GROUP BY access_method\n",
    "LIMIT 100000\n",
    "\""
   ]
  },
  {
   "cell_type": "code",
   "execution_count": 68,
   "id": "87d59617",
   "metadata": {},
   "outputs": [
    {
     "name": "stderr",
     "output_type": "stream",
     "text": [
      "Don't forget to authenticate with Kerberos using kinit\n",
      "\n"
     ]
    }
   ],
   "source": [
    "df <- wmfdata::query_hive(query)"
   ]
  },
  {
   "cell_type": "code",
   "execution_count": 69,
   "id": "eea69994",
   "metadata": {},
   "outputs": [
    {
     "data": {
      "text/html": [
       "<table class=\"dataframe\">\n",
       "<caption>A data.frame: 2 × 3</caption>\n",
       "<thead>\n",
       "\t<tr><th scope=col>access_method</th><th scope=col>events</th><th scope=col>sessions</th></tr>\n",
       "\t<tr><th scope=col>&lt;chr&gt;</th><th scope=col>&lt;int&gt;</th><th scope=col>&lt;int&gt;</th></tr>\n",
       "</thead>\n",
       "<tbody>\n",
       "\t<tr><td>desktop   </td><td>1300196</td><td>253933</td></tr>\n",
       "\t<tr><td>mobile web</td><td>2779901</td><td>874053</td></tr>\n",
       "</tbody>\n",
       "</table>\n"
      ],
      "text/latex": [
       "A data.frame: 2 × 3\n",
       "\\begin{tabular}{lll}\n",
       " access\\_method & events & sessions\\\\\n",
       " <chr> & <int> & <int>\\\\\n",
       "\\hline\n",
       "\t desktop    & 1300196 & 253933\\\\\n",
       "\t mobile web & 2779901 & 874053\\\\\n",
       "\\end{tabular}\n"
      ],
      "text/markdown": [
       "\n",
       "A data.frame: 2 × 3\n",
       "\n",
       "| access_method &lt;chr&gt; | events &lt;int&gt; | sessions &lt;int&gt; |\n",
       "|---|---|---|\n",
       "| desktop    | 1300196 | 253933 |\n",
       "| mobile web | 2779901 | 874053 |\n",
       "\n"
      ],
      "text/plain": [
       "  access_method events  sessions\n",
       "1 desktop       1300196 253933  \n",
       "2 mobile web    2779901 874053  "
      ]
     },
     "metadata": {},
     "output_type": "display_data"
    }
   ],
   "source": [
    "df"
   ]
  },
  {
   "cell_type": "markdown",
   "id": "dc3ce855",
   "metadata": {},
   "source": [
    "__Note:__\n",
    "\n",
    "Two types of access methods are recorded: desktop, mobile web"
   ]
  },
  {
   "cell_type": "markdown",
   "id": "99ccb02c",
   "metadata": {},
   "source": [
    "# By agent type"
   ]
  },
  {
   "cell_type": "code",
   "execution_count": 70,
   "id": "8821fa8f",
   "metadata": {},
   "outputs": [],
   "source": [
    "query <- \"\n",
    "SELECT CASE WHEN user_agent_map['device_family']='Spider' THEN 'Spider' ELSE 'User' END AS agent_type,\n",
    "COUNT(1) AS events,\n",
    "COUNT(DISTINCT session_token) AS sessions\n",
    "FROM event.mediawiki_reading_depth\n",
    "WHERE year=2022 AND month IN (4,5)\n",
    "AND meta.domain IN (\n",
    "'tr.wikipedia.org',\n",
    "'vi.wikipedia.org',\n",
    "'ary.wikipedia.org',\n",
    "'fa.wikipedia.org',\n",
    "'fr.wikipedia.org',\n",
    "'pt.wikipedia.org',\n",
    "'foundation.wikimedia.org',\n",
    "'ko.wikipedia.org',\n",
    "'fr.wiktionary.org',\n",
    "'he.wikipedia.org',\n",
    "'vi.wikibooks.org',\n",
    "'bn.wikipedia.org',\n",
    "'de.wikivoyage.org',\n",
    "'fr.wikiquote.org',\n",
    "'pt.wikiversity.org',\n",
    "'id.wikipedia.org',\n",
    "'pt.wikinews.org',\n",
    "'eu.wikipedia.org',\n",
    "'incubator.wikimedia.org',\n",
    "'pl.wikinews.org',\n",
    "'sr.wikipedia.org',\n",
    "'th.wikipedia.org',\n",
    "'vec.wikipedia.org',\n",
    "'www.mediawiki.org'\n",
    ")\n",
    "GROUP BY CASE WHEN user_agent_map['device_family']='Spider' THEN 'Spider' ELSE 'User' END\n",
    "LIMIT 100000\n",
    "\""
   ]
  },
  {
   "cell_type": "code",
   "execution_count": 71,
   "id": "bf27ca99",
   "metadata": {},
   "outputs": [
    {
     "name": "stderr",
     "output_type": "stream",
     "text": [
      "Don't forget to authenticate with Kerberos using kinit\n",
      "\n"
     ]
    }
   ],
   "source": [
    "df <- wmfdata::query_hive(query)"
   ]
  },
  {
   "cell_type": "code",
   "execution_count": 72,
   "id": "48593655",
   "metadata": {},
   "outputs": [
    {
     "data": {
      "text/html": [
       "<table class=\"dataframe\">\n",
       "<caption>A data.frame: 2 × 3</caption>\n",
       "<thead>\n",
       "\t<tr><th scope=col>agent_type</th><th scope=col>events</th><th scope=col>sessions</th></tr>\n",
       "\t<tr><th scope=col>&lt;chr&gt;</th><th scope=col>&lt;int&gt;</th><th scope=col>&lt;int&gt;</th></tr>\n",
       "</thead>\n",
       "<tbody>\n",
       "\t<tr><td>Spider</td><td>     51</td><td>     30</td></tr>\n",
       "\t<tr><td>User  </td><td>4080046</td><td>1127954</td></tr>\n",
       "</tbody>\n",
       "</table>\n"
      ],
      "text/latex": [
       "A data.frame: 2 × 3\n",
       "\\begin{tabular}{lll}\n",
       " agent\\_type & events & sessions\\\\\n",
       " <chr> & <int> & <int>\\\\\n",
       "\\hline\n",
       "\t Spider &      51 &      30\\\\\n",
       "\t User   & 4080046 & 1127954\\\\\n",
       "\\end{tabular}\n"
      ],
      "text/markdown": [
       "\n",
       "A data.frame: 2 × 3\n",
       "\n",
       "| agent_type &lt;chr&gt; | events &lt;int&gt; | sessions &lt;int&gt; |\n",
       "|---|---|---|\n",
       "| Spider |      51 |      30 |\n",
       "| User   | 4080046 | 1127954 |\n",
       "\n"
      ],
      "text/plain": [
       "  agent_type events  sessions\n",
       "1 Spider          51      30 \n",
       "2 User       4080046 1127954 "
      ]
     },
     "metadata": {},
     "output_type": "display_data"
    }
   ],
   "source": [
    "df"
   ]
  },
  {
   "cell_type": "markdown",
   "id": "89268d1f",
   "metadata": {},
   "source": [
    "__Note:__\n",
    "\n",
    "We can identify and exclude spider in analysis"
   ]
  },
  {
   "cell_type": "markdown",
   "id": "1dd452af",
   "metadata": {},
   "source": [
    "# Read length Distribution"
   ]
  },
  {
   "cell_type": "markdown",
   "id": "82d7b52e",
   "metadata": {},
   "source": [
    "`total_length`(in milliseconds) tracks from the `visibility_listeners_time` to the point at which the page is unloaded. It means tracking whether the user has the page visible or not to the moment the user leaves the page. \n",
    "\n",
    "Note that this time may include time that the user has the page hidden.\n"
   ]
  },
  {
   "cell_type": "code",
   "execution_count": 84,
   "id": "d17956ca",
   "metadata": {},
   "outputs": [],
   "source": [
    "query_total_length <- \n",
    "\"\n",
    "SELECT MAX(total_length) AS max, MIN(total_length) AS min, Avg(total_length) AS avg, STDDEV(total_length) AS stdev, COUNT(1) AS count\n",
    ",\n",
    "percentile(total_length, 0.5) AS 50_percentile, percentile(total_length,  0.75) AS 75_percentile, \n",
    "percentile(total_length,  0.99) AS 99_percentile\n",
    "FROM event.mediawiki_reading_depth\n",
    "WHERE year=2022 AND month IN (4,5) \n",
    "AND total_length is not NULL\n",
    "AND meta.domain IN (\n",
    "'tr.wikipedia.org',\n",
    "'vi.wikipedia.org',\n",
    "'ary.wikipedia.org',\n",
    "'fa.wikipedia.org',\n",
    "'fr.wikipedia.org',\n",
    "'pt.wikipedia.org',\n",
    "'foundation.wikimedia.org',\n",
    "'ko.wikipedia.org',\n",
    "'fr.wiktionary.org',\n",
    "'he.wikipedia.org',\n",
    "'vi.wikibooks.org',\n",
    "'bn.wikipedia.org',\n",
    "'de.wikivoyage.org',\n",
    "'fr.wikiquote.org',\n",
    "'pt.wikiversity.org',\n",
    "'id.wikipedia.org',\n",
    "'pt.wikinews.org',\n",
    "'eu.wikipedia.org',\n",
    "'incubator.wikimedia.org',\n",
    "'pl.wikinews.org',\n",
    "'sr.wikipedia.org',\n",
    "'th.wikipedia.org',\n",
    "'vec.wikipedia.org',\n",
    "'www.mediawiki.org')\n",
    "AND user_agent_map['device_family']!='Spider'\n",
    "\""
   ]
  },
  {
   "cell_type": "code",
   "execution_count": 85,
   "id": "63c6bbd9",
   "metadata": {},
   "outputs": [
    {
     "name": "stderr",
     "output_type": "stream",
     "text": [
      "Don't forget to authenticate with Kerberos using kinit\n",
      "\n"
     ]
    }
   ],
   "source": [
    "df <- wmfdata::query_hive(query_total_length)"
   ]
  },
  {
   "cell_type": "markdown",
   "id": "8d4c1614",
   "metadata": {},
   "source": [
    "__Excluding spider__"
   ]
  },
  {
   "cell_type": "code",
   "execution_count": 86,
   "id": "9f0a929e",
   "metadata": {},
   "outputs": [
    {
     "data": {
      "text/html": [
       "<table class=\"dataframe\">\n",
       "<caption>A data.frame: 1 × 8</caption>\n",
       "<thead>\n",
       "\t<tr><th scope=col>max</th><th scope=col>min</th><th scope=col>avg</th><th scope=col>stdev</th><th scope=col>count</th><th scope=col>X50_percentile</th><th scope=col>X75_percentile</th><th scope=col>X99_percentile</th></tr>\n",
       "\t<tr><th scope=col>&lt;int&gt;</th><th scope=col>&lt;int&gt;</th><th scope=col>&lt;dbl&gt;</th><th scope=col>&lt;dbl&gt;</th><th scope=col>&lt;int&gt;</th><th scope=col>&lt;dbl&gt;</th><th scope=col>&lt;dbl&gt;</th><th scope=col>&lt;dbl&gt;</th></tr>\n",
       "</thead>\n",
       "<tbody>\n",
       "\t<tr><td>506430627</td><td>0</td><td>608963.2</td><td>7121651</td><td>1623944</td><td>29111.5</td><td>101774.5</td><td>8808603</td></tr>\n",
       "</tbody>\n",
       "</table>\n"
      ],
      "text/latex": [
       "A data.frame: 1 × 8\n",
       "\\begin{tabular}{llllllll}\n",
       " max & min & avg & stdev & count & X50\\_percentile & X75\\_percentile & X99\\_percentile\\\\\n",
       " <int> & <int> & <dbl> & <dbl> & <int> & <dbl> & <dbl> & <dbl>\\\\\n",
       "\\hline\n",
       "\t 506430627 & 0 & 608963.2 & 7121651 & 1623944 & 29111.5 & 101774.5 & 8808603\\\\\n",
       "\\end{tabular}\n"
      ],
      "text/markdown": [
       "\n",
       "A data.frame: 1 × 8\n",
       "\n",
       "| max &lt;int&gt; | min &lt;int&gt; | avg &lt;dbl&gt; | stdev &lt;dbl&gt; | count &lt;int&gt; | X50_percentile &lt;dbl&gt; | X75_percentile &lt;dbl&gt; | X99_percentile &lt;dbl&gt; |\n",
       "|---|---|---|---|---|---|---|---|\n",
       "| 506430627 | 0 | 608963.2 | 7121651 | 1623944 | 29111.5 | 101774.5 | 8808603 |\n",
       "\n"
      ],
      "text/plain": [
       "  max       min avg      stdev   count   X50_percentile X75_percentile\n",
       "1 506430627 0   608963.2 7121651 1623944 29111.5        101774.5      \n",
       "  X99_percentile\n",
       "1 8808603       "
      ]
     },
     "metadata": {},
     "output_type": "display_data"
    }
   ],
   "source": [
    "df"
   ]
  },
  {
   "cell_type": "markdown",
   "id": "b117a670",
   "metadata": {},
   "source": [
    "__including spider__"
   ]
  },
  {
   "cell_type": "code",
   "execution_count": 81,
   "id": "32bc86e8",
   "metadata": {},
   "outputs": [
    {
     "data": {
      "text/html": [
       "<table class=\"dataframe\">\n",
       "<caption>A data.frame: 1 × 8</caption>\n",
       "<thead>\n",
       "\t<tr><th scope=col>max</th><th scope=col>min</th><th scope=col>avg</th><th scope=col>stdev</th><th scope=col>count</th><th scope=col>X50_percentile</th><th scope=col>X75_percentile</th><th scope=col>X99_percentile</th></tr>\n",
       "\t<tr><th scope=col>&lt;int&gt;</th><th scope=col>&lt;int&gt;</th><th scope=col>&lt;dbl&gt;</th><th scope=col>&lt;dbl&gt;</th><th scope=col>&lt;int&gt;</th><th scope=col>&lt;dbl&gt;</th><th scope=col>&lt;dbl&gt;</th><th scope=col>&lt;dbl&gt;</th></tr>\n",
       "</thead>\n",
       "<tbody>\n",
       "\t<tr><td>506430627</td><td>0</td><td>608955.1</td><td>7121603</td><td>1623966</td><td>29111</td><td>101771</td><td>8808276</td></tr>\n",
       "</tbody>\n",
       "</table>\n"
      ],
      "text/latex": [
       "A data.frame: 1 × 8\n",
       "\\begin{tabular}{llllllll}\n",
       " max & min & avg & stdev & count & X50\\_percentile & X75\\_percentile & X99\\_percentile\\\\\n",
       " <int> & <int> & <dbl> & <dbl> & <int> & <dbl> & <dbl> & <dbl>\\\\\n",
       "\\hline\n",
       "\t 506430627 & 0 & 608955.1 & 7121603 & 1623966 & 29111 & 101771 & 8808276\\\\\n",
       "\\end{tabular}\n"
      ],
      "text/markdown": [
       "\n",
       "A data.frame: 1 × 8\n",
       "\n",
       "| max &lt;int&gt; | min &lt;int&gt; | avg &lt;dbl&gt; | stdev &lt;dbl&gt; | count &lt;int&gt; | X50_percentile &lt;dbl&gt; | X75_percentile &lt;dbl&gt; | X99_percentile &lt;dbl&gt; |\n",
       "|---|---|---|---|---|---|---|---|\n",
       "| 506430627 | 0 | 608955.1 | 7121603 | 1623966 | 29111 | 101771 | 8808276 |\n",
       "\n"
      ],
      "text/plain": [
       "  max       min avg      stdev   count   X50_percentile X75_percentile\n",
       "1 506430627 0   608955.1 7121603 1623966 29111          101771        \n",
       "  X99_percentile\n",
       "1 8808276       "
      ]
     },
     "metadata": {},
     "output_type": "display_data"
    }
   ],
   "source": [
    "df"
   ]
  },
  {
   "cell_type": "markdown",
   "id": "b2fcd1cc",
   "metadata": {},
   "source": [
    "__Note:__\n",
    "\n",
    "For all events in 2022.4 ~ 2022.5 excluding spiders, the average reading length is 1623944 MS, median is 29111 MS.  \n",
    "\n",
    "There is no big difference between including spiders and excluding spiders.  \n"
   ]
  },
  {
   "cell_type": "code",
   "execution_count": 46,
   "id": "59fe5a30",
   "metadata": {},
   "outputs": [],
   "source": [
    "query_total_length <- \n",
    "\"\n",
    "SELECT total_length, session_token\n",
    "FROM event.mediawiki_reading_depth\n",
    "WHERE year=2022 AND month IN (4,5)\n",
    "AND total_length is not NULL\n",
    "AND meta.domain IN (\n",
    "'tr.wikipedia.org',\n",
    "'vi.wikipedia.org',\n",
    "'ary.wikipedia.org',\n",
    "'fa.wikipedia.org',\n",
    "'fr.wikipedia.org',\n",
    "'pt.wikipedia.org',\n",
    "'foundation.wikimedia.org',\n",
    "'ko.wikipedia.org',\n",
    "'fr.wiktionary.org',\n",
    "'he.wikipedia.org',\n",
    "'vi.wikibooks.org',\n",
    "'bn.wikipedia.org',\n",
    "'de.wikivoyage.org',\n",
    "'fr.wikiquote.org',\n",
    "'pt.wikiversity.org',\n",
    "'id.wikipedia.org',\n",
    "'pt.wikinews.org',\n",
    "'eu.wikipedia.org',\n",
    "'incubator.wikimedia.org',\n",
    "'pl.wikinews.org',\n",
    "'sr.wikipedia.org',\n",
    "'th.wikipedia.org',\n",
    "'vec.wikipedia.org',\n",
    "'www.mediawiki.org'\n",
    ")\n",
    "\"\n"
   ]
  },
  {
   "cell_type": "code",
   "execution_count": 47,
   "id": "8aaabf45",
   "metadata": {},
   "outputs": [
    {
     "name": "stderr",
     "output_type": "stream",
     "text": [
      "Don't forget to authenticate with Kerberos using kinit\n",
      "\n"
     ]
    }
   ],
   "source": [
    "df <- wmfdata::query_hive(query_total_length)"
   ]
  },
  {
   "cell_type": "code",
   "execution_count": 50,
   "id": "ff5279b7",
   "metadata": {},
   "outputs": [
    {
     "data": {
      "image/png": "[encoded data removed]",
      "text/plain": [
       "plot without title"
      ]
     },
     "metadata": {
      "image/png": {
       "height": 600,
       "width": 900
      }
     },
     "output_type": "display_data"
    }
   ],
   "source": [
    "p1 <- df %>%\n",
    "  ggplot( mapping=aes(x=total_length)) +\n",
    "    geom_histogram(bins=30 ) +\n",
    "    labs ( title = \"Check distribution of total read length\",\n",
    "         fill=\"\") +\n",
    "    theme_light(base_size=18)\n",
    "p1"
   ]
  },
  {
   "cell_type": "code",
   "execution_count": 48,
   "id": "7421b1a2",
   "metadata": {},
   "outputs": [],
   "source": [
    "p <- df %>%\n",
    "  ggplot( mapping=aes(x=total_length)) +\n",
    "    geom_histogram(bins=30 ) +\n",
    "    scale_x_log10() +\n",
    "    labs ( title = \"Check distribution of total read length\",\n",
    "         fill=\"\") +\n",
    "    theme_light(base_size=18)"
   ]
  },
  {
   "cell_type": "code",
   "execution_count": 49,
   "id": "7564a7e8",
   "metadata": {},
   "outputs": [
    {
     "name": "stderr",
     "output_type": "stream",
     "text": [
      "Warning message:\n",
      "“Transformation introduced infinite values in continuous x-axis”\n",
      "Warning message:\n",
      "“Removed 4 rows containing non-finite values (stat_bin).”\n"
     ]
    },
    {
     "data": {
      "image/png": "[encoded data removed]",
      "text/plain": [
       "plot without title"
      ]
     },
     "metadata": {
      "image/png": {
       "height": 600,
       "width": 900
      }
     },
     "output_type": "display_data"
    }
   ],
   "source": [
    "p"
   ]
  },
  {
   "cell_type": "code",
   "execution_count": 51,
   "id": "6755cbb3",
   "metadata": {},
   "outputs": [
    {
     "name": "stderr",
     "output_type": "stream",
     "text": [
      "Warning message:\n",
      "“Transformation introduced infinite values in continuous x-axis”\n",
      "Warning message:\n",
      "“Removed 4 rows containing non-finite values (stat_bin).”\n"
     ]
    }
   ],
   "source": [
    "ggsave(\"reading_length_log_distribution.png\",\n",
    "    plot = p, width = 60, height = 30, units = \"cm\", dpi = \"screen\");"
   ]
  },
  {
   "cell_type": "markdown",
   "id": "9455a976",
   "metadata": {},
   "source": [
    "__Note__\n",
    "\n",
    "\n",
    "The reading length in log is in a bell shape."
   ]
  },
  {
   "cell_type": "markdown",
   "id": "14e7e8bc",
   "metadata": {},
   "source": [
    "## Check whether schemas can be joined by session token"
   ]
  },
  {
   "cell_type": "markdown",
   "id": "daa8e327",
   "metadata": {},
   "source": [
    "### Joined with ab"
   ]
  },
  {
   "cell_type": "code",
   "execution_count": 109,
   "id": "18f6ca0e",
   "metadata": {},
   "outputs": [],
   "source": [
    "query <- \"\n",
    "SELECT meta.domain, meta.dt,  web_session_id\n",
    "FROM  event.mediawiki_web_ui_scroll\n",
    "WHERE year=2022 and month=4 and day=18\n",
    "AND action='scroll-to-toc'\n",
    "LIMIT 20\n",
    "\""
   ]
  },
  {
   "cell_type": "code",
   "execution_count": 110,
   "id": "bd5e7c71",
   "metadata": {},
   "outputs": [
    {
     "name": "stderr",
     "output_type": "stream",
     "text": [
      "Don't forget to authenticate with Kerberos using kinit\n",
      "\n"
     ]
    }
   ],
   "source": [
    "df_1 <- wmfdata::query_hive(query)"
   ]
  },
  {
   "cell_type": "code",
   "execution_count": null,
   "id": "509a9049",
   "metadata": {},
   "outputs": [],
   "source": []
  },
  {
   "cell_type": "code",
   "execution_count": null,
   "id": "6aadeb36",
   "metadata": {},
   "outputs": [],
   "source": []
  },
  {
   "cell_type": "code",
   "execution_count": null,
   "id": "8e4d302d",
   "metadata": {},
   "outputs": [],
   "source": []
  }
 ],
 "metadata": {
  "kernelspec": {
   "display_name": "R",
   "language": "R",
   "name": "ir"
  },
  "language_info": {
   "codemirror_mode": "r",
   "file_extension": ".r",
   "mimetype": "text/x-r-source",
   "name": "R",
   "pygments_lexer": "r",
   "version": "3.5.2"
  }
 },
 "nbformat": 4,
 "nbformat_minor": 5
}
