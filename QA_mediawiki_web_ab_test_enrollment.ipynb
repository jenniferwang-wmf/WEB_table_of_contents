{
 "cells": [
  {
   "cell_type": "code",
   "execution_count": 2,
   "id": "511ac5b7",
   "metadata": {},
   "outputs": [],
   "source": [
    "shhh <- function(expr) suppressPackageStartupMessages(suppressWarnings(suppressMessages(expr)))\n",
    "shhh({\n",
    "library(tidyverse); \n",
    "library(lubridate); \n",
    "library(scales);\n",
    "library(magrittr); \n",
    "library(dplyr);\n",
    "})"
   ]
  },
  {
   "cell_type": "code",
   "execution_count": 3,
   "id": "126f93dc",
   "metadata": {},
   "outputs": [
    {
     "data": {
      "text/html": [
       "<script>  \n",
       "code_show=true; \n",
       "function code_toggle() {\n",
       "  if (code_show){\n",
       "    $('div.input').hide();\n",
       "  } else {\n",
       "    $('div.input').show();\n",
       "  }\n",
       "  code_show = !code_show\n",
       "}  \n",
       "$( document ).ready(code_toggle);\n",
       "</script>\n",
       "  <form action=\"javascript:code_toggle()\">\n",
       "    <input type=\"submit\" value=\"Click here to toggle on/off the raw code.\">\n",
       " </form>"
      ]
     },
     "metadata": {},
     "output_type": "display_data"
    }
   ],
   "source": [
    "library(IRdisplay)\n",
    "\n",
    "display_html(\n",
    "'<script>  \n",
    "code_show=true; \n",
    "function code_toggle() {\n",
    "  if (code_show){\n",
    "    $(\\'div.input\\').hide();\n",
    "  } else {\n",
    "    $(\\'div.input\\').show();\n",
    "  }\n",
    "  code_show = !code_show\n",
    "}  \n",
    "$( document ).ready(code_toggle);\n",
    "</script>\n",
    "  <form action=\"javascript:code_toggle()\">\n",
    "    <input type=\"submit\" value=\"Click here to toggle on/off the raw code.\">\n",
    " </form>'\n",
    ")"
   ]
  },
  {
   "cell_type": "markdown",
   "id": "945bcd1d",
   "metadata": {},
   "source": [
    "# Introduction\n",
    "\n",
    "__May 2, 2022__.   \n",
    "__May 13, 2022__. \n",
    "\n",
    "[Parent QA ticket](https://phabricator.wikimedia.org/T305442) | [QA ticket](https://phabricator.wikimedia.org/T306559)"
   ]
  },
  {
   "cell_type": "markdown",
   "id": "9864a861",
   "metadata": {},
   "source": [
    "# Instrumentation note\n",
    "The test group enrollment events are stored in mediawiki_web_ab_test_enrollment schema.\n",
    "As of 2022-04-27, user bucketing is based on what page user lands on first, and then persistent for that session. The page_id of the landing page is the salt to decide which test group the session will be in. Session_id is used to identify user session, stored in field web_session_id.\n",
    "\n",
    "Test population: logged in users and anonymous users\n",
    "Group split: Sample entire population, 50% to control group, 50% to test group.\n",
    "\n",
    "__Technical limitation:__  \n",
    "For the users who land on the wiki page, then click through internal referral, the session will be consistently assigned to one experiment group.\n",
    "\n",
    "For the users who start a new a tab or open browser again, and land on another wiki page from search, the session will be randomized again. Very likely to be assigned to another experiment group. "
   ]
  },
  {
   "cell_type": "markdown",
   "id": "f92e6e60",
   "metadata": {},
   "source": [
    "__Check whether we could exclude Chrome 101.0.4951.41__ \n",
    "\n",
    "Because we have a bug that links in the TOC of vector 2022 are not clickable for some Chromium based browsers T307271.\n"
   ]
  },
  {
   "cell_type": "code",
   "execution_count": 10,
   "id": "9c84f625",
   "metadata": {},
   "outputs": [],
   "source": [
    "query <-\n",
    "\"\n",
    "SELECT http.request_headers['user-agent']\n",
    "FROM   event.mediawiki_web_ab_test_enrollment\n",
    "WHERE year=2022 and month=4\n",
    "AND meta.domain='he.wikipedia.org' \n",
    "AND  http.request_headers['user-agent'] regexp 'Chrome/101.0.4951.41'\n",
    "LIMIT 5\n",
    "\" "
   ]
  },
  {
   "cell_type": "code",
   "execution_count": 12,
   "id": "d4e90426",
   "metadata": {},
   "outputs": [
    {
     "name": "stderr",
     "output_type": "stream",
     "text": [
      "Don't forget to authenticate with Kerberos using kinit\n",
      "\n"
     ]
    }
   ],
   "source": [
    "df <- wmfdata::query_hive(query)"
   ]
  },
  {
   "cell_type": "code",
   "execution_count": 13,
   "id": "98492b28",
   "metadata": {},
   "outputs": [
    {
     "data": {
      "text/html": [
       "<table class=\"dataframe\">\n",
       "<caption>A data.frame: 5 × 1</caption>\n",
       "<thead>\n",
       "\t<tr><th scope=col>X_c0</th></tr>\n",
       "\t<tr><th scope=col>&lt;chr&gt;</th></tr>\n",
       "</thead>\n",
       "<tbody>\n",
       "\t<tr><td>Mozilla/5.0 (Windows NT 10.0; Win64; x64) AppleWebKit/537.36 (KHTML, like Gecko) Chrome/101.0.4951.41 Safari/537.36</td></tr>\n",
       "\t<tr><td>Mozilla/5.0 (Windows NT 10.0; Win64; x64) AppleWebKit/537.36 (KHTML, like Gecko) Chrome/101.0.4951.41 Safari/537.36</td></tr>\n",
       "\t<tr><td>Mozilla/5.0 (Windows NT 10.0; Win64; x64) AppleWebKit/537.36 (KHTML, like Gecko) Chrome/101.0.4951.41 Safari/537.36</td></tr>\n",
       "\t<tr><td>Mozilla/5.0 (Windows NT 10.0; Win64; x64) AppleWebKit/537.36 (KHTML, like Gecko) Chrome/101.0.4951.41 Safari/537.36</td></tr>\n",
       "\t<tr><td>Mozilla/5.0 (Windows NT 10.0; WOW64) AppleWebKit/537.36 (KHTML, like Gecko) Chrome/101.0.4951.41 Safari/537.36     </td></tr>\n",
       "</tbody>\n",
       "</table>\n"
      ],
      "text/latex": [
       "A data.frame: 5 × 1\n",
       "\\begin{tabular}{l}\n",
       " X\\_c0\\\\\n",
       " <chr>\\\\\n",
       "\\hline\n",
       "\t Mozilla/5.0 (Windows NT 10.0; Win64; x64) AppleWebKit/537.36 (KHTML, like Gecko) Chrome/101.0.4951.41 Safari/537.36\\\\\n",
       "\t Mozilla/5.0 (Windows NT 10.0; Win64; x64) AppleWebKit/537.36 (KHTML, like Gecko) Chrome/101.0.4951.41 Safari/537.36\\\\\n",
       "\t Mozilla/5.0 (Windows NT 10.0; Win64; x64) AppleWebKit/537.36 (KHTML, like Gecko) Chrome/101.0.4951.41 Safari/537.36\\\\\n",
       "\t Mozilla/5.0 (Windows NT 10.0; Win64; x64) AppleWebKit/537.36 (KHTML, like Gecko) Chrome/101.0.4951.41 Safari/537.36\\\\\n",
       "\t Mozilla/5.0 (Windows NT 10.0; WOW64) AppleWebKit/537.36 (KHTML, like Gecko) Chrome/101.0.4951.41 Safari/537.36     \\\\\n",
       "\\end{tabular}\n"
      ],
      "text/markdown": [
       "\n",
       "A data.frame: 5 × 1\n",
       "\n",
       "| X_c0 &lt;chr&gt; |\n",
       "|---|\n",
       "| Mozilla/5.0 (Windows NT 10.0; Win64; x64) AppleWebKit/537.36 (KHTML, like Gecko) Chrome/101.0.4951.41 Safari/537.36 |\n",
       "| Mozilla/5.0 (Windows NT 10.0; Win64; x64) AppleWebKit/537.36 (KHTML, like Gecko) Chrome/101.0.4951.41 Safari/537.36 |\n",
       "| Mozilla/5.0 (Windows NT 10.0; Win64; x64) AppleWebKit/537.36 (KHTML, like Gecko) Chrome/101.0.4951.41 Safari/537.36 |\n",
       "| Mozilla/5.0 (Windows NT 10.0; Win64; x64) AppleWebKit/537.36 (KHTML, like Gecko) Chrome/101.0.4951.41 Safari/537.36 |\n",
       "| Mozilla/5.0 (Windows NT 10.0; WOW64) AppleWebKit/537.36 (KHTML, like Gecko) Chrome/101.0.4951.41 Safari/537.36      |\n",
       "\n"
      ],
      "text/plain": [
       "  X_c0                                                                                                               \n",
       "1 Mozilla/5.0 (Windows NT 10.0; Win64; x64) AppleWebKit/537.36 (KHTML, like Gecko) Chrome/101.0.4951.41 Safari/537.36\n",
       "2 Mozilla/5.0 (Windows NT 10.0; Win64; x64) AppleWebKit/537.36 (KHTML, like Gecko) Chrome/101.0.4951.41 Safari/537.36\n",
       "3 Mozilla/5.0 (Windows NT 10.0; Win64; x64) AppleWebKit/537.36 (KHTML, like Gecko) Chrome/101.0.4951.41 Safari/537.36\n",
       "4 Mozilla/5.0 (Windows NT 10.0; Win64; x64) AppleWebKit/537.36 (KHTML, like Gecko) Chrome/101.0.4951.41 Safari/537.36\n",
       "5 Mozilla/5.0 (Windows NT 10.0; WOW64) AppleWebKit/537.36 (KHTML, like Gecko) Chrome/101.0.4951.41 Safari/537.36     "
      ]
     },
     "metadata": {},
     "output_type": "display_data"
    }
   ],
   "source": [
    "df"
   ]
  },
  {
   "cell_type": "markdown",
   "id": "8bb44c11",
   "metadata": {},
   "source": [
    "# Check experiment group bucketing"
   ]
  },
  {
   "cell_type": "markdown",
   "id": "acfac616",
   "metadata": {},
   "source": [
    "QAed on 2022-05-02"
   ]
  },
  {
   "cell_type": "code",
   "execution_count": 19,
   "id": "67a3de34",
   "metadata": {},
   "outputs": [],
   "source": [
    "query <- \"\n",
    "select wiki, TO_DATE(meta.dt) AS date_time,`group`, count(1) AS pv,\n",
    "count(distinct web_session_id) AS sessions\n",
    "FROM event.mediawiki_web_ab_test_enrollment\n",
    "WHERE year=2022 AND month IN (4,5)\n",
    "AND wiki IN ('hewiki', 'euwiki')\n",
    "AND experiment_name='skin-vector-toc-experiment'\n",
    "GROUP BY wiki, TO_DATE(meta.dt),`group`\n",
    "ORDER BY wiki, date_time, `group`\n",
    "LIMIT 100000\n",
    "\""
   ]
  },
  {
   "cell_type": "code",
   "execution_count": 20,
   "id": "11177c41",
   "metadata": {},
   "outputs": [
    {
     "name": "stderr",
     "output_type": "stream",
     "text": [
      "Don't forget to authenticate with Kerberos using kinit\n",
      "\n"
     ]
    }
   ],
   "source": [
    "df <- wmfdata::query_hive(query)"
   ]
  },
  {
   "cell_type": "code",
   "execution_count": 21,
   "id": "24d2e5cb",
   "metadata": {},
   "outputs": [
    {
     "data": {
      "text/html": [
       "<table class=\"dataframe\">\n",
       "<caption>A data.frame: 28 × 5</caption>\n",
       "<thead>\n",
       "\t<tr><th scope=col>wiki</th><th scope=col>date_time</th><th scope=col>group</th><th scope=col>pv</th><th scope=col>sessions</th></tr>\n",
       "\t<tr><th scope=col>&lt;chr&gt;</th><th scope=col>&lt;chr&gt;</th><th scope=col>&lt;chr&gt;</th><th scope=col>&lt;int&gt;</th><th scope=col>&lt;int&gt;</th></tr>\n",
       "</thead>\n",
       "<tbody>\n",
       "\t<tr><td>euwiki</td><td>2022-04-26</td><td>control  </td><td>   273</td><td>   166</td></tr>\n",
       "\t<tr><td>euwiki</td><td>2022-04-26</td><td>treatment</td><td>   350</td><td>   179</td></tr>\n",
       "\t<tr><td>euwiki</td><td>2022-04-27</td><td>control  </td><td>  9301</td><td>  5375</td></tr>\n",
       "\t<tr><td>euwiki</td><td>2022-04-27</td><td>treatment</td><td>  9022</td><td>  5326</td></tr>\n",
       "\t<tr><td>euwiki</td><td>2022-04-28</td><td>control  </td><td> 11108</td><td>  6099</td></tr>\n",
       "\t<tr><td>euwiki</td><td>2022-04-28</td><td>treatment</td><td> 10456</td><td>  6089</td></tr>\n",
       "\t<tr><td>euwiki</td><td>2022-04-29</td><td>control  </td><td>  7921</td><td>  4665</td></tr>\n",
       "\t<tr><td>euwiki</td><td>2022-04-29</td><td>treatment</td><td>  8335</td><td>  4818</td></tr>\n",
       "\t<tr><td>euwiki</td><td>2022-04-30</td><td>control  </td><td>  3107</td><td>  1457</td></tr>\n",
       "\t<tr><td>euwiki</td><td>2022-04-30</td><td>treatment</td><td>  2797</td><td>  1433</td></tr>\n",
       "\t<tr><td>euwiki</td><td>2022-05-01</td><td>control  </td><td>  4168</td><td>  2289</td></tr>\n",
       "\t<tr><td>euwiki</td><td>2022-05-01</td><td>treatment</td><td>  4289</td><td>  2371</td></tr>\n",
       "\t<tr><td>euwiki</td><td>2022-05-02</td><td>control  </td><td> 11585</td><td>  6807</td></tr>\n",
       "\t<tr><td>euwiki</td><td>2022-05-02</td><td>treatment</td><td> 11707</td><td>  6882</td></tr>\n",
       "\t<tr><td>hewiki</td><td>2022-04-26</td><td>control  </td><td>  9532</td><td>  4617</td></tr>\n",
       "\t<tr><td>hewiki</td><td>2022-04-26</td><td>treatment</td><td>  9232</td><td>  4543</td></tr>\n",
       "\t<tr><td>hewiki</td><td>2022-04-27</td><td>control  </td><td>170494</td><td> 87500</td></tr>\n",
       "\t<tr><td>hewiki</td><td>2022-04-27</td><td>treatment</td><td>170572</td><td> 87172</td></tr>\n",
       "\t<tr><td>hewiki</td><td>2022-04-28</td><td>control  </td><td>208011</td><td>102680</td></tr>\n",
       "\t<tr><td>hewiki</td><td>2022-04-28</td><td>treatment</td><td>205863</td><td>101218</td></tr>\n",
       "\t<tr><td>hewiki</td><td>2022-04-29</td><td>control  </td><td>133527</td><td> 60729</td></tr>\n",
       "\t<tr><td>hewiki</td><td>2022-04-29</td><td>treatment</td><td>134240</td><td> 60643</td></tr>\n",
       "\t<tr><td>hewiki</td><td>2022-04-30</td><td>control  </td><td>154610</td><td> 69848</td></tr>\n",
       "\t<tr><td>hewiki</td><td>2022-04-30</td><td>treatment</td><td>156941</td><td> 70225</td></tr>\n",
       "\t<tr><td>hewiki</td><td>2022-05-01</td><td>control  </td><td>200803</td><td>103175</td></tr>\n",
       "\t<tr><td>hewiki</td><td>2022-05-01</td><td>treatment</td><td>211262</td><td>107051</td></tr>\n",
       "\t<tr><td>hewiki</td><td>2022-05-02</td><td>control  </td><td>192620</td><td>100872</td></tr>\n",
       "\t<tr><td>hewiki</td><td>2022-05-02</td><td>treatment</td><td>197467</td><td>101259</td></tr>\n",
       "</tbody>\n",
       "</table>\n"
      ],
      "text/latex": [
       "A data.frame: 28 × 5\n",
       "\\begin{tabular}{lllll}\n",
       " wiki & date\\_time & group & pv & sessions\\\\\n",
       " <chr> & <chr> & <chr> & <int> & <int>\\\\\n",
       "\\hline\n",
       "\t euwiki & 2022-04-26 & control   &    273 &    166\\\\\n",
       "\t euwiki & 2022-04-26 & treatment &    350 &    179\\\\\n",
       "\t euwiki & 2022-04-27 & control   &   9301 &   5375\\\\\n",
       "\t euwiki & 2022-04-27 & treatment &   9022 &   5326\\\\\n",
       "\t euwiki & 2022-04-28 & control   &  11108 &   6099\\\\\n",
       "\t euwiki & 2022-04-28 & treatment &  10456 &   6089\\\\\n",
       "\t euwiki & 2022-04-29 & control   &   7921 &   4665\\\\\n",
       "\t euwiki & 2022-04-29 & treatment &   8335 &   4818\\\\\n",
       "\t euwiki & 2022-04-30 & control   &   3107 &   1457\\\\\n",
       "\t euwiki & 2022-04-30 & treatment &   2797 &   1433\\\\\n",
       "\t euwiki & 2022-05-01 & control   &   4168 &   2289\\\\\n",
       "\t euwiki & 2022-05-01 & treatment &   4289 &   2371\\\\\n",
       "\t euwiki & 2022-05-02 & control   &  11585 &   6807\\\\\n",
       "\t euwiki & 2022-05-02 & treatment &  11707 &   6882\\\\\n",
       "\t hewiki & 2022-04-26 & control   &   9532 &   4617\\\\\n",
       "\t hewiki & 2022-04-26 & treatment &   9232 &   4543\\\\\n",
       "\t hewiki & 2022-04-27 & control   & 170494 &  87500\\\\\n",
       "\t hewiki & 2022-04-27 & treatment & 170572 &  87172\\\\\n",
       "\t hewiki & 2022-04-28 & control   & 208011 & 102680\\\\\n",
       "\t hewiki & 2022-04-28 & treatment & 205863 & 101218\\\\\n",
       "\t hewiki & 2022-04-29 & control   & 133527 &  60729\\\\\n",
       "\t hewiki & 2022-04-29 & treatment & 134240 &  60643\\\\\n",
       "\t hewiki & 2022-04-30 & control   & 154610 &  69848\\\\\n",
       "\t hewiki & 2022-04-30 & treatment & 156941 &  70225\\\\\n",
       "\t hewiki & 2022-05-01 & control   & 200803 & 103175\\\\\n",
       "\t hewiki & 2022-05-01 & treatment & 211262 & 107051\\\\\n",
       "\t hewiki & 2022-05-02 & control   & 192620 & 100872\\\\\n",
       "\t hewiki & 2022-05-02 & treatment & 197467 & 101259\\\\\n",
       "\\end{tabular}\n"
      ],
      "text/markdown": [
       "\n",
       "A data.frame: 28 × 5\n",
       "\n",
       "| wiki &lt;chr&gt; | date_time &lt;chr&gt; | group &lt;chr&gt; | pv &lt;int&gt; | sessions &lt;int&gt; |\n",
       "|---|---|---|---|---|\n",
       "| euwiki | 2022-04-26 | control   |    273 |    166 |\n",
       "| euwiki | 2022-04-26 | treatment |    350 |    179 |\n",
       "| euwiki | 2022-04-27 | control   |   9301 |   5375 |\n",
       "| euwiki | 2022-04-27 | treatment |   9022 |   5326 |\n",
       "| euwiki | 2022-04-28 | control   |  11108 |   6099 |\n",
       "| euwiki | 2022-04-28 | treatment |  10456 |   6089 |\n",
       "| euwiki | 2022-04-29 | control   |   7921 |   4665 |\n",
       "| euwiki | 2022-04-29 | treatment |   8335 |   4818 |\n",
       "| euwiki | 2022-04-30 | control   |   3107 |   1457 |\n",
       "| euwiki | 2022-04-30 | treatment |   2797 |   1433 |\n",
       "| euwiki | 2022-05-01 | control   |   4168 |   2289 |\n",
       "| euwiki | 2022-05-01 | treatment |   4289 |   2371 |\n",
       "| euwiki | 2022-05-02 | control   |  11585 |   6807 |\n",
       "| euwiki | 2022-05-02 | treatment |  11707 |   6882 |\n",
       "| hewiki | 2022-04-26 | control   |   9532 |   4617 |\n",
       "| hewiki | 2022-04-26 | treatment |   9232 |   4543 |\n",
       "| hewiki | 2022-04-27 | control   | 170494 |  87500 |\n",
       "| hewiki | 2022-04-27 | treatment | 170572 |  87172 |\n",
       "| hewiki | 2022-04-28 | control   | 208011 | 102680 |\n",
       "| hewiki | 2022-04-28 | treatment | 205863 | 101218 |\n",
       "| hewiki | 2022-04-29 | control   | 133527 |  60729 |\n",
       "| hewiki | 2022-04-29 | treatment | 134240 |  60643 |\n",
       "| hewiki | 2022-04-30 | control   | 154610 |  69848 |\n",
       "| hewiki | 2022-04-30 | treatment | 156941 |  70225 |\n",
       "| hewiki | 2022-05-01 | control   | 200803 | 103175 |\n",
       "| hewiki | 2022-05-01 | treatment | 211262 | 107051 |\n",
       "| hewiki | 2022-05-02 | control   | 192620 | 100872 |\n",
       "| hewiki | 2022-05-02 | treatment | 197467 | 101259 |\n",
       "\n"
      ],
      "text/plain": [
       "   wiki   date_time  group     pv     sessions\n",
       "1  euwiki 2022-04-26 control      273    166  \n",
       "2  euwiki 2022-04-26 treatment    350    179  \n",
       "3  euwiki 2022-04-27 control     9301   5375  \n",
       "4  euwiki 2022-04-27 treatment   9022   5326  \n",
       "5  euwiki 2022-04-28 control    11108   6099  \n",
       "6  euwiki 2022-04-28 treatment  10456   6089  \n",
       "7  euwiki 2022-04-29 control     7921   4665  \n",
       "8  euwiki 2022-04-29 treatment   8335   4818  \n",
       "9  euwiki 2022-04-30 control     3107   1457  \n",
       "10 euwiki 2022-04-30 treatment   2797   1433  \n",
       "11 euwiki 2022-05-01 control     4168   2289  \n",
       "12 euwiki 2022-05-01 treatment   4289   2371  \n",
       "13 euwiki 2022-05-02 control    11585   6807  \n",
       "14 euwiki 2022-05-02 treatment  11707   6882  \n",
       "15 hewiki 2022-04-26 control     9532   4617  \n",
       "16 hewiki 2022-04-26 treatment   9232   4543  \n",
       "17 hewiki 2022-04-27 control   170494  87500  \n",
       "18 hewiki 2022-04-27 treatment 170572  87172  \n",
       "19 hewiki 2022-04-28 control   208011 102680  \n",
       "20 hewiki 2022-04-28 treatment 205863 101218  \n",
       "21 hewiki 2022-04-29 control   133527  60729  \n",
       "22 hewiki 2022-04-29 treatment 134240  60643  \n",
       "23 hewiki 2022-04-30 control   154610  69848  \n",
       "24 hewiki 2022-04-30 treatment 156941  70225  \n",
       "25 hewiki 2022-05-01 control   200803 103175  \n",
       "26 hewiki 2022-05-01 treatment 211262 107051  \n",
       "27 hewiki 2022-05-02 control   192620 100872  \n",
       "28 hewiki 2022-05-02 treatment 197467 101259  "
      ]
     },
     "metadata": {},
     "output_type": "display_data"
    }
   ],
   "source": [
    "df"
   ]
  },
  {
   "cell_type": "markdown",
   "id": "298acce1",
   "metadata": {},
   "source": [
    "# Check sessions are assigned in both groups"
   ]
  },
  {
   "cell_type": "code",
   "execution_count": 8,
   "id": "aea1fbc8",
   "metadata": {},
   "outputs": [],
   "source": [
    "query_check_duplicate <- \"\n",
    "WITH t_duplicate AS\n",
    "(SELECT  web_session_id, wiki, count(distinct `group` ) AS groups,  min(meta.dt) AS session_dt \n",
    "FROM event.mediawiki_web_ab_test_enrollment\n",
    "WHERE wiki NOT IN ('testwiki','test2wiki')  and year=2022 and month IN (4,5)\n",
    "GROUP BY  web_session_id, wiki\n",
    "HAVING groups>1\n",
    ")\n",
    "SELECT wiki, count(web_session_id) AS dup_sessions\n",
    "FROM t_duplicate\n",
    "GROUP BY wiki\n",
    "\""
   ]
  },
  {
   "cell_type": "code",
   "execution_count": 9,
   "id": "42388d3f",
   "metadata": {},
   "outputs": [
    {
     "name": "stderr",
     "output_type": "stream",
     "text": [
      "Don't forget to authenticate with Kerberos using kinit\n",
      "\n"
     ]
    }
   ],
   "source": [
    "df_duplicate <- wmfdata::query_hive(query_check_duplicate)"
   ]
  },
  {
   "cell_type": "code",
   "execution_count": 10,
   "id": "b9972eca",
   "metadata": {},
   "outputs": [
    {
     "data": {
      "text/html": [
       "<table class=\"dataframe\">\n",
       "<caption>A data.frame: 2 × 2</caption>\n",
       "<thead>\n",
       "\t<tr><th scope=col>wiki</th><th scope=col>dup_sessions</th></tr>\n",
       "\t<tr><th scope=col>&lt;chr&gt;</th><th scope=col>&lt;int&gt;</th></tr>\n",
       "</thead>\n",
       "<tbody>\n",
       "\t<tr><td>euwiki</td><td>  6733</td></tr>\n",
       "\t<tr><td>hewiki</td><td>170598</td></tr>\n",
       "</tbody>\n",
       "</table>\n"
      ],
      "text/latex": [
       "A data.frame: 2 × 2\n",
       "\\begin{tabular}{ll}\n",
       " wiki & dup\\_sessions\\\\\n",
       " <chr> & <int>\\\\\n",
       "\\hline\n",
       "\t euwiki &   6733\\\\\n",
       "\t hewiki & 170598\\\\\n",
       "\\end{tabular}\n"
      ],
      "text/markdown": [
       "\n",
       "A data.frame: 2 × 2\n",
       "\n",
       "| wiki &lt;chr&gt; | dup_sessions &lt;int&gt; |\n",
       "|---|---|\n",
       "| euwiki |   6733 |\n",
       "| hewiki | 170598 |\n",
       "\n"
      ],
      "text/plain": [
       "  wiki   dup_sessions\n",
       "1 euwiki   6733      \n",
       "2 hewiki 170598      "
      ]
     },
     "metadata": {},
     "output_type": "display_data"
    }
   ],
   "source": [
    "df_duplicate"
   ]
  },
  {
   "cell_type": "code",
   "execution_count": 11,
   "id": "fc7ea746",
   "metadata": {},
   "outputs": [],
   "source": [
    "query_total_sessions <- \"\n",
    "SELECT  wiki, `group`, \n",
    "count(distinct web_session_id) AS sessions\n",
    "FROM event.mediawiki_web_ab_test_enrollment\n",
    "WHERE year=2022 AND month IN (4,5)\n",
    "AND wiki IN ('hewiki', 'euwiki')\n",
    "AND experiment_name='skin-vector-toc-experiment'\n",
    "GROUP BY wiki, `group`\n",
    "ORDER BY wiki, `group`\n",
    "LIMIT 100000\n",
    "\""
   ]
  },
  {
   "cell_type": "code",
   "execution_count": 12,
   "id": "125b5492",
   "metadata": {},
   "outputs": [
    {
     "name": "stderr",
     "output_type": "stream",
     "text": [
      "Don't forget to authenticate with Kerberos using kinit\n",
      "\n"
     ]
    }
   ],
   "source": [
    "df_total_sessions <- wmfdata::query_hive(query_total_sessions )"
   ]
  },
  {
   "cell_type": "code",
   "execution_count": 13,
   "id": "2f4fad2c",
   "metadata": {},
   "outputs": [
    {
     "data": {
      "text/html": [
       "<table class=\"dataframe\">\n",
       "<caption>A data.frame: 4 × 3</caption>\n",
       "<thead>\n",
       "\t<tr><th scope=col>wiki</th><th scope=col>group</th><th scope=col>sessions</th></tr>\n",
       "\t<tr><th scope=col>&lt;chr&gt;</th><th scope=col>&lt;chr&gt;</th><th scope=col>&lt;int&gt;</th></tr>\n",
       "</thead>\n",
       "<tbody>\n",
       "\t<tr><td>euwiki</td><td>control  </td><td> 25464</td></tr>\n",
       "\t<tr><td>euwiki</td><td>treatment</td><td> 25622</td></tr>\n",
       "\t<tr><td>hewiki</td><td>control  </td><td>480715</td></tr>\n",
       "\t<tr><td>hewiki</td><td>treatment</td><td>482981</td></tr>\n",
       "</tbody>\n",
       "</table>\n"
      ],
      "text/latex": [
       "A data.frame: 4 × 3\n",
       "\\begin{tabular}{lll}\n",
       " wiki & group & sessions\\\\\n",
       " <chr> & <chr> & <int>\\\\\n",
       "\\hline\n",
       "\t euwiki & control   &  25464\\\\\n",
       "\t euwiki & treatment &  25622\\\\\n",
       "\t hewiki & control   & 480715\\\\\n",
       "\t hewiki & treatment & 482981\\\\\n",
       "\\end{tabular}\n"
      ],
      "text/markdown": [
       "\n",
       "A data.frame: 4 × 3\n",
       "\n",
       "| wiki &lt;chr&gt; | group &lt;chr&gt; | sessions &lt;int&gt; |\n",
       "|---|---|---|\n",
       "| euwiki | control   |  25464 |\n",
       "| euwiki | treatment |  25622 |\n",
       "| hewiki | control   | 480715 |\n",
       "| hewiki | treatment | 482981 |\n",
       "\n"
      ],
      "text/plain": [
       "  wiki   group     sessions\n",
       "1 euwiki control    25464  \n",
       "2 euwiki treatment  25622  \n",
       "3 hewiki control   480715  \n",
       "4 hewiki treatment 482981  "
      ]
     },
     "metadata": {},
     "output_type": "display_data"
    }
   ],
   "source": [
    "df_total_sessions"
   ]
  },
  {
   "cell_type": "code",
   "execution_count": 14,
   "id": "0fdb42e7",
   "metadata": {},
   "outputs": [],
   "source": [
    "df_sum <- merge(df_total_sessions,df_duplicate,by=\"wiki\")"
   ]
  },
  {
   "cell_type": "code",
   "execution_count": 17,
   "id": "2a0d8f1d",
   "metadata": {},
   "outputs": [],
   "source": [
    "df_sum <- df_sum %>% \n",
    " mutate(dup_rate =round(dup_sessions/sessions * 100 , 2) )\n"
   ]
  },
  {
   "cell_type": "code",
   "execution_count": 18,
   "id": "61260494",
   "metadata": {},
   "outputs": [
    {
     "data": {
      "text/html": [
       "<table class=\"dataframe\">\n",
       "<caption>A data.frame: 4 × 5</caption>\n",
       "<thead>\n",
       "\t<tr><th scope=col>wiki</th><th scope=col>group</th><th scope=col>sessions</th><th scope=col>dup_sessions</th><th scope=col>dup_rate</th></tr>\n",
       "\t<tr><th scope=col>&lt;chr&gt;</th><th scope=col>&lt;chr&gt;</th><th scope=col>&lt;int&gt;</th><th scope=col>&lt;int&gt;</th><th scope=col>&lt;dbl&gt;</th></tr>\n",
       "</thead>\n",
       "<tbody>\n",
       "\t<tr><td>euwiki</td><td>control  </td><td> 25464</td><td>  6733</td><td>26.44</td></tr>\n",
       "\t<tr><td>euwiki</td><td>treatment</td><td> 25622</td><td>  6733</td><td>26.28</td></tr>\n",
       "\t<tr><td>hewiki</td><td>control  </td><td>480715</td><td>170598</td><td>35.49</td></tr>\n",
       "\t<tr><td>hewiki</td><td>treatment</td><td>482981</td><td>170598</td><td>35.32</td></tr>\n",
       "</tbody>\n",
       "</table>\n"
      ],
      "text/latex": [
       "A data.frame: 4 × 5\n",
       "\\begin{tabular}{lllll}\n",
       " wiki & group & sessions & dup\\_sessions & dup\\_rate\\\\\n",
       " <chr> & <chr> & <int> & <int> & <dbl>\\\\\n",
       "\\hline\n",
       "\t euwiki & control   &  25464 &   6733 & 26.44\\\\\n",
       "\t euwiki & treatment &  25622 &   6733 & 26.28\\\\\n",
       "\t hewiki & control   & 480715 & 170598 & 35.49\\\\\n",
       "\t hewiki & treatment & 482981 & 170598 & 35.32\\\\\n",
       "\\end{tabular}\n"
      ],
      "text/markdown": [
       "\n",
       "A data.frame: 4 × 5\n",
       "\n",
       "| wiki &lt;chr&gt; | group &lt;chr&gt; | sessions &lt;int&gt; | dup_sessions &lt;int&gt; | dup_rate &lt;dbl&gt; |\n",
       "|---|---|---|---|---|\n",
       "| euwiki | control   |  25464 |   6733 | 26.44 |\n",
       "| euwiki | treatment |  25622 |   6733 | 26.28 |\n",
       "| hewiki | control   | 480715 | 170598 | 35.49 |\n",
       "| hewiki | treatment | 482981 | 170598 | 35.32 |\n",
       "\n"
      ],
      "text/plain": [
       "  wiki   group     sessions dup_sessions dup_rate\n",
       "1 euwiki control    25464     6733       26.44   \n",
       "2 euwiki treatment  25622     6733       26.28   \n",
       "3 hewiki control   480715   170598       35.49   \n",
       "4 hewiki treatment 482981   170598       35.32   "
      ]
     },
     "metadata": {},
     "output_type": "display_data"
    }
   ],
   "source": [
    "df_sum"
   ]
  },
  {
   "cell_type": "markdown",
   "id": "e8b0871c",
   "metadata": {},
   "source": [
    "## How duplicated sessions distributed by user type ( anaonymous users vs logged-in users)"
   ]
  },
  {
   "cell_type": "code",
   "execution_count": 31,
   "id": "5bd624e9",
   "metadata": {},
   "outputs": [],
   "source": [
    "query_dup_is_anon <- \" \n",
    "WITH t_dup AS\n",
    "(SELECT  web_session_id, wiki, count(distinct `group` ) AS groups,  min(meta.dt) AS session_dt \n",
    "FROM event.mediawiki_web_ab_test_enrollment\n",
    "WHERE wiki NOT IN ('testwiki','test2wiki')  and year=2022 and month IN (4,5)\n",
    "AND experiment_name='skin-vector-toc-experiment'\n",
    "GROUP BY  web_session_id, wiki\n",
    "HAVING groups>1\n",
    ")\n",
    "SELECT t1.event.token AS web_session_id, t1.event.skinversion, t1.wiki,  t1.event.isAnon, min(TO_DATE(t1.dt)) AS init_date\n",
    "FROM event.DesktopWebUIActionsTracking AS t1\n",
    "INNER JOIN t_dup ON t_dup.wiki=t1.wiki AND t_dup.web_session_id=t1.event.token\n",
    "WHERE t1.wiki NOT IN ('testwiki','test2wiki') \n",
    "AND t1.year=2022 and t1.month IN (4,5)\n",
    "AND t1.event.action='init' \n",
    "AND t_dup.session_dt <= t1.meta.dt\n",
    "GROUP BY t1.event.token , t1.event.skinversion, t1.wiki, t1.event.isAnon\n",
    "\""
   ]
  },
  {
   "cell_type": "code",
   "execution_count": 32,
   "id": "e7e9c87c",
   "metadata": {},
   "outputs": [
    {
     "name": "stderr",
     "output_type": "stream",
     "text": [
      "Don't forget to authenticate with Kerberos using kinit\n",
      "\n"
     ]
    }
   ],
   "source": [
    "df_dup_is_anon <- wmfdata::query_hive(query_dup_is_anon)"
   ]
  },
  {
   "cell_type": "code",
   "execution_count": 33,
   "id": "e9d6d6d0",
   "metadata": {},
   "outputs": [],
   "source": [
    "df_dup_is_anon_summary <-  df_dup_is_anon  %>%\n",
    "   group_by(isanon, skinversion) %>%\n",
    "   summarize(total_isanon_sessions = n(), .groups='drop')"
   ]
  },
  {
   "cell_type": "code",
   "execution_count": 34,
   "id": "1e096d1d",
   "metadata": {},
   "outputs": [
    {
     "data": {
      "text/html": [
       "<table class=\"dataframe\">\n",
       "<caption>A tibble: 3 × 3</caption>\n",
       "<thead>\n",
       "\t<tr><th scope=col>isanon</th><th scope=col>skinversion</th><th scope=col>total_isanon_sessions</th></tr>\n",
       "\t<tr><th scope=col>&lt;chr&gt;</th><th scope=col>&lt;int&gt;</th><th scope=col>&lt;int&gt;</th></tr>\n",
       "</thead>\n",
       "<tbody>\n",
       "\t<tr><td>false</td><td>1</td><td>    88</td></tr>\n",
       "\t<tr><td>false</td><td>2</td><td>  4353</td></tr>\n",
       "\t<tr><td>true </td><td>2</td><td>109612</td></tr>\n",
       "</tbody>\n",
       "</table>\n"
      ],
      "text/latex": [
       "A tibble: 3 × 3\n",
       "\\begin{tabular}{lll}\n",
       " isanon & skinversion & total\\_isanon\\_sessions\\\\\n",
       " <chr> & <int> & <int>\\\\\n",
       "\\hline\n",
       "\t false & 1 &     88\\\\\n",
       "\t false & 2 &   4353\\\\\n",
       "\t true  & 2 & 109612\\\\\n",
       "\\end{tabular}\n"
      ],
      "text/markdown": [
       "\n",
       "A tibble: 3 × 3\n",
       "\n",
       "| isanon &lt;chr&gt; | skinversion &lt;int&gt; | total_isanon_sessions &lt;int&gt; |\n",
       "|---|---|---|\n",
       "| false | 1 |     88 |\n",
       "| false | 2 |   4353 |\n",
       "| true  | 2 | 109612 |\n",
       "\n"
      ],
      "text/plain": [
       "  isanon skinversion total_isanon_sessions\n",
       "1 false  1               88               \n",
       "2 false  2             4353               \n",
       "3 true   2           109612               "
      ]
     },
     "metadata": {},
     "output_type": "display_data"
    }
   ],
   "source": [
    "df_dup_is_anon_summary"
   ]
  },
  {
   "cell_type": "markdown",
   "id": "59007c77",
   "metadata": {},
   "source": [
    "# Check whether `mediawiki_web_ab_test_enrollment` can join with click events "
   ]
  },
  {
   "cell_type": "code",
   "execution_count": 39,
   "id": "965b84be",
   "metadata": {},
   "outputs": [],
   "source": [
    "query_click <- \"\n",
    "WITH t_ab_no_dupli AS (\n",
    "SELECT  web_session_id, wiki, meta.domain AS domain, count(distinct `group` ) AS groups,  min(meta.dt) AS session_dt \n",
    "FROM event.mediawiki_web_ab_test_enrollment\n",
    "WHERE wiki NOT IN ('testwiki','test2wiki')  AND year=2022 AND month IN (4,5) \n",
    "AND  experiment_name='skin-vector-toc-experiment'\n",
    "GROUP BY  web_session_id, wiki, meta.domain\n",
    "-- exclude session ids are in both control and treatment group\n",
    "HAVING groups < 2\n",
    "),\n",
    "t_ab AS(\n",
    "SELECT \n",
    " t1.web_session_id,\n",
    " t1.wiki,t1.meta.domain AS domain,\n",
    " t1.`group` AS test_group,\n",
    " min(t1.meta.dt) AS session_dt \n",
    "FROM event.mediawiki_web_ab_test_enrollment AS t1\n",
    "INNER JOIN  t_ab_no_dupli AS t2 ON t1.wiki=t2.wiki \n",
    "AND t1.web_session_id=t2.web_session_id \n",
    "WHERE t1.wiki NOT IN ('testwiki','test2wiki')  \n",
    "AND year=2022 AND month IN (4,5) \n",
    "AND  experiment_name='skin-vector-toc-experiment'\n",
    "GROUP BY  t1.web_session_id, t1.wiki,t1.meta.domain, t1.`group`\n",
    ")\n",
    "-- clicks from test group\n",
    "SELECT CONCAT(t1.year, '-', LPAD(t1.month,2,'0'),'-', LPAD(t1.day,2,'0')) AS event_date, \n",
    "wiki, event.isanon,  count(1) AS clicks\n",
    "FROM event.DesktopWebUIActionsTracking AS t1\n",
    "INNER JOIN t_ab AS t2 \n",
    "ON  t1.wiki=t2.wiki AND t1.event.token = t2.web_session_id\n",
    "WHERE t1.wiki IN ('bnwiki', 'fawiki', 'foundationwiki',\n",
    "'hewiki', 'ptwikinews', 'ptwikiversity', 'srwiki',\n",
    "'thwiki', 'vecwiki', 'viwiki', 'viwikibooks', 'dewikivoyage',\n",
    "'euwiki', 'kowiki', 'plwikinews', 'trwiki', 'arywiki',\n",
    "'frwiki', 'frwikiquote', 'frwiktionary', 'incubatorwiki', 'ptwiki'\n",
    ") \n",
    "AND t1.year=2022 and t1.month IN (4,5)\n",
    "AND t2.session_dt <= t1.meta.dt\n",
    "AND event.name = 'ui.toc'\n",
    "AND event.action='click' AND event.skinversion=2 \n",
    "GROUP BY t1.year, t1.month,t1.day, t1.wiki, event.isanon\n",
    "\""
   ]
  },
  {
   "cell_type": "code",
   "execution_count": 40,
   "id": "ead39bd1",
   "metadata": {},
   "outputs": [
    {
     "name": "stderr",
     "output_type": "stream",
     "text": [
      "Don't forget to authenticate with Kerberos using kinit\n",
      "\n"
     ]
    }
   ],
   "source": [
    "df_click <- wmfdata::query_hive(query_click)"
   ]
  },
  {
   "cell_type": "code",
   "execution_count": 41,
   "id": "a64f1d68",
   "metadata": {},
   "outputs": [
    {
     "data": {
      "text/html": [
       "<table class=\"dataframe\">\n",
       "<caption>A data.frame: 29 × 4</caption>\n",
       "<thead>\n",
       "\t<tr><th scope=col>event_date</th><th scope=col>wiki</th><th scope=col>isanon</th><th scope=col>clicks</th></tr>\n",
       "\t<tr><th scope=col>&lt;chr&gt;</th><th scope=col>&lt;chr&gt;</th><th scope=col>&lt;chr&gt;</th><th scope=col>&lt;int&gt;</th></tr>\n",
       "</thead>\n",
       "<tbody>\n",
       "\t<tr><td>2022-04-26</td><td>euwiki</td><td>true </td><td>   2</td></tr>\n",
       "\t<tr><td>2022-04-26</td><td>hewiki</td><td>false</td><td>  11</td></tr>\n",
       "\t<tr><td>2022-04-26</td><td>hewiki</td><td>true </td><td>  77</td></tr>\n",
       "\t<tr><td>2022-04-27</td><td>euwiki</td><td>false</td><td>  10</td></tr>\n",
       "\t<tr><td>2022-04-27</td><td>euwiki</td><td>true </td><td> 103</td></tr>\n",
       "\t<tr><td>2022-04-27</td><td>hewiki</td><td>false</td><td>  81</td></tr>\n",
       "\t<tr><td>2022-04-27</td><td>hewiki</td><td>true </td><td>1213</td></tr>\n",
       "\t<tr><td>2022-04-28</td><td>euwiki</td><td>false</td><td>   6</td></tr>\n",
       "\t<tr><td>2022-04-28</td><td>euwiki</td><td>true </td><td>  86</td></tr>\n",
       "\t<tr><td>2022-04-28</td><td>hewiki</td><td>false</td><td>  70</td></tr>\n",
       "\t<tr><td>2022-04-28</td><td>hewiki</td><td>true </td><td>1160</td></tr>\n",
       "\t<tr><td>2022-04-29</td><td>euwiki</td><td>false</td><td>   4</td></tr>\n",
       "\t<tr><td>2022-04-29</td><td>euwiki</td><td>true </td><td>  80</td></tr>\n",
       "\t<tr><td>2022-04-29</td><td>hewiki</td><td>false</td><td>  60</td></tr>\n",
       "\t<tr><td>2022-04-29</td><td>hewiki</td><td>true </td><td> 718</td></tr>\n",
       "\t<tr><td>2022-04-30</td><td>euwiki</td><td>false</td><td>   3</td></tr>\n",
       "\t<tr><td>2022-04-30</td><td>euwiki</td><td>true </td><td>  16</td></tr>\n",
       "\t<tr><td>2022-04-30</td><td>hewiki</td><td>false</td><td>  49</td></tr>\n",
       "\t<tr><td>2022-04-30</td><td>hewiki</td><td>true </td><td> 870</td></tr>\n",
       "\t<tr><td>2022-05-01</td><td>euwiki</td><td>false</td><td>   4</td></tr>\n",
       "\t<tr><td>2022-05-01</td><td>euwiki</td><td>true </td><td>  36</td></tr>\n",
       "\t<tr><td>2022-05-01</td><td>hewiki</td><td>false</td><td>  57</td></tr>\n",
       "\t<tr><td>2022-05-01</td><td>hewiki</td><td>true </td><td>1214</td></tr>\n",
       "\t<tr><td>2022-05-02</td><td>euwiki</td><td>false</td><td>  15</td></tr>\n",
       "\t<tr><td>2022-05-02</td><td>euwiki</td><td>true </td><td> 138</td></tr>\n",
       "\t<tr><td>2022-05-02</td><td>hewiki</td><td>false</td><td>  62</td></tr>\n",
       "\t<tr><td>2022-05-02</td><td>hewiki</td><td>true </td><td>1267</td></tr>\n",
       "\t<tr><td>2022-05-03</td><td>hewiki</td><td>false</td><td>   3</td></tr>\n",
       "\t<tr><td>2022-05-03</td><td>hewiki</td><td>true </td><td>  17</td></tr>\n",
       "</tbody>\n",
       "</table>\n"
      ],
      "text/latex": [
       "A data.frame: 29 × 4\n",
       "\\begin{tabular}{llll}\n",
       " event\\_date & wiki & isanon & clicks\\\\\n",
       " <chr> & <chr> & <chr> & <int>\\\\\n",
       "\\hline\n",
       "\t 2022-04-26 & euwiki & true  &    2\\\\\n",
       "\t 2022-04-26 & hewiki & false &   11\\\\\n",
       "\t 2022-04-26 & hewiki & true  &   77\\\\\n",
       "\t 2022-04-27 & euwiki & false &   10\\\\\n",
       "\t 2022-04-27 & euwiki & true  &  103\\\\\n",
       "\t 2022-04-27 & hewiki & false &   81\\\\\n",
       "\t 2022-04-27 & hewiki & true  & 1213\\\\\n",
       "\t 2022-04-28 & euwiki & false &    6\\\\\n",
       "\t 2022-04-28 & euwiki & true  &   86\\\\\n",
       "\t 2022-04-28 & hewiki & false &   70\\\\\n",
       "\t 2022-04-28 & hewiki & true  & 1160\\\\\n",
       "\t 2022-04-29 & euwiki & false &    4\\\\\n",
       "\t 2022-04-29 & euwiki & true  &   80\\\\\n",
       "\t 2022-04-29 & hewiki & false &   60\\\\\n",
       "\t 2022-04-29 & hewiki & true  &  718\\\\\n",
       "\t 2022-04-30 & euwiki & false &    3\\\\\n",
       "\t 2022-04-30 & euwiki & true  &   16\\\\\n",
       "\t 2022-04-30 & hewiki & false &   49\\\\\n",
       "\t 2022-04-30 & hewiki & true  &  870\\\\\n",
       "\t 2022-05-01 & euwiki & false &    4\\\\\n",
       "\t 2022-05-01 & euwiki & true  &   36\\\\\n",
       "\t 2022-05-01 & hewiki & false &   57\\\\\n",
       "\t 2022-05-01 & hewiki & true  & 1214\\\\\n",
       "\t 2022-05-02 & euwiki & false &   15\\\\\n",
       "\t 2022-05-02 & euwiki & true  &  138\\\\\n",
       "\t 2022-05-02 & hewiki & false &   62\\\\\n",
       "\t 2022-05-02 & hewiki & true  & 1267\\\\\n",
       "\t 2022-05-03 & hewiki & false &    3\\\\\n",
       "\t 2022-05-03 & hewiki & true  &   17\\\\\n",
       "\\end{tabular}\n"
      ],
      "text/markdown": [
       "\n",
       "A data.frame: 29 × 4\n",
       "\n",
       "| event_date &lt;chr&gt; | wiki &lt;chr&gt; | isanon &lt;chr&gt; | clicks &lt;int&gt; |\n",
       "|---|---|---|---|\n",
       "| 2022-04-26 | euwiki | true  |    2 |\n",
       "| 2022-04-26 | hewiki | false |   11 |\n",
       "| 2022-04-26 | hewiki | true  |   77 |\n",
       "| 2022-04-27 | euwiki | false |   10 |\n",
       "| 2022-04-27 | euwiki | true  |  103 |\n",
       "| 2022-04-27 | hewiki | false |   81 |\n",
       "| 2022-04-27 | hewiki | true  | 1213 |\n",
       "| 2022-04-28 | euwiki | false |    6 |\n",
       "| 2022-04-28 | euwiki | true  |   86 |\n",
       "| 2022-04-28 | hewiki | false |   70 |\n",
       "| 2022-04-28 | hewiki | true  | 1160 |\n",
       "| 2022-04-29 | euwiki | false |    4 |\n",
       "| 2022-04-29 | euwiki | true  |   80 |\n",
       "| 2022-04-29 | hewiki | false |   60 |\n",
       "| 2022-04-29 | hewiki | true  |  718 |\n",
       "| 2022-04-30 | euwiki | false |    3 |\n",
       "| 2022-04-30 | euwiki | true  |   16 |\n",
       "| 2022-04-30 | hewiki | false |   49 |\n",
       "| 2022-04-30 | hewiki | true  |  870 |\n",
       "| 2022-05-01 | euwiki | false |    4 |\n",
       "| 2022-05-01 | euwiki | true  |   36 |\n",
       "| 2022-05-01 | hewiki | false |   57 |\n",
       "| 2022-05-01 | hewiki | true  | 1214 |\n",
       "| 2022-05-02 | euwiki | false |   15 |\n",
       "| 2022-05-02 | euwiki | true  |  138 |\n",
       "| 2022-05-02 | hewiki | false |   62 |\n",
       "| 2022-05-02 | hewiki | true  | 1267 |\n",
       "| 2022-05-03 | hewiki | false |    3 |\n",
       "| 2022-05-03 | hewiki | true  |   17 |\n",
       "\n"
      ],
      "text/plain": [
       "   event_date wiki   isanon clicks\n",
       "1  2022-04-26 euwiki true      2  \n",
       "2  2022-04-26 hewiki false    11  \n",
       "3  2022-04-26 hewiki true     77  \n",
       "4  2022-04-27 euwiki false    10  \n",
       "5  2022-04-27 euwiki true    103  \n",
       "6  2022-04-27 hewiki false    81  \n",
       "7  2022-04-27 hewiki true   1213  \n",
       "8  2022-04-28 euwiki false     6  \n",
       "9  2022-04-28 euwiki true     86  \n",
       "10 2022-04-28 hewiki false    70  \n",
       "11 2022-04-28 hewiki true   1160  \n",
       "12 2022-04-29 euwiki false     4  \n",
       "13 2022-04-29 euwiki true     80  \n",
       "14 2022-04-29 hewiki false    60  \n",
       "15 2022-04-29 hewiki true    718  \n",
       "16 2022-04-30 euwiki false     3  \n",
       "17 2022-04-30 euwiki true     16  \n",
       "18 2022-04-30 hewiki false    49  \n",
       "19 2022-04-30 hewiki true    870  \n",
       "20 2022-05-01 euwiki false     4  \n",
       "21 2022-05-01 euwiki true     36  \n",
       "22 2022-05-01 hewiki false    57  \n",
       "23 2022-05-01 hewiki true   1214  \n",
       "24 2022-05-02 euwiki false    15  \n",
       "25 2022-05-02 euwiki true    138  \n",
       "26 2022-05-02 hewiki false    62  \n",
       "27 2022-05-02 hewiki true   1267  \n",
       "28 2022-05-03 hewiki false     3  \n",
       "29 2022-05-03 hewiki true     17  "
      ]
     },
     "metadata": {},
     "output_type": "display_data"
    }
   ],
   "source": [
    "df_click"
   ]
  },
  {
   "cell_type": "markdown",
   "id": "f196d071",
   "metadata": {},
   "source": [
    "# Check whether `mediawiki_web_ab_test_enrollment` can join with scroll events "
   ]
  },
  {
   "cell_type": "code",
   "execution_count": 50,
   "id": "cd123d14",
   "metadata": {},
   "outputs": [],
   "source": [
    "query_scroll <- \"\n",
    "WITH t_ab_no_dupli AS (\n",
    "SELECT  web_session_id, wiki, meta.domain AS domain, count(distinct `group` ) AS groups,  min(meta.dt) AS session_dt \n",
    "FROM event.mediawiki_web_ab_test_enrollment\n",
    "WHERE wiki NOT IN ('testwiki','test2wiki')  AND year=2022 AND month IN (4,5) \n",
    "AND  experiment_name='skin-vector-toc-experiment'\n",
    "GROUP BY  web_session_id, wiki, meta.domain\n",
    "-- exclude session ids are in both control and treatment group\n",
    "HAVING groups < 2\n",
    "),\n",
    "t_ab AS(\n",
    "SELECT \n",
    " t1.web_session_id,\n",
    " t1.wiki,t1.meta.domain AS domain,\n",
    " t1.`group` AS test_group,\n",
    " min(t1.meta.dt) AS session_dt \n",
    "FROM event.mediawiki_web_ab_test_enrollment AS t1\n",
    "INNER JOIN  t_ab_no_dupli AS t2 ON t1.wiki=t2.wiki \n",
    "AND t1.web_session_id=t2.web_session_id \n",
    "WHERE t1.wiki NOT IN ('testwiki','test2wiki')  \n",
    "AND year=2022 AND month IN (4,5) \n",
    "AND  experiment_name='skin-vector-toc-experiment'\n",
    "GROUP BY  t1.web_session_id, t1.wiki,t1.meta.domain, t1.`group`\n",
    ")\n",
    "\n",
    "--scrolls by session\n",
    "SELECT  TO_DATE(t3.meta.dt) AS event_date,t_ab.wiki,   t_ab.test_group, t3.web_session_id, COUNT(1) AS scrolls \n",
    "FROM t_ab\n",
    "LEFT JOIN event.mediawiki_web_ui_scroll AS t3 \n",
    "ON t_ab.domain=t3.meta.domain AND t3.web_session_id = t_ab.web_session_id\n",
    "AND year=2022 AND month IN (4,5) \n",
    "WHERE t_ab.session_dt <= t3.meta.dt\n",
    "AND t3.action='scroll-to-toc'\n",
    "GROUP BY  TO_DATE(t3.meta.dt) , t_ab.wiki,   t_ab.test_group, t3.web_session_id\n",
    "\n",
    "\"\n",
    "\n",
    "\n"
   ]
  },
  {
   "cell_type": "code",
   "execution_count": 43,
   "id": "2cfd84d8",
   "metadata": {},
   "outputs": [
    {
     "name": "stderr",
     "output_type": "stream",
     "text": [
      "Don't forget to authenticate with Kerberos using kinit\n",
      "\n"
     ]
    }
   ],
   "source": [
    "df_scroll <- wmfdata::query_hive(query_scroll)"
   ]
  },
  {
   "cell_type": "code",
   "execution_count": 47,
   "id": "23f0e2e0",
   "metadata": {},
   "outputs": [
    {
     "name": "stderr",
     "output_type": "stream",
     "text": [
      "`summarise()` has grouped output by 'wiki'. You can override using the `.groups` argument.\n",
      "\n"
     ]
    }
   ],
   "source": [
    "df_scroll_summary <- df_scroll %>%\n",
    "  group_by(wiki, test_group) %>% \n",
    "  summarize(sum_scroll=sum(scrolls), sum_session=n())"
   ]
  },
  {
   "cell_type": "code",
   "execution_count": 48,
   "id": "39b87dd3",
   "metadata": {},
   "outputs": [
    {
     "data": {
      "text/html": [
       "<table class=\"dataframe\">\n",
       "<caption>A grouped_df: 4 × 4</caption>\n",
       "<thead>\n",
       "\t<tr><th scope=col>wiki</th><th scope=col>test_group</th><th scope=col>sum_scroll</th><th scope=col>sum_session</th></tr>\n",
       "\t<tr><th scope=col>&lt;chr&gt;</th><th scope=col>&lt;chr&gt;</th><th scope=col>&lt;int&gt;</th><th scope=col>&lt;int&gt;</th></tr>\n",
       "</thead>\n",
       "<tbody>\n",
       "\t<tr><td>euwiki</td><td>control  </td><td> 2854</td><td>  904</td></tr>\n",
       "\t<tr><td>euwiki</td><td>treatment</td><td> 1446</td><td>  769</td></tr>\n",
       "\t<tr><td>hewiki</td><td>control  </td><td>32393</td><td>13810</td></tr>\n",
       "\t<tr><td>hewiki</td><td>treatment</td><td>19618</td><td>12245</td></tr>\n",
       "</tbody>\n",
       "</table>\n"
      ],
      "text/latex": [
       "A grouped\\_df: 4 × 4\n",
       "\\begin{tabular}{llll}\n",
       " wiki & test\\_group & sum\\_scroll & sum\\_session\\\\\n",
       " <chr> & <chr> & <int> & <int>\\\\\n",
       "\\hline\n",
       "\t euwiki & control   &  2854 &   904\\\\\n",
       "\t euwiki & treatment &  1446 &   769\\\\\n",
       "\t hewiki & control   & 32393 & 13810\\\\\n",
       "\t hewiki & treatment & 19618 & 12245\\\\\n",
       "\\end{tabular}\n"
      ],
      "text/markdown": [
       "\n",
       "A grouped_df: 4 × 4\n",
       "\n",
       "| wiki &lt;chr&gt; | test_group &lt;chr&gt; | sum_scroll &lt;int&gt; | sum_session &lt;int&gt; |\n",
       "|---|---|---|---|\n",
       "| euwiki | control   |  2854 |   904 |\n",
       "| euwiki | treatment |  1446 |   769 |\n",
       "| hewiki | control   | 32393 | 13810 |\n",
       "| hewiki | treatment | 19618 | 12245 |\n",
       "\n"
      ],
      "text/plain": [
       "  wiki   test_group sum_scroll sum_session\n",
       "1 euwiki control     2854        904      \n",
       "2 euwiki treatment   1446        769      \n",
       "3 hewiki control    32393      13810      \n",
       "4 hewiki treatment  19618      12245      "
      ]
     },
     "metadata": {},
     "output_type": "display_data"
    }
   ],
   "source": [
    "df_scroll_summary"
   ]
  },
  {
   "cell_type": "markdown",
   "id": "a3f92122",
   "metadata": {},
   "source": [
    "__NOTE__  \n",
    "\n",
    "Next step:\n",
    "Add total number of sessions (pageviews), see how the trend is difference with the number of unique sessions. "
   ]
  },
  {
   "cell_type": "markdown",
   "id": "9d00d3cf",
   "metadata": {},
   "source": [
    "QA on May 13, 2022, for the fix in scroll schema, enabled on 5/12. \n",
    "[fix ticket](https://phabricator.wikimedia.org/T307952)"
   ]
  },
  {
   "cell_type": "code",
   "execution_count": 64,
   "id": "3ccbadef",
   "metadata": {},
   "outputs": [],
   "source": [
    "query_scroll <- \"\n",
    "WITH t_ab_no_dupli AS (\n",
    "SELECT  web_session_id, wiki, meta.domain AS domain, count(distinct `group` ) AS groups,  min(meta.dt) AS session_dt \n",
    "FROM event.mediawiki_web_ab_test_enrollment\n",
    "WHERE wiki NOT IN ('testwiki','test2wiki')  AND year=2022 AND month IN (4,5)\n",
    "AND  experiment_name='skin-vector-toc-experiment'\n",
    "GROUP BY  web_session_id, wiki, meta.domain\n",
    "-- exclude session ids are in both control and treatment group\n",
    "HAVING groups < 2\n",
    "),\n",
    "t_ab AS(\n",
    "SELECT \n",
    " t1.web_session_id,\n",
    " t1.wiki,t1.meta.domain AS domain,\n",
    " t1.`group` AS test_group,\n",
    " min(t1.meta.dt) AS session_dt \n",
    "FROM event.mediawiki_web_ab_test_enrollment AS t1\n",
    "INNER JOIN  t_ab_no_dupli AS t2 ON t1.wiki=t2.wiki \n",
    "AND t1.web_session_id=t2.web_session_id \n",
    "WHERE t1.wiki NOT IN ('testwiki','test2wiki')  \n",
    "AND year=2022 AND month=5 AND day IN (12,13) \n",
    "AND  experiment_name='skin-vector-toc-experiment'\n",
    "GROUP BY  t1.web_session_id, t1.wiki,t1.meta.domain, t1.`group`\n",
    ")\n",
    "\n",
    "--scrolls by session\n",
    "SELECT  TO_DATE(t3.meta.dt) AS event_date,t_ab.wiki,   t_ab.test_group, t3.web_session_id, COUNT(1) AS scrolls \n",
    "FROM t_ab\n",
    "LEFT JOIN event.mediawiki_web_ui_scroll AS t3 \n",
    "ON t_ab.domain=t3.meta.domain AND t3.web_session_id = t_ab.web_session_id\n",
    "AND year=2022 AND month=5 AND day IN (12,13) \n",
    "WHERE t_ab.session_dt <= t3.meta.dt\n",
    "AND t3.action='scroll-to-toc'\n",
    "GROUP BY  TO_DATE(t3.meta.dt) , t_ab.wiki,   t_ab.test_group, t3.web_session_id\n",
    "\n",
    "\"\n",
    "\n"
   ]
  },
  {
   "cell_type": "code",
   "execution_count": 65,
   "id": "2ec0d30b",
   "metadata": {},
   "outputs": [
    {
     "name": "stderr",
     "output_type": "stream",
     "text": [
      "Don't forget to authenticate with Kerberos using kinit\n",
      "\n"
     ]
    }
   ],
   "source": [
    "df_scroll <- wmfdata::query_hive(query_scroll)"
   ]
  },
  {
   "cell_type": "code",
   "execution_count": 66,
   "id": "eb3c66ba",
   "metadata": {},
   "outputs": [
    {
     "name": "stderr",
     "output_type": "stream",
     "text": [
      "`summarise()` has grouped output by 'wiki'. You can override using the `.groups` argument.\n",
      "\n"
     ]
    },
    {
     "data": {
      "text/html": [
       "<table class=\"dataframe\">\n",
       "<caption>A grouped_df: 4 × 4</caption>\n",
       "<thead>\n",
       "\t<tr><th scope=col>wiki</th><th scope=col>test_group</th><th scope=col>sum_scroll</th><th scope=col>sum_session</th></tr>\n",
       "\t<tr><th scope=col>&lt;chr&gt;</th><th scope=col>&lt;chr&gt;</th><th scope=col>&lt;int&gt;</th><th scope=col>&lt;int&gt;</th></tr>\n",
       "</thead>\n",
       "<tbody>\n",
       "\t<tr><td>euwiki</td><td>control  </td><td> 608</td><td> 255</td></tr>\n",
       "\t<tr><td>euwiki</td><td>treatment</td><td> 645</td><td> 288</td></tr>\n",
       "\t<tr><td>hewiki</td><td>control  </td><td>4359</td><td>2711</td></tr>\n",
       "\t<tr><td>hewiki</td><td>treatment</td><td>4359</td><td>2729</td></tr>\n",
       "</tbody>\n",
       "</table>\n"
      ],
      "text/latex": [
       "A grouped\\_df: 4 × 4\n",
       "\\begin{tabular}{llll}\n",
       " wiki & test\\_group & sum\\_scroll & sum\\_session\\\\\n",
       " <chr> & <chr> & <int> & <int>\\\\\n",
       "\\hline\n",
       "\t euwiki & control   &  608 &  255\\\\\n",
       "\t euwiki & treatment &  645 &  288\\\\\n",
       "\t hewiki & control   & 4359 & 2711\\\\\n",
       "\t hewiki & treatment & 4359 & 2729\\\\\n",
       "\\end{tabular}\n"
      ],
      "text/markdown": [
       "\n",
       "A grouped_df: 4 × 4\n",
       "\n",
       "| wiki &lt;chr&gt; | test_group &lt;chr&gt; | sum_scroll &lt;int&gt; | sum_session &lt;int&gt; |\n",
       "|---|---|---|---|\n",
       "| euwiki | control   |  608 |  255 |\n",
       "| euwiki | treatment |  645 |  288 |\n",
       "| hewiki | control   | 4359 | 2711 |\n",
       "| hewiki | treatment | 4359 | 2729 |\n",
       "\n"
      ],
      "text/plain": [
       "  wiki   test_group sum_scroll sum_session\n",
       "1 euwiki control     608        255       \n",
       "2 euwiki treatment   645        288       \n",
       "3 hewiki control    4359       2711       \n",
       "4 hewiki treatment  4359       2729       "
      ]
     },
     "metadata": {},
     "output_type": "display_data"
    }
   ],
   "source": [
    "df_scroll %>%\n",
    "  group_by(wiki, test_group) %>% \n",
    "  summarize(sum_scroll=sum(scrolls), sum_session=n())"
   ]
  },
  {
   "cell_type": "code",
   "execution_count": null,
   "id": "1388d9b0",
   "metadata": {},
   "outputs": [],
   "source": []
  },
  {
   "cell_type": "markdown",
   "id": "ab78fbc6",
   "metadata": {},
   "source": [
    "# Check whether `mediawiki_web_ab_test_enrollment` can join with reading depth events "
   ]
  },
  {
   "cell_type": "code",
   "execution_count": 53,
   "id": "dc554e8e",
   "metadata": {},
   "outputs": [],
   "source": [
    "query_reading_length <- \"\n",
    "WITH t_ab_no_dupli AS (\n",
    "SELECT  web_session_id, wiki, meta.domain AS domain, count(distinct `group` ) AS groups,  min(meta.dt) AS session_dt \n",
    "FROM event.mediawiki_web_ab_test_enrollment\n",
    "WHERE wiki NOT IN ('testwiki','test2wiki')  AND year=2022 AND month IN (4,5) \n",
    "AND  experiment_name='skin-vector-toc-experiment'\n",
    "GROUP BY  web_session_id, wiki, meta.domain\n",
    "-- exclude session ids are in both control and treatment group\n",
    "HAVING groups < 2\n",
    "),\n",
    "t_ab AS(\n",
    "SELECT \n",
    " t1.web_session_id,\n",
    " t1.wiki,t1.meta.domain AS domain,\n",
    " t1.`group` AS test_group,\n",
    " min(t1.meta.dt) AS session_dt \n",
    "FROM event.mediawiki_web_ab_test_enrollment AS t1\n",
    "INNER JOIN  t_ab_no_dupli AS t2 ON t1.wiki=t2.wiki \n",
    "AND t1.web_session_id=t2.web_session_id \n",
    "WHERE t1.wiki NOT IN ('testwiki','test2wiki')  \n",
    "AND year=2022 AND month IN (4,5) \n",
    "AND  experiment_name='skin-vector-toc-experiment'\n",
    "GROUP BY  t1.web_session_id, t1.wiki,t1.meta.domain, t1.`group`\n",
    ")\n",
    "\n",
    "--reading time by session\n",
    "SELECT  TO_DATE(t3.meta.dt) AS event_date,t_ab.wiki,   t_ab.test_group, t3.session_token, is_anon,\n",
    "sum(total_length) AS sum_reading_length, sum(page_length) AS sum_page_length\n",
    "FROM event.mediawiki_reading_depth AS t3 \n",
    "INNER JOIN  t_ab\n",
    "ON t_ab.domain=t3.meta.domain AND t3.session_token = t_ab.web_session_id\n",
    "WHERE year=2022 AND month IN (4,5) \n",
    "AND t_ab.session_dt <= t3.meta.dt\n",
    "AND t3.meta.domain IN (\n",
    "'he.wikipedia.org',\n",
    "'eu.wikipedia.org'\n",
    ")\n",
    "GROUP BY  TO_DATE(t3.meta.dt) , t_ab.wiki,   t_ab.test_group, t3.session_token, is_anon\n",
    "\n",
    "\""
   ]
  },
  {
   "cell_type": "code",
   "execution_count": 54,
   "id": "e1de72c2",
   "metadata": {},
   "outputs": [
    {
     "name": "stderr",
     "output_type": "stream",
     "text": [
      "Don't forget to authenticate with Kerberos using kinit\n",
      "\n"
     ]
    }
   ],
   "source": [
    "query_reading <- wmfdata::query_hive(query_reading_length) "
   ]
  },
  {
   "cell_type": "markdown",
   "id": "325e11e2",
   "metadata": {},
   "source": [
    "QA on 2022-05-12"
   ]
  },
  {
   "cell_type": "markdown",
   "id": "68e2cb6b",
   "metadata": {},
   "source": [
    "## check whether we can identify user_agent_map['device_family']='Spider' "
   ]
  },
  {
   "cell_type": "code",
   "execution_count": 61,
   "id": "6201748f",
   "metadata": {},
   "outputs": [],
   "source": [
    "query <-\n",
    "\"\n",
    "SELECT meta.domain, `group`, count(distinct web_session_id) AS sessions, count(1) AS events\n",
    "FROM   event.mediawiki_web_ab_test_enrollment\n",
    "WHERE year=2022 and month=4\n",
    "AND user_agent_map['device_family']='Spider' \n",
    "GROUP BY meta.domain, `group`\n",
    "LIMIT 5\n",
    "\" "
   ]
  },
  {
   "cell_type": "code",
   "execution_count": 62,
   "id": "b16fa20b",
   "metadata": {},
   "outputs": [
    {
     "name": "stderr",
     "output_type": "stream",
     "text": [
      "Don't forget to authenticate with Kerberos using kinit\n",
      "\n"
     ]
    }
   ],
   "source": [
    "df <- wmfdata::query_hive(query)"
   ]
  },
  {
   "cell_type": "code",
   "execution_count": 63,
   "id": "9f895bbb",
   "metadata": {},
   "outputs": [
    {
     "data": {
      "text/html": [
       "<table class=\"dataframe\">\n",
       "<caption>A data.frame: 2 × 4</caption>\n",
       "<thead>\n",
       "\t<tr><th scope=col>domain</th><th scope=col>group</th><th scope=col>sessions</th><th scope=col>events</th></tr>\n",
       "\t<tr><th scope=col>&lt;chr&gt;</th><th scope=col>&lt;chr&gt;</th><th scope=col>&lt;int&gt;</th><th scope=col>&lt;int&gt;</th></tr>\n",
       "</thead>\n",
       "<tbody>\n",
       "\t<tr><td>he.wikipedia.org</td><td>control  </td><td>15</td><td>28</td></tr>\n",
       "\t<tr><td>he.wikipedia.org</td><td>treatment</td><td>16</td><td>35</td></tr>\n",
       "</tbody>\n",
       "</table>\n"
      ],
      "text/latex": [
       "A data.frame: 2 × 4\n",
       "\\begin{tabular}{llll}\n",
       " domain & group & sessions & events\\\\\n",
       " <chr> & <chr> & <int> & <int>\\\\\n",
       "\\hline\n",
       "\t he.wikipedia.org & control   & 15 & 28\\\\\n",
       "\t he.wikipedia.org & treatment & 16 & 35\\\\\n",
       "\\end{tabular}\n"
      ],
      "text/markdown": [
       "\n",
       "A data.frame: 2 × 4\n",
       "\n",
       "| domain &lt;chr&gt; | group &lt;chr&gt; | sessions &lt;int&gt; | events &lt;int&gt; |\n",
       "|---|---|---|---|\n",
       "| he.wikipedia.org | control   | 15 | 28 |\n",
       "| he.wikipedia.org | treatment | 16 | 35 |\n",
       "\n"
      ],
      "text/plain": [
       "  domain           group     sessions events\n",
       "1 he.wikipedia.org control   15       28    \n",
       "2 he.wikipedia.org treatment 16       35    "
      ]
     },
     "metadata": {},
     "output_type": "display_data"
    }
   ],
   "source": [
    "df"
   ]
  },
  {
   "cell_type": "markdown",
   "id": "d00fe78b",
   "metadata": {},
   "source": []
  },
  {
   "cell_type": "code",
   "execution_count": null,
   "id": "09621948",
   "metadata": {},
   "outputs": [],
   "source": []
  }
 ],
 "metadata": {
  "kernelspec": {
   "display_name": "R",
   "language": "R",
   "name": "ir"
  },
  "language_info": {
   "codemirror_mode": "r",
   "file_extension": ".r",
   "mimetype": "text/x-r-source",
   "name": "R",
   "pygments_lexer": "r",
   "version": "3.5.2"
  }
 },
 "nbformat": 4,
 "nbformat_minor": 5
}
